{
 "cells": [
  {
   "cell_type": "code",
   "execution_count": 1,
   "id": "b1c1c9b1",
   "metadata": {},
   "outputs": [],
   "source": [
    "import numpy as np\n",
    "import pandas as pd\n",
    "import matplotlib.pyplot as plt \n",
    "import seaborn as sns\n",
    "\n",
    "%matplotlib inline"
   ]
  },
  {
   "cell_type": "markdown",
   "id": "a958eacb",
   "metadata": {},
   "source": [
    "## Stackoverflow 2023 Dataset"
   ]
  },
  {
   "cell_type": "code",
   "execution_count": 2,
   "id": "0c0f0d96",
   "metadata": {},
   "outputs": [
    {
     "data": {
      "text/html": [
       "<div>\n",
       "<style scoped>\n",
       "    .dataframe tbody tr th:only-of-type {\n",
       "        vertical-align: middle;\n",
       "    }\n",
       "\n",
       "    .dataframe tbody tr th {\n",
       "        vertical-align: top;\n",
       "    }\n",
       "\n",
       "    .dataframe thead th {\n",
       "        text-align: right;\n",
       "    }\n",
       "</style>\n",
       "<table border=\"1\" class=\"dataframe\">\n",
       "  <thead>\n",
       "    <tr style=\"text-align: right;\">\n",
       "      <th></th>\n",
       "      <th>ResponseId</th>\n",
       "      <th>Q120</th>\n",
       "      <th>MainBranch</th>\n",
       "      <th>Age</th>\n",
       "      <th>Employment</th>\n",
       "      <th>RemoteWork</th>\n",
       "      <th>CodingActivities</th>\n",
       "      <th>EdLevel</th>\n",
       "      <th>LearnCode</th>\n",
       "      <th>LearnCodeOnline</th>\n",
       "      <th>...</th>\n",
       "      <th>Frequency_1</th>\n",
       "      <th>Frequency_2</th>\n",
       "      <th>Frequency_3</th>\n",
       "      <th>TimeSearching</th>\n",
       "      <th>TimeAnswering</th>\n",
       "      <th>ProfessionalTech</th>\n",
       "      <th>Industry</th>\n",
       "      <th>SurveyLength</th>\n",
       "      <th>SurveyEase</th>\n",
       "      <th>ConvertedCompYearly</th>\n",
       "    </tr>\n",
       "  </thead>\n",
       "  <tbody>\n",
       "    <tr>\n",
       "      <th>0</th>\n",
       "      <td>1</td>\n",
       "      <td>I agree</td>\n",
       "      <td>None of these</td>\n",
       "      <td>18-24 years old</td>\n",
       "      <td>NaN</td>\n",
       "      <td>NaN</td>\n",
       "      <td>NaN</td>\n",
       "      <td>NaN</td>\n",
       "      <td>NaN</td>\n",
       "      <td>NaN</td>\n",
       "      <td>...</td>\n",
       "      <td>NaN</td>\n",
       "      <td>NaN</td>\n",
       "      <td>NaN</td>\n",
       "      <td>NaN</td>\n",
       "      <td>NaN</td>\n",
       "      <td>NaN</td>\n",
       "      <td>NaN</td>\n",
       "      <td>NaN</td>\n",
       "      <td>NaN</td>\n",
       "      <td>NaN</td>\n",
       "    </tr>\n",
       "    <tr>\n",
       "      <th>1</th>\n",
       "      <td>2</td>\n",
       "      <td>I agree</td>\n",
       "      <td>I am a developer by profession</td>\n",
       "      <td>25-34 years old</td>\n",
       "      <td>Employed, full-time</td>\n",
       "      <td>Remote</td>\n",
       "      <td>Hobby;Contribute to open-source projects;Boots...</td>\n",
       "      <td>Bachelor’s degree (B.A., B.S., B.Eng., etc.)</td>\n",
       "      <td>Books / Physical media;Colleague;Friend or fam...</td>\n",
       "      <td>Formal documentation provided by the owner of ...</td>\n",
       "      <td>...</td>\n",
       "      <td>1-2 times a week</td>\n",
       "      <td>10+ times a week</td>\n",
       "      <td>Never</td>\n",
       "      <td>15-30 minutes a day</td>\n",
       "      <td>15-30 minutes a day</td>\n",
       "      <td>DevOps function;Microservices;Automated testin...</td>\n",
       "      <td>Information Services, IT, Software Development...</td>\n",
       "      <td>Appropriate in length</td>\n",
       "      <td>Easy</td>\n",
       "      <td>285000.0</td>\n",
       "    </tr>\n",
       "    <tr>\n",
       "      <th>2</th>\n",
       "      <td>3</td>\n",
       "      <td>I agree</td>\n",
       "      <td>I am a developer by profession</td>\n",
       "      <td>45-54 years old</td>\n",
       "      <td>Employed, full-time</td>\n",
       "      <td>Hybrid (some remote, some in-person)</td>\n",
       "      <td>Hobby;Professional development or self-paced l...</td>\n",
       "      <td>Bachelor’s degree (B.A., B.S., B.Eng., etc.)</td>\n",
       "      <td>Books / Physical media;Colleague;On the job tr...</td>\n",
       "      <td>Formal documentation provided by the owner of ...</td>\n",
       "      <td>...</td>\n",
       "      <td>6-10 times a week</td>\n",
       "      <td>6-10 times a week</td>\n",
       "      <td>3-5 times a week</td>\n",
       "      <td>30-60 minutes a day</td>\n",
       "      <td>30-60 minutes a day</td>\n",
       "      <td>DevOps function;Microservices;Automated testin...</td>\n",
       "      <td>Information Services, IT, Software Development...</td>\n",
       "      <td>Appropriate in length</td>\n",
       "      <td>Easy</td>\n",
       "      <td>250000.0</td>\n",
       "    </tr>\n",
       "    <tr>\n",
       "      <th>3</th>\n",
       "      <td>4</td>\n",
       "      <td>I agree</td>\n",
       "      <td>I am a developer by profession</td>\n",
       "      <td>25-34 years old</td>\n",
       "      <td>Employed, full-time</td>\n",
       "      <td>Hybrid (some remote, some in-person)</td>\n",
       "      <td>Hobby</td>\n",
       "      <td>Bachelor’s degree (B.A., B.S., B.Eng., etc.)</td>\n",
       "      <td>Colleague;Friend or family member;Other online...</td>\n",
       "      <td>Formal documentation provided by the owner of ...</td>\n",
       "      <td>...</td>\n",
       "      <td>1-2 times a week</td>\n",
       "      <td>10+ times a week</td>\n",
       "      <td>1-2 times a week</td>\n",
       "      <td>15-30 minutes a day</td>\n",
       "      <td>30-60 minutes a day</td>\n",
       "      <td>Automated testing;Continuous integration (CI) ...</td>\n",
       "      <td>NaN</td>\n",
       "      <td>Appropriate in length</td>\n",
       "      <td>Easy</td>\n",
       "      <td>156000.0</td>\n",
       "    </tr>\n",
       "    <tr>\n",
       "      <th>4</th>\n",
       "      <td>5</td>\n",
       "      <td>I agree</td>\n",
       "      <td>I am a developer by profession</td>\n",
       "      <td>25-34 years old</td>\n",
       "      <td>Employed, full-time;Independent contractor, fr...</td>\n",
       "      <td>Remote</td>\n",
       "      <td>Hobby;Contribute to open-source projects;Profe...</td>\n",
       "      <td>Bachelor’s degree (B.A., B.S., B.Eng., etc.)</td>\n",
       "      <td>Books / Physical media;Online Courses or Certi...</td>\n",
       "      <td>Formal documentation provided by the owner of ...</td>\n",
       "      <td>...</td>\n",
       "      <td>1-2 times a week</td>\n",
       "      <td>1-2 times a week</td>\n",
       "      <td>3-5 times a week</td>\n",
       "      <td>60-120 minutes a day</td>\n",
       "      <td>30-60 minutes a day</td>\n",
       "      <td>Microservices;Automated testing;Observability ...</td>\n",
       "      <td>Other</td>\n",
       "      <td>Appropriate in length</td>\n",
       "      <td>Neither easy nor difficult</td>\n",
       "      <td>23456.0</td>\n",
       "    </tr>\n",
       "  </tbody>\n",
       "</table>\n",
       "<p>5 rows × 84 columns</p>\n",
       "</div>"
      ],
      "text/plain": [
       "   ResponseId     Q120                      MainBranch              Age  \\\n",
       "0           1  I agree                   None of these  18-24 years old   \n",
       "1           2  I agree  I am a developer by profession  25-34 years old   \n",
       "2           3  I agree  I am a developer by profession  45-54 years old   \n",
       "3           4  I agree  I am a developer by profession  25-34 years old   \n",
       "4           5  I agree  I am a developer by profession  25-34 years old   \n",
       "\n",
       "                                          Employment  \\\n",
       "0                                                NaN   \n",
       "1                                Employed, full-time   \n",
       "2                                Employed, full-time   \n",
       "3                                Employed, full-time   \n",
       "4  Employed, full-time;Independent contractor, fr...   \n",
       "\n",
       "                             RemoteWork  \\\n",
       "0                                   NaN   \n",
       "1                                Remote   \n",
       "2  Hybrid (some remote, some in-person)   \n",
       "3  Hybrid (some remote, some in-person)   \n",
       "4                                Remote   \n",
       "\n",
       "                                    CodingActivities  \\\n",
       "0                                                NaN   \n",
       "1  Hobby;Contribute to open-source projects;Boots...   \n",
       "2  Hobby;Professional development or self-paced l...   \n",
       "3                                              Hobby   \n",
       "4  Hobby;Contribute to open-source projects;Profe...   \n",
       "\n",
       "                                        EdLevel  \\\n",
       "0                                           NaN   \n",
       "1  Bachelor’s degree (B.A., B.S., B.Eng., etc.)   \n",
       "2  Bachelor’s degree (B.A., B.S., B.Eng., etc.)   \n",
       "3  Bachelor’s degree (B.A., B.S., B.Eng., etc.)   \n",
       "4  Bachelor’s degree (B.A., B.S., B.Eng., etc.)   \n",
       "\n",
       "                                           LearnCode  \\\n",
       "0                                                NaN   \n",
       "1  Books / Physical media;Colleague;Friend or fam...   \n",
       "2  Books / Physical media;Colleague;On the job tr...   \n",
       "3  Colleague;Friend or family member;Other online...   \n",
       "4  Books / Physical media;Online Courses or Certi...   \n",
       "\n",
       "                                     LearnCodeOnline  ...        Frequency_1  \\\n",
       "0                                                NaN  ...                NaN   \n",
       "1  Formal documentation provided by the owner of ...  ...   1-2 times a week   \n",
       "2  Formal documentation provided by the owner of ...  ...  6-10 times a week   \n",
       "3  Formal documentation provided by the owner of ...  ...   1-2 times a week   \n",
       "4  Formal documentation provided by the owner of ...  ...   1-2 times a week   \n",
       "\n",
       "         Frequency_2       Frequency_3         TimeSearching  \\\n",
       "0                NaN               NaN                   NaN   \n",
       "1   10+ times a week             Never   15-30 minutes a day   \n",
       "2  6-10 times a week  3-5 times a week   30-60 minutes a day   \n",
       "3   10+ times a week  1-2 times a week   15-30 minutes a day   \n",
       "4   1-2 times a week  3-5 times a week  60-120 minutes a day   \n",
       "\n",
       "         TimeAnswering                                   ProfessionalTech  \\\n",
       "0                  NaN                                                NaN   \n",
       "1  15-30 minutes a day  DevOps function;Microservices;Automated testin...   \n",
       "2  30-60 minutes a day  DevOps function;Microservices;Automated testin...   \n",
       "3  30-60 minutes a day  Automated testing;Continuous integration (CI) ...   \n",
       "4  30-60 minutes a day  Microservices;Automated testing;Observability ...   \n",
       "\n",
       "                                            Industry           SurveyLength  \\\n",
       "0                                                NaN                    NaN   \n",
       "1  Information Services, IT, Software Development...  Appropriate in length   \n",
       "2  Information Services, IT, Software Development...  Appropriate in length   \n",
       "3                                                NaN  Appropriate in length   \n",
       "4                                              Other  Appropriate in length   \n",
       "\n",
       "                   SurveyEase ConvertedCompYearly  \n",
       "0                         NaN                 NaN  \n",
       "1                        Easy            285000.0  \n",
       "2                        Easy            250000.0  \n",
       "3                        Easy            156000.0  \n",
       "4  Neither easy nor difficult             23456.0  \n",
       "\n",
       "[5 rows x 84 columns]"
      ]
     },
     "execution_count": 2,
     "metadata": {},
     "output_type": "execute_result"
    }
   ],
   "source": [
    "df2023 = pd.read_csv(r'D:\\stack-overflow-developer-survey-2023\\survey_results_public2023.csv')\n",
    "df2023.head(5)"
   ]
  },
  {
   "cell_type": "code",
   "execution_count": 3,
   "id": "2eae077d",
   "metadata": {},
   "outputs": [
    {
     "data": {
      "text/plain": [
       "(89184, 84)"
      ]
     },
     "execution_count": 3,
     "metadata": {},
     "output_type": "execute_result"
    }
   ],
   "source": [
    "df2023.shape"
   ]
  },
  {
   "cell_type": "code",
   "execution_count": 4,
   "id": "9b4cb09a",
   "metadata": {},
   "outputs": [
    {
     "name": "stdout",
     "output_type": "stream",
     "text": [
      "Number of rows: 89184\n",
      "Number of columns: 84\n",
      "ResponseId               int64\n",
      "Q120                    object\n",
      "MainBranch              object\n",
      "Age                     object\n",
      "Employment              object\n",
      "                        ...   \n",
      "ProfessionalTech        object\n",
      "Industry                object\n",
      "SurveyLength            object\n",
      "SurveyEase              object\n",
      "ConvertedCompYearly    float64\n",
      "Length: 84, dtype: object\n"
     ]
    }
   ],
   "source": [
    "# Check dimensions\n",
    "print(\"Number of rows:\", df2023.shape[0])\n",
    "print(\"Number of columns:\", df2023.shape[1])\n",
    "\n",
    "# Check column names and data types\n",
    "print(df2023.dtypes)\n"
   ]
  },
  {
   "cell_type": "code",
   "execution_count": 5,
   "id": "212d97bb",
   "metadata": {},
   "outputs": [
    {
     "name": "stdout",
     "output_type": "stream",
     "text": [
      "['ResponseId', 'Q120', 'MainBranch', 'Age', 'Employment', 'RemoteWork', 'CodingActivities', 'EdLevel', 'LearnCode', 'LearnCodeOnline', 'LearnCodeCoursesCert', 'YearsCode', 'YearsCodePro', 'DevType', 'OrgSize', 'PurchaseInfluence', 'TechList', 'BuyNewTool', 'Country', 'Currency', 'CompTotal', 'LanguageHaveWorkedWith', 'LanguageWantToWorkWith', 'DatabaseHaveWorkedWith', 'DatabaseWantToWorkWith', 'PlatformHaveWorkedWith', 'PlatformWantToWorkWith', 'WebframeHaveWorkedWith', 'WebframeWantToWorkWith', 'MiscTechHaveWorkedWith', 'MiscTechWantToWorkWith', 'ToolsTechHaveWorkedWith', 'ToolsTechWantToWorkWith', 'NEWCollabToolsHaveWorkedWith', 'NEWCollabToolsWantToWorkWith', 'OpSysPersonal use', 'OpSysProfessional use', 'OfficeStackAsyncHaveWorkedWith', 'OfficeStackAsyncWantToWorkWith', 'OfficeStackSyncHaveWorkedWith', 'OfficeStackSyncWantToWorkWith', 'AISearchHaveWorkedWith', 'AISearchWantToWorkWith', 'AIDevHaveWorkedWith', 'AIDevWantToWorkWith', 'NEWSOSites', 'SOVisitFreq', 'SOAccount', 'SOPartFreq', 'SOComm', 'SOAI', 'AISelect', 'AISent', 'AIAcc', 'AIBen', 'AIToolInterested in Using', 'AIToolCurrently Using', 'AIToolNot interested in Using', 'AINextVery different', 'AINextNeither different nor similar', 'AINextSomewhat similar', 'AINextVery similar', 'AINextSomewhat different', 'TBranch', 'ICorPM', 'WorkExp', 'Knowledge_1', 'Knowledge_2', 'Knowledge_3', 'Knowledge_4', 'Knowledge_5', 'Knowledge_6', 'Knowledge_7', 'Knowledge_8', 'Frequency_1', 'Frequency_2', 'Frequency_3', 'TimeSearching', 'TimeAnswering', 'ProfessionalTech', 'Industry', 'SurveyLength', 'SurveyEase', 'ConvertedCompYearly']\n"
     ]
    }
   ],
   "source": [
    "print(df2023.columns.tolist())"
   ]
  },
  {
   "cell_type": "code",
   "execution_count": 6,
   "id": "8428b7ed",
   "metadata": {},
   "outputs": [],
   "source": [
    "# Defining the list of columns to drop\n",
    "drop_cols = ['ResponseId','Q120', 'OrgSize', 'PurchaseInfluence', 'BuyNewTool', 'Currency', 'CompTotal', \n",
    "    'MiscTechHaveWorkedWith', 'MiscTechWantToWorkWith', 'ToolsTechHaveWorkedWith', 'ToolsTechWantToWorkWith', \n",
    "    'NEWCollabToolsHaveWorkedWith', 'NEWCollabToolsWantToWorkWith', 'OpSysPersonal use', 'OpSysProfessional use', \n",
    "    'OfficeStackAsyncHaveWorkedWith', 'OfficeStackAsyncWantToWorkWith', 'OfficeStackSyncHaveWorkedWith', \n",
    "    'OfficeStackSyncWantToWorkWith', 'AISearchHaveWorkedWith', 'AISearchWantToWorkWith', 'AIDevHaveWorkedWith', \n",
    "    'AIDevWantToWorkWith', 'NEWSOSites', 'SOVisitFreq', 'SOAccount', 'SOPartFreq', 'SOComm', 'SOAI', 'AISelect', \n",
    "    'AISent', 'AIAcc', 'AIBen', 'AIToolInterested in Using', 'AIToolCurrently Using', 'AIToolNot interested in Using', \n",
    "    'AINextVery different', 'AINextNeither different nor similar', 'AINextSomewhat similar', 'AINextVery similar', \n",
    "    'AINextSomewhat different', 'TBranch', 'ICorPM', 'WorkExp', 'Knowledge_1', 'Knowledge_2', 'Knowledge_3', \n",
    "    'Knowledge_4', 'Knowledge_5', 'Knowledge_6', 'Knowledge_7', 'Knowledge_8', 'Frequency_1', 'Frequency_2', \n",
    "    'Frequency_3', 'TimeSearching', 'TimeAnswering','SurveyLength', 'SurveyEase']\n",
    "\n",
    "# Drop the specified columns\n",
    "df2023.drop(drop_cols, axis=1, inplace=True)\n"
   ]
  },
  {
   "cell_type": "markdown",
   "id": "f626bc9d",
   "metadata": {},
   "source": [
    "### Data Filtering - Sorting & Renaming\n"
   ]
  },
  {
   "cell_type": "code",
   "execution_count": 7,
   "id": "53051f11",
   "metadata": {},
   "outputs": [
    {
     "data": {
      "text/plain": [
       "(89184, 25)"
      ]
     },
     "execution_count": 7,
     "metadata": {},
     "output_type": "execute_result"
    }
   ],
   "source": [
    "df2023.shape #checking rows and col after dropping the table"
   ]
  },
  {
   "cell_type": "code",
   "execution_count": 8,
   "id": "08ee7325",
   "metadata": {},
   "outputs": [],
   "source": [
    "# Define the list of column names\n",
    "cols = [\n",
    "    'Age',\n",
    "    'MainBranch',\n",
    "    'Employment',\n",
    "    'RemoteWork',\n",
    "    'CodingActivities',\n",
    "    'EdLevel',\n",
    "    'LearnCode',\n",
    "    'LearnCodeOnline',\n",
    "    'LearnCodeCoursesCert',\n",
    "    'YearsCode',\n",
    "    'YearsCodePro',\n",
    "    'DevType',\n",
    "    'TechList',\n",
    "    'Country',\n",
    "    'LanguageHaveWorkedWith',\n",
    "    'LanguageWantToWorkWith',\n",
    "    'DatabaseHaveWorkedWith',\n",
    "    'DatabaseWantToWorkWith',\n",
    "    'PlatformHaveWorkedWith',\n",
    "    'PlatformWantToWorkWith',\n",
    "    'WebframeHaveWorkedWith',\n",
    "    'WebframeWantToWorkWith',\n",
    "    'ProfessionalTech',\n",
    "    'Industry',\n",
    "    'ConvertedCompYearly'\n",
    "]\n",
    "\n",
    "# Select the specified columns from df2018\n",
    "df = df2023[cols]\n"
   ]
  },
  {
   "cell_type": "code",
   "execution_count": 9,
   "id": "9053b698",
   "metadata": {},
   "outputs": [],
   "source": [
    "#changing the name of columns for easier understanding\n",
    "# 'MainBranch': 'Profession'\n",
    "# 'ConvertedCompYearly': 'SalaryUSD'\n",
    "df2023.rename(columns={'MainBranch': 'Profession', 'ConvertedCompYearly': 'SalaryUSD'}, \n",
    "                      inplace =True)"
   ]
  },
  {
   "cell_type": "code",
   "execution_count": 10,
   "id": "492e7146",
   "metadata": {},
   "outputs": [
    {
     "name": "stdout",
     "output_type": "stream",
     "text": [
      "Profession                    0\n",
      "Age                           0\n",
      "Employment                 1286\n",
      "RemoteWork                15374\n",
      "CodingActivities          15420\n",
      "EdLevel                    1211\n",
      "LearnCode                  1521\n",
      "LearnCodeOnline           19100\n",
      "LearnCodeCoursesCert      52108\n",
      "YearsCode                  1749\n",
      "YearsCodePro              23048\n",
      "DevType                   12312\n",
      "TechList                  28333\n",
      "Country                    1211\n",
      "LanguageHaveWorkedWith     2044\n",
      "LanguageWantToWorkWith     8475\n",
      "DatabaseHaveWorkedWith    15749\n",
      "DatabaseWantToWorkWith    28273\n",
      "PlatformHaveWorkedWith    25556\n",
      "PlatformWantToWorkWith    37876\n",
      "WebframeHaveWorkedWith    22246\n",
      "WebframeWantToWorkWith    32443\n",
      "ProfessionalTech          47401\n",
      "Industry                  52410\n",
      "SalaryUSD                 41165\n",
      "dtype: int64\n"
     ]
    }
   ],
   "source": [
    "print(df2023.isnull().sum())"
   ]
  },
  {
   "cell_type": "code",
   "execution_count": 11,
   "id": "0b673570",
   "metadata": {},
   "outputs": [
    {
     "data": {
      "text/html": [
       "<div>\n",
       "<style scoped>\n",
       "    .dataframe tbody tr th:only-of-type {\n",
       "        vertical-align: middle;\n",
       "    }\n",
       "\n",
       "    .dataframe tbody tr th {\n",
       "        vertical-align: top;\n",
       "    }\n",
       "\n",
       "    .dataframe thead th {\n",
       "        text-align: right;\n",
       "    }\n",
       "</style>\n",
       "<table border=\"1\" class=\"dataframe\">\n",
       "  <thead>\n",
       "    <tr style=\"text-align: right;\">\n",
       "      <th></th>\n",
       "      <th>Age</th>\n",
       "      <th>CodingActivities</th>\n",
       "      <th>Country</th>\n",
       "      <th>DatabaseHaveWorkedWith</th>\n",
       "      <th>DatabaseWantToWorkWith</th>\n",
       "      <th>DevType</th>\n",
       "      <th>EdLevel</th>\n",
       "      <th>Employment</th>\n",
       "      <th>Industry</th>\n",
       "      <th>LanguageHaveWorkedWith</th>\n",
       "      <th>...</th>\n",
       "      <th>PlatformWantToWorkWith</th>\n",
       "      <th>Profession</th>\n",
       "      <th>ProfessionalTech</th>\n",
       "      <th>RemoteWork</th>\n",
       "      <th>SalaryUSD</th>\n",
       "      <th>TechList</th>\n",
       "      <th>WebframeHaveWorkedWith</th>\n",
       "      <th>WebframeWantToWorkWith</th>\n",
       "      <th>YearsCode</th>\n",
       "      <th>YearsCodePro</th>\n",
       "    </tr>\n",
       "  </thead>\n",
       "  <tbody>\n",
       "    <tr>\n",
       "      <th>0</th>\n",
       "      <td>18-24 years old</td>\n",
       "      <td>NaN</td>\n",
       "      <td>NaN</td>\n",
       "      <td>NaN</td>\n",
       "      <td>NaN</td>\n",
       "      <td>NaN</td>\n",
       "      <td>NaN</td>\n",
       "      <td>NaN</td>\n",
       "      <td>NaN</td>\n",
       "      <td>NaN</td>\n",
       "      <td>...</td>\n",
       "      <td>NaN</td>\n",
       "      <td>None of these</td>\n",
       "      <td>NaN</td>\n",
       "      <td>NaN</td>\n",
       "      <td>NaN</td>\n",
       "      <td>NaN</td>\n",
       "      <td>NaN</td>\n",
       "      <td>NaN</td>\n",
       "      <td>NaN</td>\n",
       "      <td>NaN</td>\n",
       "    </tr>\n",
       "    <tr>\n",
       "      <th>1</th>\n",
       "      <td>25-34 years old</td>\n",
       "      <td>Hobby;Contribute to open-source projects;Boots...</td>\n",
       "      <td>United States of America</td>\n",
       "      <td>Supabase</td>\n",
       "      <td>Firebase Realtime Database;Supabase</td>\n",
       "      <td>Senior Executive (C-Suite, VP, etc.)</td>\n",
       "      <td>Bachelor’s degree (B.A., B.S., B.Eng., etc.)</td>\n",
       "      <td>Employed, full-time</td>\n",
       "      <td>Information Services, IT, Software Development...</td>\n",
       "      <td>HTML/CSS;JavaScript;Python</td>\n",
       "      <td>...</td>\n",
       "      <td>Fly.io;Netlify;Render</td>\n",
       "      <td>I am a developer by profession</td>\n",
       "      <td>DevOps function;Microservices;Automated testin...</td>\n",
       "      <td>Remote</td>\n",
       "      <td>285000.0</td>\n",
       "      <td>Investigate</td>\n",
       "      <td>Next.js;React;Remix;Vue.js</td>\n",
       "      <td>Deno;Elm;Nuxt.js;React;Svelte;Vue.js</td>\n",
       "      <td>18</td>\n",
       "      <td>9</td>\n",
       "    </tr>\n",
       "  </tbody>\n",
       "</table>\n",
       "<p>2 rows × 25 columns</p>\n",
       "</div>"
      ],
      "text/plain": [
       "               Age                                   CodingActivities  \\\n",
       "0  18-24 years old                                                NaN   \n",
       "1  25-34 years old  Hobby;Contribute to open-source projects;Boots...   \n",
       "\n",
       "                    Country DatabaseHaveWorkedWith  \\\n",
       "0                       NaN                    NaN   \n",
       "1  United States of America               Supabase   \n",
       "\n",
       "                DatabaseWantToWorkWith                               DevType  \\\n",
       "0                                  NaN                                   NaN   \n",
       "1  Firebase Realtime Database;Supabase  Senior Executive (C-Suite, VP, etc.)   \n",
       "\n",
       "                                        EdLevel           Employment  \\\n",
       "0                                           NaN                  NaN   \n",
       "1  Bachelor’s degree (B.A., B.S., B.Eng., etc.)  Employed, full-time   \n",
       "\n",
       "                                            Industry  \\\n",
       "0                                                NaN   \n",
       "1  Information Services, IT, Software Development...   \n",
       "\n",
       "       LanguageHaveWorkedWith  ... PlatformWantToWorkWith  \\\n",
       "0                         NaN  ...                    NaN   \n",
       "1  HTML/CSS;JavaScript;Python  ...  Fly.io;Netlify;Render   \n",
       "\n",
       "                       Profession  \\\n",
       "0                   None of these   \n",
       "1  I am a developer by profession   \n",
       "\n",
       "                                    ProfessionalTech RemoteWork SalaryUSD  \\\n",
       "0                                                NaN        NaN       NaN   \n",
       "1  DevOps function;Microservices;Automated testin...     Remote  285000.0   \n",
       "\n",
       "      TechList      WebframeHaveWorkedWith  \\\n",
       "0          NaN                         NaN   \n",
       "1  Investigate  Next.js;React;Remix;Vue.js   \n",
       "\n",
       "                 WebframeWantToWorkWith YearsCode  YearsCodePro  \n",
       "0                                   NaN       NaN           NaN  \n",
       "1  Deno;Elm;Nuxt.js;React;Svelte;Vue.js        18             9  \n",
       "\n",
       "[2 rows x 25 columns]"
      ]
     },
     "execution_count": 11,
     "metadata": {},
     "output_type": "execute_result"
    }
   ],
   "source": [
    "df2023.sort_index(axis=1).head(2)"
   ]
  },
  {
   "cell_type": "code",
   "execution_count": 12,
   "id": "3d05c2aa",
   "metadata": {},
   "outputs": [
    {
     "data": {
      "text/plain": [
       "(89184, 25)"
      ]
     },
     "execution_count": 12,
     "metadata": {},
     "output_type": "execute_result"
    }
   ],
   "source": [
    "df2023.shape\n"
   ]
  },
  {
   "cell_type": "code",
   "execution_count": 13,
   "id": "b410dbf3",
   "metadata": {},
   "outputs": [
    {
     "name": "stdout",
     "output_type": "stream",
     "text": [
      "Profession                    0\n",
      "Age                           0\n",
      "Employment                 1286\n",
      "RemoteWork                15374\n",
      "CodingActivities          15420\n",
      "EdLevel                    1211\n",
      "LearnCode                  1521\n",
      "LearnCodeOnline           19100\n",
      "LearnCodeCoursesCert      52108\n",
      "YearsCode                  1749\n",
      "YearsCodePro              23048\n",
      "DevType                   12312\n",
      "TechList                  28333\n",
      "Country                    1211\n",
      "LanguageHaveWorkedWith     2044\n",
      "LanguageWantToWorkWith     8475\n",
      "DatabaseHaveWorkedWith    15749\n",
      "DatabaseWantToWorkWith    28273\n",
      "PlatformHaveWorkedWith    25556\n",
      "PlatformWantToWorkWith    37876\n",
      "WebframeHaveWorkedWith    22246\n",
      "WebframeWantToWorkWith    32443\n",
      "ProfessionalTech          47401\n",
      "Industry                  52410\n",
      "SalaryUSD                 41165\n",
      "dtype: int64\n"
     ]
    }
   ],
   "source": [
    "print(df2023.isnull().sum()) #Finding Null Values"
   ]
  },
  {
   "cell_type": "markdown",
   "id": "434f0a0d",
   "metadata": {},
   "source": [
    " ## Data Validation - Total Cells vs Missing %"
   ]
  },
  {
   "cell_type": "code",
   "execution_count": 14,
   "id": "ae45ff26",
   "metadata": {},
   "outputs": [
    {
     "name": "stdout",
     "output_type": "stream",
     "text": [
      "Total :  2229600\n",
      "Total missing :  486311\n",
      "Missing Percentage:  21.811580552565484 %\n"
     ]
    }
   ],
   "source": [
    "#Find % of missing data\n",
    "missing_count = df2023.isnull().sum() #number of missing\n",
    "total_cells = np.product(df2023.shape) # number of cells (cols x rows)\n",
    "total_missing = missing_count.sum()\n",
    "missing_percent = (total_missing*100)/total_cells\n",
    "\n",
    "print('Total : ', total_cells)\n",
    "print('Total missing : ', total_missing)\n",
    "print('Missing Percentage: ', missing_percent, '%')"
   ]
  },
  {
   "cell_type": "markdown",
   "id": "9d6b816c",
   "metadata": {},
   "source": [
    "## Missing Percentage column-wise"
   ]
  },
  {
   "cell_type": "code",
   "execution_count": 15,
   "id": "6af6c27a",
   "metadata": {},
   "outputs": [],
   "source": [
    "def missing(df,column,n):\n",
    "    empty_cells=df[column].isnull().sum()\n",
    "    return (empty_cells*100.0)/n"
   ]
  },
  {
   "cell_type": "code",
   "execution_count": 16,
   "id": "983ac4d9",
   "metadata": {},
   "outputs": [
    {
     "name": "stdout",
     "output_type": "stream",
     "text": [
      "Profession : 0.00 %\n",
      "Age : 0.00 %\n",
      "Employment : 1.44 %\n",
      "RemoteWork : 17.24 %\n",
      "CodingActivities : 17.29 %\n",
      "EdLevel : 1.36 %\n",
      "LearnCode : 1.71 %\n",
      "LearnCodeOnline : 21.42 %\n",
      "LearnCodeCoursesCert : 58.43 %\n",
      "YearsCode : 1.96 %\n",
      "YearsCodePro : 25.84 %\n",
      "DevType : 13.81 %\n",
      "TechList : 31.77 %\n",
      "Country : 1.36 %\n",
      "LanguageHaveWorkedWith : 2.29 %\n",
      "LanguageWantToWorkWith : 9.50 %\n",
      "DatabaseHaveWorkedWith : 17.66 %\n",
      "DatabaseWantToWorkWith : 31.70 %\n",
      "PlatformHaveWorkedWith : 28.66 %\n",
      "PlatformWantToWorkWith : 42.47 %\n",
      "WebframeHaveWorkedWith : 24.94 %\n",
      "WebframeWantToWorkWith : 36.38 %\n",
      "ProfessionalTech : 53.15 %\n",
      "Industry : 58.77 %\n",
      "SalaryUSD : 46.16 %\n"
     ]
    }
   ],
   "source": [
    "total_cells=df2023.shape[0]\n",
    "for column in df2023.columns:\n",
    "    res=missing(df2023,column,total_cells)\n",
    "    print(column,\":\",\"{:.2f}\".format(res),\"%\")"
   ]
  },
  {
   "cell_type": "markdown",
   "id": "434a8cfa",
   "metadata": {},
   "source": [
    "## Age Filtering          \n",
    "### Data Cleaning Starts"
   ]
  },
  {
   "cell_type": "code",
   "execution_count": 17,
   "id": "20444b99",
   "metadata": {},
   "outputs": [
    {
     "data": {
      "text/plain": [
       "Age\n",
       "25-34 years old       33247\n",
       "35-44 years old       20532\n",
       "18-24 years old       17931\n",
       "45-54 years old        8334\n",
       "Under 18 years old     4128\n",
       "55-64 years old        3392\n",
       "65 years or older      1171\n",
       "Prefer not to say       449\n",
       "Name: count, dtype: int64"
      ]
     },
     "execution_count": 17,
     "metadata": {},
     "output_type": "execute_result"
    }
   ],
   "source": [
    "df2023['Age'].value_counts().nlargest(10)"
   ]
  },
  {
   "cell_type": "code",
   "execution_count": 18,
   "id": "a0e2945b",
   "metadata": {},
   "outputs": [
    {
     "data": {
      "text/plain": [
       "0"
      ]
     },
     "execution_count": 18,
     "metadata": {},
     "output_type": "execute_result"
    }
   ],
   "source": [
    "df2023['Age'].isnull().sum()"
   ]
  },
  {
   "cell_type": "code",
   "execution_count": 19,
   "id": "a723a283",
   "metadata": {},
   "outputs": [
    {
     "data": {
      "image/png": "[encoded data removed]",
      "text/plain": [
       "<Figure size 1200x600 with 1 Axes>"
      ]
     },
     "metadata": {},
     "output_type": "display_data"
    }
   ],
   "source": [
    "# Set the style\n",
    "sns.set_style('whitegrid')\n",
    "\n",
    "# Plotting the histogram\n",
    "plt.figure(figsize=(12, 6))\n",
    "ax = sns.histplot(data=df2023, x='Age', bins=30, kde=True, color='skyblue', edgecolor='black', alpha=0.7)\n",
    "\n",
    "# Adding labels and title\n",
    "plt.xlabel('Age', fontsize=12)  # Label for x-axis\n",
    "plt.ylabel('Frequency', fontsize=12)  # Label for y-axis\n",
    "plt.title('Distribution of Respondents\\' Ages', fontsize=14)  # Title of the plot\n",
    "\n",
    "# Add gridlines\n",
    "plt.grid(True, linestyle='--', alpha=0.5)\n",
    "\n",
    "# Annotate each bar with its frequency\n",
    "for rect in ax.patches:\n",
    "    # Get the height of the bar\n",
    "    height = rect.get_height()\n",
    "    # Add text annotation\n",
    "    ax.text(rect.get_x() + rect.get_width() / 2, height, f'{int(height)}', ha='center', va='bottom')\n",
    "\n",
    "# Display the plot\n",
    "plt.tight_layout()\n",
    "plt.show()\n"
   ]
  },
  {
   "cell_type": "markdown",
   "id": "5b457566",
   "metadata": {},
   "source": [
    "Overall, the histogram graph provides a clear overview of the distribution of respondents' ages in the survey dataset. The most common age group among the respondents is the 25-34 age range, with a frequency of 33,247 respondents. This is followed by the 18-24 age group, which has a frequency of 17,931 respondents. Interestingly, there is a noticeable decline in the number of respondents in the older age groups, with the 45-54 age group having a frequency of 8,334 respondents. These findings suggest that the survey respondents are predominantly younger individuals, with a smaller representation of older age groups. "
   ]
  },
  {
   "cell_type": "markdown",
   "id": "09c23cc4",
   "metadata": {},
   "source": [
    "## EDlevel"
   ]
  },
  {
   "cell_type": "code",
   "execution_count": 20,
   "id": "fdb19704",
   "metadata": {},
   "outputs": [
    {
     "data": {
      "text/plain": [
       "1211"
      ]
     },
     "execution_count": 20,
     "metadata": {},
     "output_type": "execute_result"
    }
   ],
   "source": [
    "df2023['EdLevel'].isnull().sum()"
   ]
  },
  {
   "cell_type": "code",
   "execution_count": 21,
   "id": "63c867ff",
   "metadata": {},
   "outputs": [
    {
     "data": {
      "text/plain": [
       "EdLevel\n",
       "Bachelor’s degree (B.A., B.S., B.Eng., etc.)                                          36706\n",
       "Master’s degree (M.A., M.S., M.Eng., MBA, etc.)                                       20543\n",
       "Some college/university study without earning a degree                                11753\n",
       "Secondary school (e.g. American high school, German Realschule or Gymnasium, etc.)     8897\n",
       "Professional degree (JD, MD, Ph.D, Ed.D, etc.)                                         3887\n",
       "Associate degree (A.A., A.S., etc.)                                                    2807\n",
       "Primary/elementary school                                                              1905\n",
       "Something else                                                                         1475\n",
       "Name: count, dtype: int64"
      ]
     },
     "execution_count": 21,
     "metadata": {},
     "output_type": "execute_result"
    }
   ],
   "source": [
    "df2023['EdLevel'].value_counts()"
   ]
  },
  {
   "cell_type": "code",
   "execution_count": 22,
   "id": "83ac9bd5",
   "metadata": {},
   "outputs": [
    {
     "name": "stderr",
     "output_type": "stream",
     "text": [
      "C:\\Users\\Dell\\AppData\\Local\\Temp\\ipykernel_19216\\2322784076.py:21: FutureWarning: A value is trying to be set on a copy of a DataFrame or Series through chained assignment using an inplace method.\n",
      "The behavior will change in pandas 3.0. This inplace method will never work because the intermediate object on which we are setting values always behaves as a copy.\n",
      "\n",
      "For example, when doing 'df[col].method(value, inplace=True)', try using 'df.method({col: value}, inplace=True)' or df[col] = df[col].method(value) instead, to perform the operation inplace on the original object.\n",
      "\n",
      "\n",
      "  df2023['EdLevel'].replace('nan', 'Bachelors', inplace=True)\n"
     ]
    }
   ],
   "source": [
    "#Refactoring EdLevel\n",
    "def refactor_ed(df):\n",
    "    '''function to change Education level category to Bachelors, Masters, Professional, Associate, Doctorate, No Degree'''\n",
    "    conditions_ed = [(df['EdLevel'] == 'Associate degree (A.A., A.S., etc.)'),\n",
    "                    (df['EdLevel'] == 'Bachelor’s degree (B.A., B.S., B.Eng., etc.)'),\n",
    "                    (df['EdLevel'] == 'Master’s degree (M.A., M.S., M.Eng., MBA, etc.)'),\n",
    "                    (df['EdLevel'] == 'Professional degree (JD, MD, etc.)'),   \n",
    "                    (df['EdLevel'] == 'Other doctoral degree (Ph.D., Ed.D., etc.)'),\n",
    "                    (df['EdLevel'] == 'Some college/university study without earning a degree') \n",
    "                    | (df['EdLevel'] == 'Secondary school (e.g. American high school, German Realschule or Gymnasium, etc.)') \n",
    "                    | (df['EdLevel'] == 'Primary/elementary school')\n",
    "                    | (df['EdLevel'] == 'I never completed any formal education')]\n",
    "    \n",
    "    choices_ed = ['Associate', 'Bachelors', 'Masters', 'Professional',  'Doctorate', 'No Degree']\n",
    "    df['EdLevel'] = np.select(conditions_ed, choices_ed, default = np.NaN)\n",
    "    return df\n",
    "\n",
    "# applying function to subsets\n",
    "df2023 = refactor_ed(df2023)\n",
    "#Assigining the surveyors who havent mentioned their education level to Bachelor’s degree\n",
    "df2023['EdLevel'].replace('nan', 'Bachelors', inplace=True)"
   ]
  },
  {
   "cell_type": "code",
   "execution_count": 23,
   "id": "2bbc3998",
   "metadata": {},
   "outputs": [
    {
     "data": {
      "text/plain": [
       "EdLevel\n",
       "Bachelors    43279\n",
       "No Degree    22555\n",
       "Masters      20543\n",
       "Associate     2807\n",
       "Name: count, dtype: int64"
      ]
     },
     "execution_count": 23,
     "metadata": {},
     "output_type": "execute_result"
    }
   ],
   "source": [
    "df2023['EdLevel'].value_counts()"
   ]
  },
  {
   "cell_type": "code",
   "execution_count": 24,
   "id": "1f7385b5",
   "metadata": {},
   "outputs": [
    {
     "data": {
      "image/png": "[encoded data removed]",
      "text/plain": [
       "<Figure size 1000x600 with 1 Axes>"
      ]
     },
     "metadata": {},
     "output_type": "display_data"
    }
   ],
   "source": [
    "plt.figure(figsize=(10, 6))\n",
    "sns.countplot(x='EdLevel', data=df2023)\n",
    "plt.title('Number of People by Education Level')\n",
    "plt.show()\n"
   ]
  },
  {
   "cell_type": "markdown",
   "id": "be843d35",
   "metadata": {},
   "source": [
    "## DevType"
   ]
  },
  {
   "cell_type": "code",
   "execution_count": 25,
   "id": "94e8aac2",
   "metadata": {},
   "outputs": [
    {
     "data": {
      "text/plain": [
       "12312"
      ]
     },
     "execution_count": 25,
     "metadata": {},
     "output_type": "execute_result"
    }
   ],
   "source": [
    "df2023['DevType'].isnull().sum()"
   ]
  },
  {
   "cell_type": "code",
   "execution_count": 26,
   "id": "fde27ba5",
   "metadata": {},
   "outputs": [
    {
     "data": {
      "text/plain": [
       "DevType\n",
       "Developer, full-stack                            25735\n",
       "Developer, back-end                              13745\n",
       "Developer, front-end                              5071\n",
       "Developer, desktop or enterprise applications     3904\n",
       "Other (please specify):                           3080\n",
       "Developer, mobile                                 2597\n",
       "Engineering manager                               2033\n",
       "Student                                           1996\n",
       "Developer, embedded applications or devices       1845\n",
       "Data scientist or machine learning specialist     1588\n",
       "Name: count, dtype: int64"
      ]
     },
     "execution_count": 26,
     "metadata": {},
     "output_type": "execute_result"
    }
   ],
   "source": [
    "df2023['DevType'].value_counts().nlargest(10)"
   ]
  },
  {
   "cell_type": "code",
   "execution_count": 27,
   "id": "10187d19",
   "metadata": {},
   "outputs": [],
   "source": [
    "df2023['DevType'] = df2023['DevType'].bfill().ffill()"
   ]
  },
  {
   "cell_type": "code",
   "execution_count": 28,
   "id": "e871711f",
   "metadata": {},
   "outputs": [
    {
     "data": {
      "text/plain": [
       "DevType\n",
       "Developer, full-stack                            29898\n",
       "Developer, back-end                              15791\n",
       "Developer, front-end                              5920\n",
       "Developer, desktop or enterprise applications     4535\n",
       "Other (please specify):                           3591\n",
       "Developer, mobile                                 2998\n",
       "Student                                           2363\n",
       "Engineering manager                               2322\n",
       "Developer, embedded applications or devices       2139\n",
       "Data scientist or machine learning specialist     1843\n",
       "Name: count, dtype: int64"
      ]
     },
     "execution_count": 28,
     "metadata": {},
     "output_type": "execute_result"
    }
   ],
   "source": [
    "df2023['DevType'].value_counts().nlargest(10)"
   ]
  },
  {
   "cell_type": "code",
   "execution_count": 29,
   "id": "957ef92e",
   "metadata": {},
   "outputs": [
    {
     "data": {
      "text/plain": [
       "(89184, 25)"
      ]
     },
     "execution_count": 29,
     "metadata": {},
     "output_type": "execute_result"
    }
   ],
   "source": [
    "df2023.shape"
   ]
  },
  {
   "cell_type": "code",
   "execution_count": 30,
   "id": "12809d2e",
   "metadata": {},
   "outputs": [
    {
     "data": {
      "text/plain": [
       "0"
      ]
     },
     "execution_count": 30,
     "metadata": {},
     "output_type": "execute_result"
    }
   ],
   "source": [
    "\n",
    "df2023['DevType'].isnull().sum()"
   ]
  },
  {
   "cell_type": "code",
   "execution_count": 31,
   "id": "6492a9d4",
   "metadata": {},
   "outputs": [
    {
     "data": {
      "text/html": [
       "<div>\n",
       "<style scoped>\n",
       "    .dataframe tbody tr th:only-of-type {\n",
       "        vertical-align: middle;\n",
       "    }\n",
       "\n",
       "    .dataframe tbody tr th {\n",
       "        vertical-align: top;\n",
       "    }\n",
       "\n",
       "    .dataframe thead th {\n",
       "        text-align: right;\n",
       "    }\n",
       "</style>\n",
       "<table border=\"1\" class=\"dataframe\">\n",
       "  <thead>\n",
       "    <tr style=\"text-align: right;\">\n",
       "      <th></th>\n",
       "      <th>Profession</th>\n",
       "      <th>Age</th>\n",
       "      <th>Employment</th>\n",
       "      <th>RemoteWork</th>\n",
       "      <th>CodingActivities</th>\n",
       "      <th>EdLevel</th>\n",
       "      <th>LearnCode</th>\n",
       "      <th>LearnCodeOnline</th>\n",
       "      <th>LearnCodeCoursesCert</th>\n",
       "      <th>YearsCode</th>\n",
       "      <th>...</th>\n",
       "      <th>LanguageWantToWorkWith</th>\n",
       "      <th>DatabaseHaveWorkedWith</th>\n",
       "      <th>DatabaseWantToWorkWith</th>\n",
       "      <th>PlatformHaveWorkedWith</th>\n",
       "      <th>PlatformWantToWorkWith</th>\n",
       "      <th>WebframeHaveWorkedWith</th>\n",
       "      <th>WebframeWantToWorkWith</th>\n",
       "      <th>ProfessionalTech</th>\n",
       "      <th>Industry</th>\n",
       "      <th>SalaryUSD</th>\n",
       "    </tr>\n",
       "  </thead>\n",
       "  <tbody>\n",
       "  </tbody>\n",
       "</table>\n",
       "<p>0 rows × 25 columns</p>\n",
       "</div>"
      ],
      "text/plain": [
       "Empty DataFrame\n",
       "Columns: [Profession, Age, Employment, RemoteWork, CodingActivities, EdLevel, LearnCode, LearnCodeOnline, LearnCodeCoursesCert, YearsCode, YearsCodePro, DevType, TechList, Country, LanguageHaveWorkedWith, LanguageWantToWorkWith, DatabaseHaveWorkedWith, DatabaseWantToWorkWith, PlatformHaveWorkedWith, PlatformWantToWorkWith, WebframeHaveWorkedWith, WebframeWantToWorkWith, ProfessionalTech, Industry, SalaryUSD]\n",
       "Index: []\n",
       "\n",
       "[0 rows x 25 columns]"
      ]
     },
     "execution_count": 31,
     "metadata": {},
     "output_type": "execute_result"
    }
   ],
   "source": [
    "df2023[df2023['DevType'].isnull()]"
   ]
  },
  {
   "cell_type": "code",
   "execution_count": 32,
   "id": "a137bf83",
   "metadata": {},
   "outputs": [
    {
     "data": {
      "image/png": "[encoded data removed]",
      "text/plain": [
       "<Figure size 1200x600 with 1 Axes>"
      ]
     },
     "metadata": {},
     "output_type": "display_data"
    }
   ],
   "source": [
    "sns.set_style('whitegrid')\n",
    "\n",
    "# Plotting the histogram\n",
    "plt.figure(figsize=(12, 6))\n",
    "ax = sns.histplot(data=df2023, x='DevType', bins=30, kde=True, color='skyblue', edgecolor='black', alpha=0.7)\n",
    "\n",
    "# Adding labels and title\n",
    "plt.xlabel('DevType', fontsize=12)  # Label for x-axis\n",
    "plt.ylabel('Frequency', fontsize=12)  # Label for y-axis\n",
    "plt.title('Distribution of Respondents\\' DevType', fontsize=14)  # Title of the plot\n",
    "\n",
    "# Add gridlines\n",
    "plt.grid(True, linestyle='--', alpha=0.5)\n",
    "\n",
    "# Annotate each bar with its frequency\n",
    "for rect in ax.patches:\n",
    "    # Get the height of the bar\n",
    "    height = rect.get_height()\n",
    "    # Add text annotation\n",
    "    ax.text(rect.get_x() + rect.get_width() / 2, height, f'{int(height)}', ha='center', va='bottom')\n",
    "\n",
    "# Display the plot\n",
    "plt.tight_layout()\n",
    "plt.show()"
   ]
  },
  {
   "cell_type": "markdown",
   "id": "bc48674e",
   "metadata": {},
   "source": [
    "## LanguageWantToWorkWith "
   ]
  },
  {
   "cell_type": "code",
   "execution_count": 33,
   "id": "6517a5ca",
   "metadata": {},
   "outputs": [
    {
     "data": {
      "text/plain": [
       "8475"
      ]
     },
     "execution_count": 33,
     "metadata": {},
     "output_type": "execute_result"
    }
   ],
   "source": [
    "df2023['LanguageWantToWorkWith'].isnull().sum()"
   ]
  },
  {
   "cell_type": "code",
   "execution_count": 34,
   "id": "7423484a",
   "metadata": {},
   "outputs": [
    {
     "data": {
      "text/plain": [
       "LanguageWantToWorkWith\n",
       "Rust                              1438\n",
       "Python                            1182\n",
       "HTML/CSS;JavaScript;TypeScript    1071\n",
       "C#                                 736\n",
       "Go                                 618\n",
       "TypeScript                         493\n",
       "JavaScript;TypeScript              451\n",
       "Java                               450\n",
       "Python;Rust                        446\n",
       "Python;SQL                         424\n",
       "Name: count, dtype: int64"
      ]
     },
     "execution_count": 34,
     "metadata": {},
     "output_type": "execute_result"
    }
   ],
   "source": [
    "df2023['LanguageWantToWorkWith'].value_counts().nlargest(10)"
   ]
  },
  {
   "cell_type": "code",
   "execution_count": 35,
   "id": "ec277fbb",
   "metadata": {},
   "outputs": [],
   "source": [
    "df2023['LanguageWantToWorkWith']=df2023['LanguageWantToWorkWith'].bfill().ffill()"
   ]
  },
  {
   "cell_type": "code",
   "execution_count": 36,
   "id": "f224f686",
   "metadata": {},
   "outputs": [
    {
     "data": {
      "text/plain": [
       "LanguageWantToWorkWith\n",
       "Rust                              1584\n",
       "Python                            1296\n",
       "HTML/CSS;JavaScript;TypeScript    1189\n",
       "C#                                 821\n",
       "Go                                 682\n",
       "TypeScript                         550\n",
       "JavaScript;TypeScript              496\n",
       "Java                               494\n",
       "Python;Rust                        487\n",
       "Go;Rust                            463\n",
       "Name: count, dtype: int64"
      ]
     },
     "execution_count": 36,
     "metadata": {},
     "output_type": "execute_result"
    }
   ],
   "source": [
    "df2023['LanguageWantToWorkWith'].value_counts().nlargest(10)"
   ]
  },
  {
   "cell_type": "code",
   "execution_count": 37,
   "id": "734d0192",
   "metadata": {},
   "outputs": [
    {
     "data": {
      "text/plain": [
       "0"
      ]
     },
     "execution_count": 37,
     "metadata": {},
     "output_type": "execute_result"
    }
   ],
   "source": [
    "df2023['LanguageWantToWorkWith'].isnull().sum()"
   ]
  },
  {
   "cell_type": "markdown",
   "id": "61b89006",
   "metadata": {},
   "source": [
    "## LanguageHaveWorkedWith"
   ]
  },
  {
   "cell_type": "code",
   "execution_count": 38,
   "id": "7703a16b",
   "metadata": {},
   "outputs": [
    {
     "data": {
      "text/plain": [
       "2044"
      ]
     },
     "execution_count": 38,
     "metadata": {},
     "output_type": "execute_result"
    }
   ],
   "source": [
    "df2023['LanguageHaveWorkedWith'].isnull().sum()"
   ]
  },
  {
   "cell_type": "code",
   "execution_count": 39,
   "id": "38cd6582",
   "metadata": {},
   "outputs": [
    {
     "data": {
      "text/plain": [
       "LanguageHaveWorkedWith\n",
       "HTML/CSS;JavaScript;TypeScript           1487\n",
       "Python                                   1132\n",
       "HTML/CSS;JavaScript                       735\n",
       "HTML/CSS;JavaScript;PHP;SQL               718\n",
       "C#                                        649\n",
       "JavaScript;TypeScript                     590\n",
       "C#;HTML/CSS;JavaScript;SQL;TypeScript     575\n",
       "Java                                      573\n",
       "Python;SQL                                460\n",
       "C#;HTML/CSS;JavaScript;SQL                449\n",
       "Name: count, dtype: int64"
      ]
     },
     "execution_count": 39,
     "metadata": {},
     "output_type": "execute_result"
    }
   ],
   "source": [
    "df2023['LanguageHaveWorkedWith'].value_counts().nlargest(10)"
   ]
  },
  {
   "cell_type": "code",
   "execution_count": 40,
   "id": "23f1e34c",
   "metadata": {},
   "outputs": [],
   "source": [
    "df2023['LanguageHaveWorkedWith']=df2023['LanguageHaveWorkedWith'].bfill().ffill()"
   ]
  },
  {
   "cell_type": "code",
   "execution_count": 41,
   "id": "81d3355a",
   "metadata": {},
   "outputs": [
    {
     "data": {
      "text/plain": [
       "LanguageHaveWorkedWith\n",
       "HTML/CSS;JavaScript;TypeScript           1518\n",
       "Python                                   1155\n",
       "HTML/CSS;JavaScript                       751\n",
       "HTML/CSS;JavaScript;PHP;SQL               735\n",
       "C#                                        663\n",
       "JavaScript;TypeScript                     605\n",
       "Java                                      592\n",
       "C#;HTML/CSS;JavaScript;SQL;TypeScript     580\n",
       "Python;SQL                                473\n",
       "C#;HTML/CSS;JavaScript;SQL                457\n",
       "Name: count, dtype: int64"
      ]
     },
     "execution_count": 41,
     "metadata": {},
     "output_type": "execute_result"
    }
   ],
   "source": [
    "df2023['LanguageHaveWorkedWith'].value_counts().nlargest(10)"
   ]
  },
  {
   "cell_type": "code",
   "execution_count": 42,
   "id": "7de7b010",
   "metadata": {},
   "outputs": [
    {
     "data": {
      "text/plain": [
       "0"
      ]
     },
     "execution_count": 42,
     "metadata": {},
     "output_type": "execute_result"
    }
   ],
   "source": [
    "df2023['LanguageHaveWorkedWith'].isnull().sum()"
   ]
  },
  {
   "cell_type": "markdown",
   "id": "c59f5a87",
   "metadata": {},
   "source": [
    "## Main Branch (Profession)"
   ]
  },
  {
   "cell_type": "code",
   "execution_count": 43,
   "id": "03016870",
   "metadata": {},
   "outputs": [
    {
     "data": {
      "text/plain": [
       "0"
      ]
     },
     "execution_count": 43,
     "metadata": {},
     "output_type": "execute_result"
    }
   ],
   "source": [
    "df2023['Profession'].isnull().sum()"
   ]
  },
  {
   "cell_type": "code",
   "execution_count": 44,
   "id": "738cbfd6",
   "metadata": {},
   "outputs": [
    {
     "data": {
      "text/plain": [
       "Profession\n",
       "I am a developer by profession                                                           67237\n",
       "I am learning to code                                                                     4961\n",
       "I am not primarily a developer, but I write code sometimes as part of my work/studies     8954\n",
       "I code primarily as a hobby                                                               4960\n",
       "I used to be a developer by profession, but no longer am                                  1861\n",
       "None of these                                                                             1211\n",
       "Name: Profession, dtype: int64"
      ]
     },
     "execution_count": 44,
     "metadata": {},
     "output_type": "execute_result"
    }
   ],
   "source": [
    "df2023.groupby('Profession')['Profession'].count()"
   ]
  },
  {
   "cell_type": "code",
   "execution_count": 45,
   "id": "0ef791c3",
   "metadata": {},
   "outputs": [],
   "source": [
    "df2023.dropna(subset=['Profession'], inplace = True)"
   ]
  },
  {
   "cell_type": "code",
   "execution_count": 46,
   "id": "ec236349",
   "metadata": {},
   "outputs": [],
   "source": [
    "#Lets refactor column values of Profession column\n",
    "#refactoring profession column\n",
    "\n",
    "def refactor_prof(df):\n",
    "    '''function to change Profession category to Developer, Student, Non-Developer, Novoice, Ex-Developer'''\n",
    "    conditions_prof = [(df['Profession'] == 'I am a developer by profession'),\n",
    "                       (df['Profession'] == 'I am a student who is learning to code'),\n",
    "                       (df['Profession'] == 'I am not primarily a developer, but I write code sometimes as part of my work'),\n",
    "                       (df['Profession'] == 'I code primarily as a hobby'),\n",
    "                       (df['Profession'] == 'I used to be a developer by profession, but no longer am')]\n",
    "    \n",
    "    choices_prof = ['Developer', 'Student', 'Non developer', 'Novoice', 'Ex-Developer']\n",
    "    df['Profession'] = np.select(conditions_prof, choices_prof, default=np.nan)          \n",
    "    return df\n",
    "\n",
    "df2023 = refactor_prof(df2023)"
   ]
  },
  {
   "cell_type": "code",
   "execution_count": 47,
   "id": "190f021e",
   "metadata": {},
   "outputs": [
    {
     "data": {
      "text/plain": [
       "Profession\n",
       "Developer       67237\n",
       "nan             15126\n",
       "Novoice          4960\n",
       "Ex-Developer     1861\n",
       "Name: count, dtype: int64"
      ]
     },
     "execution_count": 47,
     "metadata": {},
     "output_type": "execute_result"
    }
   ],
   "source": [
    "df2023['Profession'].value_counts()"
   ]
  },
  {
   "cell_type": "code",
   "execution_count": 48,
   "id": "91331644",
   "metadata": {},
   "outputs": [
    {
     "data": {
      "text/plain": [
       "0"
      ]
     },
     "execution_count": 48,
     "metadata": {},
     "output_type": "execute_result"
    }
   ],
   "source": [
    "df2023['Profession'].isnull().sum()"
   ]
  },
  {
   "cell_type": "markdown",
   "id": "8de357ac",
   "metadata": {},
   "source": [
    "## Employment"
   ]
  },
  {
   "cell_type": "code",
   "execution_count": 49,
   "id": "b47084e5",
   "metadata": {},
   "outputs": [
    {
     "data": {
      "text/plain": [
       "1286"
      ]
     },
     "execution_count": 49,
     "metadata": {},
     "output_type": "execute_result"
    }
   ],
   "source": [
    "df2023['Employment'].isnull().sum()"
   ]
  },
  {
   "cell_type": "code",
   "execution_count": 50,
   "id": "3730954d",
   "metadata": {},
   "outputs": [
    {
     "data": {
      "text/plain": [
       "Employment\n",
       "Employed, full-time                                                                             53748\n",
       "Employed, full-time;Employed, part-time                                                           228\n",
       "Employed, full-time;Employed, part-time;Student, part-time                                         23\n",
       "Employed, full-time;Independent contractor, freelancer, or self-employed                         4354\n",
       "Employed, full-time;Independent contractor, freelancer, or self-employed;Employed, part-time      172\n",
       "                                                                                                ...  \n",
       "Student, full-time;Retired                                                                          1\n",
       "Student, full-time;Student, part-time                                                              54\n",
       "Student, full-time;Student, part-time;Not employed, and not looking for work                        6\n",
       "Student, part-time                                                                                751\n",
       "Student, part-time;Not employed, and not looking for work                                          60\n",
       "Name: Employment, Length: 106, dtype: int64"
      ]
     },
     "execution_count": 50,
     "metadata": {},
     "output_type": "execute_result"
    }
   ],
   "source": [
    "df2023.groupby('Employment')['Employment'].count()"
   ]
  },
  {
   "cell_type": "code",
   "execution_count": 51,
   "id": "22b613c7",
   "metadata": {},
   "outputs": [],
   "source": [
    "def refactor_employment(df):\n",
    "    conditions_employment = [\n",
    "        (df2023['Employment'].str.contains('full-time', na=False, case=False, regex=False)),\n",
    "        (df2023['Employment'].str.contains('part-time', na=False, case=False, regex=False)),\n",
    "        (df2023['Employment'].str.contains('contractor|freelancer|self-employed', na=False, case=False, regex=True)),\n",
    "        (df2023['Employment'].str.contains('student', na=False, case=False, regex=False)),\n",
    "        (df2023['Employment'].str.contains('retired', na=False, case=False, regex=False)),\n",
    "        (df2023['Employment'].str.contains('not employed|looking for work', na=False, case=False, regex=True))\n",
    "    ]\n",
    "    \n",
    "    choices_employment = ['Full-time', 'Part-time', 'Self-employed', 'Student', 'Retired', 'Unemployed']\n",
    "    \n",
    "    df2023['Employment'] = np.select(conditions_employment, choices_employment, default='Other')\n",
    "    return df2023\n",
    "\n",
    "df = refactor_employment(df2023)\n"
   ]
  },
  {
   "cell_type": "code",
   "execution_count": 52,
   "id": "61b8748f",
   "metadata": {},
   "outputs": [
    {
     "data": {
      "text/plain": [
       "Employment\n",
       "Full-time        71594\n",
       "Other             1835\n",
       "Part-time         4163\n",
       "Retired            596\n",
       "Self-employed     7566\n",
       "Unemployed        3430\n",
       "Name: Employment, dtype: int64"
      ]
     },
     "execution_count": 52,
     "metadata": {},
     "output_type": "execute_result"
    }
   ],
   "source": [
    "df2023.groupby('Employment')['Employment'].count()"
   ]
  },
  {
   "cell_type": "code",
   "execution_count": 53,
   "id": "71d8087d",
   "metadata": {},
   "outputs": [],
   "source": [
    "df2023['Employment']=df2023['Employment'].bfill().ffill()"
   ]
  },
  {
   "cell_type": "code",
   "execution_count": 54,
   "id": "7daf7343",
   "metadata": {},
   "outputs": [
    {
     "data": {
      "text/plain": [
       "0"
      ]
     },
     "execution_count": 54,
     "metadata": {},
     "output_type": "execute_result"
    }
   ],
   "source": [
    "df2023['Employment'].isnull().sum()"
   ]
  },
  {
   "cell_type": "markdown",
   "id": "3a9bb580",
   "metadata": {},
   "source": [
    "## Country"
   ]
  },
  {
   "cell_type": "code",
   "execution_count": 55,
   "id": "5652097b",
   "metadata": {},
   "outputs": [
    {
     "data": {
      "text/plain": [
       "1211"
      ]
     },
     "execution_count": 55,
     "metadata": {},
     "output_type": "execute_result"
    }
   ],
   "source": [
    "df2023['Country'].isnull().sum()"
   ]
  },
  {
   "cell_type": "code",
   "execution_count": 56,
   "id": "955c549a",
   "metadata": {},
   "outputs": [
    {
     "data": {
      "text/plain": [
       "Country\n",
       "Afghanistan                              64\n",
       "Albania                                  60\n",
       "Algeria                                  85\n",
       "Andorra                                  16\n",
       "Angola                                   13\n",
       "                                       ... \n",
       "Venezuela, Bolivarian Republic of...    106\n",
       "Viet Nam                                390\n",
       "Yemen                                    20\n",
       "Zambia                                   26\n",
       "Zimbabwe                                 34\n",
       "Name: Country, Length: 185, dtype: int64"
      ]
     },
     "execution_count": 56,
     "metadata": {},
     "output_type": "execute_result"
    }
   ],
   "source": [
    "df2023.groupby('Country')['Country'].count()"
   ]
  },
  {
   "cell_type": "code",
   "execution_count": 57,
   "id": "d6b27787",
   "metadata": {},
   "outputs": [],
   "source": [
    "df2023['Country']=df2023['Country'].bfill().ffill()"
   ]
  },
  {
   "cell_type": "code",
   "execution_count": 58,
   "id": "9f0c50a9",
   "metadata": {},
   "outputs": [
    {
     "data": {
      "text/plain": [
       "0"
      ]
     },
     "execution_count": 58,
     "metadata": {},
     "output_type": "execute_result"
    }
   ],
   "source": [
    "df2023['Country'].isnull().sum()"
   ]
  },
  {
   "cell_type": "markdown",
   "id": "46083e00",
   "metadata": {},
   "source": [
    "## YearsCodePro"
   ]
  },
  {
   "cell_type": "code",
   "execution_count": 59,
   "id": "7ae4a686",
   "metadata": {},
   "outputs": [
    {
     "data": {
      "text/plain": [
       "23048"
      ]
     },
     "execution_count": 59,
     "metadata": {},
     "output_type": "execute_result"
    }
   ],
   "source": [
    "df2023['YearsCodePro'].isnull().sum()"
   ]
  },
  {
   "cell_type": "code",
   "execution_count": 60,
   "id": "98d34d3a",
   "metadata": {},
   "outputs": [
    {
     "data": {
      "text/plain": [
       "YearsCodePro\n",
       "1                     2596\n",
       "10                    4594\n",
       "11                    2013\n",
       "12                    2398\n",
       "13                    1690\n",
       "14                    1256\n",
       "15                    2789\n",
       "16                    1278\n",
       "17                    1146\n",
       "18                    1212\n",
       "19                     649\n",
       "2                     4464\n",
       "20                    2227\n",
       "21                     565\n",
       "22                     845\n",
       "23                    1112\n",
       "24                     686\n",
       "25                    1449\n",
       "26                     486\n",
       "27                     490\n",
       "28                     417\n",
       "29                     217\n",
       "3                     4378\n",
       "30                     924\n",
       "31                     187\n",
       "32                     293\n",
       "33                     264\n",
       "34                     177\n",
       "35                     462\n",
       "36                     200\n",
       "37                     150\n",
       "38                     164\n",
       "39                      99\n",
       "4                     3970\n",
       "40                     329\n",
       "41                      79\n",
       "42                      81\n",
       "43                      67\n",
       "44                      42\n",
       "45                     102\n",
       "46                      33\n",
       "47                      24\n",
       "48                      30\n",
       "49                      14\n",
       "5                     4792\n",
       "50                      24\n",
       "6                     3637\n",
       "7                     3509\n",
       "8                     3462\n",
       "9                     2145\n",
       "Less than 1 year      1836\n",
       "More than 50 years      83\n",
       "Name: YearsCodePro, dtype: int64"
      ]
     },
     "execution_count": 60,
     "metadata": {},
     "output_type": "execute_result"
    }
   ],
   "source": [
    "df2023.groupby('YearsCodePro')['YearsCodePro'].count()"
   ]
  },
  {
   "cell_type": "code",
   "execution_count": 61,
   "id": "21250823",
   "metadata": {},
   "outputs": [],
   "source": [
    "df2023['YearsCodePro']=df2023['YearsCodePro'].bfill().ffill()"
   ]
  },
  {
   "cell_type": "code",
   "execution_count": 62,
   "id": "bee69b2c",
   "metadata": {},
   "outputs": [
    {
     "data": {
      "text/plain": [
       "0"
      ]
     },
     "execution_count": 62,
     "metadata": {},
     "output_type": "execute_result"
    }
   ],
   "source": [
    "df2023['YearsCodePro'].isnull().sum()"
   ]
  },
  {
   "cell_type": "markdown",
   "id": "bbb8420a",
   "metadata": {},
   "source": [
    "## ConvertedCompYearly (SalaryUSD)"
   ]
  },
  {
   "cell_type": "code",
   "execution_count": 63,
   "id": "81231125",
   "metadata": {},
   "outputs": [
    {
     "data": {
      "text/plain": [
       "41165"
      ]
     },
     "execution_count": 63,
     "metadata": {},
     "output_type": "execute_result"
    }
   ],
   "source": [
    "df2023['SalaryUSD'].isnull().sum()"
   ]
  },
  {
   "cell_type": "code",
   "execution_count": 64,
   "id": "b92d76a8",
   "metadata": {},
   "outputs": [
    {
     "data": {
      "text/plain": [
       "SalaryUSD\n",
       "64254.0     784\n",
       "53545.0     615\n",
       "150000.0    585\n",
       "200000.0    558\n",
       "74963.0     557\n",
       "Name: count, dtype: int64"
      ]
     },
     "execution_count": 64,
     "metadata": {},
     "output_type": "execute_result"
    }
   ],
   "source": [
    "df2023['SalaryUSD'].value_counts().nlargest()"
   ]
  },
  {
   "cell_type": "code",
   "execution_count": 65,
   "id": "cf4f4083",
   "metadata": {},
   "outputs": [
    {
     "data": {
      "text/plain": [
       "Age                 EdLevel    Country     \n",
       "25-34 years old     Bachelors  Mali            3.657318e+07\n",
       "Under 18 years old  No Degree  Ethiopia        1.761292e+07\n",
       "25-34 years old     No Degree  Thailand        7.237654e+06\n",
       "                    Bachelors  Afghanistan     2.301448e+06\n",
       "55-64 years old     Bachelors  Australia       1.973625e+06\n",
       "25-34 years old     Masters    Nomadic         1.617763e+06\n",
       "45-54 years old     No Degree  Thailand        1.482846e+06\n",
       "35-44 years old     Bachelors  South Africa    1.456551e+06\n",
       "25-34 years old     Associate  Nigeria         9.856870e+05\n",
       "55-64 years old     Bachelors  Belgium         8.735447e+05\n",
       "Name: SalaryUSD, dtype: float64"
      ]
     },
     "execution_count": 65,
     "metadata": {},
     "output_type": "execute_result"
    }
   ],
   "source": [
    "mean_salary = df2023.groupby(['Age','EdLevel','Country'])['SalaryUSD'].mean()\n",
    "mean_salary.nlargest(10)"
   ]
  },
  {
   "cell_type": "code",
   "execution_count": 66,
   "id": "cc735560",
   "metadata": {},
   "outputs": [
    {
     "data": {
      "text/plain": [
       "SalaryUSD\n",
       "64254.0     784\n",
       "53545.0     615\n",
       "150000.0    585\n",
       "200000.0    558\n",
       "74963.0     557\n",
       "Name: count, dtype: int64"
      ]
     },
     "execution_count": 66,
     "metadata": {},
     "output_type": "execute_result"
    }
   ],
   "source": [
    "df2023['SalaryUSD'].value_counts().nlargest()"
   ]
  },
  {
   "cell_type": "markdown",
   "id": "a75f7cea",
   "metadata": {},
   "source": [
    "## Remote Work"
   ]
  },
  {
   "cell_type": "code",
   "execution_count": 67,
   "id": "208c4b7d",
   "metadata": {},
   "outputs": [
    {
     "data": {
      "text/plain": [
       "15374"
      ]
     },
     "execution_count": 67,
     "metadata": {},
     "output_type": "execute_result"
    }
   ],
   "source": [
    "df2023['RemoteWork'].isnull().sum()"
   ]
  },
  {
   "cell_type": "code",
   "execution_count": 68,
   "id": "be53345c",
   "metadata": {},
   "outputs": [
    {
     "data": {
      "text/plain": [
       "RemoteWork\n",
       "Hybrid (some remote, some in-person)    31131\n",
       "Remote                                  30566\n",
       "In-person                               12113\n",
       "Name: count, dtype: int64"
      ]
     },
     "execution_count": 68,
     "metadata": {},
     "output_type": "execute_result"
    }
   ],
   "source": [
    "df2023['RemoteWork'].value_counts().nlargest(10)"
   ]
  },
  {
   "cell_type": "code",
   "execution_count": 69,
   "id": "10b3049a",
   "metadata": {},
   "outputs": [],
   "source": [
    "df2023['RemoteWork']=df2023['RemoteWork'].bfill().ffill()"
   ]
  },
  {
   "cell_type": "code",
   "execution_count": 70,
   "id": "fae3a8fe",
   "metadata": {},
   "outputs": [
    {
     "data": {
      "text/plain": [
       "0"
      ]
     },
     "execution_count": 70,
     "metadata": {},
     "output_type": "execute_result"
    }
   ],
   "source": [
    "df2023['RemoteWork'].isnull().sum()"
   ]
  },
  {
   "cell_type": "markdown",
   "id": "1cf47534",
   "metadata": {},
   "source": [
    "## Coding Activities"
   ]
  },
  {
   "cell_type": "code",
   "execution_count": 71,
   "id": "56f8c4f6",
   "metadata": {},
   "outputs": [
    {
     "data": {
      "text/plain": [
       "15420"
      ]
     },
     "execution_count": 71,
     "metadata": {},
     "output_type": "execute_result"
    }
   ],
   "source": [
    "df2023['CodingActivities'].isnull().sum()"
   ]
  },
  {
   "cell_type": "code",
   "execution_count": 72,
   "id": "afd4892c",
   "metadata": {},
   "outputs": [
    {
     "data": {
      "text/plain": [
       "CodingActivities\n",
       "Hobby                                                                                                           15308\n",
       "I don’t code outside of work                                                                                     8809\n",
       "Hobby;Professional development or self-paced learning from online courses                                        8232\n",
       "Hobby;Contribute to open-source projects                                                                         5363\n",
       "Professional development or self-paced learning from online courses                                              3920\n",
       "Hobby;Contribute to open-source projects;Professional development or self-paced learning from online courses     3194\n",
       "Hobby;Freelance/contract work                                                                                    2266\n",
       "Hobby;School or academic work                                                                                    1855\n",
       "Hobby;Professional development or self-paced learning from online courses;Freelance/contract work                1637\n",
       "Freelance/contract work                                                                                          1632\n",
       "Name: count, dtype: int64"
      ]
     },
     "execution_count": 72,
     "metadata": {},
     "output_type": "execute_result"
    }
   ],
   "source": [
    "df2023['CodingActivities'].value_counts().nlargest(10)"
   ]
  },
  {
   "cell_type": "code",
   "execution_count": 73,
   "id": "1be1ef83",
   "metadata": {},
   "outputs": [],
   "source": [
    "df2023['CodingActivities']=df2023['CodingActivities'].bfill().ffill()"
   ]
  },
  {
   "cell_type": "code",
   "execution_count": 74,
   "id": "d4d19773",
   "metadata": {},
   "outputs": [
    {
     "data": {
      "text/plain": [
       "0"
      ]
     },
     "execution_count": 74,
     "metadata": {},
     "output_type": "execute_result"
    }
   ],
   "source": [
    "df2023['CodingActivities'].isnull().sum()"
   ]
  },
  {
   "cell_type": "markdown",
   "id": "e8d73347",
   "metadata": {},
   "source": [
    "## LearnCodeOnline"
   ]
  },
  {
   "cell_type": "code",
   "execution_count": 75,
   "id": "522d3a67",
   "metadata": {},
   "outputs": [
    {
     "data": {
      "text/plain": [
       "19100"
      ]
     },
     "execution_count": 75,
     "metadata": {},
     "output_type": "execute_result"
    }
   ],
   "source": [
    "df2023['LearnCodeOnline'].isnull().sum()"
   ]
  },
  {
   "cell_type": "code",
   "execution_count": 76,
   "id": "cdccc986",
   "metadata": {},
   "outputs": [
    {
     "data": {
      "text/plain": [
       "LearnCodeOnline\n",
       "Formal documentation provided by the owner of the tech;Blogs with tips and tricks;Written Tutorials;Click to write Choice 20;Stack Overflow                        1182\n",
       "Formal documentation provided by the owner of the tech;Blogs with tips and tricks;Written Tutorials;Stack Overflow                                                  977\n",
       "Formal documentation provided by the owner of the tech;Blogs with tips and tricks;Stack Overflow                                                                    802\n",
       "Formal documentation provided by the owner of the tech;Blogs with tips and tricks;How-to videos;Written Tutorials;Click to write Choice 20;Stack Overflow           770\n",
       "Formal documentation provided by the owner of the tech;Blogs with tips and tricks;Books;Written Tutorials;Click to write Choice 20;Stack Overflow                   768\n",
       "Formal documentation provided by the owner of the tech;Blogs with tips and tricks;Books;Written Tutorials;Stack Overflow                                            583\n",
       "Formal documentation provided by the owner of the tech;Blogs with tips and tricks;How-to videos;Stack Overflow                                                      580\n",
       "Formal documentation provided by the owner of the tech;Blogs with tips and tricks;How-to videos;Written Tutorials;Stack Overflow                                    574\n",
       "Formal documentation provided by the owner of the tech;Blogs with tips and tricks;Click to write Choice 20;Stack Overflow                                           521\n",
       "Formal documentation provided by the owner of the tech;Blogs with tips and tricks;Books;How-to videos;Written Tutorials;Click to write Choice 20;Stack Overflow     474\n",
       "Name: count, dtype: int64"
      ]
     },
     "execution_count": 76,
     "metadata": {},
     "output_type": "execute_result"
    }
   ],
   "source": [
    "df2023['LearnCodeOnline'].value_counts().nlargest(10)"
   ]
  },
  {
   "cell_type": "code",
   "execution_count": 77,
   "id": "9ab9a749",
   "metadata": {},
   "outputs": [],
   "source": [
    "def refactor_learn_code_online(df):\n",
    "    conditions_learn_code_online = [\n",
    "        (df['LearnCodeOnline'].str.contains('Online Courses', na=False, regex=True)),\n",
    "        (df['LearnCodeOnline'].str.contains('Books', na=False, regex=True)),\n",
    "        (df['LearnCodeOnline'].str.contains('On the job training', na=False, regex=True)),\n",
    "        (df['LearnCodeOnline'].str.contains('School', na=False, regex=True)),\n",
    "        (df['LearnCodeOnline'].str.contains('Other online resources', na=False, regex=True))\n",
    "    ]\n",
    "    \n",
    "    choices_learn_code_online = ['OnlineCourses/Certification', 'Books/Physicalmedia', 'OntheJobTraining',\n",
    "                                 'School', 'OtherOnlineResources']\n",
    "    \n",
    "    df['LearnCodeOnline'] = np.select(conditions_learn_code_online, choices_learn_code_online, default='Other')\n",
    "    return df\n",
    "\n",
    "df = refactor_learn_code_online(df)\n"
   ]
  },
  {
   "cell_type": "code",
   "execution_count": 78,
   "id": "186de8f4",
   "metadata": {},
   "outputs": [
    {
     "data": {
      "text/plain": [
       "LearnCodeOnline\n",
       "OnlineCourses/Certification    42195\n",
       "Other                          36789\n",
       "Books/Physicalmedia            10200\n",
       "Name: count, dtype: int64"
      ]
     },
     "execution_count": 78,
     "metadata": {},
     "output_type": "execute_result"
    }
   ],
   "source": [
    "df2023['LearnCodeOnline'].value_counts().nlargest(10)"
   ]
  },
  {
   "cell_type": "code",
   "execution_count": 79,
   "id": "1fd50e61",
   "metadata": {},
   "outputs": [
    {
     "name": "stdout",
     "output_type": "stream",
     "text": [
      "OnlineCourses/Certification    42195\n",
      "Other                          36789\n",
      "Books/Physicalmedia            10200\n",
      "Name: count, dtype: int64\n"
     ]
    }
   ],
   "source": [
    "# Split the values in the 'LearnCodeOnline' column by semicolon and stack them into separate rows\n",
    "learn_code_online_split = df['LearnCodeOnline'].str.split(';').apply(pd.Series).stack()\n",
    "\n",
    "# Count the occurrences of each unique combination\n",
    "learn_code_online_counts = learn_code_online_split.value_counts()\n",
    "\n",
    "# Display the result\n",
    "print(learn_code_online_counts)\n"
   ]
  },
  {
   "cell_type": "code",
   "execution_count": 80,
   "id": "0b0655eb",
   "metadata": {},
   "outputs": [],
   "source": [
    "df2023['LearnCodeOnline']=df2023['LearnCodeOnline'].bfill().ffill()"
   ]
  },
  {
   "cell_type": "code",
   "execution_count": 81,
   "id": "bac6d35f",
   "metadata": {},
   "outputs": [
    {
     "data": {
      "text/plain": [
       "0"
      ]
     },
     "execution_count": 81,
     "metadata": {},
     "output_type": "execute_result"
    }
   ],
   "source": [
    "df2023['LearnCodeOnline'].isnull().sum()"
   ]
  },
  {
   "cell_type": "markdown",
   "id": "dad2faac",
   "metadata": {},
   "source": [
    "## LearnCode"
   ]
  },
  {
   "cell_type": "code",
   "execution_count": 82,
   "id": "35287d94",
   "metadata": {},
   "outputs": [
    {
     "data": {
      "text/plain": [
       "1521"
      ]
     },
     "execution_count": 82,
     "metadata": {},
     "output_type": "execute_result"
    }
   ],
   "source": [
    "df2023['LearnCode'].isnull().sum()"
   ]
  },
  {
   "cell_type": "code",
   "execution_count": 83,
   "id": "4b67cf8f",
   "metadata": {},
   "outputs": [
    {
     "data": {
      "text/plain": [
       "LearnCode\n",
       "Other online resources (e.g., videos, blogs, forum)                                                                                                                       4873\n",
       "Books / Physical media;Other online resources (e.g., videos, blogs, forum)                                                                                                3300\n",
       "Other online resources (e.g., videos, blogs, forum);School (i.e., University, College, etc)                                                                               3070\n",
       "Books / Physical media;Online Courses or Certification;Other online resources (e.g., videos, blogs, forum)                                                                3024\n",
       "Online Courses or Certification;Other online resources (e.g., videos, blogs, forum)                                                                                       2871\n",
       "Books / Physical media;Other online resources (e.g., videos, blogs, forum);School (i.e., University, College, etc)                                                        2725\n",
       "Books / Physical media;Online Courses or Certification;On the job training;Other online resources (e.g., videos, blogs, forum);School (i.e., University, College, etc)    2650\n",
       "Books / Physical media;Online Courses or Certification;On the job training;Other online resources (e.g., videos, blogs, forum)                                            2278\n",
       "School (i.e., University, College, etc)                                                                                                                                   2162\n",
       "Online Courses or Certification;On the job training;Other online resources (e.g., videos, blogs, forum)                                                                   2104\n",
       "Name: count, dtype: int64"
      ]
     },
     "execution_count": 83,
     "metadata": {},
     "output_type": "execute_result"
    }
   ],
   "source": [
    "df2023['LearnCode'].value_counts().nlargest(10)"
   ]
  },
  {
   "cell_type": "code",
   "execution_count": 84,
   "id": "dad78aaf",
   "metadata": {},
   "outputs": [],
   "source": [
    "def refactor_learn_code(df):\n",
    "    conditions_learn_code = [\n",
    "        (df['LearnCode'].str.contains('Online Courses|Certification', na=False, regex=True)),\n",
    "        (df['LearnCode'].str.contains('Books|Physical media', na=False, regex=True)),\n",
    "        (df['LearnCode'].str.contains('On the job training', na=False, regex=True)),\n",
    "        (df['LearnCode'].str.contains('School', na=False, regex=True)),\n",
    "        (df['LearnCode'].str.contains('Other online resources', na=False, regex=True))\n",
    "    ]\n",
    "    \n",
    "    choices_learn_code = ['OnlineCourses/Certification', 'Books/Physicalmedia', 'OntheJobTraining',\n",
    "                          'School', 'OtherOnlineResources']\n",
    "    \n",
    "    df['LearnCode'] = np.select(conditions_learn_code, choices_learn_code, default='Other')\n",
    "    return df\n",
    "\n",
    "df = refactor_learn_code(df)\n"
   ]
  },
  {
   "cell_type": "code",
   "execution_count": 85,
   "id": "fc8ddbf6",
   "metadata": {},
   "outputs": [
    {
     "data": {
      "text/plain": [
       "LearnCode\n",
       "OnlineCourses/Certification    43201\n",
       "Books/Physicalmedia            20777\n",
       "OntheJobTraining                8479\n",
       "School                          7110\n",
       "OtherOnlineResources            6857\n",
       "Other                           2760\n",
       "Name: count, dtype: int64"
      ]
     },
     "execution_count": 85,
     "metadata": {},
     "output_type": "execute_result"
    }
   ],
   "source": [
    "df2023['LearnCode'].value_counts().nlargest(10)"
   ]
  },
  {
   "cell_type": "code",
   "execution_count": 86,
   "id": "aa0bfa23",
   "metadata": {},
   "outputs": [
    {
     "name": "stdout",
     "output_type": "stream",
     "text": [
      "OnlineCourses/Certification    43201\n",
      "Books/Physicalmedia            20777\n",
      "OntheJobTraining                8479\n",
      "School                          7110\n",
      "OtherOnlineResources            6857\n",
      "Other                           2760\n",
      "Name: count, dtype: int64\n"
     ]
    }
   ],
   "source": [
    "# Split the values in the 'LearnCode' column by semicolon and stack them into separate rows\n",
    "learn_code_split = df['LearnCode'].str.split(';').apply(pd.Series).stack()\n",
    "\n",
    "# Count the occurrences of each unique combination\n",
    "learn_code_counts = learn_code_split.value_counts()\n",
    "\n",
    "# Display the result\n",
    "print(learn_code_counts)\n"
   ]
  },
  {
   "cell_type": "code",
   "execution_count": 87,
   "id": "e4e02eeb",
   "metadata": {},
   "outputs": [],
   "source": [
    "df2023['LearnCode']=df2023['LearnCode'].bfill().ffill()"
   ]
  },
  {
   "cell_type": "code",
   "execution_count": 88,
   "id": "4b96fe5e",
   "metadata": {},
   "outputs": [
    {
     "data": {
      "text/plain": [
       "0"
      ]
     },
     "execution_count": 88,
     "metadata": {},
     "output_type": "execute_result"
    }
   ],
   "source": [
    "df2023['LearnCode'].isnull().sum()"
   ]
  },
  {
   "cell_type": "markdown",
   "id": "ebf95d2b",
   "metadata": {},
   "source": [
    "## LearnCodeCoursesCert"
   ]
  },
  {
   "cell_type": "code",
   "execution_count": 89,
   "id": "f45440c1",
   "metadata": {},
   "outputs": [
    {
     "data": {
      "text/plain": [
       "52108"
      ]
     },
     "execution_count": 89,
     "metadata": {},
     "output_type": "execute_result"
    }
   ],
   "source": [
    "df2023['LearnCodeCoursesCert'].isnull().sum()"
   ]
  },
  {
   "cell_type": "code",
   "execution_count": 90,
   "id": "a354f156",
   "metadata": {},
   "outputs": [
    {
     "data": {
      "text/plain": [
       "LearnCodeCoursesCert\n",
       "Udemy                        7445\n",
       "Other                        3230\n",
       "Udemy;Coursera               2612\n",
       "Udemy;Pluralsight            1958\n",
       "Codecademy;Udemy             1837\n",
       "Coursera                     1634\n",
       "Pluralsight                  1619\n",
       "Other;Udemy                  1370\n",
       "Codecademy                   1248\n",
       "Codecademy;Udemy;Coursera     841\n",
       "Name: count, dtype: int64"
      ]
     },
     "execution_count": 90,
     "metadata": {},
     "output_type": "execute_result"
    }
   ],
   "source": [
    "df2023['LearnCodeCoursesCert'].value_counts().nlargest(10)"
   ]
  },
  {
   "cell_type": "code",
   "execution_count": 91,
   "id": "ad6390a1",
   "metadata": {},
   "outputs": [],
   "source": [
    "df2023['LearnCodeCoursesCert']=df2023['LearnCodeCoursesCert'].bfill().ffill()"
   ]
  },
  {
   "cell_type": "code",
   "execution_count": 92,
   "id": "025b66d8",
   "metadata": {},
   "outputs": [
    {
     "data": {
      "text/plain": [
       "0"
      ]
     },
     "execution_count": 92,
     "metadata": {},
     "output_type": "execute_result"
    }
   ],
   "source": [
    "df2023['LearnCodeCoursesCert'].isnull().sum()"
   ]
  },
  {
   "cell_type": "markdown",
   "id": "ae9cf729",
   "metadata": {},
   "source": [
    "## YearsCode"
   ]
  },
  {
   "cell_type": "code",
   "execution_count": 93,
   "id": "185bc332",
   "metadata": {},
   "outputs": [
    {
     "data": {
      "text/plain": [
       "1749"
      ]
     },
     "execution_count": 93,
     "metadata": {},
     "output_type": "execute_result"
    }
   ],
   "source": [
    "df2023['YearsCode'].isnull().sum()"
   ]
  },
  {
   "cell_type": "code",
   "execution_count": 94,
   "id": "de75fac1",
   "metadata": {},
   "outputs": [
    {
     "data": {
      "text/plain": [
       "YearsCode\n",
       "10    6521\n",
       "5     5415\n",
       "6     4893\n",
       "8     4879\n",
       "7     4800\n",
       "4     4466\n",
       "15    4336\n",
       "3     4269\n",
       "20    4021\n",
       "12    3471\n",
       "Name: count, dtype: int64"
      ]
     },
     "execution_count": 94,
     "metadata": {},
     "output_type": "execute_result"
    }
   ],
   "source": [
    "df2023['YearsCode'].value_counts().nlargest(10)"
   ]
  },
  {
   "cell_type": "code",
   "execution_count": 95,
   "id": "a1d08417",
   "metadata": {},
   "outputs": [],
   "source": [
    "df2023['YearsCode']=df2023['YearsCode'].bfill().ffill()"
   ]
  },
  {
   "cell_type": "code",
   "execution_count": 96,
   "id": "62ef6dad",
   "metadata": {},
   "outputs": [
    {
     "data": {
      "text/plain": [
       "0"
      ]
     },
     "execution_count": 96,
     "metadata": {},
     "output_type": "execute_result"
    }
   ],
   "source": [
    "df2023['YearsCode'].isnull().sum()"
   ]
  },
  {
   "cell_type": "markdown",
   "id": "7353c786",
   "metadata": {},
   "source": [
    "## TechList"
   ]
  },
  {
   "cell_type": "code",
   "execution_count": 97,
   "id": "55342a71",
   "metadata": {},
   "outputs": [
    {
     "data": {
      "text/plain": [
       "28333"
      ]
     },
     "execution_count": 97,
     "metadata": {},
     "output_type": "execute_result"
    }
   ],
   "source": [
    "df2023['TechList'].isnull().sum()"
   ]
  },
  {
   "cell_type": "code",
   "execution_count": 98,
   "id": "818c571e",
   "metadata": {},
   "outputs": [
    {
     "data": {
      "text/plain": [
       "TechList\n",
       "Investigate     49212\n",
       "Given a list     7935\n",
       "Other            3704\n",
       "Name: count, dtype: int64"
      ]
     },
     "execution_count": 98,
     "metadata": {},
     "output_type": "execute_result"
    }
   ],
   "source": [
    "df2023['TechList'].value_counts().nlargest(10)"
   ]
  },
  {
   "cell_type": "code",
   "execution_count": 99,
   "id": "4d2d6842",
   "metadata": {},
   "outputs": [],
   "source": [
    "df2023['TechList']=df2023['TechList'].bfill().ffill()"
   ]
  },
  {
   "cell_type": "code",
   "execution_count": 100,
   "id": "453233fd",
   "metadata": {},
   "outputs": [
    {
     "data": {
      "text/plain": [
       "0"
      ]
     },
     "execution_count": 100,
     "metadata": {},
     "output_type": "execute_result"
    }
   ],
   "source": [
    "df2023['TechList'].isnull().sum()"
   ]
  },
  {
   "cell_type": "markdown",
   "id": "620c455a",
   "metadata": {},
   "source": [
    "## DatabaseHaveWorkedWith"
   ]
  },
  {
   "cell_type": "code",
   "execution_count": 101,
   "id": "deee9840",
   "metadata": {},
   "outputs": [
    {
     "data": {
      "text/plain": [
       "15749"
      ]
     },
     "execution_count": 101,
     "metadata": {},
     "output_type": "execute_result"
    }
   ],
   "source": [
    "df2023['DatabaseHaveWorkedWith'].isnull().sum()"
   ]
  },
  {
   "cell_type": "code",
   "execution_count": 102,
   "id": "596777dd",
   "metadata": {},
   "outputs": [
    {
     "data": {
      "text/plain": [
       "DatabaseHaveWorkedWith\n",
       "PostgreSQL              4350\n",
       "Microsoft SQL Server    3322\n",
       "MySQL                   3116\n",
       "SQLite                  2299\n",
       "MongoDB                 1663\n",
       "PostgreSQL;SQLite       1426\n",
       "PostgreSQL;Redis        1024\n",
       "MariaDB;MySQL           1001\n",
       "MySQL;SQLite             969\n",
       "MySQL;PostgreSQL         945\n",
       "Name: count, dtype: int64"
      ]
     },
     "execution_count": 102,
     "metadata": {},
     "output_type": "execute_result"
    }
   ],
   "source": [
    "df2023['DatabaseHaveWorkedWith'].value_counts().nlargest(10)"
   ]
  },
  {
   "cell_type": "code",
   "execution_count": 103,
   "id": "a9d5bbfc",
   "metadata": {},
   "outputs": [],
   "source": [
    "df2023['DatabaseHaveWorkedWith']=df2023['DatabaseHaveWorkedWith'].bfill().ffill()"
   ]
  },
  {
   "cell_type": "code",
   "execution_count": 104,
   "id": "53c2fde7",
   "metadata": {},
   "outputs": [
    {
     "data": {
      "text/plain": [
       "DatabaseHaveWorkedWith\n",
       "PostgreSQL              5268\n",
       "Microsoft SQL Server    4044\n",
       "MySQL                   3776\n",
       "SQLite                  2771\n",
       "MongoDB                 2077\n",
       "PostgreSQL;SQLite       1728\n",
       "PostgreSQL;Redis        1255\n",
       "MariaDB;MySQL           1232\n",
       "MySQL;SQLite            1180\n",
       "MySQL;PostgreSQL        1126\n",
       "Name: count, dtype: int64"
      ]
     },
     "execution_count": 104,
     "metadata": {},
     "output_type": "execute_result"
    }
   ],
   "source": [
    "df2023['DatabaseHaveWorkedWith'].value_counts().nlargest(10)"
   ]
  },
  {
   "cell_type": "code",
   "execution_count": 105,
   "id": "0dd7d642",
   "metadata": {},
   "outputs": [
    {
     "data": {
      "text/plain": [
       "0"
      ]
     },
     "execution_count": 105,
     "metadata": {},
     "output_type": "execute_result"
    }
   ],
   "source": [
    "df2023['DatabaseHaveWorkedWith'].isnull().sum()"
   ]
  },
  {
   "cell_type": "markdown",
   "id": "354a1af5",
   "metadata": {},
   "source": [
    "## DatabaseWantToWorkWith"
   ]
  },
  {
   "cell_type": "code",
   "execution_count": 106,
   "id": "d67c106c",
   "metadata": {},
   "outputs": [
    {
     "data": {
      "text/plain": [
       "28273"
      ]
     },
     "execution_count": 106,
     "metadata": {},
     "output_type": "execute_result"
    }
   ],
   "source": [
    "df2023['DatabaseWantToWorkWith'].isnull().sum()"
   ]
  },
  {
   "cell_type": "code",
   "execution_count": 107,
   "id": "43318a80",
   "metadata": {},
   "outputs": [
    {
     "data": {
      "text/plain": [
       "DatabaseWantToWorkWith\n",
       "PostgreSQL                 4815\n",
       "Microsoft SQL Server       2180\n",
       "SQLite                     1771\n",
       "MySQL                      1754\n",
       "PostgreSQL;SQLite          1631\n",
       "MongoDB                    1609\n",
       "PostgreSQL;Redis           1414\n",
       "MongoDB;PostgreSQL          772\n",
       "MySQL;PostgreSQL            625\n",
       "PostgreSQL;Redis;SQLite     582\n",
       "Name: count, dtype: int64"
      ]
     },
     "execution_count": 107,
     "metadata": {},
     "output_type": "execute_result"
    }
   ],
   "source": [
    "df2023['DatabaseWantToWorkWith'].value_counts().nlargest(10)"
   ]
  },
  {
   "cell_type": "code",
   "execution_count": 108,
   "id": "686b17ca",
   "metadata": {},
   "outputs": [],
   "source": [
    "df2023['DatabaseWantToWorkWith']=df2023['DatabaseWantToWorkWith'].bfill().ffill()"
   ]
  },
  {
   "cell_type": "code",
   "execution_count": 109,
   "id": "dc62b0ee",
   "metadata": {},
   "outputs": [
    {
     "data": {
      "text/plain": [
       "DatabaseWantToWorkWith\n",
       "PostgreSQL                 7082\n",
       "Microsoft SQL Server       3131\n",
       "MySQL                      2566\n",
       "SQLite                     2557\n",
       "PostgreSQL;SQLite          2412\n",
       "MongoDB                    2315\n",
       "PostgreSQL;Redis           2091\n",
       "MongoDB;PostgreSQL         1112\n",
       "MySQL;PostgreSQL            922\n",
       "PostgreSQL;Redis;SQLite     848\n",
       "Name: count, dtype: int64"
      ]
     },
     "execution_count": 109,
     "metadata": {},
     "output_type": "execute_result"
    }
   ],
   "source": [
    "df2023['DatabaseWantToWorkWith'].value_counts().nlargest(10)"
   ]
  },
  {
   "cell_type": "code",
   "execution_count": 110,
   "id": "494d19ba",
   "metadata": {},
   "outputs": [
    {
     "data": {
      "text/plain": [
       "0"
      ]
     },
     "execution_count": 110,
     "metadata": {},
     "output_type": "execute_result"
    }
   ],
   "source": [
    "df2023['DatabaseWantToWorkWith'].isnull().sum()"
   ]
  },
  {
   "cell_type": "markdown",
   "id": "c0a01af1",
   "metadata": {},
   "source": [
    "## PlatformHaveWorkedWith"
   ]
  },
  {
   "cell_type": "code",
   "execution_count": 111,
   "id": "eb9288e2",
   "metadata": {},
   "outputs": [
    {
     "data": {
      "text/plain": [
       "25556"
      ]
     },
     "execution_count": 111,
     "metadata": {},
     "output_type": "execute_result"
    }
   ],
   "source": [
    "df2023['PlatformHaveWorkedWith'].isnull().sum()"
   ]
  },
  {
   "cell_type": "code",
   "execution_count": 112,
   "id": "a441d522",
   "metadata": {},
   "outputs": [
    {
     "data": {
      "text/plain": [
       "PlatformHaveWorkedWith\n",
       "Amazon Web Services (AWS)                                 9804\n",
       "Microsoft Azure                                           5945\n",
       "Google Cloud                                              2495\n",
       "Amazon Web Services (AWS);Microsoft Azure                 2192\n",
       "Amazon Web Services (AWS);Google Cloud                    1810\n",
       "Firebase                                                  1407\n",
       "Amazon Web Services (AWS);Cloudflare                       822\n",
       "Digital Ocean                                              819\n",
       "VMware                                                     798\n",
       "Amazon Web Services (AWS);Google Cloud;Microsoft Azure     795\n",
       "Name: count, dtype: int64"
      ]
     },
     "execution_count": 112,
     "metadata": {},
     "output_type": "execute_result"
    }
   ],
   "source": [
    "df2023['PlatformHaveWorkedWith'].value_counts().nlargest(10)"
   ]
  },
  {
   "cell_type": "code",
   "execution_count": 113,
   "id": "1b60f4bb",
   "metadata": {},
   "outputs": [],
   "source": [
    "df2023['PlatformHaveWorkedWith']=df2023['PlatformHaveWorkedWith'].bfill().ffill()"
   ]
  },
  {
   "cell_type": "code",
   "execution_count": 114,
   "id": "f2cfe5d9",
   "metadata": {},
   "outputs": [
    {
     "data": {
      "text/plain": [
       "PlatformHaveWorkedWith\n",
       "Amazon Web Services (AWS)                                 13558\n",
       "Microsoft Azure                                            8296\n",
       "Google Cloud                                               3430\n",
       "Amazon Web Services (AWS);Microsoft Azure                  3100\n",
       "Amazon Web Services (AWS);Google Cloud                     2608\n",
       "Firebase                                                   1974\n",
       "Amazon Web Services (AWS);Cloudflare                       1155\n",
       "Digital Ocean                                              1140\n",
       "VMware                                                     1107\n",
       "Amazon Web Services (AWS);Google Cloud;Microsoft Azure     1094\n",
       "Name: count, dtype: int64"
      ]
     },
     "execution_count": 114,
     "metadata": {},
     "output_type": "execute_result"
    }
   ],
   "source": [
    "df2023['PlatformHaveWorkedWith'].value_counts().nlargest(10)"
   ]
  },
  {
   "cell_type": "code",
   "execution_count": 115,
   "id": "62d06662",
   "metadata": {},
   "outputs": [
    {
     "data": {
      "text/plain": [
       "0"
      ]
     },
     "execution_count": 115,
     "metadata": {},
     "output_type": "execute_result"
    }
   ],
   "source": [
    "df2023['PlatformHaveWorkedWith'].isnull().sum()"
   ]
  },
  {
   "cell_type": "markdown",
   "id": "27112b0d",
   "metadata": {},
   "source": [
    "## PlatformWantToWorkWith"
   ]
  },
  {
   "cell_type": "code",
   "execution_count": 116,
   "id": "f7884b35",
   "metadata": {},
   "outputs": [
    {
     "data": {
      "text/plain": [
       "37876"
      ]
     },
     "execution_count": 116,
     "metadata": {},
     "output_type": "execute_result"
    }
   ],
   "source": [
    "df2023['PlatformWantToWorkWith'].isnull().sum()"
   ]
  },
  {
   "cell_type": "code",
   "execution_count": 117,
   "id": "c3dbfc07",
   "metadata": {},
   "outputs": [
    {
     "data": {
      "text/plain": [
       "PlatformWantToWorkWith\n",
       "Amazon Web Services (AWS)                                 7269\n",
       "Microsoft Azure                                           4239\n",
       "Amazon Web Services (AWS);Microsoft Azure                 2023\n",
       "Google Cloud                                              1885\n",
       "Amazon Web Services (AWS);Google Cloud                    1695\n",
       "Amazon Web Services (AWS);Google Cloud;Microsoft Azure    1028\n",
       "Firebase                                                   883\n",
       "Vercel                                                     864\n",
       "Digital Ocean                                              863\n",
       "Amazon Web Services (AWS);Cloudflare                       793\n",
       "Name: count, dtype: int64"
      ]
     },
     "execution_count": 117,
     "metadata": {},
     "output_type": "execute_result"
    }
   ],
   "source": [
    "df2023['PlatformWantToWorkWith'].value_counts().nlargest(10)"
   ]
  },
  {
   "cell_type": "code",
   "execution_count": 118,
   "id": "15db0043",
   "metadata": {},
   "outputs": [],
   "source": [
    "df2023['PlatformWantToWorkWith']=df2023['PlatformWantToWorkWith'].bfill().ffill()"
   ]
  },
  {
   "cell_type": "code",
   "execution_count": 119,
   "id": "524aca9b",
   "metadata": {},
   "outputs": [
    {
     "data": {
      "text/plain": [
       "0"
      ]
     },
     "execution_count": 119,
     "metadata": {},
     "output_type": "execute_result"
    }
   ],
   "source": [
    "df2023['PlatformWantToWorkWith'].isnull().sum()"
   ]
  },
  {
   "cell_type": "markdown",
   "id": "7a1f48f5",
   "metadata": {},
   "source": [
    "## WebframeHaveWorkedWith"
   ]
  },
  {
   "cell_type": "code",
   "execution_count": 120,
   "id": "ea8f2235",
   "metadata": {},
   "outputs": [
    {
     "data": {
      "text/plain": [
       "22246"
      ]
     },
     "execution_count": 120,
     "metadata": {},
     "output_type": "execute_result"
    }
   ],
   "source": [
    "df2023['WebframeHaveWorkedWith'].isnull().sum()"
   ]
  },
  {
   "cell_type": "code",
   "execution_count": 121,
   "id": "181a7013",
   "metadata": {},
   "outputs": [
    {
     "data": {
      "text/plain": [
       "WebframeHaveWorkedWith\n",
       "React                    2017\n",
       "Spring Boot              1479\n",
       "Node.js                  1452\n",
       "Node.js;React            1161\n",
       "Flask                    1069\n",
       "WordPress                 972\n",
       "jQuery                    908\n",
       "Django                    862\n",
       "ASP.NET CORE              818\n",
       "Express;Node.js;React     807\n",
       "Name: count, dtype: int64"
      ]
     },
     "execution_count": 121,
     "metadata": {},
     "output_type": "execute_result"
    }
   ],
   "source": [
    "df2023['WebframeHaveWorkedWith'].value_counts().nlargest(10)"
   ]
  },
  {
   "cell_type": "code",
   "execution_count": 122,
   "id": "d1794e40",
   "metadata": {},
   "outputs": [],
   "source": [
    "df2023['WebframeHaveWorkedWith']=df2023['WebframeHaveWorkedWith'].bfill().ffill()"
   ]
  },
  {
   "cell_type": "code",
   "execution_count": 123,
   "id": "08cdcf17",
   "metadata": {},
   "outputs": [
    {
     "data": {
      "text/plain": [
       "0"
      ]
     },
     "execution_count": 123,
     "metadata": {},
     "output_type": "execute_result"
    }
   ],
   "source": [
    "df2023['WebframeHaveWorkedWith'].isnull().sum()"
   ]
  },
  {
   "cell_type": "markdown",
   "id": "19d1dac5",
   "metadata": {},
   "source": [
    "## WebframeWantToWorkWith"
   ]
  },
  {
   "cell_type": "code",
   "execution_count": 124,
   "id": "c03bb168",
   "metadata": {},
   "outputs": [
    {
     "data": {
      "text/plain": [
       "32443"
      ]
     },
     "execution_count": 124,
     "metadata": {},
     "output_type": "execute_result"
    }
   ],
   "source": [
    "df2023['WebframeWantToWorkWith'].isnull().sum()"
   ]
  },
  {
   "cell_type": "code",
   "execution_count": 125,
   "id": "bcbc374b",
   "metadata": {},
   "outputs": [
    {
     "data": {
      "text/plain": [
       "WebframeWantToWorkWith\n",
       "React                    1561\n",
       "Spring Boot              1200\n",
       "Node.js                   973\n",
       "ASP.NET CORE              841\n",
       "Svelte                    840\n",
       "Node.js;React             810\n",
       "ASP.NET CORE;Blazor       753\n",
       "Next.js;Node.js;React     711\n",
       "FastAPI                   703\n",
       "Angular                   594\n",
       "Name: count, dtype: int64"
      ]
     },
     "execution_count": 125,
     "metadata": {},
     "output_type": "execute_result"
    }
   ],
   "source": [
    "df2023['WebframeWantToWorkWith'].value_counts().nlargest(10)"
   ]
  },
  {
   "cell_type": "code",
   "execution_count": 126,
   "id": "30137d25",
   "metadata": {},
   "outputs": [],
   "source": [
    "df2023['WebframeWantToWorkWith']=df2023['WebframeWantToWorkWith'].bfill().ffill()"
   ]
  },
  {
   "cell_type": "code",
   "execution_count": 127,
   "id": "01c4ffd9",
   "metadata": {},
   "outputs": [
    {
     "data": {
      "text/plain": [
       "0"
      ]
     },
     "execution_count": 127,
     "metadata": {},
     "output_type": "execute_result"
    }
   ],
   "source": [
    "df2023['WebframeWantToWorkWith'].isnull().sum()"
   ]
  },
  {
   "cell_type": "markdown",
   "id": "931e3186",
   "metadata": {},
   "source": [
    "## ProfessionalTech"
   ]
  },
  {
   "cell_type": "code",
   "execution_count": 128,
   "id": "2ff6bc8a",
   "metadata": {},
   "outputs": [
    {
     "data": {
      "text/plain": [
       "47401"
      ]
     },
     "execution_count": 128,
     "metadata": {},
     "output_type": "execute_result"
    }
   ],
   "source": [
    "df2023['ProfessionalTech'].isnull().sum()"
   ]
  },
  {
   "cell_type": "code",
   "execution_count": 129,
   "id": "a6c76e8b",
   "metadata": {},
   "outputs": [
    {
     "data": {
      "text/plain": [
       "ProfessionalTech\n",
       "None of these                                                                                                                                                                                                                                                 4871\n",
       "DevOps function;Microservices;Automated testing;Observability tools;Developer portal or other central places to find tools/services;Continuous integration (CI) and (more often) continuous delivery                                                          2618\n",
       "DevOps function;Microservices;Automated testing;Observability tools;Continuous integration (CI) and (more often) continuous delivery                                                                                                                          2271\n",
       "DevOps function;Microservices;Automated testing;Continuous integration (CI) and (more often) continuous delivery                                                                                                                                              1656\n",
       "DevOps function;Automated testing;Continuous integration (CI) and (more often) continuous delivery                                                                                                                                                            1524\n",
       "Automated testing;Continuous integration (CI) and (more often) continuous delivery                                                                                                                                                                            1351\n",
       "DevOps function;Microservices;Automated testing;Observability tools;Innersource initiative;Developer portal or other central places to find tools/services;Continuous integration (CI) and (more often) continuous delivery;AI-assisted technology tool(s)    1127\n",
       "DevOps function;Microservices;Automated testing;Developer portal or other central places to find tools/services;Continuous integration (CI) and (more often) continuous delivery                                                                              1066\n",
       "DevOps function;Microservices;Automated testing;Observability tools;Innersource initiative;Developer portal or other central places to find tools/services;Continuous integration (CI) and (more often) continuous delivery                                   1052\n",
       "Continuous integration (CI) and (more often) continuous delivery                                                                                                                                                                                               936\n",
       "Name: count, dtype: int64"
      ]
     },
     "execution_count": 129,
     "metadata": {},
     "output_type": "execute_result"
    }
   ],
   "source": [
    "df2023['ProfessionalTech'].value_counts().nlargest(10)"
   ]
  },
  {
   "cell_type": "code",
   "execution_count": 130,
   "id": "adc81183",
   "metadata": {},
   "outputs": [
    {
     "name": "stderr",
     "output_type": "stream",
     "text": [
      "C:\\Users\\Dell\\AppData\\Local\\Temp\\ipykernel_19216\\3503850458.py:8: UserWarning: This pattern is interpreted as a regular expression, and has match groups. To actually get the groups, use str.extract.\n",
      "  (df['ProfessionalTech'].str.contains('AI-assisted technology tool(s)', na=False))]\n"
     ]
    }
   ],
   "source": [
    "def refactor_professional_tech(df):\n",
    "    conditions_prof_tech = [(df['ProfessionalTech'].str.contains('Microservices', na=False)),\n",
    "                            (df['ProfessionalTech'].str.contains('Developer portal|central places to find tools/services', na=False)),\n",
    "                            (df['ProfessionalTech'].str.contains('Continuous integration|continuous delivery', na=False)),\n",
    "                            (df['ProfessionalTech'].str.contains('DevOps function', na=False)),\n",
    "                            (df['ProfessionalTech'].str.contains('Automated testing', na=False)),\n",
    "                            (df['ProfessionalTech'].str.contains('Observability tools', na=False)),\n",
    "                            (df['ProfessionalTech'].str.contains('AI-assisted technology tool(s)', na=False))]\n",
    "    \n",
    "    choices_prof_tech = ['Microservices', 'Developer Tools', 'Continuous Integration/Delivery', 'DevOps',\n",
    "                         'Automated Testing', 'Observability', 'AI-assisted Tools']\n",
    "    \n",
    "    df['ProfessionalTech'] = np.select(conditions_prof_tech, choices_prof_tech, default='Other')\n",
    "    return df\n",
    "\n",
    "df2023 = refactor_professional_tech(df2023)\n"
   ]
  },
  {
   "cell_type": "code",
   "execution_count": 131,
   "id": "0d4729ae",
   "metadata": {},
   "outputs": [
    {
     "data": {
      "text/plain": [
       "ProfessionalTech\n",
       "Other                              52802\n",
       "Microservices                      20526\n",
       "Continuous Integration/Delivery     8016\n",
       "Developer Tools                     5636\n",
       "DevOps                              1383\n",
       "Automated Testing                    624\n",
       "Observability                        197\n",
       "Name: count, dtype: int64"
      ]
     },
     "execution_count": 131,
     "metadata": {},
     "output_type": "execute_result"
    }
   ],
   "source": [
    "df2023['ProfessionalTech'].value_counts().nlargest(10)"
   ]
  },
  {
   "cell_type": "code",
   "execution_count": 132,
   "id": "d5df998f",
   "metadata": {},
   "outputs": [],
   "source": [
    "df2023['ProfessionalTech']=df2023['ProfessionalTech'].bfill().ffill()"
   ]
  },
  {
   "cell_type": "code",
   "execution_count": 133,
   "id": "0f6d860c",
   "metadata": {},
   "outputs": [
    {
     "data": {
      "text/plain": [
       "0"
      ]
     },
     "execution_count": 133,
     "metadata": {},
     "output_type": "execute_result"
    }
   ],
   "source": [
    "df2023['ProfessionalTech'].isnull().sum()"
   ]
  },
  {
   "cell_type": "markdown",
   "id": "70282682",
   "metadata": {},
   "source": [
    "## Industry"
   ]
  },
  {
   "cell_type": "code",
   "execution_count": 134,
   "id": "ebd89033",
   "metadata": {},
   "outputs": [
    {
     "data": {
      "text/plain": [
       "52410"
      ]
     },
     "execution_count": 134,
     "metadata": {},
     "output_type": "execute_result"
    }
   ],
   "source": [
    "df2023['Industry'].isnull().sum()"
   ]
  },
  {
   "cell_type": "code",
   "execution_count": 135,
   "id": "55816ef6",
   "metadata": {},
   "outputs": [
    {
     "data": {
      "text/plain": [
       "Industry\n",
       "Information Services, IT, Software Development, or other Technology    18159\n",
       "Financial Services                                                      4421\n",
       "Other                                                                   4011\n",
       "Manufacturing, Transportation, or Supply Chain                          2607\n",
       "Healthcare                                                              2216\n",
       "Retail and Consumer Services                                            1955\n",
       "Higher Education                                                        1242\n",
       "Advertising Services                                                     786\n",
       "Insurance                                                                707\n",
       "Oil & Gas                                                                276\n",
       "Name: count, dtype: int64"
      ]
     },
     "execution_count": 135,
     "metadata": {},
     "output_type": "execute_result"
    }
   ],
   "source": [
    "df2023['Industry'].value_counts().nlargest(10)"
   ]
  },
  {
   "cell_type": "code",
   "execution_count": 136,
   "id": "a1495a11",
   "metadata": {},
   "outputs": [],
   "source": [
    "df2023['Industry']=df2023['Industry'].bfill().ffill()"
   ]
  },
  {
   "cell_type": "code",
   "execution_count": 137,
   "id": "4c3fe1e6",
   "metadata": {},
   "outputs": [
    {
     "data": {
      "text/plain": [
       "0"
      ]
     },
     "execution_count": 137,
     "metadata": {},
     "output_type": "execute_result"
    }
   ],
   "source": [
    "df2023['Industry'].isnull().sum()"
   ]
  },
  {
   "cell_type": "markdown",
   "id": "85df60b2",
   "metadata": {},
   "source": [
    "## Cleaned_Dataset_2023"
   ]
  },
  {
   "cell_type": "code",
   "execution_count": 138,
   "id": "e0f2ff23",
   "metadata": {},
   "outputs": [
    {
     "name": "stdout",
     "output_type": "stream",
     "text": [
      "Profession                    0\n",
      "Age                           0\n",
      "Employment                    0\n",
      "RemoteWork                    0\n",
      "CodingActivities              0\n",
      "EdLevel                       0\n",
      "LearnCode                     0\n",
      "LearnCodeOnline               0\n",
      "LearnCodeCoursesCert          0\n",
      "YearsCode                     0\n",
      "YearsCodePro                  0\n",
      "DevType                       0\n",
      "TechList                      0\n",
      "Country                       0\n",
      "LanguageHaveWorkedWith        0\n",
      "LanguageWantToWorkWith        0\n",
      "DatabaseHaveWorkedWith        0\n",
      "DatabaseWantToWorkWith        0\n",
      "PlatformHaveWorkedWith        0\n",
      "PlatformWantToWorkWith        0\n",
      "WebframeHaveWorkedWith        0\n",
      "WebframeWantToWorkWith        0\n",
      "ProfessionalTech              0\n",
      "Industry                      0\n",
      "SalaryUSD                 41165\n",
      "dtype: int64\n"
     ]
    }
   ],
   "source": [
    "print(df2023.isnull().sum())"
   ]
  },
  {
   "cell_type": "code",
   "execution_count": 139,
   "id": "73260943",
   "metadata": {},
   "outputs": [],
   "source": [
    "#resetting the index values\n",
    "df2020 = df2023.reset_index(drop=True)"
   ]
  },
  {
   "cell_type": "code",
   "execution_count": 140,
   "id": "3278813c",
   "metadata": {},
   "outputs": [
    {
     "data": {
      "text/html": [
       "<div>\n",
       "<style scoped>\n",
       "    .dataframe tbody tr th:only-of-type {\n",
       "        vertical-align: middle;\n",
       "    }\n",
       "\n",
       "    .dataframe tbody tr th {\n",
       "        vertical-align: top;\n",
       "    }\n",
       "\n",
       "    .dataframe thead th {\n",
       "        text-align: right;\n",
       "    }\n",
       "</style>\n",
       "<table border=\"1\" class=\"dataframe\">\n",
       "  <thead>\n",
       "    <tr style=\"text-align: right;\">\n",
       "      <th></th>\n",
       "      <th>Profession</th>\n",
       "      <th>Age</th>\n",
       "      <th>Employment</th>\n",
       "      <th>RemoteWork</th>\n",
       "      <th>CodingActivities</th>\n",
       "      <th>EdLevel</th>\n",
       "      <th>LearnCode</th>\n",
       "      <th>LearnCodeOnline</th>\n",
       "      <th>LearnCodeCoursesCert</th>\n",
       "      <th>YearsCode</th>\n",
       "      <th>...</th>\n",
       "      <th>LanguageWantToWorkWith</th>\n",
       "      <th>DatabaseHaveWorkedWith</th>\n",
       "      <th>DatabaseWantToWorkWith</th>\n",
       "      <th>PlatformHaveWorkedWith</th>\n",
       "      <th>PlatformWantToWorkWith</th>\n",
       "      <th>WebframeHaveWorkedWith</th>\n",
       "      <th>WebframeWantToWorkWith</th>\n",
       "      <th>ProfessionalTech</th>\n",
       "      <th>Industry</th>\n",
       "      <th>SalaryUSD</th>\n",
       "    </tr>\n",
       "  </thead>\n",
       "  <tbody>\n",
       "    <tr>\n",
       "      <th>0</th>\n",
       "      <td>nan</td>\n",
       "      <td>18-24 years old</td>\n",
       "      <td>Other</td>\n",
       "      <td>Remote</td>\n",
       "      <td>Hobby;Contribute to open-source projects;Boots...</td>\n",
       "      <td>Bachelors</td>\n",
       "      <td>Other</td>\n",
       "      <td>Other</td>\n",
       "      <td>Other</td>\n",
       "      <td>18</td>\n",
       "      <td>...</td>\n",
       "      <td>Bash/Shell (all shells);C#;Dart;Elixir;GDScrip...</td>\n",
       "      <td>Supabase</td>\n",
       "      <td>Firebase Realtime Database;Supabase</td>\n",
       "      <td>Amazon Web Services (AWS);Netlify;Vercel</td>\n",
       "      <td>Fly.io;Netlify;Render</td>\n",
       "      <td>Next.js;React;Remix;Vue.js</td>\n",
       "      <td>Deno;Elm;Nuxt.js;React;Svelte;Vue.js</td>\n",
       "      <td>Other</td>\n",
       "      <td>Information Services, IT, Software Development...</td>\n",
       "      <td>NaN</td>\n",
       "    </tr>\n",
       "    <tr>\n",
       "      <th>1</th>\n",
       "      <td>Developer</td>\n",
       "      <td>25-34 years old</td>\n",
       "      <td>Full-time</td>\n",
       "      <td>Remote</td>\n",
       "      <td>Hobby;Contribute to open-source projects;Boots...</td>\n",
       "      <td>Bachelors</td>\n",
       "      <td>OnlineCourses/Certification</td>\n",
       "      <td>OnlineCourses/Certification</td>\n",
       "      <td>Other</td>\n",
       "      <td>18</td>\n",
       "      <td>...</td>\n",
       "      <td>Bash/Shell (all shells);C#;Dart;Elixir;GDScrip...</td>\n",
       "      <td>Supabase</td>\n",
       "      <td>Firebase Realtime Database;Supabase</td>\n",
       "      <td>Amazon Web Services (AWS);Netlify;Vercel</td>\n",
       "      <td>Fly.io;Netlify;Render</td>\n",
       "      <td>Next.js;React;Remix;Vue.js</td>\n",
       "      <td>Deno;Elm;Nuxt.js;React;Svelte;Vue.js</td>\n",
       "      <td>Microservices</td>\n",
       "      <td>Information Services, IT, Software Development...</td>\n",
       "      <td>285000.0</td>\n",
       "    </tr>\n",
       "    <tr>\n",
       "      <th>2</th>\n",
       "      <td>Developer</td>\n",
       "      <td>45-54 years old</td>\n",
       "      <td>Full-time</td>\n",
       "      <td>Hybrid (some remote, some in-person)</td>\n",
       "      <td>Hobby;Professional development or self-paced l...</td>\n",
       "      <td>Bachelors</td>\n",
       "      <td>Books/Physicalmedia</td>\n",
       "      <td>Other</td>\n",
       "      <td>Other;Codecademy;edX</td>\n",
       "      <td>27</td>\n",
       "      <td>...</td>\n",
       "      <td>Haskell;OCaml;Rust</td>\n",
       "      <td>PostgreSQL;Redis</td>\n",
       "      <td>PostgreSQL;Redis</td>\n",
       "      <td>Amazon Web Services (AWS);Google Cloud;OpenSta...</td>\n",
       "      <td>Cloudflare;Heroku</td>\n",
       "      <td>Node.js;React;Ruby on Rails;Vue.js;WordPress</td>\n",
       "      <td>Node.js;Ruby on Rails;Vue.js</td>\n",
       "      <td>Microservices</td>\n",
       "      <td>Information Services, IT, Software Development...</td>\n",
       "      <td>250000.0</td>\n",
       "    </tr>\n",
       "    <tr>\n",
       "      <th>3</th>\n",
       "      <td>Developer</td>\n",
       "      <td>25-34 years old</td>\n",
       "      <td>Full-time</td>\n",
       "      <td>Hybrid (some remote, some in-person)</td>\n",
       "      <td>Hobby</td>\n",
       "      <td>Bachelors</td>\n",
       "      <td>School</td>\n",
       "      <td>Other</td>\n",
       "      <td>Other;Codecademy;edX</td>\n",
       "      <td>12</td>\n",
       "      <td>...</td>\n",
       "      <td>Bash/Shell (all shells);HTML/CSS;JavaScript;Ru...</td>\n",
       "      <td>PostgreSQL;Redis</td>\n",
       "      <td>PostgreSQL;Redis</td>\n",
       "      <td>Cloudflare;Heroku</td>\n",
       "      <td>Cloudflare;Heroku</td>\n",
       "      <td>Node.js;React;Ruby on Rails;Vue.js;WordPress</td>\n",
       "      <td>Node.js;Ruby on Rails;Vue.js</td>\n",
       "      <td>Continuous Integration/Delivery</td>\n",
       "      <td>Other</td>\n",
       "      <td>156000.0</td>\n",
       "    </tr>\n",
       "    <tr>\n",
       "      <th>4</th>\n",
       "      <td>Developer</td>\n",
       "      <td>25-34 years old</td>\n",
       "      <td>Full-time</td>\n",
       "      <td>Remote</td>\n",
       "      <td>Hobby;Contribute to open-source projects;Profe...</td>\n",
       "      <td>Bachelors</td>\n",
       "      <td>OnlineCourses/Certification</td>\n",
       "      <td>OnlineCourses/Certification</td>\n",
       "      <td>Other;Codecademy;edX</td>\n",
       "      <td>6</td>\n",
       "      <td>...</td>\n",
       "      <td>HTML/CSS;JavaScript;Python;Rust;TypeScript</td>\n",
       "      <td>BigQuery;Elasticsearch;MongoDB;PostgreSQL</td>\n",
       "      <td>Elasticsearch;MongoDB;PostgreSQL;Redis;Supabase</td>\n",
       "      <td>Amazon Web Services (AWS);Firebase;Heroku;Netl...</td>\n",
       "      <td>Amazon Web Services (AWS);Cloudflare;Digital O...</td>\n",
       "      <td>Express;Gatsby;NestJS;Next.js;Node.js;React</td>\n",
       "      <td>Express;NestJS;Next.js;Node.js;React;Remix;Vue.js</td>\n",
       "      <td>Microservices</td>\n",
       "      <td>Other</td>\n",
       "      <td>23456.0</td>\n",
       "    </tr>\n",
       "  </tbody>\n",
       "</table>\n",
       "<p>5 rows × 25 columns</p>\n",
       "</div>"
      ],
      "text/plain": [
       "  Profession              Age Employment  \\\n",
       "0        nan  18-24 years old      Other   \n",
       "1  Developer  25-34 years old  Full-time   \n",
       "2  Developer  45-54 years old  Full-time   \n",
       "3  Developer  25-34 years old  Full-time   \n",
       "4  Developer  25-34 years old  Full-time   \n",
       "\n",
       "                             RemoteWork  \\\n",
       "0                                Remote   \n",
       "1                                Remote   \n",
       "2  Hybrid (some remote, some in-person)   \n",
       "3  Hybrid (some remote, some in-person)   \n",
       "4                                Remote   \n",
       "\n",
       "                                    CodingActivities    EdLevel  \\\n",
       "0  Hobby;Contribute to open-source projects;Boots...  Bachelors   \n",
       "1  Hobby;Contribute to open-source projects;Boots...  Bachelors   \n",
       "2  Hobby;Professional development or self-paced l...  Bachelors   \n",
       "3                                              Hobby  Bachelors   \n",
       "4  Hobby;Contribute to open-source projects;Profe...  Bachelors   \n",
       "\n",
       "                     LearnCode              LearnCodeOnline  \\\n",
       "0                        Other                        Other   \n",
       "1  OnlineCourses/Certification  OnlineCourses/Certification   \n",
       "2          Books/Physicalmedia                        Other   \n",
       "3                       School                        Other   \n",
       "4  OnlineCourses/Certification  OnlineCourses/Certification   \n",
       "\n",
       "   LearnCodeCoursesCert YearsCode  ...  \\\n",
       "0                 Other        18  ...   \n",
       "1                 Other        18  ...   \n",
       "2  Other;Codecademy;edX        27  ...   \n",
       "3  Other;Codecademy;edX        12  ...   \n",
       "4  Other;Codecademy;edX         6  ...   \n",
       "\n",
       "                              LanguageWantToWorkWith  \\\n",
       "0  Bash/Shell (all shells);C#;Dart;Elixir;GDScrip...   \n",
       "1  Bash/Shell (all shells);C#;Dart;Elixir;GDScrip...   \n",
       "2                                 Haskell;OCaml;Rust   \n",
       "3  Bash/Shell (all shells);HTML/CSS;JavaScript;Ru...   \n",
       "4         HTML/CSS;JavaScript;Python;Rust;TypeScript   \n",
       "\n",
       "                      DatabaseHaveWorkedWith  \\\n",
       "0                                   Supabase   \n",
       "1                                   Supabase   \n",
       "2                           PostgreSQL;Redis   \n",
       "3                           PostgreSQL;Redis   \n",
       "4  BigQuery;Elasticsearch;MongoDB;PostgreSQL   \n",
       "\n",
       "                            DatabaseWantToWorkWith  \\\n",
       "0              Firebase Realtime Database;Supabase   \n",
       "1              Firebase Realtime Database;Supabase   \n",
       "2                                 PostgreSQL;Redis   \n",
       "3                                 PostgreSQL;Redis   \n",
       "4  Elasticsearch;MongoDB;PostgreSQL;Redis;Supabase   \n",
       "\n",
       "                              PlatformHaveWorkedWith  \\\n",
       "0           Amazon Web Services (AWS);Netlify;Vercel   \n",
       "1           Amazon Web Services (AWS);Netlify;Vercel   \n",
       "2  Amazon Web Services (AWS);Google Cloud;OpenSta...   \n",
       "3                                  Cloudflare;Heroku   \n",
       "4  Amazon Web Services (AWS);Firebase;Heroku;Netl...   \n",
       "\n",
       "                              PlatformWantToWorkWith  \\\n",
       "0                              Fly.io;Netlify;Render   \n",
       "1                              Fly.io;Netlify;Render   \n",
       "2                                  Cloudflare;Heroku   \n",
       "3                                  Cloudflare;Heroku   \n",
       "4  Amazon Web Services (AWS);Cloudflare;Digital O...   \n",
       "\n",
       "                         WebframeHaveWorkedWith  \\\n",
       "0                    Next.js;React;Remix;Vue.js   \n",
       "1                    Next.js;React;Remix;Vue.js   \n",
       "2  Node.js;React;Ruby on Rails;Vue.js;WordPress   \n",
       "3  Node.js;React;Ruby on Rails;Vue.js;WordPress   \n",
       "4   Express;Gatsby;NestJS;Next.js;Node.js;React   \n",
       "\n",
       "                              WebframeWantToWorkWith  \\\n",
       "0               Deno;Elm;Nuxt.js;React;Svelte;Vue.js   \n",
       "1               Deno;Elm;Nuxt.js;React;Svelte;Vue.js   \n",
       "2                       Node.js;Ruby on Rails;Vue.js   \n",
       "3                       Node.js;Ruby on Rails;Vue.js   \n",
       "4  Express;NestJS;Next.js;Node.js;React;Remix;Vue.js   \n",
       "\n",
       "                  ProfessionalTech  \\\n",
       "0                            Other   \n",
       "1                    Microservices   \n",
       "2                    Microservices   \n",
       "3  Continuous Integration/Delivery   \n",
       "4                    Microservices   \n",
       "\n",
       "                                            Industry SalaryUSD  \n",
       "0  Information Services, IT, Software Development...       NaN  \n",
       "1  Information Services, IT, Software Development...  285000.0  \n",
       "2  Information Services, IT, Software Development...  250000.0  \n",
       "3                                              Other  156000.0  \n",
       "4                                              Other   23456.0  \n",
       "\n",
       "[5 rows x 25 columns]"
      ]
     },
     "execution_count": 140,
     "metadata": {},
     "output_type": "execute_result"
    }
   ],
   "source": [
    "df2023.head(5)"
   ]
  },
  {
   "cell_type": "code",
   "execution_count": 141,
   "id": "ff79408b",
   "metadata": {},
   "outputs": [
    {
     "name": "stdout",
     "output_type": "stream",
     "text": [
      "<class 'pandas.core.frame.DataFrame'>\n",
      "RangeIndex: 89184 entries, 0 to 89183\n",
      "Data columns (total 25 columns):\n",
      " #   Column                  Non-Null Count  Dtype  \n",
      "---  ------                  --------------  -----  \n",
      " 0   Profession              89184 non-null  object \n",
      " 1   Age                     89184 non-null  object \n",
      " 2   Employment              89184 non-null  object \n",
      " 3   RemoteWork              89184 non-null  object \n",
      " 4   CodingActivities        89184 non-null  object \n",
      " 5   EdLevel                 89184 non-null  object \n",
      " 6   LearnCode               89184 non-null  object \n",
      " 7   LearnCodeOnline         89184 non-null  object \n",
      " 8   LearnCodeCoursesCert    89184 non-null  object \n",
      " 9   YearsCode               89184 non-null  object \n",
      " 10  YearsCodePro            89184 non-null  object \n",
      " 11  DevType                 89184 non-null  object \n",
      " 12  TechList                89184 non-null  object \n",
      " 13  Country                 89184 non-null  object \n",
      " 14  LanguageHaveWorkedWith  89184 non-null  object \n",
      " 15  LanguageWantToWorkWith  89184 non-null  object \n",
      " 16  DatabaseHaveWorkedWith  89184 non-null  object \n",
      " 17  DatabaseWantToWorkWith  89184 non-null  object \n",
      " 18  PlatformHaveWorkedWith  89184 non-null  object \n",
      " 19  PlatformWantToWorkWith  89184 non-null  object \n",
      " 20  WebframeHaveWorkedWith  89184 non-null  object \n",
      " 21  WebframeWantToWorkWith  89184 non-null  object \n",
      " 22  ProfessionalTech        89184 non-null  object \n",
      " 23  Industry                89184 non-null  object \n",
      " 24  SalaryUSD               48019 non-null  float64\n",
      "dtypes: float64(1), object(24)\n",
      "memory usage: 17.0+ MB\n"
     ]
    }
   ],
   "source": [
    "df2023.info()"
   ]
  },
  {
   "cell_type": "markdown",
   "id": "9f668c77",
   "metadata": {},
   "source": [
    "## After Cleaning Dataset 2023"
   ]
  },
  {
   "cell_type": "code",
   "execution_count": 142,
   "id": "41a5c8c4",
   "metadata": {},
   "outputs": [
    {
     "name": "stdout",
     "output_type": "stream",
     "text": [
      "Total :  2229600\n",
      "Total missing :  41165\n",
      "Missing Percentage:  1.8462952996053104 %\n"
     ]
    }
   ],
   "source": [
    "#Find % of missing data\n",
    "missing_count = df2023.isnull().sum() #number of missing\n",
    "total_cells = np.product(df2023.shape) # number of cells (cols x rows)\n",
    "total_missing = missing_count.sum()\n",
    "missing_percent = (total_missing*100)/total_cells\n",
    "\n",
    "print('Total : ', total_cells)\n",
    "print('Total missing : ', total_missing)\n",
    "print('Missing Percentage: ', missing_percent, '%')"
   ]
  },
  {
   "cell_type": "code",
   "execution_count": 143,
   "id": "1b36771e",
   "metadata": {},
   "outputs": [
    {
     "name": "stdout",
     "output_type": "stream",
     "text": [
      "Stored 'df2023' (DataFrame)\n"
     ]
    }
   ],
   "source": [
    "%store df2023"
   ]
  }
 ],
 "metadata": {
  "kernelspec": {
   "display_name": "Python 3 (ipykernel)",
   "language": "python",
   "name": "python3"
  },
  "language_info": {
   "codemirror_mode": {
    "name": "ipython",
    "version": 3
   },
   "file_extension": ".py",
   "mimetype": "text/x-python",
   "name": "python",
   "nbconvert_exporter": "python",
   "pygments_lexer": "ipython3",
   "version": "3.12.2"
  }
 },
 "nbformat": 4,
 "nbformat_minor": 5
}
