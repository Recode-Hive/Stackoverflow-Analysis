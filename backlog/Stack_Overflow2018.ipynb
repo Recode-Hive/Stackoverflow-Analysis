{
  "nbformat": 4,
  "nbformat_minor": 0,
  "metadata": {
    "colab": {
      "provenance": []
    },
    "kernelspec": {
      "name": "python3",
      "display_name": "Python 3"
    },
    "language_info": {
      "name": "python"
    }
  },
  "cells": [
    {
      "cell_type": "markdown",
      "source": [
        "# EDA ON STACK OVERFLOW 2018 DATA"
      ],
      "metadata": {
        "id": "I0-wmKWr9L2v"
      }
    },
    {
      "cell_type": "markdown",
      "source": [
        "**DATA LOADING**"
      ],
      "metadata": {
        "id": "g4EeBybM95Zo"
      }
    },
    {
      "cell_type": "markdown",
      "source": [
        "*Importing modules*"
      ],
      "metadata": {
        "id": "q4uFubUDAPQN"
      }
    },
    {
      "cell_type": "code",
      "source": [
        "import numpy as np\n",
        "import pandas as pd\n",
        "import matplotlib.pyplot as plt\n",
        "import seaborn as sns"
      ],
      "metadata": {
        "id": "PofFmURLASrI"
      },
      "execution_count": 2,
      "outputs": []
    },
    {
      "cell_type": "markdown",
      "source": [
        "*Loading 2018 stackoverflow data*"
      ],
      "metadata": {
        "id": "6nuRfrESAoQC"
      }
    },
    {
      "cell_type": "code",
      "source": [
        "df=pd.read_csv(\"/content/survey_results_sample_2018.csv\")"
      ],
      "metadata": {
        "id": "YreYMLwKAW3p"
      },
      "execution_count": 3,
      "outputs": []
    },
    {
      "cell_type": "markdown",
      "source": [
        "*Initial exploration*"
      ],
      "metadata": {
        "id": "Rm63VMBVA2rm"
      }
    },
    {
      "cell_type": "code",
      "source": [
        "#First few rows of the data\n",
        "df.head(10)"
      ],
      "metadata": {
        "colab": {
          "base_uri": "https://localhost:8080/",
          "height": 1000
        },
        "id": "NeeuOsj4AzIs",
        "outputId": "2a7a3c35-52c4-4540-c663-ed4aa65d99b8"
      },
      "execution_count": 4,
      "outputs": [
        {
          "output_type": "execute_result",
          "data": {
            "text/plain": [
              "   Respondent Hobby OpenSource         Country         Student  \\\n",
              "0           1   Yes         No           Kenya              No   \n",
              "1           3   Yes        Yes  United Kingdom              No   \n",
              "2           4   Yes        Yes   United States              No   \n",
              "3           5    No         No   United States              No   \n",
              "4           7   Yes         No    South Africa  Yes, part-time   \n",
              "5           8   Yes         No  United Kingdom              No   \n",
              "6           9   Yes        Yes   United States              No   \n",
              "7          10   Yes        Yes         Nigeria              No   \n",
              "8          11   Yes        Yes   United States              No   \n",
              "9          16    No        Yes           India              No   \n",
              "\n",
              "           Employment                                    FormalEducation  \\\n",
              "0  Employed part-time         Bachelor‚Äôs degree (BA, BS, B.Eng., etc.)   \n",
              "1  Employed full-time         Bachelor‚Äôs degree (BA, BS, B.Eng., etc.)   \n",
              "2  Employed full-time                                   Associate degree   \n",
              "3  Employed full-time         Bachelor‚Äôs degree (BA, BS, B.Eng., etc.)   \n",
              "4  Employed full-time  Some college/university study without earning ...   \n",
              "5  Employed full-time         Bachelor‚Äôs degree (BA, BS, B.Eng., etc.)   \n",
              "6  Employed full-time  Some college/university study without earning ...   \n",
              "7  Employed full-time         Bachelor‚Äôs degree (BA, BS, B.Eng., etc.)   \n",
              "8  Employed full-time  Some college/university study without earning ...   \n",
              "9  Employed full-time         Bachelor‚Äôs degree (BA, BS, B.Eng., etc.)   \n",
              "\n",
              "                                      UndergradMajor  \\\n",
              "0                          Mathematics or statistics   \n",
              "1  A natural science (ex. biology, chemistry, phy...   \n",
              "2  Computer science, computer engineering, or sof...   \n",
              "3  Computer science, computer engineering, or sof...   \n",
              "4  Computer science, computer engineering, or sof...   \n",
              "5  Computer science, computer engineering, or sof...   \n",
              "6  Computer science, computer engineering, or sof...   \n",
              "7  Computer science, computer engineering, or sof...   \n",
              "8  Fine arts or performing arts (ex. graphic desi...   \n",
              "9  Computer science, computer engineering, or sof...   \n",
              "\n",
              "                CompanySize  \\\n",
              "0        20 to 99 employees   \n",
              "1  10,000 or more employees   \n",
              "2        20 to 99 employees   \n",
              "3      100 to 499 employees   \n",
              "4  10,000 or more employees   \n",
              "5        10 to 19 employees   \n",
              "6  10,000 or more employees   \n",
              "7        10 to 19 employees   \n",
              "8      100 to 499 employees   \n",
              "9      500 to 999 employees   \n",
              "\n",
              "                                             DevType  ...  \\\n",
              "0                               Full-stack developer  ...   \n",
              "1  Database administrator;DevOps specialist;Full-...  ...   \n",
              "2           Engineering manager;Full-stack developer  ...   \n",
              "3                               Full-stack developer  ...   \n",
              "4  Data or business analyst;Desktop or enterprise...  ...   \n",
              "5  Back-end developer;Database administrator;Fron...  ...   \n",
              "6  Back-end developer;Front-end developer;Full-st...  ...   \n",
              "7  Designer;Front-end developer;QA or test developer  ...   \n",
              "8  Back-end developer;C-suite executive (CEO, CTO...  ...   \n",
              "9                                           Designer  ...   \n",
              "\n",
              "                     Exercise  Gender         SexualOrientation  \\\n",
              "0        3 - 4 times per week    Male  Straight or heterosexual   \n",
              "1   Daily or almost every day    Male  Straight or heterosexual   \n",
              "2                         NaN     NaN                       NaN   \n",
              "3  I don't typically exercise    Male  Straight or heterosexual   \n",
              "4        3 - 4 times per week    Male  Straight or heterosexual   \n",
              "5        1 - 2 times per week    Male  Straight or heterosexual   \n",
              "6  I don't typically exercise    Male  Straight or heterosexual   \n",
              "7        1 - 2 times per week  Female                       NaN   \n",
              "8  I don't typically exercise    Male  Straight or heterosexual   \n",
              "9                         NaN     NaN                       NaN   \n",
              "\n",
              "                                    EducationParents  \\\n",
              "0         Bachelor‚Äôs degree (BA, BS, B.Eng., etc.)   \n",
              "1         Bachelor‚Äôs degree (BA, BS, B.Eng., etc.)   \n",
              "2                                                NaN   \n",
              "3  Some college/university study without earning ...   \n",
              "4  Some college/university study without earning ...   \n",
              "5  Secondary school (e.g. American high school, G...   \n",
              "6      Master‚Äôs degree (MA, MS, M.Eng., MBA, etc.)   \n",
              "7                          Primary/elementary school   \n",
              "8  Some college/university study without earning ...   \n",
              "9                                                NaN   \n",
              "\n",
              "                  RaceEthnicity                Age Dependents  MilitaryUS  \\\n",
              "0   Black or of African descent  25 - 34 years old        Yes         NaN   \n",
              "1  White or of European descent  35 - 44 years old        Yes         NaN   \n",
              "2                           NaN                NaN        NaN         NaN   \n",
              "3  White or of European descent  35 - 44 years old         No          No   \n",
              "4  White or of European descent  18 - 24 years old        Yes         NaN   \n",
              "5  White or of European descent  18 - 24 years old         No         NaN   \n",
              "6  White or of European descent  18 - 24 years old         No          No   \n",
              "7   Black or of African descent  25 - 34 years old         No         NaN   \n",
              "8  White or of European descent  35 - 44 years old        Yes          No   \n",
              "9                           NaN                NaN        NaN         NaN   \n",
              "\n",
              "                          SurveyTooLong          SurveyEasy  \n",
              "0  The survey was an appropriate length           Very easy  \n",
              "1  The survey was an appropriate length       Somewhat easy  \n",
              "2                                   NaN                 NaN  \n",
              "3  The survey was an appropriate length       Somewhat easy  \n",
              "4  The survey was an appropriate length       Somewhat easy  \n",
              "5  The survey was an appropriate length       Somewhat easy  \n",
              "6  The survey was an appropriate length       Somewhat easy  \n",
              "7               The survey was too long  Somewhat difficult  \n",
              "8  The survey was an appropriate length           Very easy  \n",
              "9                                   NaN                 NaN  \n",
              "\n",
              "[10 rows x 129 columns]"
            ],
            "text/html": [
              "\n",
              "  <div id=\"df-6b6b7fbd-fc96-4f60-bc36-f5a95879ae72\" class=\"colab-df-container\">\n",
              "    <div>\n",
              "<style scoped>\n",
              "    .dataframe tbody tr th:only-of-type {\n",
              "        vertical-align: middle;\n",
              "    }\n",
              "\n",
              "    .dataframe tbody tr th {\n",
              "        vertical-align: top;\n",
              "    }\n",
              "\n",
              "    .dataframe thead th {\n",
              "        text-align: right;\n",
              "    }\n",
              "</style>\n",
              "<table border=\"1\" class=\"dataframe\">\n",
              "  <thead>\n",
              "    <tr style=\"text-align: right;\">\n",
              "      <th></th>\n",
              "      <th>Respondent</th>\n",
              "      <th>Hobby</th>\n",
              "      <th>OpenSource</th>\n",
              "      <th>Country</th>\n",
              "      <th>Student</th>\n",
              "      <th>Employment</th>\n",
              "      <th>FormalEducation</th>\n",
              "      <th>UndergradMajor</th>\n",
              "      <th>CompanySize</th>\n",
              "      <th>DevType</th>\n",
              "      <th>...</th>\n",
              "      <th>Exercise</th>\n",
              "      <th>Gender</th>\n",
              "      <th>SexualOrientation</th>\n",
              "      <th>EducationParents</th>\n",
              "      <th>RaceEthnicity</th>\n",
              "      <th>Age</th>\n",
              "      <th>Dependents</th>\n",
              "      <th>MilitaryUS</th>\n",
              "      <th>SurveyTooLong</th>\n",
              "      <th>SurveyEasy</th>\n",
              "    </tr>\n",
              "  </thead>\n",
              "  <tbody>\n",
              "    <tr>\n",
              "      <th>0</th>\n",
              "      <td>1</td>\n",
              "      <td>Yes</td>\n",
              "      <td>No</td>\n",
              "      <td>Kenya</td>\n",
              "      <td>No</td>\n",
              "      <td>Employed part-time</td>\n",
              "      <td>Bachelor‚Äôs degree (BA, BS, B.Eng., etc.)</td>\n",
              "      <td>Mathematics or statistics</td>\n",
              "      <td>20 to 99 employees</td>\n",
              "      <td>Full-stack developer</td>\n",
              "      <td>...</td>\n",
              "      <td>3 - 4 times per week</td>\n",
              "      <td>Male</td>\n",
              "      <td>Straight or heterosexual</td>\n",
              "      <td>Bachelor‚Äôs degree (BA, BS, B.Eng., etc.)</td>\n",
              "      <td>Black or of African descent</td>\n",
              "      <td>25 - 34 years old</td>\n",
              "      <td>Yes</td>\n",
              "      <td>NaN</td>\n",
              "      <td>The survey was an appropriate length</td>\n",
              "      <td>Very easy</td>\n",
              "    </tr>\n",
              "    <tr>\n",
              "      <th>1</th>\n",
              "      <td>3</td>\n",
              "      <td>Yes</td>\n",
              "      <td>Yes</td>\n",
              "      <td>United Kingdom</td>\n",
              "      <td>No</td>\n",
              "      <td>Employed full-time</td>\n",
              "      <td>Bachelor‚Äôs degree (BA, BS, B.Eng., etc.)</td>\n",
              "      <td>A natural science (ex. biology, chemistry, phy...</td>\n",
              "      <td>10,000 or more employees</td>\n",
              "      <td>Database administrator;DevOps specialist;Full-...</td>\n",
              "      <td>...</td>\n",
              "      <td>Daily or almost every day</td>\n",
              "      <td>Male</td>\n",
              "      <td>Straight or heterosexual</td>\n",
              "      <td>Bachelor‚Äôs degree (BA, BS, B.Eng., etc.)</td>\n",
              "      <td>White or of European descent</td>\n",
              "      <td>35 - 44 years old</td>\n",
              "      <td>Yes</td>\n",
              "      <td>NaN</td>\n",
              "      <td>The survey was an appropriate length</td>\n",
              "      <td>Somewhat easy</td>\n",
              "    </tr>\n",
              "    <tr>\n",
              "      <th>2</th>\n",
              "      <td>4</td>\n",
              "      <td>Yes</td>\n",
              "      <td>Yes</td>\n",
              "      <td>United States</td>\n",
              "      <td>No</td>\n",
              "      <td>Employed full-time</td>\n",
              "      <td>Associate degree</td>\n",
              "      <td>Computer science, computer engineering, or sof...</td>\n",
              "      <td>20 to 99 employees</td>\n",
              "      <td>Engineering manager;Full-stack developer</td>\n",
              "      <td>...</td>\n",
              "      <td>NaN</td>\n",
              "      <td>NaN</td>\n",
              "      <td>NaN</td>\n",
              "      <td>NaN</td>\n",
              "      <td>NaN</td>\n",
              "      <td>NaN</td>\n",
              "      <td>NaN</td>\n",
              "      <td>NaN</td>\n",
              "      <td>NaN</td>\n",
              "      <td>NaN</td>\n",
              "    </tr>\n",
              "    <tr>\n",
              "      <th>3</th>\n",
              "      <td>5</td>\n",
              "      <td>No</td>\n",
              "      <td>No</td>\n",
              "      <td>United States</td>\n",
              "      <td>No</td>\n",
              "      <td>Employed full-time</td>\n",
              "      <td>Bachelor‚Äôs degree (BA, BS, B.Eng., etc.)</td>\n",
              "      <td>Computer science, computer engineering, or sof...</td>\n",
              "      <td>100 to 499 employees</td>\n",
              "      <td>Full-stack developer</td>\n",
              "      <td>...</td>\n",
              "      <td>I don't typically exercise</td>\n",
              "      <td>Male</td>\n",
              "      <td>Straight or heterosexual</td>\n",
              "      <td>Some college/university study without earning ...</td>\n",
              "      <td>White or of European descent</td>\n",
              "      <td>35 - 44 years old</td>\n",
              "      <td>No</td>\n",
              "      <td>No</td>\n",
              "      <td>The survey was an appropriate length</td>\n",
              "      <td>Somewhat easy</td>\n",
              "    </tr>\n",
              "    <tr>\n",
              "      <th>4</th>\n",
              "      <td>7</td>\n",
              "      <td>Yes</td>\n",
              "      <td>No</td>\n",
              "      <td>South Africa</td>\n",
              "      <td>Yes, part-time</td>\n",
              "      <td>Employed full-time</td>\n",
              "      <td>Some college/university study without earning ...</td>\n",
              "      <td>Computer science, computer engineering, or sof...</td>\n",
              "      <td>10,000 or more employees</td>\n",
              "      <td>Data or business analyst;Desktop or enterprise...</td>\n",
              "      <td>...</td>\n",
              "      <td>3 - 4 times per week</td>\n",
              "      <td>Male</td>\n",
              "      <td>Straight or heterosexual</td>\n",
              "      <td>Some college/university study without earning ...</td>\n",
              "      <td>White or of European descent</td>\n",
              "      <td>18 - 24 years old</td>\n",
              "      <td>Yes</td>\n",
              "      <td>NaN</td>\n",
              "      <td>The survey was an appropriate length</td>\n",
              "      <td>Somewhat easy</td>\n",
              "    </tr>\n",
              "    <tr>\n",
              "      <th>5</th>\n",
              "      <td>8</td>\n",
              "      <td>Yes</td>\n",
              "      <td>No</td>\n",
              "      <td>United Kingdom</td>\n",
              "      <td>No</td>\n",
              "      <td>Employed full-time</td>\n",
              "      <td>Bachelor‚Äôs degree (BA, BS, B.Eng., etc.)</td>\n",
              "      <td>Computer science, computer engineering, or sof...</td>\n",
              "      <td>10 to 19 employees</td>\n",
              "      <td>Back-end developer;Database administrator;Fron...</td>\n",
              "      <td>...</td>\n",
              "      <td>1 - 2 times per week</td>\n",
              "      <td>Male</td>\n",
              "      <td>Straight or heterosexual</td>\n",
              "      <td>Secondary school (e.g. American high school, G...</td>\n",
              "      <td>White or of European descent</td>\n",
              "      <td>18 - 24 years old</td>\n",
              "      <td>No</td>\n",
              "      <td>NaN</td>\n",
              "      <td>The survey was an appropriate length</td>\n",
              "      <td>Somewhat easy</td>\n",
              "    </tr>\n",
              "    <tr>\n",
              "      <th>6</th>\n",
              "      <td>9</td>\n",
              "      <td>Yes</td>\n",
              "      <td>Yes</td>\n",
              "      <td>United States</td>\n",
              "      <td>No</td>\n",
              "      <td>Employed full-time</td>\n",
              "      <td>Some college/university study without earning ...</td>\n",
              "      <td>Computer science, computer engineering, or sof...</td>\n",
              "      <td>10,000 or more employees</td>\n",
              "      <td>Back-end developer;Front-end developer;Full-st...</td>\n",
              "      <td>...</td>\n",
              "      <td>I don't typically exercise</td>\n",
              "      <td>Male</td>\n",
              "      <td>Straight or heterosexual</td>\n",
              "      <td>Master‚Äôs degree (MA, MS, M.Eng., MBA, etc.)</td>\n",
              "      <td>White or of European descent</td>\n",
              "      <td>18 - 24 years old</td>\n",
              "      <td>No</td>\n",
              "      <td>No</td>\n",
              "      <td>The survey was an appropriate length</td>\n",
              "      <td>Somewhat easy</td>\n",
              "    </tr>\n",
              "    <tr>\n",
              "      <th>7</th>\n",
              "      <td>10</td>\n",
              "      <td>Yes</td>\n",
              "      <td>Yes</td>\n",
              "      <td>Nigeria</td>\n",
              "      <td>No</td>\n",
              "      <td>Employed full-time</td>\n",
              "      <td>Bachelor‚Äôs degree (BA, BS, B.Eng., etc.)</td>\n",
              "      <td>Computer science, computer engineering, or sof...</td>\n",
              "      <td>10 to 19 employees</td>\n",
              "      <td>Designer;Front-end developer;QA or test developer</td>\n",
              "      <td>...</td>\n",
              "      <td>1 - 2 times per week</td>\n",
              "      <td>Female</td>\n",
              "      <td>NaN</td>\n",
              "      <td>Primary/elementary school</td>\n",
              "      <td>Black or of African descent</td>\n",
              "      <td>25 - 34 years old</td>\n",
              "      <td>No</td>\n",
              "      <td>NaN</td>\n",
              "      <td>The survey was too long</td>\n",
              "      <td>Somewhat difficult</td>\n",
              "    </tr>\n",
              "    <tr>\n",
              "      <th>8</th>\n",
              "      <td>11</td>\n",
              "      <td>Yes</td>\n",
              "      <td>Yes</td>\n",
              "      <td>United States</td>\n",
              "      <td>No</td>\n",
              "      <td>Employed full-time</td>\n",
              "      <td>Some college/university study without earning ...</td>\n",
              "      <td>Fine arts or performing arts (ex. graphic desi...</td>\n",
              "      <td>100 to 499 employees</td>\n",
              "      <td>Back-end developer;C-suite executive (CEO, CTO...</td>\n",
              "      <td>...</td>\n",
              "      <td>I don't typically exercise</td>\n",
              "      <td>Male</td>\n",
              "      <td>Straight or heterosexual</td>\n",
              "      <td>Some college/university study without earning ...</td>\n",
              "      <td>White or of European descent</td>\n",
              "      <td>35 - 44 years old</td>\n",
              "      <td>Yes</td>\n",
              "      <td>No</td>\n",
              "      <td>The survey was an appropriate length</td>\n",
              "      <td>Very easy</td>\n",
              "    </tr>\n",
              "    <tr>\n",
              "      <th>9</th>\n",
              "      <td>16</td>\n",
              "      <td>No</td>\n",
              "      <td>Yes</td>\n",
              "      <td>India</td>\n",
              "      <td>No</td>\n",
              "      <td>Employed full-time</td>\n",
              "      <td>Bachelor‚Äôs degree (BA, BS, B.Eng., etc.)</td>\n",
              "      <td>Computer science, computer engineering, or sof...</td>\n",
              "      <td>500 to 999 employees</td>\n",
              "      <td>Designer</td>\n",
              "      <td>...</td>\n",
              "      <td>NaN</td>\n",
              "      <td>NaN</td>\n",
              "      <td>NaN</td>\n",
              "      <td>NaN</td>\n",
              "      <td>NaN</td>\n",
              "      <td>NaN</td>\n",
              "      <td>NaN</td>\n",
              "      <td>NaN</td>\n",
              "      <td>NaN</td>\n",
              "      <td>NaN</td>\n",
              "    </tr>\n",
              "  </tbody>\n",
              "</table>\n",
              "<p>10 rows × 129 columns</p>\n",
              "</div>\n",
              "    <div class=\"colab-df-buttons\">\n",
              "\n",
              "  <div class=\"colab-df-container\">\n",
              "    <button class=\"colab-df-convert\" onclick=\"convertToInteractive('df-6b6b7fbd-fc96-4f60-bc36-f5a95879ae72')\"\n",
              "            title=\"Convert this dataframe to an interactive table.\"\n",
              "            style=\"display:none;\">\n",
              "\n",
              "  <svg xmlns=\"http://www.w3.org/2000/svg\" height=\"24px\" viewBox=\"0 -960 960 960\">\n",
              "    <path d=\"M120-120v-720h720v720H120Zm60-500h600v-160H180v160Zm220 220h160v-160H400v160Zm0 220h160v-160H400v160ZM180-400h160v-160H180v160Zm440 0h160v-160H620v160ZM180-180h160v-160H180v160Zm440 0h160v-160H620v160Z\"/>\n",
              "  </svg>\n",
              "    </button>\n",
              "\n",
              "  <style>\n",
              "    .colab-df-container {\n",
              "      display:flex;\n",
              "      gap: 12px;\n",
              "    }\n",
              "\n",
              "    .colab-df-convert {\n",
              "      background-color: #E8F0FE;\n",
              "      border: none;\n",
              "      border-radius: 50%;\n",
              "      cursor: pointer;\n",
              "      display: none;\n",
              "      fill: #1967D2;\n",
              "      height: 32px;\n",
              "      padding: 0 0 0 0;\n",
              "      width: 32px;\n",
              "    }\n",
              "\n",
              "    .colab-df-convert:hover {\n",
              "      background-color: #E2EBFA;\n",
              "      box-shadow: 0px 1px 2px rgba(60, 64, 67, 0.3), 0px 1px 3px 1px rgba(60, 64, 67, 0.15);\n",
              "      fill: #174EA6;\n",
              "    }\n",
              "\n",
              "    .colab-df-buttons div {\n",
              "      margin-bottom: 4px;\n",
              "    }\n",
              "\n",
              "    [theme=dark] .colab-df-convert {\n",
              "      background-color: #3B4455;\n",
              "      fill: #D2E3FC;\n",
              "    }\n",
              "\n",
              "    [theme=dark] .colab-df-convert:hover {\n",
              "      background-color: #434B5C;\n",
              "      box-shadow: 0px 1px 3px 1px rgba(0, 0, 0, 0.15);\n",
              "      filter: drop-shadow(0px 1px 2px rgba(0, 0, 0, 0.3));\n",
              "      fill: #FFFFFF;\n",
              "    }\n",
              "  </style>\n",
              "\n",
              "    <script>\n",
              "      const buttonEl =\n",
              "        document.querySelector('#df-6b6b7fbd-fc96-4f60-bc36-f5a95879ae72 button.colab-df-convert');\n",
              "      buttonEl.style.display =\n",
              "        google.colab.kernel.accessAllowed ? 'block' : 'none';\n",
              "\n",
              "      async function convertToInteractive(key) {\n",
              "        const element = document.querySelector('#df-6b6b7fbd-fc96-4f60-bc36-f5a95879ae72');\n",
              "        const dataTable =\n",
              "          await google.colab.kernel.invokeFunction('convertToInteractive',\n",
              "                                                    [key], {});\n",
              "        if (!dataTable) return;\n",
              "\n",
              "        const docLinkHtml = 'Like what you see? Visit the ' +\n",
              "          '<a target=\"_blank\" href=https://colab.research.google.com/notebooks/data_table.ipynb>data table notebook</a>'\n",
              "          + ' to learn more about interactive tables.';\n",
              "        element.innerHTML = '';\n",
              "        dataTable['output_type'] = 'display_data';\n",
              "        await google.colab.output.renderOutput(dataTable, element);\n",
              "        const docLink = document.createElement('div');\n",
              "        docLink.innerHTML = docLinkHtml;\n",
              "        element.appendChild(docLink);\n",
              "      }\n",
              "    </script>\n",
              "  </div>\n",
              "\n",
              "\n",
              "<div id=\"df-6ac305f5-cb1d-49f3-9e16-b71edfc530b7\">\n",
              "  <button class=\"colab-df-quickchart\" onclick=\"quickchart('df-6ac305f5-cb1d-49f3-9e16-b71edfc530b7')\"\n",
              "            title=\"Suggest charts\"\n",
              "            style=\"display:none;\">\n",
              "\n",
              "<svg xmlns=\"http://www.w3.org/2000/svg\" height=\"24px\"viewBox=\"0 0 24 24\"\n",
              "     width=\"24px\">\n",
              "    <g>\n",
              "        <path d=\"M19 3H5c-1.1 0-2 .9-2 2v14c0 1.1.9 2 2 2h14c1.1 0 2-.9 2-2V5c0-1.1-.9-2-2-2zM9 17H7v-7h2v7zm4 0h-2V7h2v10zm4 0h-2v-4h2v4z\"/>\n",
              "    </g>\n",
              "</svg>\n",
              "  </button>\n",
              "\n",
              "<style>\n",
              "  .colab-df-quickchart {\n",
              "      --bg-color: #E8F0FE;\n",
              "      --fill-color: #1967D2;\n",
              "      --hover-bg-color: #E2EBFA;\n",
              "      --hover-fill-color: #174EA6;\n",
              "      --disabled-fill-color: #AAA;\n",
              "      --disabled-bg-color: #DDD;\n",
              "  }\n",
              "\n",
              "  [theme=dark] .colab-df-quickchart {\n",
              "      --bg-color: #3B4455;\n",
              "      --fill-color: #D2E3FC;\n",
              "      --hover-bg-color: #434B5C;\n",
              "      --hover-fill-color: #FFFFFF;\n",
              "      --disabled-bg-color: #3B4455;\n",
              "      --disabled-fill-color: #666;\n",
              "  }\n",
              "\n",
              "  .colab-df-quickchart {\n",
              "    background-color: var(--bg-color);\n",
              "    border: none;\n",
              "    border-radius: 50%;\n",
              "    cursor: pointer;\n",
              "    display: none;\n",
              "    fill: var(--fill-color);\n",
              "    height: 32px;\n",
              "    padding: 0;\n",
              "    width: 32px;\n",
              "  }\n",
              "\n",
              "  .colab-df-quickchart:hover {\n",
              "    background-color: var(--hover-bg-color);\n",
              "    box-shadow: 0 1px 2px rgba(60, 64, 67, 0.3), 0 1px 3px 1px rgba(60, 64, 67, 0.15);\n",
              "    fill: var(--button-hover-fill-color);\n",
              "  }\n",
              "\n",
              "  .colab-df-quickchart-complete:disabled,\n",
              "  .colab-df-quickchart-complete:disabled:hover {\n",
              "    background-color: var(--disabled-bg-color);\n",
              "    fill: var(--disabled-fill-color);\n",
              "    box-shadow: none;\n",
              "  }\n",
              "\n",
              "  .colab-df-spinner {\n",
              "    border: 2px solid var(--fill-color);\n",
              "    border-color: transparent;\n",
              "    border-bottom-color: var(--fill-color);\n",
              "    animation:\n",
              "      spin 1s steps(1) infinite;\n",
              "  }\n",
              "\n",
              "  @keyframes spin {\n",
              "    0% {\n",
              "      border-color: transparent;\n",
              "      border-bottom-color: var(--fill-color);\n",
              "      border-left-color: var(--fill-color);\n",
              "    }\n",
              "    20% {\n",
              "      border-color: transparent;\n",
              "      border-left-color: var(--fill-color);\n",
              "      border-top-color: var(--fill-color);\n",
              "    }\n",
              "    30% {\n",
              "      border-color: transparent;\n",
              "      border-left-color: var(--fill-color);\n",
              "      border-top-color: var(--fill-color);\n",
              "      border-right-color: var(--fill-color);\n",
              "    }\n",
              "    40% {\n",
              "      border-color: transparent;\n",
              "      border-right-color: var(--fill-color);\n",
              "      border-top-color: var(--fill-color);\n",
              "    }\n",
              "    60% {\n",
              "      border-color: transparent;\n",
              "      border-right-color: var(--fill-color);\n",
              "    }\n",
              "    80% {\n",
              "      border-color: transparent;\n",
              "      border-right-color: var(--fill-color);\n",
              "      border-bottom-color: var(--fill-color);\n",
              "    }\n",
              "    90% {\n",
              "      border-color: transparent;\n",
              "      border-bottom-color: var(--fill-color);\n",
              "    }\n",
              "  }\n",
              "</style>\n",
              "\n",
              "  <script>\n",
              "    async function quickchart(key) {\n",
              "      const quickchartButtonEl =\n",
              "        document.querySelector('#' + key + ' button');\n",
              "      quickchartButtonEl.disabled = true;  // To prevent multiple clicks.\n",
              "      quickchartButtonEl.classList.add('colab-df-spinner');\n",
              "      try {\n",
              "        const charts = await google.colab.kernel.invokeFunction(\n",
              "            'suggestCharts', [key], {});\n",
              "      } catch (error) {\n",
              "        console.error('Error during call to suggestCharts:', error);\n",
              "      }\n",
              "      quickchartButtonEl.classList.remove('colab-df-spinner');\n",
              "      quickchartButtonEl.classList.add('colab-df-quickchart-complete');\n",
              "    }\n",
              "    (() => {\n",
              "      let quickchartButtonEl =\n",
              "        document.querySelector('#df-6ac305f5-cb1d-49f3-9e16-b71edfc530b7 button');\n",
              "      quickchartButtonEl.style.display =\n",
              "        google.colab.kernel.accessAllowed ? 'block' : 'none';\n",
              "    })();\n",
              "  </script>\n",
              "</div>\n",
              "\n",
              "    </div>\n",
              "  </div>\n"
            ],
            "application/vnd.google.colaboratory.intrinsic+json": {
              "type": "dataframe",
              "variable_name": "df"
            }
          },
          "metadata": {},
          "execution_count": 4
        }
      ]
    },
    {
      "cell_type": "code",
      "source": [
        "#dimensions of the data\n",
        "df.shape"
      ],
      "metadata": {
        "colab": {
          "base_uri": "https://localhost:8080/"
        },
        "id": "Pk727hn8BAtt",
        "outputId": "d679067c-11a7-4d2a-c094-a3dc62b8ec2b"
      },
      "execution_count": 5,
      "outputs": [
        {
          "output_type": "execute_result",
          "data": {
            "text/plain": [
              "(99, 129)"
            ]
          },
          "metadata": {},
          "execution_count": 5
        }
      ]
    },
    {
      "cell_type": "code",
      "source": [
        "#datatypes of the data\n",
        "df.dtypes"
      ],
      "metadata": {
        "colab": {
          "base_uri": "https://localhost:8080/"
        },
        "id": "MJa9xMhaBN0h",
        "outputId": "809bc6cf-e913-4486-cf76-240056a82af6"
      },
      "execution_count": 6,
      "outputs": [
        {
          "output_type": "execute_result",
          "data": {
            "text/plain": [
              "Respondent        int64\n",
              "Hobby            object\n",
              "OpenSource       object\n",
              "Country          object\n",
              "Student          object\n",
              "                  ...  \n",
              "Age              object\n",
              "Dependents       object\n",
              "MilitaryUS       object\n",
              "SurveyTooLong    object\n",
              "SurveyEasy       object\n",
              "Length: 129, dtype: object"
            ]
          },
          "metadata": {},
          "execution_count": 6
        }
      ]
    },
    {
      "cell_type": "code",
      "source": [
        "df.columns"
      ],
      "metadata": {
        "colab": {
          "base_uri": "https://localhost:8080/"
        },
        "id": "tYgb3H0fBXSM",
        "outputId": "86a3960c-cb0c-463e-b6a1-faf60a7a49a0"
      },
      "execution_count": 7,
      "outputs": [
        {
          "output_type": "execute_result",
          "data": {
            "text/plain": [
              "Index(['Respondent', 'Hobby', 'OpenSource', 'Country', 'Student', 'Employment',\n",
              "       'FormalEducation', 'UndergradMajor', 'CompanySize', 'DevType',\n",
              "       ...\n",
              "       'Exercise', 'Gender', 'SexualOrientation', 'EducationParents',\n",
              "       'RaceEthnicity', 'Age', 'Dependents', 'MilitaryUS', 'SurveyTooLong',\n",
              "       'SurveyEasy'],\n",
              "      dtype='object', length=129)"
            ]
          },
          "metadata": {},
          "execution_count": 7
        }
      ]
    },
    {
      "cell_type": "markdown",
      "source": [
        "**DATA** **CLEANING**"
      ],
      "metadata": {
        "id": "JcsoF8mUC3FW"
      }
    },
    {
      "cell_type": "code",
      "source": [
        "#checking for the missing or null values\n",
        "missing_values=df.isnull().sum()\n",
        "missing_values"
      ],
      "metadata": {
        "colab": {
          "base_uri": "https://localhost:8080/"
        },
        "id": "Oq3xNHCbC0dw",
        "outputId": "760f4a2a-0b86-4966-cde7-64120d6e98fe"
      },
      "execution_count": 8,
      "outputs": [
        {
          "output_type": "execute_result",
          "data": {
            "text/plain": [
              "Respondent        0\n",
              "Hobby             0\n",
              "OpenSource        0\n",
              "Country           0\n",
              "Student           1\n",
              "                 ..\n",
              "Age              32\n",
              "Dependents       32\n",
              "MilitaryUS       80\n",
              "SurveyTooLong    32\n",
              "SurveyEasy       32\n",
              "Length: 129, dtype: int64"
            ]
          },
          "metadata": {},
          "execution_count": 8
        }
      ]
    },
    {
      "cell_type": "markdown",
      "source": [
        "By this we can get to the conclusion that there exist missing values"
      ],
      "metadata": {
        "id": "2XZHexqvDe_l"
      }
    },
    {
      "cell_type": "code",
      "source": [
        "#calculating percentage of missing values\n",
        "total_cells=np.product(df.shape)\n",
        "total_missing=missing_values.sum()\n",
        "percent=(total_missing/total_cells)*100"
      ],
      "metadata": {
        "id": "GUvMjmK8Dbhf"
      },
      "execution_count": 9,
      "outputs": []
    },
    {
      "cell_type": "code",
      "source": [
        "print('Total number of cells: ', total_cells)\n",
        "print('Total number of missing values: ', total_missing)\n",
        "print('Missing Percentage: ', percent, '%')"
      ],
      "metadata": {
        "colab": {
          "base_uri": "https://localhost:8080/"
        },
        "id": "UzfvQT1kDxYW",
        "outputId": "550042b8-7523-4924-925b-a585bcd9e60f"
      },
      "execution_count": 10,
      "outputs": [
        {
          "output_type": "stream",
          "name": "stdout",
          "text": [
            "Total number of cells:  12771\n",
            "Total number of missing values:  4421\n",
            "Missing Percentage:  34.61749275702764 %\n"
          ]
        }
      ]
    },
    {
      "cell_type": "markdown",
      "source": [
        "approximately 35% of data is missing we need to handle the missing values"
      ],
      "metadata": {
        "id": "wpCPQqvTEiPZ"
      }
    },
    {
      "cell_type": "markdown",
      "source": [
        "**cleaning the gender column**"
      ],
      "metadata": {
        "id": "JocVQX4iFe7X"
      }
    },
    {
      "cell_type": "code",
      "source": [
        "# Calculate the missing percentage of the 'Gender' column\n",
        "df['Gender'].isnull().sum()\n",
        "missing_percentage_gender = (df['Gender'].isnull().sum() / len(df['Gender'])) * 100\n",
        "\n",
        "print(\"Missing percentage of the 'Gender' column:\", missing_percentage_gender, \"%\")\n"
      ],
      "metadata": {
        "colab": {
          "base_uri": "https://localhost:8080/"
        },
        "id": "IsT298IwEf-8",
        "outputId": "3027b990-d126-4f60-a169-a79370878369"
      },
      "execution_count": 11,
      "outputs": [
        {
          "output_type": "stream",
          "name": "stdout",
          "text": [
            "Missing percentage of the 'Gender' column: 32.323232323232325 %\n"
          ]
        }
      ]
    },
    {
      "cell_type": "markdown",
      "source": [
        "32% of the gender data is missing lets categorize them"
      ],
      "metadata": {
        "id": "j9z63fRMF_BT"
      }
    },
    {
      "cell_type": "code",
      "source": [
        "df['Gender'].unique()"
      ],
      "metadata": {
        "colab": {
          "base_uri": "https://localhost:8080/"
        },
        "id": "qOL_vo90F812",
        "outputId": "604ef82e-c325-4f4d-f153-660465f8ad58"
      },
      "execution_count": 12,
      "outputs": [
        {
          "output_type": "execute_result",
          "data": {
            "text/plain": [
              "array(['Male', nan, 'Female',\n",
              "       'Female;Male;Transgender;Non-binary, genderqueer, or gender non-conforming',\n",
              "       'Female;Male',\n",
              "       'Male;Non-binary, genderqueer, or gender non-conforming'],\n",
              "      dtype=object)"
            ]
          },
          "metadata": {},
          "execution_count": 12
        }
      ]
    },
    {
      "cell_type": "code",
      "source": [
        "#counting the number of each gender\n",
        "df.groupby('Gender')['Gender'].count()"
      ],
      "metadata": {
        "colab": {
          "base_uri": "https://localhost:8080/"
        },
        "id": "WThNvO9dGNJr",
        "outputId": "79435260-cd2a-4b2e-ef55-5874094efd63"
      },
      "execution_count": 13,
      "outputs": [
        {
          "output_type": "execute_result",
          "data": {
            "text/plain": [
              "Gender\n",
              "Female                                                                        5\n",
              "Female;Male                                                                   1\n",
              "Female;Male;Transgender;Non-binary, genderqueer, or gender non-conforming     1\n",
              "Male                                                                         59\n",
              "Male;Non-binary, genderqueer, or gender non-conforming                        1\n",
              "Name: Gender, dtype: int64"
            ]
          },
          "metadata": {},
          "execution_count": 13
        }
      ]
    },
    {
      "cell_type": "markdown",
      "source": [
        "Filling the missing values and reducing the number of divisions to male,female and non confirmed only to get easy analysis"
      ],
      "metadata": {
        "id": "N5mSGdaFHQ7C"
      }
    },
    {
      "cell_type": "code",
      "source": [
        "df['Gender'] = df['Gender'].fillna('Non-binary, genderqueer, or gender non-conforming')\n",
        "df['Gender'].replace('Female;Male;Non-binary, genderqueer, or gender non-conforming', 'Female', inplace =True)\n",
        "df['Gender'].replace('Female;Male;Transgender;Non-binary, genderqueer, or gender non-conforming', 'Female', inplace =True)\n",
        "df['Gender'].replace('Female;Non-binary, genderqueer, or gender non-conforming', 'Female', inplace =True)\n",
        "df['Gender'].replace('Female;Transgender;Non-binary, genderqueer, or gender non-conforming', 'Female', inplace =True)\n",
        "df['Gender'].replace('Male;Non-binary, genderqueer, or gender non-conforming', 'Male', inplace =True)\n",
        "df['Gender'].replace('Male;Transgender;Non-binary, genderqueer, or gender non-conforming', 'Male', inplace =True)\n",
        "df['Gender'].replace('Transgender;Non-binary, genderqueer, or gender non-conforming', 'Non-conforming', inplace =True) ##not sure\n",
        "df['Gender'].replace('Female;Male', 'Female', inplace =True)\n",
        "df['Gender'].replace('Female;Male;Transgender', 'Female', inplace =True)\n",
        "df['Gender'].replace('Female;Transgender', 'Female', inplace =True)\n",
        "df['Gender'].replace('Male;Transgender', 'Female', inplace =True)\n",
        "df['Gender'].replace('Non-binary, genderqueer, or gender non-conforming', 'Non-conforming', inplace =True) #\n",
        "df['Gender'].replace('Transgender', 'Male', inplace =True)"
      ],
      "metadata": {
        "id": "mr6IrwZxGWvH"
      },
      "execution_count": 14,
      "outputs": []
    },
    {
      "cell_type": "code",
      "source": [
        "df.groupby('Gender')['Gender'].count()"
      ],
      "metadata": {
        "colab": {
          "base_uri": "https://localhost:8080/"
        },
        "id": "OyI5oGQJHPVt",
        "outputId": "a73003d3-59e2-42b0-fd28-df476679d9bb"
      },
      "execution_count": 15,
      "outputs": [
        {
          "output_type": "execute_result",
          "data": {
            "text/plain": [
              "Gender\n",
              "Female             7\n",
              "Male              60\n",
              "Non-conforming    32\n",
              "Name: Gender, dtype: int64"
            ]
          },
          "metadata": {},
          "execution_count": 15
        }
      ]
    },
    {
      "cell_type": "code",
      "source": [
        "df.shape"
      ],
      "metadata": {
        "colab": {
          "base_uri": "https://localhost:8080/"
        },
        "id": "1wIFGzW0HcDS",
        "outputId": "a724cd6b-795a-45ee-cd39-5ded3adb5db9"
      },
      "execution_count": 16,
      "outputs": [
        {
          "output_type": "execute_result",
          "data": {
            "text/plain": [
              "(99, 129)"
            ]
          },
          "metadata": {},
          "execution_count": 16
        }
      ]
    },
    {
      "cell_type": "code",
      "source": [
        "df.isnull().sum()['Gender']"
      ],
      "metadata": {
        "colab": {
          "base_uri": "https://localhost:8080/"
        },
        "id": "cEYOPjlNHw-I",
        "outputId": "d41f7fe8-2535-4c2c-ebbf-e38520bd7d2d"
      },
      "execution_count": 17,
      "outputs": [
        {
          "output_type": "execute_result",
          "data": {
            "text/plain": [
              "0"
            ]
          },
          "metadata": {},
          "execution_count": 17
        }
      ]
    },
    {
      "cell_type": "markdown",
      "source": [
        "Hence, there are no existing null values in gender column\n",
        "\n",
        "\n",
        "\n",
        "\n"
      ],
      "metadata": {
        "id": "6h37X59cH0ne"
      }
    },
    {
      "cell_type": "markdown",
      "source": [
        "**cleaning the country column**"
      ],
      "metadata": {
        "id": "Y7lg2qNyIHRT"
      }
    },
    {
      "cell_type": "code",
      "source": [
        "df.groupby('Country')['Country'].count()"
      ],
      "metadata": {
        "colab": {
          "base_uri": "https://localhost:8080/"
        },
        "id": "WUTBusH2HzGg",
        "outputId": "f32f20f9-1110-49ad-84f2-7eccbbd58c24"
      },
      "execution_count": 18,
      "outputs": [
        {
          "output_type": "execute_result",
          "data": {
            "text/plain": [
              "Country\n",
              "Algeria                1\n",
              "Argentina              2\n",
              "Australia              1\n",
              "Belgium                1\n",
              "Brazil                 1\n",
              "Bulgaria               1\n",
              "Chile                  1\n",
              "China                  2\n",
              "Colombia               1\n",
              "Croatia                1\n",
              "Denmark                1\n",
              "Dominican Republic     1\n",
              "Finland                1\n",
              "France                 3\n",
              "Germany                5\n",
              "Greece                 1\n",
              "India                 16\n",
              "Indonesia              2\n",
              "Ireland                1\n",
              "Israel                 1\n",
              "Japan                  1\n",
              "Kenya                  1\n",
              "Latvia                 1\n",
              "Netherlands            1\n",
              "Nigeria                1\n",
              "Poland                 3\n",
              "Romania                1\n",
              "Russian Federation     4\n",
              "South Africa           1\n",
              "Spain                  2\n",
              "Sweden                 3\n",
              "Ukraine                1\n",
              "United Kingdom         7\n",
              "United States         28\n",
              "Name: Country, dtype: int64"
            ]
          },
          "metadata": {},
          "execution_count": 18
        }
      ]
    },
    {
      "cell_type": "code",
      "source": [
        "df['Country'].isnull().sum()"
      ],
      "metadata": {
        "colab": {
          "base_uri": "https://localhost:8080/"
        },
        "id": "ds9Hf2hgIn8d",
        "outputId": "3afea5a2-2a96-4eb1-fad0-5ed0a4d8ae66"
      },
      "execution_count": 19,
      "outputs": [
        {
          "output_type": "execute_result",
          "data": {
            "text/plain": [
              "0"
            ]
          },
          "metadata": {},
          "execution_count": 19
        }
      ]
    },
    {
      "cell_type": "code",
      "source": [
        "#filling null values\n",
        "df['Country'].fillna(method='ffill', inplace=True)"
      ],
      "metadata": {
        "id": "8XoIM4LoIreR"
      },
      "execution_count": 20,
      "outputs": []
    },
    {
      "cell_type": "code",
      "source": [
        "df['Country'].isnull().sum()"
      ],
      "metadata": {
        "colab": {
          "base_uri": "https://localhost:8080/"
        },
        "id": "VvZcOHoAIv79",
        "outputId": "384f0346-a962-4850-de64-53751ad54399"
      },
      "execution_count": 21,
      "outputs": [
        {
          "output_type": "execute_result",
          "data": {
            "text/plain": [
              "0"
            ]
          },
          "metadata": {},
          "execution_count": 21
        }
      ]
    },
    {
      "cell_type": "markdown",
      "source": [
        "Hence, there are no existing null values in country column"
      ],
      "metadata": {
        "id": "oMNRkkg8JKSP"
      }
    },
    {
      "cell_type": "markdown",
      "source": [
        "**cleaning the hobbies column**"
      ],
      "metadata": {
        "id": "J34nhG7BJXUD"
      }
    },
    {
      "cell_type": "code",
      "source": [
        "df['Hobby'].isnull().sum()"
      ],
      "metadata": {
        "colab": {
          "base_uri": "https://localhost:8080/"
        },
        "id": "3LXVD5rzJEuX",
        "outputId": "c8269b20-8789-4259-adde-9b1352091813"
      },
      "execution_count": 22,
      "outputs": [
        {
          "output_type": "execute_result",
          "data": {
            "text/plain": [
              "0"
            ]
          },
          "metadata": {},
          "execution_count": 22
        }
      ]
    },
    {
      "cell_type": "code",
      "source": [
        "df.groupby('Hobby')['Hobby'].count()"
      ],
      "metadata": {
        "colab": {
          "base_uri": "https://localhost:8080/"
        },
        "id": "D-Z7I4JrJhRo",
        "outputId": "25abd92b-b696-4090-abb0-bb28d58df519"
      },
      "execution_count": 23,
      "outputs": [
        {
          "output_type": "execute_result",
          "data": {
            "text/plain": [
              "Hobby\n",
              "No     20\n",
              "Yes    79\n",
              "Name: Hobby, dtype: int64"
            ]
          },
          "metadata": {},
          "execution_count": 23
        }
      ]
    },
    {
      "cell_type": "markdown",
      "source": [
        "As the hobbies are categorized only to yes or not further we dont need to categorize them."
      ],
      "metadata": {
        "id": "DIRvLcbQJ-qO"
      }
    },
    {
      "cell_type": "code",
      "source": [
        "df['Hobby'].isnull().sum()"
      ],
      "metadata": {
        "colab": {
          "base_uri": "https://localhost:8080/"
        },
        "id": "k3_uu36PJ8Wm",
        "outputId": "41568282-f651-4fe7-f632-5f6cb181f411"
      },
      "execution_count": 24,
      "outputs": [
        {
          "output_type": "execute_result",
          "data": {
            "text/plain": [
              "0"
            ]
          },
          "metadata": {},
          "execution_count": 24
        }
      ]
    },
    {
      "cell_type": "markdown",
      "source": [
        "Hence, there are no existing null values in hobbies column"
      ],
      "metadata": {
        "id": "rqM9IL9AKKbS"
      }
    },
    {
      "cell_type": "markdown",
      "source": [
        "**cleaning the undergradmajor column**"
      ],
      "metadata": {
        "id": "lNfYL_EYKU10"
      }
    },
    {
      "cell_type": "code",
      "source": [
        "df['UndergradMajor'].isnull().sum()"
      ],
      "metadata": {
        "colab": {
          "base_uri": "https://localhost:8080/"
        },
        "id": "P2xoCi7mKIgO",
        "outputId": "f83fa113-0e5f-4a19-9861-5c933ba3697a"
      },
      "execution_count": 25,
      "outputs": [
        {
          "output_type": "execute_result",
          "data": {
            "text/plain": [
              "11"
            ]
          },
          "metadata": {},
          "execution_count": 25
        }
      ]
    },
    {
      "cell_type": "code",
      "source": [
        "df['UndergradMajor'].value_counts()"
      ],
      "metadata": {
        "colab": {
          "base_uri": "https://localhost:8080/"
        },
        "id": "X_jhcUTzKdKE",
        "outputId": "656569ce-cea0-43c0-a378-99208f5c05da"
      },
      "execution_count": 26,
      "outputs": [
        {
          "output_type": "execute_result",
          "data": {
            "text/plain": [
              "UndergradMajor\n",
              "Computer science, computer engineering, or software engineering          56\n",
              "A natural science (ex. biology, chemistry, physics)                       7\n",
              "Another engineering discipline (ex. civil, electrical, mechanical)        7\n",
              "A business discipline (ex. accounting, finance, marketing)                5\n",
              "Fine arts or performing arts (ex. graphic design, music, studio art)      4\n",
              "Information systems, information technology, or system administration     3\n",
              "Mathematics or statistics                                                 2\n",
              "Web development or web design                                             2\n",
              "A social science (ex. anthropology, psychology, political science)        1\n",
              "A humanities discipline (ex. literature, history, philosophy)             1\n",
              "Name: count, dtype: int64"
            ]
          },
          "metadata": {},
          "execution_count": 26
        }
      ]
    },
    {
      "cell_type": "code",
      "source": [
        "def refactor_major(df):\n",
        "    conditions_major = [(df['UndergradMajor'] == 'Computer science, computer engineering, or software engineering'),\n",
        "                        (df['UndergradMajor'] == 'Another engineering discipline (ex. civil, electrical, mechanical)'),\n",
        "                        (df['UndergradMajor'] == 'Information systems, information technology, or system administration'),\n",
        "                        (df['UndergradMajor'] == 'Mathematics or statistics'),\n",
        "                        (df['UndergradMajor'] == 'A natural science (ex. biology, chemistry, physics)')\n",
        "                        |(df['UndergradMajor'] == 'A health science (ex. nursing, pharmacy, radiology)'),\n",
        "                        (df['UndergradMajor'] == 'Web development or web design'),\n",
        "                        (df['UndergradMajor'] == 'A business discipline (ex. accounting, finance, marketing)'),\n",
        "                        (df['UndergradMajor'] == 'A humanities discipline (ex. literature, history, philosophy)')\n",
        "                        | (df['UndergradMajor'] == 'A social science (ex. anthropology, psychology, political science)')\n",
        "                        | (df['UndergradMajor'] == 'Fine arts or performing arts (ex. graphic design, music, studio art)'),\n",
        "                        (df['UndergradMajor'] == 'I never declared a major') ]\n",
        "\n",
        "    choices_major = ['Computer Science', 'Engineering', 'Info Systems', 'Math/Stat', 'Other Science',\n",
        "                     'Web Design/Dev', 'Business', 'Arts and Science', 'No major']\n",
        "    df['UndergradMajor'] = np.select(conditions_major, choices_major, default = np.NaN)\n",
        "    return df"
      ],
      "metadata": {
        "id": "u3dNbovyKfnF"
      },
      "execution_count": 27,
      "outputs": []
    },
    {
      "cell_type": "markdown",
      "source": [
        "the values in the \"UndergradMajor\" column are classified based on certain conditions."
      ],
      "metadata": {
        "id": "ilV2dwqCMcsM"
      }
    },
    {
      "cell_type": "code",
      "source": [
        "df = refactor_major(df)"
      ],
      "metadata": {
        "id": "CRTeAPqlKuzm"
      },
      "execution_count": 28,
      "outputs": []
    },
    {
      "cell_type": "code",
      "source": [
        "df['UndergradMajor'].replace('nan', 'No major', inplace=True)"
      ],
      "metadata": {
        "id": "nHySDU3cM66h"
      },
      "execution_count": 29,
      "outputs": []
    },
    {
      "cell_type": "code",
      "source": [
        "df['UndergradMajor'].value_counts()"
      ],
      "metadata": {
        "colab": {
          "base_uri": "https://localhost:8080/"
        },
        "id": "FDnUZGWMNJDA",
        "outputId": "7a3aada2-3d81-4dce-c7d4-0ed1cea11684"
      },
      "execution_count": 30,
      "outputs": [
        {
          "output_type": "execute_result",
          "data": {
            "text/plain": [
              "UndergradMajor\n",
              "Computer Science    56\n",
              "No major            11\n",
              "Other Science        7\n",
              "Engineering          7\n",
              "Arts and Science     6\n",
              "Business             5\n",
              "Info Systems         3\n",
              "Math/Stat            2\n",
              "Web Design/Dev       2\n",
              "Name: count, dtype: int64"
            ]
          },
          "metadata": {},
          "execution_count": 30
        }
      ]
    },
    {
      "cell_type": "code",
      "source": [
        "df['UndergradMajor'].isnull().sum()"
      ],
      "metadata": {
        "colab": {
          "base_uri": "https://localhost:8080/"
        },
        "id": "7thqzYMnNPDu",
        "outputId": "9075fc05-1240-4451-872c-829dc560f6e3"
      },
      "execution_count": 31,
      "outputs": [
        {
          "output_type": "execute_result",
          "data": {
            "text/plain": [
              "0"
            ]
          },
          "metadata": {},
          "execution_count": 31
        }
      ]
    },
    {
      "cell_type": "code",
      "source": [
        "df.dropna(subset=['UndergradMajor'], inplace=True)"
      ],
      "metadata": {
        "id": "3VIx65RZNlNY"
      },
      "execution_count": 32,
      "outputs": []
    },
    {
      "cell_type": "code",
      "source": [
        "df['UndergradMajor'].isnull().sum()"
      ],
      "metadata": {
        "colab": {
          "base_uri": "https://localhost:8080/"
        },
        "id": "8DYmuQj-Nnoi",
        "outputId": "74c4fad3-28c6-45b4-b9b1-9199e69b92b4"
      },
      "execution_count": 33,
      "outputs": [
        {
          "output_type": "execute_result",
          "data": {
            "text/plain": [
              "0"
            ]
          },
          "metadata": {},
          "execution_count": 33
        }
      ]
    },
    {
      "cell_type": "markdown",
      "source": [
        "As we assigned the remaining null values to the category of no major\n",
        "Hence, there are no existing null values in the undergradmajor column"
      ],
      "metadata": {
        "id": "ku9qgKCENWC6"
      }
    },
    {
      "cell_type": "markdown",
      "source": [
        "**cleaning the jobsearchstatus column**"
      ],
      "metadata": {
        "id": "WL4YcRevN0PL"
      }
    },
    {
      "cell_type": "code",
      "source": [
        "df['JobSearchStatus'].value_counts()"
      ],
      "metadata": {
        "colab": {
          "base_uri": "https://localhost:8080/"
        },
        "id": "xzXzkzVsNUPH",
        "outputId": "e5d6578b-b528-4569-88d7-58970570dbd6"
      },
      "execution_count": 34,
      "outputs": [
        {
          "output_type": "execute_result",
          "data": {
            "text/plain": [
              "JobSearchStatus\n",
              "I‚Äôm not actively looking, but I am open to new opportunities    54\n",
              "I am not interested in new job opportunities                      18\n",
              "I am actively looking for a job                                   11\n",
              "Name: count, dtype: int64"
            ]
          },
          "metadata": {},
          "execution_count": 34
        }
      ]
    },
    {
      "cell_type": "code",
      "source": [
        "#dropping null values\n",
        "df.dropna(subset=['JobSearchStatus'], inplace=True)"
      ],
      "metadata": {
        "id": "vszoQOfKNymE"
      },
      "execution_count": 35,
      "outputs": []
    },
    {
      "cell_type": "markdown",
      "source": [
        "Categorizing those into groups: the ones who are seeking for job and the ones who are not seeking for job and others"
      ],
      "metadata": {
        "id": "1ey3HKcNlSTt"
      }
    },
    {
      "cell_type": "code",
      "source": [
        "def refactor_job(df):\n",
        "    '''function to change JobStatus category to Seeking and Non Seeking'''\n",
        "\n",
        "    conditions_job = [(df['JobSearchStatus'] == 'I am actively looking for a job'),\n",
        "                    (df['JobSearchStatus'] == 'I am not interested in new job opportunities')\n",
        "                    | (df['JobSearchStatus'] == 'I’m not actively looking, but I am open to new opportunities')]\n",
        "\n",
        "    choices_job = ['Seeking', 'Not seeking']\n",
        "\n",
        "    df['JobSearchStatus'] = np.select(conditions_job, choices_job, default=np.nan)\n",
        "\n",
        "    return df\n"
      ],
      "metadata": {
        "id": "1FiRCkUMlGYX"
      },
      "execution_count": 36,
      "outputs": []
    },
    {
      "cell_type": "code",
      "source": [
        "df = refactor_job(df)"
      ],
      "metadata": {
        "id": "w6eyQW0KlfFA"
      },
      "execution_count": 37,
      "outputs": []
    },
    {
      "cell_type": "code",
      "source": [
        "df['JobSearchStatus'].value_counts()"
      ],
      "metadata": {
        "colab": {
          "base_uri": "https://localhost:8080/"
        },
        "id": "4tjcirO5lhYz",
        "outputId": "b1dfcca2-9e72-4c61-d532-621120c88e33"
      },
      "execution_count": 38,
      "outputs": [
        {
          "output_type": "execute_result",
          "data": {
            "text/plain": [
              "JobSearchStatus\n",
              "nan            54\n",
              "Not seeking    18\n",
              "Seeking        11\n",
              "Name: count, dtype: int64"
            ]
          },
          "metadata": {},
          "execution_count": 38
        }
      ]
    },
    {
      "cell_type": "code",
      "source": [
        "df['JobSearchStatus'].isnull().sum()"
      ],
      "metadata": {
        "colab": {
          "base_uri": "https://localhost:8080/"
        },
        "id": "rZhqXlToljTS",
        "outputId": "4ae49700-1b6a-4ef6-86ca-fc136cba0061"
      },
      "execution_count": 39,
      "outputs": [
        {
          "output_type": "execute_result",
          "data": {
            "text/plain": [
              "0"
            ]
          },
          "metadata": {},
          "execution_count": 39
        }
      ]
    },
    {
      "cell_type": "markdown",
      "source": [
        "Hence, there are no existing null values in the jobsearchstatus column"
      ],
      "metadata": {
        "id": "jEXRkQselt_c"
      }
    },
    {
      "cell_type": "markdown",
      "source": [
        "**cleaning the Employement column**"
      ],
      "metadata": {
        "id": "dbccv75Pl7dH"
      }
    },
    {
      "cell_type": "code",
      "source": [
        "df['Employment'].value_counts()"
      ],
      "metadata": {
        "colab": {
          "base_uri": "https://localhost:8080/"
        },
        "id": "HN5Hw7Jslsn2",
        "outputId": "40dfeb73-d5cb-40ab-d776-b17861c13e8f"
      },
      "execution_count": 40,
      "outputs": [
        {
          "output_type": "execute_result",
          "data": {
            "text/plain": [
              "Employment\n",
              "Employed full-time    77\n",
              "Employed part-time     6\n",
              "Name: count, dtype: int64"
            ]
          },
          "metadata": {},
          "execution_count": 40
        }
      ]
    },
    {
      "cell_type": "code",
      "source": [
        "df['Employment'].isnull().sum()"
      ],
      "metadata": {
        "colab": {
          "base_uri": "https://localhost:8080/"
        },
        "id": "9dB_IwQPmHfa",
        "outputId": "2072d63a-28f1-4b58-f543-fca4bf9f98d5"
      },
      "execution_count": 41,
      "outputs": [
        {
          "output_type": "execute_result",
          "data": {
            "text/plain": [
              "0"
            ]
          },
          "metadata": {},
          "execution_count": 41
        }
      ]
    },
    {
      "cell_type": "code",
      "source": [
        "df['Employment'].fillna(method='ffill', inplace=True)"
      ],
      "metadata": {
        "id": "e8soU9WymLEm"
      },
      "execution_count": 42,
      "outputs": []
    },
    {
      "cell_type": "code",
      "source": [
        "df['Employment']"
      ],
      "metadata": {
        "colab": {
          "base_uri": "https://localhost:8080/"
        },
        "id": "Tc7hG1v4mULw",
        "outputId": "fa86a7b9-6faa-4c5e-aaa2-3cc77f55e3df"
      },
      "execution_count": 43,
      "outputs": [
        {
          "output_type": "execute_result",
          "data": {
            "text/plain": [
              "0     Employed part-time\n",
              "1     Employed full-time\n",
              "2     Employed full-time\n",
              "3     Employed full-time\n",
              "4     Employed full-time\n",
              "             ...        \n",
              "93    Employed full-time\n",
              "94    Employed full-time\n",
              "95    Employed full-time\n",
              "97    Employed full-time\n",
              "98    Employed full-time\n",
              "Name: Employment, Length: 83, dtype: object"
            ]
          },
          "metadata": {},
          "execution_count": 43
        }
      ]
    },
    {
      "cell_type": "code",
      "source": [
        "df['Employment'].isnull().sum()"
      ],
      "metadata": {
        "colab": {
          "base_uri": "https://localhost:8080/"
        },
        "id": "m4dwu9zemeg2",
        "outputId": "d52d81bf-c2f7-497c-ba5e-55f5df8d262e"
      },
      "execution_count": 44,
      "outputs": [
        {
          "output_type": "execute_result",
          "data": {
            "text/plain": [
              "0"
            ]
          },
          "metadata": {},
          "execution_count": 44
        }
      ]
    },
    {
      "cell_type": "markdown",
      "source": [
        "Hence, there are no existing null values in the employment column"
      ],
      "metadata": {
        "id": "6sCzyYBnmuNR"
      }
    },
    {
      "cell_type": "markdown",
      "source": [
        "**Job** **Satisfaction**"
      ],
      "metadata": {
        "id": "gGEvRbeAmzSY"
      }
    },
    {
      "cell_type": "code",
      "source": [
        "df['JobSatisfaction'].value_counts()"
      ],
      "metadata": {
        "colab": {
          "base_uri": "https://localhost:8080/"
        },
        "id": "ZBwz9J5OmpJX",
        "outputId": "8341bfd8-05ff-4d42-a1ab-f6fc1c98d897"
      },
      "execution_count": 45,
      "outputs": [
        {
          "output_type": "execute_result",
          "data": {
            "text/plain": [
              "JobSatisfaction\n",
              "Moderately satisfied                  26\n",
              "Slightly satisfied                    17\n",
              "Neither satisfied nor dissatisfied    11\n",
              "Extremely satisfied                    9\n",
              "Slightly dissatisfied                  9\n",
              "Moderately dissatisfied                6\n",
              "Extremely dissatisfied                 2\n",
              "Name: count, dtype: int64"
            ]
          },
          "metadata": {},
          "execution_count": 45
        }
      ]
    },
    {
      "cell_type": "code",
      "source": [
        "df['JobSatisfaction'].isnull().sum()"
      ],
      "metadata": {
        "colab": {
          "base_uri": "https://localhost:8080/"
        },
        "id": "GDnUpweIm66o",
        "outputId": "f6b76f5e-ea29-4d5f-d825-55f9928c3f4f"
      },
      "execution_count": 46,
      "outputs": [
        {
          "output_type": "execute_result",
          "data": {
            "text/plain": [
              "3"
            ]
          },
          "metadata": {},
          "execution_count": 46
        }
      ]
    },
    {
      "cell_type": "code",
      "source": [
        "#filling the null values\n",
        "df['JobSatisfaction'].fillna(method='ffill', inplace=True)"
      ],
      "metadata": {
        "id": "eMrI20RNm_Am"
      },
      "execution_count": 47,
      "outputs": []
    },
    {
      "cell_type": "code",
      "source": [
        "df['JobSatisfaction'].isnull().sum()"
      ],
      "metadata": {
        "colab": {
          "base_uri": "https://localhost:8080/"
        },
        "id": "_0Qg8298nCCC",
        "outputId": "52e46af1-95da-403a-ad73-2328b9721577"
      },
      "execution_count": 48,
      "outputs": [
        {
          "output_type": "execute_result",
          "data": {
            "text/plain": [
              "0"
            ]
          },
          "metadata": {},
          "execution_count": 48
        }
      ]
    },
    {
      "cell_type": "markdown",
      "source": [
        "Hence, there are no existing null values in the job satisfaction column"
      ],
      "metadata": {
        "id": "agn4hD9KnKLJ"
      }
    },
    {
      "cell_type": "markdown",
      "source": [
        "**Race Ethnicity**"
      ],
      "metadata": {
        "id": "D_K5_TEFnUQX"
      }
    },
    {
      "cell_type": "code",
      "source": [
        "df.groupby('RaceEthnicity')['RaceEthnicity'].count()"
      ],
      "metadata": {
        "colab": {
          "base_uri": "https://localhost:8080/"
        },
        "id": "y8BUpHtAnTrh",
        "outputId": "8b102d3a-91e9-4f78-b858-339e3aafa07b"
      },
      "execution_count": 49,
      "outputs": [
        {
          "output_type": "execute_result",
          "data": {
            "text/plain": [
              "RaceEthnicity\n",
              "Black or of African descent                                                                                                                                                              3\n",
              "Black or of African descent;East Asian;Hispanic or Latino/Latina;Middle Eastern;Native American, Pacific Islander, or Indigenous Australian;South Asian;White or of European descent     1\n",
              "Black or of African descent;Hispanic or Latino/Latina                                                                                                                                    1\n",
              "East Asian                                                                                                                                                                               2\n",
              "Hispanic or Latino/Latina                                                                                                                                                                1\n",
              "Hispanic or Latino/Latina;White or of European descent                                                                                                                                   1\n",
              "South Asian                                                                                                                                                                              8\n",
              "White or of European descent                                                                                                                                                            41\n",
              "Name: RaceEthnicity, dtype: int64"
            ]
          },
          "metadata": {},
          "execution_count": 49
        }
      ]
    },
    {
      "cell_type": "markdown",
      "source": [
        "combining the given Ethnicity by str.match which means if each string starts with a match of a regular expression pattern then they will be categorized.\n"
      ],
      "metadata": {
        "id": "0LS8bEhVn30b"
      }
    },
    {
      "cell_type": "code",
      "source": [
        "df.loc[df['RaceEthnicity'].str.match('Biracial') == True, 'RaceEthnicity'] = 'Biracial'\n",
        "df.loc[df['RaceEthnicity'].str.match('Black or of African descent') == True, 'RaceEthnicity'] = 'Black or African descent'\n",
        "df.loc[df['RaceEthnicity'].str.match('East Asian') == True, 'RaceEthnicity'] = 'East Asian'\n",
        "df.loc[df['RaceEthnicity'].str.match('Hispanic or Latino') == True, 'RaceEthnicity'] = 'Hispanic or Latino'\n",
        "df.loc[df['RaceEthnicity'].str.match('Indigenous') == True, 'RaceEthnicity'] = 'Indigenous'\n",
        "df.loc[df['RaceEthnicity'].str.match('Middle Eastern') == True, 'RaceEthnicity'] = 'Middle Eastern'\n",
        "df.loc[df['RaceEthnicity'].str.match('South') == True, 'RaceEthnicity'] = 'South Asian'\n",
        "df.loc[df['RaceEthnicity'].str.match('White or of European descent') == True, 'RaceEthnicity'] = 'White or European descent'\n",
        "df.loc[df['RaceEthnicity'].str.match('Multiracial') == True, 'RaceEthnicity'] = 'Multiracial'\n",
        "df.loc[df['RaceEthnicity'].str.match('Native American') == True, 'RaceEthnicity'] = 'Native American'"
      ],
      "metadata": {
        "id": "FH4ji11wnIFd"
      },
      "execution_count": 50,
      "outputs": []
    },
    {
      "cell_type": "code",
      "source": [
        "df.groupby('RaceEthnicity')['RaceEthnicity'].count()"
      ],
      "metadata": {
        "colab": {
          "base_uri": "https://localhost:8080/"
        },
        "id": "SJUNzLQJomx-",
        "outputId": "2bcb98d7-df46-41d2-e13b-f4fcd95f9eb5"
      },
      "execution_count": 51,
      "outputs": [
        {
          "output_type": "execute_result",
          "data": {
            "text/plain": [
              "RaceEthnicity\n",
              "Black or African descent      5\n",
              "East Asian                    2\n",
              "Hispanic or Latino            2\n",
              "South Asian                   8\n",
              "White or European descent    41\n",
              "Name: RaceEthnicity, dtype: int64"
            ]
          },
          "metadata": {},
          "execution_count": 51
        }
      ]
    },
    {
      "cell_type": "code",
      "source": [
        "df['RaceEthnicity'].isnull().sum()"
      ],
      "metadata": {
        "colab": {
          "base_uri": "https://localhost:8080/"
        },
        "id": "QIwYiTOSorvU",
        "outputId": "fb688028-fa6a-4bc5-ba0b-ad3b17c4337a"
      },
      "execution_count": 52,
      "outputs": [
        {
          "output_type": "execute_result",
          "data": {
            "text/plain": [
              "25"
            ]
          },
          "metadata": {},
          "execution_count": 52
        }
      ]
    },
    {
      "cell_type": "code",
      "source": [
        "#This code performs forward and backward filling of missing values in the RaceEthnicity column based on the values in the Country column.\n",
        "df['RaceEthnicity']=df.groupby(['Country'])['RaceEthnicity'].bfill().ffill()"
      ],
      "metadata": {
        "id": "ko6zkKW4o5V2"
      },
      "execution_count": 53,
      "outputs": []
    },
    {
      "cell_type": "code",
      "source": [
        "df['RaceEthnicity'].isnull().sum()"
      ],
      "metadata": {
        "colab": {
          "base_uri": "https://localhost:8080/"
        },
        "id": "o_q1T5xRo9H3",
        "outputId": "f50c6efe-3053-4aa6-9206-500c19683c13"
      },
      "execution_count": 54,
      "outputs": [
        {
          "output_type": "execute_result",
          "data": {
            "text/plain": [
              "0"
            ]
          },
          "metadata": {},
          "execution_count": 54
        }
      ]
    },
    {
      "cell_type": "markdown",
      "source": [
        "Hence, there are no existing null values in the race ethnicity column"
      ],
      "metadata": {
        "id": "ta2DJio-poxZ"
      }
    },
    {
      "cell_type": "markdown",
      "source": [
        "**DevType**"
      ],
      "metadata": {
        "id": "8DUVlql_pz1T"
      }
    },
    {
      "cell_type": "code",
      "source": [
        "df['DevType'].isnull().sum()"
      ],
      "metadata": {
        "colab": {
          "base_uri": "https://localhost:8080/"
        },
        "id": "vbxq2hzxpnep",
        "outputId": "5a21e6b9-1c69-433d-c112-51a17e0e78ff"
      },
      "execution_count": 55,
      "outputs": [
        {
          "output_type": "execute_result",
          "data": {
            "text/plain": [
              "0"
            ]
          },
          "metadata": {},
          "execution_count": 55
        }
      ]
    },
    {
      "cell_type": "code",
      "source": [
        "df['DevType'].fillna(method='ffill', inplace=True)"
      ],
      "metadata": {
        "id": "SYNuGwm-p-rh"
      },
      "execution_count": 56,
      "outputs": []
    },
    {
      "cell_type": "code",
      "source": [
        "df.groupby('DevType')['DevType'].count()"
      ],
      "metadata": {
        "colab": {
          "base_uri": "https://localhost:8080/"
        },
        "id": "6OQ3ubLwqA8k",
        "outputId": "4aafa34e-e88e-4ed4-8bc6-d0f1e52def06"
      },
      "execution_count": 57,
      "outputs": [
        {
          "output_type": "execute_result",
          "data": {
            "text/plain": [
              "DevType\n",
              "Back-end developer                                                                                                                                                                       2\n",
              "Back-end developer;C-suite executive (CEO, CTO, etc.);Data or business analyst;Database administrator;DevOps specialist;Engineering manager;Full-stack developer;System administrator    1\n",
              "Back-end developer;C-suite executive (CEO, CTO, etc.);Database administrator;Designer;Front-end developer;Full-stack developer;Mobile developer                                          1\n",
              "Back-end developer;C-suite executive (CEO, CTO, etc.);Database administrator;DevOps specialist;Engineering manager;Full-stack developer;System administrator                             1\n",
              "Back-end developer;Data or business analyst;Database administrator;DevOps specialist;Front-end developer;Full-stack developer;System administrator                                       1\n",
              "Back-end developer;Data or business analyst;Designer;Front-end developer;Game or graphics developer;Mobile developer;Student                                                             1\n",
              "Back-end developer;Data scientist or machine learning specialist;Desktop or enterprise applications developer;Front-end developer;Full-stack developer                                   1\n",
              "Back-end developer;Data scientist or machine learning specialist;DevOps specialist;Educator or academic researcher;QA or test developer;System administrator                             1\n",
              "Back-end developer;Data scientist or machine learning specialist;Full-stack developer;Game or graphics developer;Student                                                                 1\n",
              "Back-end developer;Database administrator;Designer;Desktop or enterprise applications developer;Front-end developer;Full-stack developer                                                 1\n",
              "Back-end developer;Database administrator;Designer;Front-end developer;Full-stack developer;Mobile developer;System administrator                                                        1\n",
              "Back-end developer;Database administrator;Desktop or enterprise applications developer;DevOps specialist;Full-stack developer;QA or test developer                                       1\n",
              "Back-end developer;Database administrator;DevOps specialist;Front-end developer;Full-stack developer;Mobile developer                                                                    1\n",
              "Back-end developer;Database administrator;DevOps specialist;Front-end developer;Full-stack developer;QA or test developer;System administrator                                           1\n",
              "Back-end developer;Database administrator;Front-end developer                                                                                                                            1\n",
              "Back-end developer;Database administrator;Front-end developer;Full-stack developer                                                                                                       1\n",
              "Back-end developer;Database administrator;Front-end developer;Full-stack developer;Mobile developer                                                                                      1\n",
              "Back-end developer;Database administrator;Front-end developer;Student;System administrator                                                                                               1\n",
              "Back-end developer;Designer;Educator or academic researcher;Front-end developer                                                                                                          1\n",
              "Back-end developer;Designer;Front-end developer;Full-stack developer;Marketing or sales professional;Mobile developer                                                                    1\n",
              "Back-end developer;Desktop or enterprise applications developer;Embedded applications or devices developer                                                                               2\n",
              "Back-end developer;Desktop or enterprise applications developer;Embedded applications or devices developer;Front-end developer;Full-stack developer;System administrator                 1\n",
              "Back-end developer;Desktop or enterprise applications developer;Front-end developer;Full-stack developer                                                                                 2\n",
              "Back-end developer;Desktop or enterprise applications developer;Front-end developer;Full-stack developer;Game or graphics developer;Student                                              1\n",
              "Back-end developer;Desktop or enterprise applications developer;QA or test developer                                                                                                     1\n",
              "Back-end developer;DevOps specialist                                                                                                                                                     2\n",
              "Back-end developer;DevOps specialist;Front-end developer;Full-stack developer;Mobile developer                                                                                           1\n",
              "Back-end developer;Embedded applications or devices developer                                                                                                                            1\n",
              "Back-end developer;Embedded applications or devices developer;Full-stack developer                                                                                                       1\n",
              "Back-end developer;Engineering manager                                                                                                                                                   1\n",
              "Back-end developer;Front-end developer                                                                                                                                                   1\n",
              "Back-end developer;Front-end developer;Full-stack developer                                                                                                                              5\n",
              "Back-end developer;Front-end developer;Full-stack developer;Mobile developer                                                                                                             1\n",
              "Back-end developer;Front-end developer;Student                                                                                                                                           2\n",
              "Back-end developer;Full-stack developer                                                                                                                                                  5\n",
              "Back-end developer;Full-stack developer;QA or test developer                                                                                                                             1\n",
              "Back-end developer;Full-stack developer;System administrator                                                                                                                             1\n",
              "Data or business analyst;Data scientist or machine learning specialist;Database administrator;DevOps specialist                                                                          1\n",
              "Data or business analyst;Database administrator;DevOps specialist;System administrator                                                                                                   1\n",
              "Data or business analyst;Desktop or enterprise applications developer;Game or graphics developer;QA or test developer;Student                                                            1\n",
              "Data scientist or machine learning specialist                                                                                                                                            1\n",
              "Database administrator;DevOps specialist;Full-stack developer;System administrator                                                                                                       1\n",
              "Database administrator;Full-stack developer;Mobile developer                                                                                                                             1\n",
              "Designer;Front-end developer                                                                                                                                                             2\n",
              "Designer;Front-end developer;Marketing or sales professional                                                                                                                             1\n",
              "Designer;Front-end developer;QA or test developer                                                                                                                                        1\n",
              "Desktop or enterprise applications developer;Embedded applications or devices developer;Full-stack developer;Game or graphics developer;Mobile developer                                 1\n",
              "Desktop or enterprise applications developer;Front-end developer;Product manager                                                                                                         1\n",
              "Embedded applications or devices developer                                                                                                                                               1\n",
              "Embedded applications or devices developer;Engineering manager                                                                                                                           1\n",
              "Engineering manager;Full-stack developer                                                                                                                                                 1\n",
              "Engineering manager;Mobile developer                                                                                                                                                     1\n",
              "Front-end developer                                                                                                                                                                      1\n",
              "Front-end developer;Full-stack developer                                                                                                                                                 1\n",
              "Front-end developer;Student                                                                                                                                                              1\n",
              "Full-stack developer                                                                                                                                                                     8\n",
              "Full-stack developer;Product manager                                                                                                                                                     1\n",
              "Mobile developer                                                                                                                                                                         2\n",
              "QA or test developer                                                                                                                                                                     1\n",
              "Student                                                                                                                                                                                  2\n",
              "Name: DevType, dtype: int64"
            ]
          },
          "metadata": {},
          "execution_count": 57
        }
      ]
    },
    {
      "cell_type": "markdown",
      "source": [
        "combining the given DevType by str.match which means if each string starts with a match of a regular expression pattern then they will be categorized."
      ],
      "metadata": {
        "id": "a7Vr5H6yqqKK"
      }
    },
    {
      "cell_type": "code",
      "source": [
        "#categorizing the given fields into developer,manager,student,non developer roles\n",
        "df.loc[df['DevType'].str.match('Back-end developer') == True, 'DevType'] = 'Developer'\n",
        "df.loc[df['DevType'].str.match('Student') == True, 'DevType'] = 'Student'\n",
        "df.loc[df['DevType'].str.match('QA or test developer') == True, 'DevType'] = 'Non developer'\n",
        "df.loc[df['DevType'].str.match('Product manager') == True, 'DevType'] = 'Manager'\n",
        "df.loc[df['DevType'].str.match('Mobile developer') == True, 'DevType'] = 'Developer'\n",
        "df.loc[df['DevType'].str.match('Marketing or sales professional') == True, 'DevType'] = 'Non developer'\n",
        "df.loc[df['DevType'].str.match('System administrator') == True, 'DevType'] = 'Developer'\n",
        "df.loc[df['DevType'].str.match('Game or graphics developer') == True, 'DevType'] = 'Developer'\n",
        "df.loc[df['DevType'].str.match('Full-stack developer') == True, 'DevType'] = 'Developer'\n",
        "df.loc[df['DevType'].str.match('Front-end developer') == True, 'DevType'] = 'Developer'\n",
        "df.loc[df['DevType'].str.match('Engineering manager') == True, 'DevType'] = 'Manager'\n",
        "df.loc[df['DevType'].str.match('Embedded applications or devices developer') == True, 'DevType'] = 'Developer'\n",
        "df.loc[df['DevType'].str.match('Educator or academic researcher') == True, 'DevType'] = 'Student'\n",
        "df.loc[df['DevType'].str.match('DevOps specialist') == True, 'DevType'] = 'Developer'\n",
        "df.loc[df['DevType'].str.match('Desktop or enterprise applications developer') == True, 'DevType'] = 'Developer'\n",
        "df.loc[df['DevType'].str.match('Designer') == True, 'DevType'] = 'Non developer'\n",
        "df.loc[df['DevType'].str.match('Database administrator') == True, 'DevType'] = 'Developer'\n",
        "df.loc[df['DevType'].str.match('Data scientist or machine learning specialist') == True, 'DevType'] = 'Developer'\n",
        "df.loc[df['DevType'].str.match('Data or business analyst') == True, 'DevType'] = 'Developer'\n",
        "df.loc[df['DevType'].str.match('C-suite executive') == True, 'DevType'] = 'Developer'\n"
      ],
      "metadata": {
        "id": "yhGUOZDrqDSJ"
      },
      "execution_count": 58,
      "outputs": []
    },
    {
      "cell_type": "code",
      "source": [
        "df.groupby('DevType')['DevType'].count()"
      ],
      "metadata": {
        "colab": {
          "base_uri": "https://localhost:8080/"
        },
        "id": "6Uq3rID4rLYy",
        "outputId": "e9a7c890-14de-48c6-8496-53ddfab1202d"
      },
      "execution_count": 59,
      "outputs": [
        {
          "output_type": "execute_result",
          "data": {
            "text/plain": [
              "DevType\n",
              "Developer        74\n",
              "Manager           2\n",
              "Non developer     5\n",
              "Student           2\n",
              "Name: DevType, dtype: int64"
            ]
          },
          "metadata": {},
          "execution_count": 59
        }
      ]
    },
    {
      "cell_type": "markdown",
      "source": [
        "**Language worked with**"
      ],
      "metadata": {
        "id": "0oM_tG12riOE"
      }
    },
    {
      "cell_type": "code",
      "source": [
        "#this return tha 3 most frequent entries or the 3 most used languages\n",
        "df['LanguageWorkedWith'].value_counts().nlargest(3)"
      ],
      "metadata": {
        "colab": {
          "base_uri": "https://localhost:8080/"
        },
        "id": "9XA6DoJOrd1F",
        "outputId": "769df166-e8e2-4124-bdd0-7ce5780f9659"
      },
      "execution_count": 60,
      "outputs": [
        {
          "output_type": "execute_result",
          "data": {
            "text/plain": [
              "LanguageWorkedWith\n",
              "Java;JavaScript;PHP;SQL;TypeScript;HTML;CSS    2\n",
              "JavaScript;PHP;HTML;CSS                        2\n",
              "C;F#;Haskell;Python;Scala                      1\n",
              "Name: count, dtype: int64"
            ]
          },
          "metadata": {},
          "execution_count": 60
        }
      ]
    },
    {
      "cell_type": "code",
      "source": [
        "df['LanguageWorkedWith'].isnull().sum()"
      ],
      "metadata": {
        "colab": {
          "base_uri": "https://localhost:8080/"
        },
        "id": "Bzonouh4rnpz",
        "outputId": "06949423-b338-470c-cfd7-05e6c038ed83"
      },
      "execution_count": 61,
      "outputs": [
        {
          "output_type": "execute_result",
          "data": {
            "text/plain": [
              "14"
            ]
          },
          "metadata": {},
          "execution_count": 61
        }
      ]
    },
    {
      "cell_type": "code",
      "source": [
        "#filling missing values\n",
        "df['LanguageWorkedWith'].fillna(method='ffill', inplace=True)"
      ],
      "metadata": {
        "id": "AnfM5PJJsEow"
      },
      "execution_count": 62,
      "outputs": []
    },
    {
      "cell_type": "code",
      "source": [
        "df['LanguageWorkedWith'].value_counts().nlargest(3)"
      ],
      "metadata": {
        "colab": {
          "base_uri": "https://localhost:8080/"
        },
        "id": "PGdafg4HsG7-",
        "outputId": "8cc4c79b-3456-44fb-a414-d861cbf18f2c"
      },
      "execution_count": 63,
      "outputs": [
        {
          "output_type": "execute_result",
          "data": {
            "text/plain": [
              "LanguageWorkedWith\n",
              "Java;JavaScript;PHP;VB.NET;HTML;CSS                3\n",
              "Assembly;C;C++;Java;Python;Delphi/Object Pascal    2\n",
              "Java;JavaScript;PHP;SQL;TypeScript;HTML;CSS        2\n",
              "Name: count, dtype: int64"
            ]
          },
          "metadata": {},
          "execution_count": 63
        }
      ]
    },
    {
      "cell_type": "code",
      "source": [
        "df['LanguageWorkedWith'].isnull().sum()"
      ],
      "metadata": {
        "colab": {
          "base_uri": "https://localhost:8080/"
        },
        "id": "EKmOpf2TsP6n",
        "outputId": "7d2c32a5-57fe-4913-edf9-d5a448797537"
      },
      "execution_count": 64,
      "outputs": [
        {
          "output_type": "execute_result",
          "data": {
            "text/plain": [
              "0"
            ]
          },
          "metadata": {},
          "execution_count": 64
        }
      ]
    },
    {
      "cell_type": "markdown",
      "source": [
        "Hence, there are no existing null values in the language work with column"
      ],
      "metadata": {
        "id": "BcCtC4FesbbH"
      }
    },
    {
      "cell_type": "markdown",
      "source": [
        "**Language desirednext year**"
      ],
      "metadata": {
        "id": "WqnvC05gsybz"
      }
    },
    {
      "cell_type": "code",
      "source": [
        "#this return tha 3 most frequent entries that may appear the next year.\n",
        "df['LanguageDesireNextYear'].value_counts().nlargest(3)"
      ],
      "metadata": {
        "colab": {
          "base_uri": "https://localhost:8080/"
        },
        "id": "I4UcToECsTjv",
        "outputId": "f4a7d684-3ba7-46e3-a73e-a5cb1734a22f"
      },
      "execution_count": 65,
      "outputs": [
        {
          "output_type": "execute_result",
          "data": {
            "text/plain": [
              "LanguageDesireNextYear\n",
              "C#;JavaScript;PHP;SQL;HTML;CSS    2\n",
              "JavaScript;Python;HTML;CSS        1\n",
              "C#;JavaScript;TypeScript          1\n",
              "Name: count, dtype: int64"
            ]
          },
          "metadata": {},
          "execution_count": 65
        }
      ]
    },
    {
      "cell_type": "code",
      "source": [
        "df['LanguageDesireNextYear'].isnull().sum()"
      ],
      "metadata": {
        "colab": {
          "base_uri": "https://localhost:8080/"
        },
        "id": "XUG2NWJ8s4H8",
        "outputId": "e193682b-b9f7-47bd-efce-9f320879d7e0"
      },
      "execution_count": 66,
      "outputs": [
        {
          "output_type": "execute_result",
          "data": {
            "text/plain": [
              "18"
            ]
          },
          "metadata": {},
          "execution_count": 66
        }
      ]
    },
    {
      "cell_type": "code",
      "source": [
        "#filling missing values\n",
        "df['LanguageDesireNextYear'].fillna(method='ffill', inplace=True)"
      ],
      "metadata": {
        "id": "y2uYLmpxtFcn"
      },
      "execution_count": 67,
      "outputs": []
    },
    {
      "cell_type": "code",
      "source": [
        "df['LanguageDesireNextYear'].value_counts().nlargest(3)"
      ],
      "metadata": {
        "colab": {
          "base_uri": "https://localhost:8080/"
        },
        "id": "DLb6YvEBtMSf",
        "outputId": "2fe0ed67-c11d-4d35-8858-b25c72845596"
      },
      "execution_count": 68,
      "outputs": [
        {
          "output_type": "execute_result",
          "data": {
            "text/plain": [
              "LanguageDesireNextYear\n",
              "Java;Python                                    4\n",
              "JavaScript;PHP;SQL;Swift;CSS;Bash/Shell        2\n",
              "C#;Java;JavaScript;Ruby;TypeScript;HTML;CSS    2\n",
              "Name: count, dtype: int64"
            ]
          },
          "metadata": {},
          "execution_count": 68
        }
      ]
    },
    {
      "cell_type": "code",
      "source": [
        "df['LanguageDesireNextYear'].isnull().sum()"
      ],
      "metadata": {
        "colab": {
          "base_uri": "https://localhost:8080/"
        },
        "id": "2wEXX5jztUPN",
        "outputId": "4330cb1e-41df-4e0f-e61c-31e118ad8e2c"
      },
      "execution_count": 69,
      "outputs": [
        {
          "output_type": "execute_result",
          "data": {
            "text/plain": [
              "0"
            ]
          },
          "metadata": {},
          "execution_count": 69
        }
      ]
    },
    {
      "cell_type": "markdown",
      "source": [
        "Hence, there are no existing null values in the language Desire next year column"
      ],
      "metadata": {
        "id": "IOB02QJptbuC"
      }
    },
    {
      "cell_type": "markdown",
      "source": [
        "**Yearscodingprof**"
      ],
      "metadata": {
        "id": "DpIvYka_tl7Y"
      }
    },
    {
      "cell_type": "code",
      "source": [
        "#this returns the the top 10 most coding proficient ones\n",
        "df['YearsCodingProf'].value_counts().nlargest(10)"
      ],
      "metadata": {
        "colab": {
          "base_uri": "https://localhost:8080/"
        },
        "id": "HTVOvj1itYyG",
        "outputId": "28b28493-24d1-41c6-8c68-2d25ffe1c7bc"
      },
      "execution_count": 70,
      "outputs": [
        {
          "output_type": "execute_result",
          "data": {
            "text/plain": [
              "YearsCodingProf\n",
              "3-5 years      26\n",
              "0-2 years      20\n",
              "6-8 years      12\n",
              "9-11 years      9\n",
              "12-14 years     6\n",
              "18-20 years     3\n",
              "21-23 years     2\n",
              "24-26 years     2\n",
              "15-17 years     1\n",
              "Name: count, dtype: int64"
            ]
          },
          "metadata": {},
          "execution_count": 70
        }
      ]
    },
    {
      "cell_type": "code",
      "source": [
        "df['YearsCodingProf'].isnull().sum()"
      ],
      "metadata": {
        "colab": {
          "base_uri": "https://localhost:8080/"
        },
        "id": "Hptn0b6Ut3kL",
        "outputId": "f77083fd-d246-44c2-9d0e-4edb1932c8ad"
      },
      "execution_count": 71,
      "outputs": [
        {
          "output_type": "execute_result",
          "data": {
            "text/plain": [
              "2"
            ]
          },
          "metadata": {},
          "execution_count": 71
        }
      ]
    },
    {
      "cell_type": "code",
      "source": [
        "df['YearsCodingProf'].fillna(method='ffill', inplace=True)"
      ],
      "metadata": {
        "id": "xI1uiR84t-AE"
      },
      "execution_count": 72,
      "outputs": []
    },
    {
      "cell_type": "code",
      "source": [
        "df['YearsCodingProf'].value_counts().nlargest(10)"
      ],
      "metadata": {
        "colab": {
          "base_uri": "https://localhost:8080/"
        },
        "id": "OOeODKlBuI6-",
        "outputId": "cafb7ce1-4645-4d8a-a182-be3890b9e445"
      },
      "execution_count": 73,
      "outputs": [
        {
          "output_type": "execute_result",
          "data": {
            "text/plain": [
              "YearsCodingProf\n",
              "3-5 years      27\n",
              "0-2 years      21\n",
              "6-8 years      12\n",
              "9-11 years      9\n",
              "12-14 years     6\n",
              "18-20 years     3\n",
              "21-23 years     2\n",
              "24-26 years     2\n",
              "15-17 years     1\n",
              "Name: count, dtype: int64"
            ]
          },
          "metadata": {},
          "execution_count": 73
        }
      ]
    },
    {
      "cell_type": "code",
      "source": [
        "df['YearsCodingProf'].isnull().sum()"
      ],
      "metadata": {
        "colab": {
          "base_uri": "https://localhost:8080/"
        },
        "id": "iGiq0aEouASu",
        "outputId": "802c8767-313f-4da3-848c-b7dd2d087098"
      },
      "execution_count": 74,
      "outputs": [
        {
          "output_type": "execute_result",
          "data": {
            "text/plain": [
              "0"
            ]
          },
          "metadata": {},
          "execution_count": 74
        }
      ]
    },
    {
      "cell_type": "markdown",
      "source": [
        "Hence, there are no existing null values in the yearscodingprof column"
      ],
      "metadata": {
        "id": "cjOfpbY4uOjB"
      }
    },
    {
      "cell_type": "code",
      "source": [
        "#the top 10 years coding ones\n",
        "df['YearsCoding'].value_counts().nlargest(10)"
      ],
      "metadata": {
        "colab": {
          "base_uri": "https://localhost:8080/"
        },
        "id": "mWblz6_9uCZR",
        "outputId": "096eb6ac-019e-497a-e44d-1d3f523dadc0"
      },
      "execution_count": 75,
      "outputs": [
        {
          "output_type": "execute_result",
          "data": {
            "text/plain": [
              "YearsCoding\n",
              "6-8 years           17\n",
              "3-5 years           15\n",
              "9-11 years          15\n",
              "0-2 years           11\n",
              "15-17 years          7\n",
              "12-14 years          6\n",
              "24-26 years          5\n",
              "18-20 years          4\n",
              "30 or more years     3\n",
              "Name: count, dtype: int64"
            ]
          },
          "metadata": {},
          "execution_count": 75
        }
      ]
    },
    {
      "cell_type": "code",
      "source": [
        "df['YearsCoding'].isnull().sum()"
      ],
      "metadata": {
        "colab": {
          "base_uri": "https://localhost:8080/"
        },
        "id": "Q5hqJopHuWkK",
        "outputId": "c3cacd20-713f-4093-975e-409fa0131072"
      },
      "execution_count": 76,
      "outputs": [
        {
          "output_type": "execute_result",
          "data": {
            "text/plain": [
              "0"
            ]
          },
          "metadata": {},
          "execution_count": 76
        }
      ]
    },
    {
      "cell_type": "code",
      "source": [
        "#filling missing values\n",
        "df['YearsCoding'].fillna(method='ffill', inplace=True)"
      ],
      "metadata": {
        "id": "t_c4jz26ug5q"
      },
      "execution_count": 77,
      "outputs": []
    },
    {
      "cell_type": "code",
      "source": [
        "df['YearsCoding'].value_counts().nlargest(10)"
      ],
      "metadata": {
        "colab": {
          "base_uri": "https://localhost:8080/"
        },
        "id": "CtrovjDBuxcb",
        "outputId": "32cbfcd0-549d-408b-e674-8fcf6e071bf5"
      },
      "execution_count": 78,
      "outputs": [
        {
          "output_type": "execute_result",
          "data": {
            "text/plain": [
              "YearsCoding\n",
              "6-8 years           17\n",
              "3-5 years           15\n",
              "9-11 years          15\n",
              "0-2 years           11\n",
              "15-17 years          7\n",
              "12-14 years          6\n",
              "24-26 years          5\n",
              "18-20 years          4\n",
              "30 or more years     3\n",
              "Name: count, dtype: int64"
            ]
          },
          "metadata": {},
          "execution_count": 78
        }
      ]
    },
    {
      "cell_type": "code",
      "source": [
        "df['YearsCoding'].isnull().sum()"
      ],
      "metadata": {
        "colab": {
          "base_uri": "https://localhost:8080/"
        },
        "id": "ZB_36JfBukFp",
        "outputId": "f78aac0f-06ca-41d4-9812-07983198fd31"
      },
      "execution_count": 79,
      "outputs": [
        {
          "output_type": "execute_result",
          "data": {
            "text/plain": [
              "0"
            ]
          },
          "metadata": {},
          "execution_count": 79
        }
      ]
    },
    {
      "cell_type": "markdown",
      "source": [
        "Hence, there are no existing null values in the yearscoding column"
      ],
      "metadata": {
        "id": "A7C6tWmJu2sG"
      }
    },
    {
      "cell_type": "markdown",
      "source": [
        "**Operating System**"
      ],
      "metadata": {
        "id": "TnxIzjxCu6QO"
      }
    },
    {
      "cell_type": "code",
      "source": [
        "#top 10 most used operating systems\n",
        "df['OperatingSystem'].value_counts().nlargest(10)"
      ],
      "metadata": {
        "colab": {
          "base_uri": "https://localhost:8080/"
        },
        "id": "yj_CIgyOuqL5",
        "outputId": "332ab12a-de40-4409-af9d-75f8e3f516df"
      },
      "execution_count": 80,
      "outputs": [
        {
          "output_type": "execute_result",
          "data": {
            "text/plain": [
              "OperatingSystem\n",
              "Windows        32\n",
              "MacOS          20\n",
              "Linux-based    15\n",
              "BSD/Unix        1\n",
              "Name: count, dtype: int64"
            ]
          },
          "metadata": {},
          "execution_count": 80
        }
      ]
    },
    {
      "cell_type": "code",
      "source": [
        "df['OperatingSystem'].isnull().sum()"
      ],
      "metadata": {
        "colab": {
          "base_uri": "https://localhost:8080/"
        },
        "id": "GfIBSbjNu-6f",
        "outputId": "a1fcd7b1-bcb3-438d-c43b-9295a032256b"
      },
      "execution_count": 81,
      "outputs": [
        {
          "output_type": "execute_result",
          "data": {
            "text/plain": [
              "15"
            ]
          },
          "metadata": {},
          "execution_count": 81
        }
      ]
    },
    {
      "cell_type": "code",
      "source": [
        "#filling values\n",
        "df['OperatingSystem'].fillna(method='ffill', inplace=True)"
      ],
      "metadata": {
        "id": "HEz3Vxr9vPcu"
      },
      "execution_count": 82,
      "outputs": []
    },
    {
      "cell_type": "code",
      "source": [
        "df['OperatingSystem'].value_counts().nlargest(10)"
      ],
      "metadata": {
        "colab": {
          "base_uri": "https://localhost:8080/"
        },
        "id": "oeSMf-SIvTwZ",
        "outputId": "41995c08-0fba-4da4-ea5e-fe98234e7c1b"
      },
      "execution_count": 83,
      "outputs": [
        {
          "output_type": "execute_result",
          "data": {
            "text/plain": [
              "OperatingSystem\n",
              "Windows        44\n",
              "MacOS          21\n",
              "Linux-based    17\n",
              "BSD/Unix        1\n",
              "Name: count, dtype: int64"
            ]
          },
          "metadata": {},
          "execution_count": 83
        }
      ]
    },
    {
      "cell_type": "code",
      "source": [
        "df['OperatingSystem'].isnull().sum()"
      ],
      "metadata": {
        "colab": {
          "base_uri": "https://localhost:8080/"
        },
        "id": "FofzEDQkvWll",
        "outputId": "7577bd58-594f-4605-d187-a96fcde66640"
      },
      "execution_count": 84,
      "outputs": [
        {
          "output_type": "execute_result",
          "data": {
            "text/plain": [
              "0"
            ]
          },
          "metadata": {},
          "execution_count": 84
        }
      ]
    },
    {
      "cell_type": "markdown",
      "source": [
        "Hence, there are no existing null values in the operating system column"
      ],
      "metadata": {
        "id": "cCjVGXBtwNrC"
      }
    },
    {
      "cell_type": "markdown",
      "source": [
        "**Salary Type**"
      ],
      "metadata": {
        "id": "9BviI_lAwZpR"
      }
    },
    {
      "cell_type": "code",
      "source": [
        "#top 10 frequently used salary types\n",
        "df['SalaryType'].value_counts().nlargest(10)"
      ],
      "metadata": {
        "colab": {
          "base_uri": "https://localhost:8080/"
        },
        "id": "EjK1EthMvZmc",
        "outputId": "a687b413-53ef-4f3a-e898-2f73ffd5ba80"
      },
      "execution_count": 85,
      "outputs": [
        {
          "output_type": "execute_result",
          "data": {
            "text/plain": [
              "SalaryType\n",
              "Monthly    25\n",
              "Yearly     22\n",
              "Weekly      1\n",
              "Name: count, dtype: int64"
            ]
          },
          "metadata": {},
          "execution_count": 85
        }
      ]
    },
    {
      "cell_type": "code",
      "source": [
        "df['SalaryType'].isnull().sum()"
      ],
      "metadata": {
        "colab": {
          "base_uri": "https://localhost:8080/"
        },
        "id": "P5qYCnc2wn4T",
        "outputId": "f2fefea0-c426-412e-c3d3-37ee1ffa0ad5"
      },
      "execution_count": 86,
      "outputs": [
        {
          "output_type": "execute_result",
          "data": {
            "text/plain": [
              "35"
            ]
          },
          "metadata": {},
          "execution_count": 86
        }
      ]
    },
    {
      "cell_type": "code",
      "source": [
        "df['SalaryType'].fillna(method='ffill', inplace=True)"
      ],
      "metadata": {
        "id": "-x9tHjLQwq5t"
      },
      "execution_count": 87,
      "outputs": []
    },
    {
      "cell_type": "code",
      "source": [
        "df['SalaryType'].value_counts().nlargest(10)"
      ],
      "metadata": {
        "colab": {
          "base_uri": "https://localhost:8080/"
        },
        "id": "YnB1-anYws9D",
        "outputId": "8adcc589-028f-4f8c-d25c-125961fbcda2"
      },
      "execution_count": 88,
      "outputs": [
        {
          "output_type": "execute_result",
          "data": {
            "text/plain": [
              "SalaryType\n",
              "Monthly    42\n",
              "Yearly     39\n",
              "Weekly      2\n",
              "Name: count, dtype: int64"
            ]
          },
          "metadata": {},
          "execution_count": 88
        }
      ]
    },
    {
      "cell_type": "code",
      "source": [
        "df['SalaryType'].isnull().sum()"
      ],
      "metadata": {
        "colab": {
          "base_uri": "https://localhost:8080/"
        },
        "id": "r_EK-CI5wvUc",
        "outputId": "7df61c2e-940a-495f-a789-97fb9625cb63"
      },
      "execution_count": 89,
      "outputs": [
        {
          "output_type": "execute_result",
          "data": {
            "text/plain": [
              "0"
            ]
          },
          "metadata": {},
          "execution_count": 89
        }
      ]
    },
    {
      "cell_type": "markdown",
      "source": [
        "Hence, there are no existing null values in the salary type column"
      ],
      "metadata": {
        "id": "cSybCP-aw5LC"
      }
    },
    {
      "cell_type": "markdown",
      "source": [
        "**Currency**"
      ],
      "metadata": {
        "id": "WQmFdwV3w-_L"
      }
    },
    {
      "cell_type": "code",
      "source": [
        "#top 10 used currency\n",
        "df['Currency'].value_counts().nlargest(10)"
      ],
      "metadata": {
        "colab": {
          "base_uri": "https://localhost:8080/"
        },
        "id": "g21xj2qGwycm",
        "outputId": "12045289-1f13-4d9c-8dc8-e54711697b17"
      },
      "execution_count": 90,
      "outputs": [
        {
          "output_type": "execute_result",
          "data": {
            "text/plain": [
              "Currency\n",
              "U.S. dollars ($)                20\n",
              "Euros (‚Ç¨)                     11\n",
              "British pounds sterling (¬£)     7\n",
              "Indian rupees (‚Çπ)              7\n",
              "Swedish kroner (SEK)             3\n",
              "Russian rubles (‚ÇΩ)             3\n",
              "Polish z≈Çoty (z≈Ç)              2\n",
              "Chinese yuan renminbi (¬•)       2\n",
              "South African rands (R)          1\n",
              "Australian dollars (A$)          1\n",
              "Name: count, dtype: int64"
            ]
          },
          "metadata": {},
          "execution_count": 90
        }
      ]
    },
    {
      "cell_type": "code",
      "source": [
        "df['Currency'].isnull().sum()"
      ],
      "metadata": {
        "colab": {
          "base_uri": "https://localhost:8080/"
        },
        "id": "CFcuvPTWxIO_",
        "outputId": "25844916-8d3e-4146-ff12-72c5045246e5"
      },
      "execution_count": 91,
      "outputs": [
        {
          "output_type": "execute_result",
          "data": {
            "text/plain": [
              "23"
            ]
          },
          "metadata": {},
          "execution_count": 91
        }
      ]
    },
    {
      "cell_type": "code",
      "source": [
        "df['Currency'].fillna(method='ffill', inplace=True)"
      ],
      "metadata": {
        "id": "tRct3FX2xLlp"
      },
      "execution_count": 92,
      "outputs": []
    },
    {
      "cell_type": "code",
      "source": [
        "df.dropna(subset=['Currency'], inplace = True)"
      ],
      "metadata": {
        "id": "siI0zCLQxN2E"
      },
      "execution_count": 93,
      "outputs": []
    },
    {
      "cell_type": "code",
      "source": [
        "df['Currency'].value_counts().nlargest(10)"
      ],
      "metadata": {
        "colab": {
          "base_uri": "https://localhost:8080/"
        },
        "id": "slvL5FMsxWCx",
        "outputId": "a5d0c36c-a058-43cf-8be0-7ae599156fd9"
      },
      "execution_count": 94,
      "outputs": [
        {
          "output_type": "execute_result",
          "data": {
            "text/plain": [
              "Currency\n",
              "U.S. dollars ($)                27\n",
              "Euros (‚Ç¨)                     16\n",
              "British pounds sterling (¬£)    10\n",
              "Indian rupees (‚Çπ)              8\n",
              "Chinese yuan renminbi (¬•)       5\n",
              "Swedish kroner (SEK)             4\n",
              "Russian rubles (‚ÇΩ)             4\n",
              "Polish z≈Çoty (z≈Ç)              2\n",
              "Brazilian reais (R$)             2\n",
              "South African rands (R)          1\n",
              "Name: count, dtype: int64"
            ]
          },
          "metadata": {},
          "execution_count": 94
        }
      ]
    },
    {
      "cell_type": "code",
      "source": [
        "df['Currency'].isnull().sum()"
      ],
      "metadata": {
        "colab": {
          "base_uri": "https://localhost:8080/"
        },
        "id": "5A2t9JscxYgE",
        "outputId": "2287575f-6df5-4fb1-ae47-5936b3e5f2d4"
      },
      "execution_count": 95,
      "outputs": [
        {
          "output_type": "execute_result",
          "data": {
            "text/plain": [
              "0"
            ]
          },
          "metadata": {},
          "execution_count": 95
        }
      ]
    },
    {
      "cell_type": "markdown",
      "source": [
        "Hence, there are no existing null values in the currency column"
      ],
      "metadata": {
        "id": "1SwoIy1nxclx"
      }
    },
    {
      "cell_type": "markdown",
      "source": [
        "renaming the column for our convinience"
      ],
      "metadata": {
        "id": "5ZN2w7IQ6oDj"
      }
    },
    {
      "cell_type": "code",
      "source": [
        "col=['Age','ConvertedSalary','Country','Currency','DevType','Employment','RaceEthnicity','Gender','SalaryType','Hobby','JobSatisfaction','JobSearchStatus','OperatingSystem','UndergradMajor','YearsCoding','YearsCodingProf','LanguageDesireNextYear','LanguageWorkedWith','FormalEducation']\n",
        "df1=df[col]\n",
        "#renaming the coloumn\n",
        "# 'ConvertedSalary': 'SalaryUSD'\n",
        "df.rename(columns={'ConvertedSalary': 'SalaryUSD' }, inplace =True)\n",
        "df.sort_index(axis=1).head(2)"
      ],
      "metadata": {
        "colab": {
          "base_uri": "https://localhost:8080/",
          "height": 248
        },
        "id": "RYdkvEksxbOA",
        "outputId": "40835601-abb7-4a4a-d88e-faaa109ec63f"
      },
      "execution_count": 98,
      "outputs": [
        {
          "output_type": "execute_result",
          "data": {
            "text/plain": [
              "                     AIDangerous  \\\n",
              "1  Increasing automation of jobs   \n",
              "2                            NaN   \n",
              "\n",
              "                                            AIFuture  \\\n",
              "1  I'm excited about the possibilities more than ...   \n",
              "2                                                NaN   \n",
              "\n",
              "                   AIInteresting  \\\n",
              "1  Increasing automation of jobs   \n",
              "2                            NaN   \n",
              "\n",
              "                                  AIResponsible AdBlocker AdBlockerDisable  \\\n",
              "1  The developers or the people creating the AI       Yes              Yes   \n",
              "2                                           NaN       NaN              NaN   \n",
              "\n",
              "                                    AdBlockerReasons AdsActions  \\\n",
              "1  The website I was visiting asked me to disable it        NaN   \n",
              "2                                                NaN        NaN   \n",
              "\n",
              "  AdsAgreeDisagree1           AdsAgreeDisagree2  ...     SurveyEasy  \\\n",
              "1    Somewhat agree  Neither agree nor disagree  ...  Somewhat easy   \n",
              "2               NaN                         NaN  ...            NaN   \n",
              "\n",
              "                          SurveyTooLong  TimeAfterBootcamp  \\\n",
              "1  The survey was an appropriate length                NaN   \n",
              "2                                   NaN                NaN   \n",
              "\n",
              "   TimeFullyProductive    UndergradMajor                             UpdateCV  \\\n",
              "1  One to three months     Other Science  I saw an employer‚Äôs advertisement   \n",
              "2                  NaN  Computer Science                                  NaN   \n",
              "\n",
              "   VersionControl                WakeTime       YearsCoding YearsCodingProf  \n",
              "1  Git;Subversion  Between 6:01 - 7:00 AM  30 or more years     18-20 years  \n",
              "2             NaN                     NaN       24-26 years       6-8 years  \n",
              "\n",
              "[2 rows x 129 columns]"
            ],
            "text/html": [
              "\n",
              "  <div id=\"df-332043ed-3ee3-4d41-8028-fa027c92218d\" class=\"colab-df-container\">\n",
              "    <div>\n",
              "<style scoped>\n",
              "    .dataframe tbody tr th:only-of-type {\n",
              "        vertical-align: middle;\n",
              "    }\n",
              "\n",
              "    .dataframe tbody tr th {\n",
              "        vertical-align: top;\n",
              "    }\n",
              "\n",
              "    .dataframe thead th {\n",
              "        text-align: right;\n",
              "    }\n",
              "</style>\n",
              "<table border=\"1\" class=\"dataframe\">\n",
              "  <thead>\n",
              "    <tr style=\"text-align: right;\">\n",
              "      <th></th>\n",
              "      <th>AIDangerous</th>\n",
              "      <th>AIFuture</th>\n",
              "      <th>AIInteresting</th>\n",
              "      <th>AIResponsible</th>\n",
              "      <th>AdBlocker</th>\n",
              "      <th>AdBlockerDisable</th>\n",
              "      <th>AdBlockerReasons</th>\n",
              "      <th>AdsActions</th>\n",
              "      <th>AdsAgreeDisagree1</th>\n",
              "      <th>AdsAgreeDisagree2</th>\n",
              "      <th>...</th>\n",
              "      <th>SurveyEasy</th>\n",
              "      <th>SurveyTooLong</th>\n",
              "      <th>TimeAfterBootcamp</th>\n",
              "      <th>TimeFullyProductive</th>\n",
              "      <th>UndergradMajor</th>\n",
              "      <th>UpdateCV</th>\n",
              "      <th>VersionControl</th>\n",
              "      <th>WakeTime</th>\n",
              "      <th>YearsCoding</th>\n",
              "      <th>YearsCodingProf</th>\n",
              "    </tr>\n",
              "  </thead>\n",
              "  <tbody>\n",
              "    <tr>\n",
              "      <th>1</th>\n",
              "      <td>Increasing automation of jobs</td>\n",
              "      <td>I'm excited about the possibilities more than ...</td>\n",
              "      <td>Increasing automation of jobs</td>\n",
              "      <td>The developers or the people creating the AI</td>\n",
              "      <td>Yes</td>\n",
              "      <td>Yes</td>\n",
              "      <td>The website I was visiting asked me to disable it</td>\n",
              "      <td>NaN</td>\n",
              "      <td>Somewhat agree</td>\n",
              "      <td>Neither agree nor disagree</td>\n",
              "      <td>...</td>\n",
              "      <td>Somewhat easy</td>\n",
              "      <td>The survey was an appropriate length</td>\n",
              "      <td>NaN</td>\n",
              "      <td>One to three months</td>\n",
              "      <td>Other Science</td>\n",
              "      <td>I saw an employer‚Äôs advertisement</td>\n",
              "      <td>Git;Subversion</td>\n",
              "      <td>Between 6:01 - 7:00 AM</td>\n",
              "      <td>30 or more years</td>\n",
              "      <td>18-20 years</td>\n",
              "    </tr>\n",
              "    <tr>\n",
              "      <th>2</th>\n",
              "      <td>NaN</td>\n",
              "      <td>NaN</td>\n",
              "      <td>NaN</td>\n",
              "      <td>NaN</td>\n",
              "      <td>NaN</td>\n",
              "      <td>NaN</td>\n",
              "      <td>NaN</td>\n",
              "      <td>NaN</td>\n",
              "      <td>NaN</td>\n",
              "      <td>NaN</td>\n",
              "      <td>...</td>\n",
              "      <td>NaN</td>\n",
              "      <td>NaN</td>\n",
              "      <td>NaN</td>\n",
              "      <td>NaN</td>\n",
              "      <td>Computer Science</td>\n",
              "      <td>NaN</td>\n",
              "      <td>NaN</td>\n",
              "      <td>NaN</td>\n",
              "      <td>24-26 years</td>\n",
              "      <td>6-8 years</td>\n",
              "    </tr>\n",
              "  </tbody>\n",
              "</table>\n",
              "<p>2 rows × 129 columns</p>\n",
              "</div>\n",
              "    <div class=\"colab-df-buttons\">\n",
              "\n",
              "  <div class=\"colab-df-container\">\n",
              "    <button class=\"colab-df-convert\" onclick=\"convertToInteractive('df-332043ed-3ee3-4d41-8028-fa027c92218d')\"\n",
              "            title=\"Convert this dataframe to an interactive table.\"\n",
              "            style=\"display:none;\">\n",
              "\n",
              "  <svg xmlns=\"http://www.w3.org/2000/svg\" height=\"24px\" viewBox=\"0 -960 960 960\">\n",
              "    <path d=\"M120-120v-720h720v720H120Zm60-500h600v-160H180v160Zm220 220h160v-160H400v160Zm0 220h160v-160H400v160ZM180-400h160v-160H180v160Zm440 0h160v-160H620v160ZM180-180h160v-160H180v160Zm440 0h160v-160H620v160Z\"/>\n",
              "  </svg>\n",
              "    </button>\n",
              "\n",
              "  <style>\n",
              "    .colab-df-container {\n",
              "      display:flex;\n",
              "      gap: 12px;\n",
              "    }\n",
              "\n",
              "    .colab-df-convert {\n",
              "      background-color: #E8F0FE;\n",
              "      border: none;\n",
              "      border-radius: 50%;\n",
              "      cursor: pointer;\n",
              "      display: none;\n",
              "      fill: #1967D2;\n",
              "      height: 32px;\n",
              "      padding: 0 0 0 0;\n",
              "      width: 32px;\n",
              "    }\n",
              "\n",
              "    .colab-df-convert:hover {\n",
              "      background-color: #E2EBFA;\n",
              "      box-shadow: 0px 1px 2px rgba(60, 64, 67, 0.3), 0px 1px 3px 1px rgba(60, 64, 67, 0.15);\n",
              "      fill: #174EA6;\n",
              "    }\n",
              "\n",
              "    .colab-df-buttons div {\n",
              "      margin-bottom: 4px;\n",
              "    }\n",
              "\n",
              "    [theme=dark] .colab-df-convert {\n",
              "      background-color: #3B4455;\n",
              "      fill: #D2E3FC;\n",
              "    }\n",
              "\n",
              "    [theme=dark] .colab-df-convert:hover {\n",
              "      background-color: #434B5C;\n",
              "      box-shadow: 0px 1px 3px 1px rgba(0, 0, 0, 0.15);\n",
              "      filter: drop-shadow(0px 1px 2px rgba(0, 0, 0, 0.3));\n",
              "      fill: #FFFFFF;\n",
              "    }\n",
              "  </style>\n",
              "\n",
              "    <script>\n",
              "      const buttonEl =\n",
              "        document.querySelector('#df-332043ed-3ee3-4d41-8028-fa027c92218d button.colab-df-convert');\n",
              "      buttonEl.style.display =\n",
              "        google.colab.kernel.accessAllowed ? 'block' : 'none';\n",
              "\n",
              "      async function convertToInteractive(key) {\n",
              "        const element = document.querySelector('#df-332043ed-3ee3-4d41-8028-fa027c92218d');\n",
              "        const dataTable =\n",
              "          await google.colab.kernel.invokeFunction('convertToInteractive',\n",
              "                                                    [key], {});\n",
              "        if (!dataTable) return;\n",
              "\n",
              "        const docLinkHtml = 'Like what you see? Visit the ' +\n",
              "          '<a target=\"_blank\" href=https://colab.research.google.com/notebooks/data_table.ipynb>data table notebook</a>'\n",
              "          + ' to learn more about interactive tables.';\n",
              "        element.innerHTML = '';\n",
              "        dataTable['output_type'] = 'display_data';\n",
              "        await google.colab.output.renderOutput(dataTable, element);\n",
              "        const docLink = document.createElement('div');\n",
              "        docLink.innerHTML = docLinkHtml;\n",
              "        element.appendChild(docLink);\n",
              "      }\n",
              "    </script>\n",
              "  </div>\n",
              "\n",
              "\n",
              "<div id=\"df-fb82f633-0707-43e6-b8f4-3893f4b0f68a\">\n",
              "  <button class=\"colab-df-quickchart\" onclick=\"quickchart('df-fb82f633-0707-43e6-b8f4-3893f4b0f68a')\"\n",
              "            title=\"Suggest charts\"\n",
              "            style=\"display:none;\">\n",
              "\n",
              "<svg xmlns=\"http://www.w3.org/2000/svg\" height=\"24px\"viewBox=\"0 0 24 24\"\n",
              "     width=\"24px\">\n",
              "    <g>\n",
              "        <path d=\"M19 3H5c-1.1 0-2 .9-2 2v14c0 1.1.9 2 2 2h14c1.1 0 2-.9 2-2V5c0-1.1-.9-2-2-2zM9 17H7v-7h2v7zm4 0h-2V7h2v10zm4 0h-2v-4h2v4z\"/>\n",
              "    </g>\n",
              "</svg>\n",
              "  </button>\n",
              "\n",
              "<style>\n",
              "  .colab-df-quickchart {\n",
              "      --bg-color: #E8F0FE;\n",
              "      --fill-color: #1967D2;\n",
              "      --hover-bg-color: #E2EBFA;\n",
              "      --hover-fill-color: #174EA6;\n",
              "      --disabled-fill-color: #AAA;\n",
              "      --disabled-bg-color: #DDD;\n",
              "  }\n",
              "\n",
              "  [theme=dark] .colab-df-quickchart {\n",
              "      --bg-color: #3B4455;\n",
              "      --fill-color: #D2E3FC;\n",
              "      --hover-bg-color: #434B5C;\n",
              "      --hover-fill-color: #FFFFFF;\n",
              "      --disabled-bg-color: #3B4455;\n",
              "      --disabled-fill-color: #666;\n",
              "  }\n",
              "\n",
              "  .colab-df-quickchart {\n",
              "    background-color: var(--bg-color);\n",
              "    border: none;\n",
              "    border-radius: 50%;\n",
              "    cursor: pointer;\n",
              "    display: none;\n",
              "    fill: var(--fill-color);\n",
              "    height: 32px;\n",
              "    padding: 0;\n",
              "    width: 32px;\n",
              "  }\n",
              "\n",
              "  .colab-df-quickchart:hover {\n",
              "    background-color: var(--hover-bg-color);\n",
              "    box-shadow: 0 1px 2px rgba(60, 64, 67, 0.3), 0 1px 3px 1px rgba(60, 64, 67, 0.15);\n",
              "    fill: var(--button-hover-fill-color);\n",
              "  }\n",
              "\n",
              "  .colab-df-quickchart-complete:disabled,\n",
              "  .colab-df-quickchart-complete:disabled:hover {\n",
              "    background-color: var(--disabled-bg-color);\n",
              "    fill: var(--disabled-fill-color);\n",
              "    box-shadow: none;\n",
              "  }\n",
              "\n",
              "  .colab-df-spinner {\n",
              "    border: 2px solid var(--fill-color);\n",
              "    border-color: transparent;\n",
              "    border-bottom-color: var(--fill-color);\n",
              "    animation:\n",
              "      spin 1s steps(1) infinite;\n",
              "  }\n",
              "\n",
              "  @keyframes spin {\n",
              "    0% {\n",
              "      border-color: transparent;\n",
              "      border-bottom-color: var(--fill-color);\n",
              "      border-left-color: var(--fill-color);\n",
              "    }\n",
              "    20% {\n",
              "      border-color: transparent;\n",
              "      border-left-color: var(--fill-color);\n",
              "      border-top-color: var(--fill-color);\n",
              "    }\n",
              "    30% {\n",
              "      border-color: transparent;\n",
              "      border-left-color: var(--fill-color);\n",
              "      border-top-color: var(--fill-color);\n",
              "      border-right-color: var(--fill-color);\n",
              "    }\n",
              "    40% {\n",
              "      border-color: transparent;\n",
              "      border-right-color: var(--fill-color);\n",
              "      border-top-color: var(--fill-color);\n",
              "    }\n",
              "    60% {\n",
              "      border-color: transparent;\n",
              "      border-right-color: var(--fill-color);\n",
              "    }\n",
              "    80% {\n",
              "      border-color: transparent;\n",
              "      border-right-color: var(--fill-color);\n",
              "      border-bottom-color: var(--fill-color);\n",
              "    }\n",
              "    90% {\n",
              "      border-color: transparent;\n",
              "      border-bottom-color: var(--fill-color);\n",
              "    }\n",
              "  }\n",
              "</style>\n",
              "\n",
              "  <script>\n",
              "    async function quickchart(key) {\n",
              "      const quickchartButtonEl =\n",
              "        document.querySelector('#' + key + ' button');\n",
              "      quickchartButtonEl.disabled = true;  // To prevent multiple clicks.\n",
              "      quickchartButtonEl.classList.add('colab-df-spinner');\n",
              "      try {\n",
              "        const charts = await google.colab.kernel.invokeFunction(\n",
              "            'suggestCharts', [key], {});\n",
              "      } catch (error) {\n",
              "        console.error('Error during call to suggestCharts:', error);\n",
              "      }\n",
              "      quickchartButtonEl.classList.remove('colab-df-spinner');\n",
              "      quickchartButtonEl.classList.add('colab-df-quickchart-complete');\n",
              "    }\n",
              "    (() => {\n",
              "      let quickchartButtonEl =\n",
              "        document.querySelector('#df-fb82f633-0707-43e6-b8f4-3893f4b0f68a button');\n",
              "      quickchartButtonEl.style.display =\n",
              "        google.colab.kernel.accessAllowed ? 'block' : 'none';\n",
              "    })();\n",
              "  </script>\n",
              "</div>\n",
              "\n",
              "    </div>\n",
              "  </div>\n"
            ],
            "application/vnd.google.colaboratory.intrinsic+json": {
              "type": "dataframe"
            }
          },
          "metadata": {},
          "execution_count": 98
        }
      ]
    },
    {
      "cell_type": "code",
      "source": [
        "#top 10 salaries\n",
        "df['SalaryUSD'].value_counts().nlargest(10)"
      ],
      "metadata": {
        "colab": {
          "base_uri": "https://localhost:8080/"
        },
        "id": "iOeLpbNu5xYD",
        "outputId": "a15e2a35-355e-4ef9-ba76-d450eb22ee59"
      },
      "execution_count": 100,
      "outputs": [
        {
          "output_type": "execute_result",
          "data": {
            "text/plain": [
              "SalaryUSD\n",
              "120000.0    3\n",
              "30000.0     2\n",
              "115000.0    2\n",
              "70841.0     1\n",
              "36000.0     1\n",
              "90000.0     1\n",
              "73428.0     1\n",
              "128507.0    1\n",
              "13212.0     1\n",
              "48955.0     1\n",
              "Name: count, dtype: int64"
            ]
          },
          "metadata": {},
          "execution_count": 100
        }
      ]
    },
    {
      "cell_type": "code",
      "source": [
        "df['SalaryUSD'].isnull().sum()"
      ],
      "metadata": {
        "colab": {
          "base_uri": "https://localhost:8080/"
        },
        "id": "ViidUYaW62ha",
        "outputId": "e7453826-3b4a-4854-ce38-451df5352e17"
      },
      "execution_count": 101,
      "outputs": [
        {
          "output_type": "execute_result",
          "data": {
            "text/plain": [
              "36"
            ]
          },
          "metadata": {},
          "execution_count": 101
        }
      ]
    },
    {
      "cell_type": "code",
      "source": [
        "#grouping the salary based on the devtype and their country\n",
        "mean_salary = df.groupby(['DevType','Country'])['SalaryUSD'].mean()"
      ],
      "metadata": {
        "id": "1PuVMW007JQx"
      },
      "execution_count": 106,
      "outputs": []
    },
    {
      "cell_type": "code",
      "source": [
        "mean_salary.nlargest(10)"
      ],
      "metadata": {
        "colab": {
          "base_uri": "https://localhost:8080/"
        },
        "id": "B14qBmwx7Mm2",
        "outputId": "f46363e7-7168-41b5-a69a-caa2f45b4498"
      },
      "execution_count": 104,
      "outputs": [
        {
          "output_type": "execute_result",
          "data": {
            "text/plain": [
              "DevType        Country       \n",
              "Developer      United States     146687.5\n",
              "               Ireland           128507.0\n",
              "Non developer  India             123984.0\n",
              "Developer      Australia          95968.0\n",
              "               Colombia           64116.0\n",
              "               Germany            61191.5\n",
              "               Sweden             60257.5\n",
              "               China              52604.0\n",
              "               Greece             51408.0\n",
              "               United Kingdom     48144.8\n",
              "Name: SalaryUSD, dtype: float64"
            ]
          },
          "metadata": {},
          "execution_count": 104
        }
      ]
    },
    {
      "cell_type": "code",
      "source": [
        "#grouping the salary based on the devtype and their country and results the mean for each\n",
        "means = df.groupby(['YearsCodingProf','DevType', 'Country'])['SalaryUSD'].transform('mean')"
      ],
      "metadata": {
        "id": "vyFU-a0q7hYG"
      },
      "execution_count": 107,
      "outputs": []
    },
    {
      "cell_type": "code",
      "source": [
        "#filling the null values with the mean values\n",
        "df['SalaryUSD'] = df['SalaryUSD'].fillna(means)"
      ],
      "metadata": {
        "id": "JZiz2R937nDK"
      },
      "execution_count": 109,
      "outputs": []
    },
    {
      "cell_type": "code",
      "source": [
        "#grouping the mean salry based on the yearscodingprof,devtype and country columns\n",
        "mean_salary = df.groupby(['YearsCodingProf','DevType','Country'])['SalaryUSD'].mean()"
      ],
      "metadata": {
        "id": "Pi_YcfwD8FK5"
      },
      "execution_count": 111,
      "outputs": []
    },
    {
      "cell_type": "code",
      "source": [
        "mean_salary.nlargest(10)"
      ],
      "metadata": {
        "colab": {
          "base_uri": "https://localhost:8080/"
        },
        "id": "aNWX4Zok8MRy",
        "outputId": "d0bef784-50b0-478f-b188-bc5218800be9"
      },
      "execution_count": 112,
      "outputs": [
        {
          "output_type": "execute_result",
          "data": {
            "text/plain": [
              "YearsCodingProf  DevType        Country       \n",
              "21-23 years      Developer      United States     250000.000000\n",
              "0-2 years        Developer      United States     244000.000000\n",
              "15-17 years      Developer      Ireland           128507.000000\n",
              "0-2 years        Non developer  India             123984.000000\n",
              "9-11 years       Developer      United States     115000.000000\n",
              "12-14 years      Developer      Australia          95968.000000\n",
              "18-20 years      Developer      United States      95000.000000\n",
              "6-8 years        Developer      United States      91333.333333\n",
              "3-5 years        Developer      China              85708.000000\n",
              "9-11 years       Developer      United Kingdom     82648.000000\n",
              "Name: SalaryUSD, dtype: float64"
            ]
          },
          "metadata": {},
          "execution_count": 112
        }
      ]
    },
    {
      "cell_type": "code",
      "source": [
        "df.dropna(subset=['SalaryUSD'], inplace = True)"
      ],
      "metadata": {
        "id": "RV4purXk8YwP"
      },
      "execution_count": 113,
      "outputs": []
    },
    {
      "cell_type": "markdown",
      "source": [
        "**AGE**"
      ],
      "metadata": {
        "id": "1zhbNy2S8cf3"
      }
    },
    {
      "cell_type": "code",
      "source": [
        "#frequently used top 10 ages\n",
        "df['Age'].value_counts().nlargest(10)"
      ],
      "metadata": {
        "colab": {
          "base_uri": "https://localhost:8080/"
        },
        "id": "NO728mSY8bEC",
        "outputId": "651a6720-e530-4e3a-b683-a126dfb43457"
      },
      "execution_count": 114,
      "outputs": [
        {
          "output_type": "execute_result",
          "data": {
            "text/plain": [
              "Age\n",
              "25 - 34 years old    22\n",
              "35 - 44 years old    13\n",
              "18 - 24 years old    13\n",
              "45 - 54 years old     1\n",
              "Name: count, dtype: int64"
            ]
          },
          "metadata": {},
          "execution_count": 114
        }
      ]
    },
    {
      "cell_type": "code",
      "source": [
        "df['Age'].isnull().sum()"
      ],
      "metadata": {
        "colab": {
          "base_uri": "https://localhost:8080/"
        },
        "id": "SGAuNMgn8muK",
        "outputId": "621e8e5e-dc06-4bf2-e13d-c206896e8e30"
      },
      "execution_count": 115,
      "outputs": [
        {
          "output_type": "execute_result",
          "data": {
            "text/plain": [
              "10"
            ]
          },
          "metadata": {},
          "execution_count": 115
        }
      ]
    },
    {
      "cell_type": "code",
      "source": [
        "df['Age'].fillna(method='ffill', inplace=True)"
      ],
      "metadata": {
        "id": "olP6Db5J8pbD"
      },
      "execution_count": 116,
      "outputs": []
    },
    {
      "cell_type": "code",
      "source": [
        "df['Age'].value_counts().nlargest(10)"
      ],
      "metadata": {
        "colab": {
          "base_uri": "https://localhost:8080/"
        },
        "id": "Bk5V6oIM8u3z",
        "outputId": "d0eef3a7-d251-4191-bdaa-4fbb2c6ea163"
      },
      "execution_count": 118,
      "outputs": [
        {
          "output_type": "execute_result",
          "data": {
            "text/plain": [
              "Age\n",
              "25 - 34 years old    26\n",
              "35 - 44 years old    16\n",
              "18 - 24 years old    16\n",
              "45 - 54 years old     1\n",
              "Name: count, dtype: int64"
            ]
          },
          "metadata": {},
          "execution_count": 118
        }
      ]
    },
    {
      "cell_type": "code",
      "source": [
        "df['Age'].isnull().sum()"
      ],
      "metadata": {
        "colab": {
          "base_uri": "https://localhost:8080/"
        },
        "id": "yRa2gNv68riy",
        "outputId": "27bbe03b-c55d-423e-b530-8c2cdc53bc09"
      },
      "execution_count": 117,
      "outputs": [
        {
          "output_type": "execute_result",
          "data": {
            "text/plain": [
              "0"
            ]
          },
          "metadata": {},
          "execution_count": 117
        }
      ]
    },
    {
      "cell_type": "markdown",
      "source": [
        "Hence, there are no existing null values in age column"
      ],
      "metadata": {
        "id": "qsC_39Qo83__"
      }
    },
    {
      "cell_type": "markdown",
      "source": [
        "**Formal Education**\n"
      ],
      "metadata": {
        "id": "QZEkje_V9AGJ"
      }
    },
    {
      "cell_type": "code",
      "source": [
        "df['FormalEducation'].isnull().sum()"
      ],
      "metadata": {
        "colab": {
          "base_uri": "https://localhost:8080/"
        },
        "id": "NK5Ynajx8vzu",
        "outputId": "6d9b5b48-a974-4889-bb4a-218be23f9b70"
      },
      "execution_count": 119,
      "outputs": [
        {
          "output_type": "execute_result",
          "data": {
            "text/plain": [
              "0"
            ]
          },
          "metadata": {},
          "execution_count": 119
        }
      ]
    },
    {
      "cell_type": "code",
      "source": [
        "df['FormalEducation'].value_counts()"
      ],
      "metadata": {
        "colab": {
          "base_uri": "https://localhost:8080/"
        },
        "id": "ngTqWgm09HYP",
        "outputId": "287f4077-2189-4657-bace-f14eb6c94d07"
      },
      "execution_count": 120,
      "outputs": [
        {
          "output_type": "execute_result",
          "data": {
            "text/plain": [
              "FormalEducation\n",
              "Bachelor‚Äôs degree (BA, BS, B.Eng., etc.)                                            25\n",
              "Master‚Äôs degree (MA, MS, M.Eng., MBA, etc.)                                         17\n",
              "Some college/university study without earning a degree                                12\n",
              "Secondary school (e.g. American high school, German Realschule or Gymnasium, etc.)     3\n",
              "Associate degree                                                                       2\n",
              "Name: count, dtype: int64"
            ]
          },
          "metadata": {},
          "execution_count": 120
        }
      ]
    },
    {
      "cell_type": "code",
      "source": [
        "#Changing column's name for our convinienccce\n",
        "df.rename(columns={'FormalEducation':'EdLevel'}, inplace =True)"
      ],
      "metadata": {
        "id": "3eoaxYJb9Jo0"
      },
      "execution_count": 121,
      "outputs": []
    },
    {
      "cell_type": "markdown",
      "source": [
        "Categorizing the given fields into few optimized fields"
      ],
      "metadata": {
        "id": "NgV5cbDd9Xx9"
      }
    },
    {
      "cell_type": "code",
      "source": [
        "def refactor_ed(df):\n",
        "    '''function to change Education level category to Bachelors, Masters, Professional, Associate, Doctorate, No Degree'''\n",
        "    conditions_ed = [(df['EdLevel'] == 'Associate degree'),\n",
        "                    (df['EdLevel'] == 'Bachelor’s degree (BA, BS, B.Eng., etc.)'),\n",
        "                    (df['EdLevel'] == 'Master’s degree (MA, MS, M.Eng., MBA, etc.)'),\n",
        "                    (df['EdLevel'] == 'Professional degree (JD, MD, etc.)'),\n",
        "                    (df['EdLevel'] == 'Other doctoral degree (Ph.D, Ed.D., etc.)'),\n",
        "                    (df['EdLevel'] == 'Some college/university study without earning a degree')\n",
        "                    | (df['EdLevel'] == 'Secondary school (e.g. American high school, German Realschule or Gymnasium, etc.)')\n",
        "                    | (df['EdLevel'] == 'Primary/elementary school')\n",
        "                    | (df['EdLevel'] == 'I never completed any formal education')]\n",
        "\n",
        "    choices_ed = ['Associate', 'Bachelors', 'Masters', 'Professional',  'Doctorate', 'No Degree']\n",
        "    df['EdLevel'] = np.select(conditions_ed, choices_ed, default = np.NaN)\n",
        "    return df"
      ],
      "metadata": {
        "id": "lhdFv5Ym9QIX"
      },
      "execution_count": 122,
      "outputs": []
    },
    {
      "cell_type": "code",
      "source": [
        "df = refactor_ed(df)"
      ],
      "metadata": {
        "id": "NewXTlW79TrK"
      },
      "execution_count": 123,
      "outputs": []
    },
    {
      "cell_type": "code",
      "source": [
        "#Assigining the surveyors who havent mentioned their education level to Bachelor’s degree\n",
        "df['EdLevel'].replace('nan', 'Bachelors', inplace=True)"
      ],
      "metadata": {
        "id": "i-KubSAV9odW"
      },
      "execution_count": 124,
      "outputs": []
    },
    {
      "cell_type": "code",
      "source": [
        "df['EdLevel'].value_counts()"
      ],
      "metadata": {
        "colab": {
          "base_uri": "https://localhost:8080/"
        },
        "id": "JTnp5YHk9rjH",
        "outputId": "510b0aee-738f-4c48-c422-40098e033a85"
      },
      "execution_count": 125,
      "outputs": [
        {
          "output_type": "execute_result",
          "data": {
            "text/plain": [
              "EdLevel\n",
              "Bachelors    42\n",
              "No Degree    15\n",
              "Associate     2\n",
              "Name: count, dtype: int64"
            ]
          },
          "metadata": {},
          "execution_count": 125
        }
      ]
    },
    {
      "cell_type": "code",
      "source": [
        "df['EdLevel'].isnull().sum()"
      ],
      "metadata": {
        "colab": {
          "base_uri": "https://localhost:8080/"
        },
        "id": "pifoZPD19z-2",
        "outputId": "d9736b79-6218-4775-f7b4-b28bf08aa25d"
      },
      "execution_count": 129,
      "outputs": [
        {
          "output_type": "execute_result",
          "data": {
            "text/plain": [
              "0"
            ]
          },
          "metadata": {},
          "execution_count": 129
        }
      ]
    },
    {
      "cell_type": "markdown",
      "source": [
        "Hence, there are no existing null values in the edlevel column"
      ],
      "metadata": {
        "id": "0AywkL0v9y-I"
      }
    },
    {
      "cell_type": "markdown",
      "source": [
        "*So far We cleaned a lot of data. Therefore we can check the percent again*"
      ],
      "metadata": {
        "id": "rSs6cDdi-LBn"
      }
    },
    {
      "cell_type": "code",
      "source": [
        "cleaned_2018 = df[df.notnull()]"
      ],
      "metadata": {
        "id": "uyXEowD39uAh"
      },
      "execution_count": 126,
      "outputs": []
    },
    {
      "cell_type": "code",
      "source": [
        "cleaned_2018.head(10)"
      ],
      "metadata": {
        "colab": {
          "base_uri": "https://localhost:8080/",
          "height": 933
        },
        "id": "uK6hUeN_9xsD",
        "outputId": "d3596b49-d62b-4d40-9100-6049ad3f24c4"
      },
      "execution_count": 130,
      "outputs": [
        {
          "output_type": "execute_result",
          "data": {
            "text/plain": [
              "    Respondent Hobby OpenSource         Country         Student  \\\n",
              "1            3   Yes        Yes  United Kingdom              No   \n",
              "4            7   Yes         No    South Africa  Yes, part-time   \n",
              "5            8   Yes         No  United Kingdom              No   \n",
              "6            9   Yes        Yes   United States              No   \n",
              "8           11   Yes        Yes   United States              No   \n",
              "13          20    No         No           India              No   \n",
              "14          21    No         No     Netherlands  Yes, full-time   \n",
              "17          27   Yes         No          Sweden              No   \n",
              "18          29   Yes        Yes           India  Yes, full-time   \n",
              "20          33   Yes        Yes       Australia              No   \n",
              "\n",
              "            Employment    EdLevel    UndergradMajor               CompanySize  \\\n",
              "1   Employed full-time  Bachelors     Other Science  10,000 or more employees   \n",
              "4   Employed full-time  No Degree  Computer Science  10,000 or more employees   \n",
              "5   Employed full-time  Bachelors  Computer Science        10 to 19 employees   \n",
              "6   Employed full-time  No Degree  Computer Science  10,000 or more employees   \n",
              "8   Employed full-time  No Degree  Arts and Science      100 to 499 employees   \n",
              "13  Employed full-time  Bachelors       Engineering        20 to 99 employees   \n",
              "14  Employed full-time  No Degree          No major        20 to 99 employees   \n",
              "17  Employed full-time  Bachelors          Business        10 to 19 employees   \n",
              "18  Employed full-time  Bachelors          No major  10,000 or more employees   \n",
              "20  Employed full-time  Bachelors       Engineering  1,000 to 4,999 employees   \n",
              "\n",
              "      DevType  ...                    Exercise          Gender  \\\n",
              "1   Developer  ...   Daily or almost every day            Male   \n",
              "4   Developer  ...        3 - 4 times per week            Male   \n",
              "5   Developer  ...        1 - 2 times per week            Male   \n",
              "6   Developer  ...  I don't typically exercise            Male   \n",
              "8   Developer  ...  I don't typically exercise            Male   \n",
              "13  Developer  ...  I don't typically exercise  Non-conforming   \n",
              "14  Developer  ...   Daily or almost every day            Male   \n",
              "17  Developer  ...        3 - 4 times per week            Male   \n",
              "18  Developer  ...   Daily or almost every day          Female   \n",
              "20  Developer  ...        3 - 4 times per week            Male   \n",
              "\n",
              "           SexualOrientation  \\\n",
              "1   Straight or heterosexual   \n",
              "4   Straight or heterosexual   \n",
              "5   Straight or heterosexual   \n",
              "6   Straight or heterosexual   \n",
              "8   Straight or heterosexual   \n",
              "13                       NaN   \n",
              "14                       NaN   \n",
              "17                       NaN   \n",
              "18                       NaN   \n",
              "20  Straight or heterosexual   \n",
              "\n",
              "                                     EducationParents  \\\n",
              "1          Bachelor‚Äôs degree (BA, BS, B.Eng., etc.)   \n",
              "4   Some college/university study without earning ...   \n",
              "5   Secondary school (e.g. American high school, G...   \n",
              "6       Master‚Äôs degree (MA, MS, M.Eng., MBA, etc.)   \n",
              "8   Some college/university study without earning ...   \n",
              "13                                                NaN   \n",
              "14                                   Associate degree   \n",
              "17         Bachelor‚Äôs degree (BA, BS, B.Eng., etc.)   \n",
              "18  Some college/university study without earning ...   \n",
              "20         Bachelor‚Äôs degree (BA, BS, B.Eng., etc.)   \n",
              "\n",
              "                RaceEthnicity                Age Dependents  MilitaryUS  \\\n",
              "1   White or European descent  35 - 44 years old        Yes         NaN   \n",
              "4   White or European descent  18 - 24 years old        Yes         NaN   \n",
              "5   White or European descent  18 - 24 years old         No         NaN   \n",
              "6   White or European descent  18 - 24 years old         No          No   \n",
              "8   White or European descent  35 - 44 years old        Yes          No   \n",
              "13                South Asian  35 - 44 years old        NaN         NaN   \n",
              "14  White or European descent  18 - 24 years old         No         NaN   \n",
              "17  White or European descent  35 - 44 years old        Yes         NaN   \n",
              "18                South Asian  35 - 44 years old        NaN         NaN   \n",
              "20                South Asian  35 - 44 years old        Yes         NaN   \n",
              "\n",
              "                           SurveyTooLong                  SurveyEasy  \n",
              "1   The survey was an appropriate length               Somewhat easy  \n",
              "4   The survey was an appropriate length               Somewhat easy  \n",
              "5   The survey was an appropriate length               Somewhat easy  \n",
              "6   The survey was an appropriate length               Somewhat easy  \n",
              "8   The survey was an appropriate length                   Very easy  \n",
              "13                                   NaN                         NaN  \n",
              "14  The survey was an appropriate length  Neither easy nor difficult  \n",
              "17               The survey was too long          Somewhat difficult  \n",
              "18               The survey was too long              Very difficult  \n",
              "20               The survey was too long  Neither easy nor difficult  \n",
              "\n",
              "[10 rows x 129 columns]"
            ],
            "text/html": [
              "\n",
              "  <div id=\"df-5b952dc3-8cd2-4fdb-8dab-208ac4480d99\" class=\"colab-df-container\">\n",
              "    <div>\n",
              "<style scoped>\n",
              "    .dataframe tbody tr th:only-of-type {\n",
              "        vertical-align: middle;\n",
              "    }\n",
              "\n",
              "    .dataframe tbody tr th {\n",
              "        vertical-align: top;\n",
              "    }\n",
              "\n",
              "    .dataframe thead th {\n",
              "        text-align: right;\n",
              "    }\n",
              "</style>\n",
              "<table border=\"1\" class=\"dataframe\">\n",
              "  <thead>\n",
              "    <tr style=\"text-align: right;\">\n",
              "      <th></th>\n",
              "      <th>Respondent</th>\n",
              "      <th>Hobby</th>\n",
              "      <th>OpenSource</th>\n",
              "      <th>Country</th>\n",
              "      <th>Student</th>\n",
              "      <th>Employment</th>\n",
              "      <th>EdLevel</th>\n",
              "      <th>UndergradMajor</th>\n",
              "      <th>CompanySize</th>\n",
              "      <th>DevType</th>\n",
              "      <th>...</th>\n",
              "      <th>Exercise</th>\n",
              "      <th>Gender</th>\n",
              "      <th>SexualOrientation</th>\n",
              "      <th>EducationParents</th>\n",
              "      <th>RaceEthnicity</th>\n",
              "      <th>Age</th>\n",
              "      <th>Dependents</th>\n",
              "      <th>MilitaryUS</th>\n",
              "      <th>SurveyTooLong</th>\n",
              "      <th>SurveyEasy</th>\n",
              "    </tr>\n",
              "  </thead>\n",
              "  <tbody>\n",
              "    <tr>\n",
              "      <th>1</th>\n",
              "      <td>3</td>\n",
              "      <td>Yes</td>\n",
              "      <td>Yes</td>\n",
              "      <td>United Kingdom</td>\n",
              "      <td>No</td>\n",
              "      <td>Employed full-time</td>\n",
              "      <td>Bachelors</td>\n",
              "      <td>Other Science</td>\n",
              "      <td>10,000 or more employees</td>\n",
              "      <td>Developer</td>\n",
              "      <td>...</td>\n",
              "      <td>Daily or almost every day</td>\n",
              "      <td>Male</td>\n",
              "      <td>Straight or heterosexual</td>\n",
              "      <td>Bachelor‚Äôs degree (BA, BS, B.Eng., etc.)</td>\n",
              "      <td>White or European descent</td>\n",
              "      <td>35 - 44 years old</td>\n",
              "      <td>Yes</td>\n",
              "      <td>NaN</td>\n",
              "      <td>The survey was an appropriate length</td>\n",
              "      <td>Somewhat easy</td>\n",
              "    </tr>\n",
              "    <tr>\n",
              "      <th>4</th>\n",
              "      <td>7</td>\n",
              "      <td>Yes</td>\n",
              "      <td>No</td>\n",
              "      <td>South Africa</td>\n",
              "      <td>Yes, part-time</td>\n",
              "      <td>Employed full-time</td>\n",
              "      <td>No Degree</td>\n",
              "      <td>Computer Science</td>\n",
              "      <td>10,000 or more employees</td>\n",
              "      <td>Developer</td>\n",
              "      <td>...</td>\n",
              "      <td>3 - 4 times per week</td>\n",
              "      <td>Male</td>\n",
              "      <td>Straight or heterosexual</td>\n",
              "      <td>Some college/university study without earning ...</td>\n",
              "      <td>White or European descent</td>\n",
              "      <td>18 - 24 years old</td>\n",
              "      <td>Yes</td>\n",
              "      <td>NaN</td>\n",
              "      <td>The survey was an appropriate length</td>\n",
              "      <td>Somewhat easy</td>\n",
              "    </tr>\n",
              "    <tr>\n",
              "      <th>5</th>\n",
              "      <td>8</td>\n",
              "      <td>Yes</td>\n",
              "      <td>No</td>\n",
              "      <td>United Kingdom</td>\n",
              "      <td>No</td>\n",
              "      <td>Employed full-time</td>\n",
              "      <td>Bachelors</td>\n",
              "      <td>Computer Science</td>\n",
              "      <td>10 to 19 employees</td>\n",
              "      <td>Developer</td>\n",
              "      <td>...</td>\n",
              "      <td>1 - 2 times per week</td>\n",
              "      <td>Male</td>\n",
              "      <td>Straight or heterosexual</td>\n",
              "      <td>Secondary school (e.g. American high school, G...</td>\n",
              "      <td>White or European descent</td>\n",
              "      <td>18 - 24 years old</td>\n",
              "      <td>No</td>\n",
              "      <td>NaN</td>\n",
              "      <td>The survey was an appropriate length</td>\n",
              "      <td>Somewhat easy</td>\n",
              "    </tr>\n",
              "    <tr>\n",
              "      <th>6</th>\n",
              "      <td>9</td>\n",
              "      <td>Yes</td>\n",
              "      <td>Yes</td>\n",
              "      <td>United States</td>\n",
              "      <td>No</td>\n",
              "      <td>Employed full-time</td>\n",
              "      <td>No Degree</td>\n",
              "      <td>Computer Science</td>\n",
              "      <td>10,000 or more employees</td>\n",
              "      <td>Developer</td>\n",
              "      <td>...</td>\n",
              "      <td>I don't typically exercise</td>\n",
              "      <td>Male</td>\n",
              "      <td>Straight or heterosexual</td>\n",
              "      <td>Master‚Äôs degree (MA, MS, M.Eng., MBA, etc.)</td>\n",
              "      <td>White or European descent</td>\n",
              "      <td>18 - 24 years old</td>\n",
              "      <td>No</td>\n",
              "      <td>No</td>\n",
              "      <td>The survey was an appropriate length</td>\n",
              "      <td>Somewhat easy</td>\n",
              "    </tr>\n",
              "    <tr>\n",
              "      <th>8</th>\n",
              "      <td>11</td>\n",
              "      <td>Yes</td>\n",
              "      <td>Yes</td>\n",
              "      <td>United States</td>\n",
              "      <td>No</td>\n",
              "      <td>Employed full-time</td>\n",
              "      <td>No Degree</td>\n",
              "      <td>Arts and Science</td>\n",
              "      <td>100 to 499 employees</td>\n",
              "      <td>Developer</td>\n",
              "      <td>...</td>\n",
              "      <td>I don't typically exercise</td>\n",
              "      <td>Male</td>\n",
              "      <td>Straight or heterosexual</td>\n",
              "      <td>Some college/university study without earning ...</td>\n",
              "      <td>White or European descent</td>\n",
              "      <td>35 - 44 years old</td>\n",
              "      <td>Yes</td>\n",
              "      <td>No</td>\n",
              "      <td>The survey was an appropriate length</td>\n",
              "      <td>Very easy</td>\n",
              "    </tr>\n",
              "    <tr>\n",
              "      <th>13</th>\n",
              "      <td>20</td>\n",
              "      <td>No</td>\n",
              "      <td>No</td>\n",
              "      <td>India</td>\n",
              "      <td>No</td>\n",
              "      <td>Employed full-time</td>\n",
              "      <td>Bachelors</td>\n",
              "      <td>Engineering</td>\n",
              "      <td>20 to 99 employees</td>\n",
              "      <td>Developer</td>\n",
              "      <td>...</td>\n",
              "      <td>I don't typically exercise</td>\n",
              "      <td>Non-conforming</td>\n",
              "      <td>NaN</td>\n",
              "      <td>NaN</td>\n",
              "      <td>South Asian</td>\n",
              "      <td>35 - 44 years old</td>\n",
              "      <td>NaN</td>\n",
              "      <td>NaN</td>\n",
              "      <td>NaN</td>\n",
              "      <td>NaN</td>\n",
              "    </tr>\n",
              "    <tr>\n",
              "      <th>14</th>\n",
              "      <td>21</td>\n",
              "      <td>No</td>\n",
              "      <td>No</td>\n",
              "      <td>Netherlands</td>\n",
              "      <td>Yes, full-time</td>\n",
              "      <td>Employed full-time</td>\n",
              "      <td>No Degree</td>\n",
              "      <td>No major</td>\n",
              "      <td>20 to 99 employees</td>\n",
              "      <td>Developer</td>\n",
              "      <td>...</td>\n",
              "      <td>Daily or almost every day</td>\n",
              "      <td>Male</td>\n",
              "      <td>NaN</td>\n",
              "      <td>Associate degree</td>\n",
              "      <td>White or European descent</td>\n",
              "      <td>18 - 24 years old</td>\n",
              "      <td>No</td>\n",
              "      <td>NaN</td>\n",
              "      <td>The survey was an appropriate length</td>\n",
              "      <td>Neither easy nor difficult</td>\n",
              "    </tr>\n",
              "    <tr>\n",
              "      <th>17</th>\n",
              "      <td>27</td>\n",
              "      <td>Yes</td>\n",
              "      <td>No</td>\n",
              "      <td>Sweden</td>\n",
              "      <td>No</td>\n",
              "      <td>Employed full-time</td>\n",
              "      <td>Bachelors</td>\n",
              "      <td>Business</td>\n",
              "      <td>10 to 19 employees</td>\n",
              "      <td>Developer</td>\n",
              "      <td>...</td>\n",
              "      <td>3 - 4 times per week</td>\n",
              "      <td>Male</td>\n",
              "      <td>NaN</td>\n",
              "      <td>Bachelor‚Äôs degree (BA, BS, B.Eng., etc.)</td>\n",
              "      <td>White or European descent</td>\n",
              "      <td>35 - 44 years old</td>\n",
              "      <td>Yes</td>\n",
              "      <td>NaN</td>\n",
              "      <td>The survey was too long</td>\n",
              "      <td>Somewhat difficult</td>\n",
              "    </tr>\n",
              "    <tr>\n",
              "      <th>18</th>\n",
              "      <td>29</td>\n",
              "      <td>Yes</td>\n",
              "      <td>Yes</td>\n",
              "      <td>India</td>\n",
              "      <td>Yes, full-time</td>\n",
              "      <td>Employed full-time</td>\n",
              "      <td>Bachelors</td>\n",
              "      <td>No major</td>\n",
              "      <td>10,000 or more employees</td>\n",
              "      <td>Developer</td>\n",
              "      <td>...</td>\n",
              "      <td>Daily or almost every day</td>\n",
              "      <td>Female</td>\n",
              "      <td>NaN</td>\n",
              "      <td>Some college/university study without earning ...</td>\n",
              "      <td>South Asian</td>\n",
              "      <td>35 - 44 years old</td>\n",
              "      <td>NaN</td>\n",
              "      <td>NaN</td>\n",
              "      <td>The survey was too long</td>\n",
              "      <td>Very difficult</td>\n",
              "    </tr>\n",
              "    <tr>\n",
              "      <th>20</th>\n",
              "      <td>33</td>\n",
              "      <td>Yes</td>\n",
              "      <td>Yes</td>\n",
              "      <td>Australia</td>\n",
              "      <td>No</td>\n",
              "      <td>Employed full-time</td>\n",
              "      <td>Bachelors</td>\n",
              "      <td>Engineering</td>\n",
              "      <td>1,000 to 4,999 employees</td>\n",
              "      <td>Developer</td>\n",
              "      <td>...</td>\n",
              "      <td>3 - 4 times per week</td>\n",
              "      <td>Male</td>\n",
              "      <td>Straight or heterosexual</td>\n",
              "      <td>Bachelor‚Äôs degree (BA, BS, B.Eng., etc.)</td>\n",
              "      <td>South Asian</td>\n",
              "      <td>35 - 44 years old</td>\n",
              "      <td>Yes</td>\n",
              "      <td>NaN</td>\n",
              "      <td>The survey was too long</td>\n",
              "      <td>Neither easy nor difficult</td>\n",
              "    </tr>\n",
              "  </tbody>\n",
              "</table>\n",
              "<p>10 rows × 129 columns</p>\n",
              "</div>\n",
              "    <div class=\"colab-df-buttons\">\n",
              "\n",
              "  <div class=\"colab-df-container\">\n",
              "    <button class=\"colab-df-convert\" onclick=\"convertToInteractive('df-5b952dc3-8cd2-4fdb-8dab-208ac4480d99')\"\n",
              "            title=\"Convert this dataframe to an interactive table.\"\n",
              "            style=\"display:none;\">\n",
              "\n",
              "  <svg xmlns=\"http://www.w3.org/2000/svg\" height=\"24px\" viewBox=\"0 -960 960 960\">\n",
              "    <path d=\"M120-120v-720h720v720H120Zm60-500h600v-160H180v160Zm220 220h160v-160H400v160Zm0 220h160v-160H400v160ZM180-400h160v-160H180v160Zm440 0h160v-160H620v160ZM180-180h160v-160H180v160Zm440 0h160v-160H620v160Z\"/>\n",
              "  </svg>\n",
              "    </button>\n",
              "\n",
              "  <style>\n",
              "    .colab-df-container {\n",
              "      display:flex;\n",
              "      gap: 12px;\n",
              "    }\n",
              "\n",
              "    .colab-df-convert {\n",
              "      background-color: #E8F0FE;\n",
              "      border: none;\n",
              "      border-radius: 50%;\n",
              "      cursor: pointer;\n",
              "      display: none;\n",
              "      fill: #1967D2;\n",
              "      height: 32px;\n",
              "      padding: 0 0 0 0;\n",
              "      width: 32px;\n",
              "    }\n",
              "\n",
              "    .colab-df-convert:hover {\n",
              "      background-color: #E2EBFA;\n",
              "      box-shadow: 0px 1px 2px rgba(60, 64, 67, 0.3), 0px 1px 3px 1px rgba(60, 64, 67, 0.15);\n",
              "      fill: #174EA6;\n",
              "    }\n",
              "\n",
              "    .colab-df-buttons div {\n",
              "      margin-bottom: 4px;\n",
              "    }\n",
              "\n",
              "    [theme=dark] .colab-df-convert {\n",
              "      background-color: #3B4455;\n",
              "      fill: #D2E3FC;\n",
              "    }\n",
              "\n",
              "    [theme=dark] .colab-df-convert:hover {\n",
              "      background-color: #434B5C;\n",
              "      box-shadow: 0px 1px 3px 1px rgba(0, 0, 0, 0.15);\n",
              "      filter: drop-shadow(0px 1px 2px rgba(0, 0, 0, 0.3));\n",
              "      fill: #FFFFFF;\n",
              "    }\n",
              "  </style>\n",
              "\n",
              "    <script>\n",
              "      const buttonEl =\n",
              "        document.querySelector('#df-5b952dc3-8cd2-4fdb-8dab-208ac4480d99 button.colab-df-convert');\n",
              "      buttonEl.style.display =\n",
              "        google.colab.kernel.accessAllowed ? 'block' : 'none';\n",
              "\n",
              "      async function convertToInteractive(key) {\n",
              "        const element = document.querySelector('#df-5b952dc3-8cd2-4fdb-8dab-208ac4480d99');\n",
              "        const dataTable =\n",
              "          await google.colab.kernel.invokeFunction('convertToInteractive',\n",
              "                                                    [key], {});\n",
              "        if (!dataTable) return;\n",
              "\n",
              "        const docLinkHtml = 'Like what you see? Visit the ' +\n",
              "          '<a target=\"_blank\" href=https://colab.research.google.com/notebooks/data_table.ipynb>data table notebook</a>'\n",
              "          + ' to learn more about interactive tables.';\n",
              "        element.innerHTML = '';\n",
              "        dataTable['output_type'] = 'display_data';\n",
              "        await google.colab.output.renderOutput(dataTable, element);\n",
              "        const docLink = document.createElement('div');\n",
              "        docLink.innerHTML = docLinkHtml;\n",
              "        element.appendChild(docLink);\n",
              "      }\n",
              "    </script>\n",
              "  </div>\n",
              "\n",
              "\n",
              "<div id=\"df-a987371e-5d3f-471e-8cf3-4e64e8552072\">\n",
              "  <button class=\"colab-df-quickchart\" onclick=\"quickchart('df-a987371e-5d3f-471e-8cf3-4e64e8552072')\"\n",
              "            title=\"Suggest charts\"\n",
              "            style=\"display:none;\">\n",
              "\n",
              "<svg xmlns=\"http://www.w3.org/2000/svg\" height=\"24px\"viewBox=\"0 0 24 24\"\n",
              "     width=\"24px\">\n",
              "    <g>\n",
              "        <path d=\"M19 3H5c-1.1 0-2 .9-2 2v14c0 1.1.9 2 2 2h14c1.1 0 2-.9 2-2V5c0-1.1-.9-2-2-2zM9 17H7v-7h2v7zm4 0h-2V7h2v10zm4 0h-2v-4h2v4z\"/>\n",
              "    </g>\n",
              "</svg>\n",
              "  </button>\n",
              "\n",
              "<style>\n",
              "  .colab-df-quickchart {\n",
              "      --bg-color: #E8F0FE;\n",
              "      --fill-color: #1967D2;\n",
              "      --hover-bg-color: #E2EBFA;\n",
              "      --hover-fill-color: #174EA6;\n",
              "      --disabled-fill-color: #AAA;\n",
              "      --disabled-bg-color: #DDD;\n",
              "  }\n",
              "\n",
              "  [theme=dark] .colab-df-quickchart {\n",
              "      --bg-color: #3B4455;\n",
              "      --fill-color: #D2E3FC;\n",
              "      --hover-bg-color: #434B5C;\n",
              "      --hover-fill-color: #FFFFFF;\n",
              "      --disabled-bg-color: #3B4455;\n",
              "      --disabled-fill-color: #666;\n",
              "  }\n",
              "\n",
              "  .colab-df-quickchart {\n",
              "    background-color: var(--bg-color);\n",
              "    border: none;\n",
              "    border-radius: 50%;\n",
              "    cursor: pointer;\n",
              "    display: none;\n",
              "    fill: var(--fill-color);\n",
              "    height: 32px;\n",
              "    padding: 0;\n",
              "    width: 32px;\n",
              "  }\n",
              "\n",
              "  .colab-df-quickchart:hover {\n",
              "    background-color: var(--hover-bg-color);\n",
              "    box-shadow: 0 1px 2px rgba(60, 64, 67, 0.3), 0 1px 3px 1px rgba(60, 64, 67, 0.15);\n",
              "    fill: var(--button-hover-fill-color);\n",
              "  }\n",
              "\n",
              "  .colab-df-quickchart-complete:disabled,\n",
              "  .colab-df-quickchart-complete:disabled:hover {\n",
              "    background-color: var(--disabled-bg-color);\n",
              "    fill: var(--disabled-fill-color);\n",
              "    box-shadow: none;\n",
              "  }\n",
              "\n",
              "  .colab-df-spinner {\n",
              "    border: 2px solid var(--fill-color);\n",
              "    border-color: transparent;\n",
              "    border-bottom-color: var(--fill-color);\n",
              "    animation:\n",
              "      spin 1s steps(1) infinite;\n",
              "  }\n",
              "\n",
              "  @keyframes spin {\n",
              "    0% {\n",
              "      border-color: transparent;\n",
              "      border-bottom-color: var(--fill-color);\n",
              "      border-left-color: var(--fill-color);\n",
              "    }\n",
              "    20% {\n",
              "      border-color: transparent;\n",
              "      border-left-color: var(--fill-color);\n",
              "      border-top-color: var(--fill-color);\n",
              "    }\n",
              "    30% {\n",
              "      border-color: transparent;\n",
              "      border-left-color: var(--fill-color);\n",
              "      border-top-color: var(--fill-color);\n",
              "      border-right-color: var(--fill-color);\n",
              "    }\n",
              "    40% {\n",
              "      border-color: transparent;\n",
              "      border-right-color: var(--fill-color);\n",
              "      border-top-color: var(--fill-color);\n",
              "    }\n",
              "    60% {\n",
              "      border-color: transparent;\n",
              "      border-right-color: var(--fill-color);\n",
              "    }\n",
              "    80% {\n",
              "      border-color: transparent;\n",
              "      border-right-color: var(--fill-color);\n",
              "      border-bottom-color: var(--fill-color);\n",
              "    }\n",
              "    90% {\n",
              "      border-color: transparent;\n",
              "      border-bottom-color: var(--fill-color);\n",
              "    }\n",
              "  }\n",
              "</style>\n",
              "\n",
              "  <script>\n",
              "    async function quickchart(key) {\n",
              "      const quickchartButtonEl =\n",
              "        document.querySelector('#' + key + ' button');\n",
              "      quickchartButtonEl.disabled = true;  // To prevent multiple clicks.\n",
              "      quickchartButtonEl.classList.add('colab-df-spinner');\n",
              "      try {\n",
              "        const charts = await google.colab.kernel.invokeFunction(\n",
              "            'suggestCharts', [key], {});\n",
              "      } catch (error) {\n",
              "        console.error('Error during call to suggestCharts:', error);\n",
              "      }\n",
              "      quickchartButtonEl.classList.remove('colab-df-spinner');\n",
              "      quickchartButtonEl.classList.add('colab-df-quickchart-complete');\n",
              "    }\n",
              "    (() => {\n",
              "      let quickchartButtonEl =\n",
              "        document.querySelector('#df-a987371e-5d3f-471e-8cf3-4e64e8552072 button');\n",
              "      quickchartButtonEl.style.display =\n",
              "        google.colab.kernel.accessAllowed ? 'block' : 'none';\n",
              "    })();\n",
              "  </script>\n",
              "</div>\n",
              "\n",
              "    </div>\n",
              "  </div>\n"
            ],
            "application/vnd.google.colaboratory.intrinsic+json": {
              "type": "dataframe",
              "variable_name": "cleaned_2018"
            }
          },
          "metadata": {},
          "execution_count": 130
        }
      ]
    },
    {
      "cell_type": "code",
      "source": [
        "#calculating percentage of missing values\n",
        "missing_count = df.isnull().sum() #number of missing\n",
        "total_cells = np.product(df.shape) # number of cells (cols x rows)\n",
        "total_missing = missing_count.sum()\n",
        "missing_percent = (total_missing*100)/total_cells"
      ],
      "metadata": {
        "id": "2LyBn6_i-b3o"
      },
      "execution_count": 131,
      "outputs": []
    },
    {
      "cell_type": "code",
      "source": [
        "print('Total : ', total_cells)\n",
        "print('Total missing : ', total_missing)\n",
        "print('Missing Percentage: ', missing_percent, '%')"
      ],
      "metadata": {
        "colab": {
          "base_uri": "https://localhost:8080/"
        },
        "id": "PcVgSusH-5Sh",
        "outputId": "85446a7c-5516-4402-e24f-b1a6dc1d89dc"
      },
      "execution_count": 132,
      "outputs": [
        {
          "output_type": "stream",
          "name": "stdout",
          "text": [
            "Total :  7611\n",
            "Total missing :  1487\n",
            "Missing Percentage:  19.537511496518196 %\n"
          ]
        }
      ]
    },
    {
      "cell_type": "markdown",
      "source": [
        "Hence, we reduced the missing data from 35% to 19% which is far way better. And the remaining null values could be present in the columns thatwe are not going to use in our analysis"
      ],
      "metadata": {
        "id": "pwoj3j56-9nh"
      }
    },
    {
      "cell_type": "markdown",
      "source": [
        "**Outlier detection**"
      ],
      "metadata": {
        "id": "dJH6dMHm_rcr"
      }
    },
    {
      "cell_type": "code",
      "source": [
        "#detecting outliers using the interquartile range (IQR) method\n",
        "def detect_outliers_iqr(dataframe, fields):\n",
        "    outliers_indices = []\n",
        "    for feature in fields:\n",
        "        # Calculate the first and third quartiles\n",
        "        Q1 = dataframe[feature].quantile(0.25)\n",
        "        Q3 = dataframe[feature].quantile(0.75)\n",
        "        # Calculating the interquartile range (IQR)(diff of remaining)\n",
        "        IQR = Q3 - Q1\n",
        "        # Defining the lower and upper bounds for outlier detection\n",
        "        lower_bound = Q1 - 1.5 * IQR\n",
        "        upper_bound = Q3 + 1.5 * IQR\n",
        "        # Finding outliers based on the lower and upper bounds\n",
        "        outliers = dataframe[(dataframe[feature] < lower_bound) | (dataframe[feature] > upper_bound)].index\n",
        "        # Adding the indices of outliers to the list to know whether they exist or not\n",
        "        outliers_indices.extend(outliers)\n",
        "    # Return indices of outliers\n",
        "    return list(set(outliers_indices))"
      ],
      "metadata": {
        "id": "pheMWmjZ-7gh"
      },
      "execution_count": 138,
      "outputs": []
    },
    {
      "cell_type": "markdown",
      "source": [
        "Calculating the outliers for different columns"
      ],
      "metadata": {
        "id": "sWFblaMjCekz"
      }
    },
    {
      "cell_type": "code",
      "source": [
        "#outliers for Salaryusd\n",
        "cols = [ 'SalaryUSD']\n"
      ],
      "metadata": {
        "id": "ZxPFi0uHCaaz"
      },
      "execution_count": 167,
      "outputs": []
    },
    {
      "cell_type": "code",
      "source": [
        "outliers_indices_iqr = detect_outliers_iqr(df,cols )"
      ],
      "metadata": {
        "id": "w8cRvgaTAQR1"
      },
      "execution_count": 168,
      "outputs": []
    },
    {
      "cell_type": "code",
      "source": [
        "#Printig the indices of outliers detected using the IQR method\n",
        "print(\"Indices of outliers detected using IQR method:\", outliers_indices_iqr)"
      ],
      "metadata": {
        "colab": {
          "base_uri": "https://localhost:8080/"
        },
        "id": "rpKuLqjgASsQ",
        "outputId": "4ce6e58a-d709-4179-9b79-0d73babdd422"
      },
      "execution_count": 169,
      "outputs": [
        {
          "output_type": "stream",
          "name": "stdout",
          "text": [
            "Indices of outliers detected using IQR method: [8, 75, 27]\n"
          ]
        }
      ]
    },
    {
      "cell_type": "code",
      "source": [
        "# Visualizing the outliers detected for 'Salaryusd' column with a boxplot\n",
        "plt.figure(figsize=(8, 6))\n",
        "sns.boxplot(data=df, x='SalaryUSD', orient='h')\n",
        "plt.title('Horizontal Box Plot of SalaryUSD')\n",
        "plt.xlabel('Salary (USD)')\n",
        "plt.show()\n"
      ],
      "metadata": {
        "colab": {
          "base_uri": "https://localhost:8080/",
          "height": 564
        },
        "id": "-AOrLBl_DXZv",
        "outputId": "49738230-e283-4f74-b4d8-90d9a939c0a5"
      },
      "execution_count": 170,
      "outputs": [
        {
          "output_type": "display_data",
          "data": {
            "text/plain": [
              "<Figure size 800x600 with 1 Axes>"
            ],
            "image/png": "[encoded data removed]"
          },
          "metadata": {}
        }
      ]
    },
    {
      "cell_type": "markdown",
      "source": [
        "From the Box plot, we get to know that the distribution is a bit right skewed. There are potential outliers present here."
      ],
      "metadata": {
        "id": "sTSUF_BQIngx"
      }
    },
    {
      "cell_type": "code",
      "source": [
        "# Visualizing the outliers detected for 'YearsCoding' column with a boxplot\n",
        "plt.figure(figsize=(8, 6))\n",
        "sns.boxplot(data=df, x='YearsCoding', orient='h')\n",
        "plt.title('Horizontal Box Plot of YearsCoding')\n",
        "plt.xlabel('YearsCoding')\n",
        "plt.show()\n"
      ],
      "metadata": {
        "colab": {
          "base_uri": "https://localhost:8080/",
          "height": 564
        },
        "id": "wLIoCAqdDn9g",
        "outputId": "77625d33-8158-4f35-f351-4a9b7d3def26"
      },
      "execution_count": 163,
      "outputs": [
        {
          "output_type": "display_data",
          "data": {
            "text/plain": [
              "<Figure size 800x600 with 1 Axes>"
            ],
            "image/png": "[encoded data removed]"
          },
          "metadata": {}
        }
      ]
    },
    {
      "cell_type": "markdown",
      "source": [
        "From the Box plot, we get to know that the distribution is symmetric and positively skewed. There are no potential outliers present here."
      ],
      "metadata": {
        "id": "gKCf7egFNmLC"
      }
    },
    {
      "cell_type": "code",
      "source": [
        "# Visualizing the outliers detected for 'YearsCodingProf' column with a boxplot\n",
        "plt.figure(figsize=(8, 6))\n",
        "sns.boxplot(data=df, x='YearsCodingProf', orient='h')\n",
        "plt.title('Horizontal Box Plot of YearsCodingProf')\n",
        "plt.xlabel('YearsCodingProf')\n",
        "plt.show()"
      ],
      "metadata": {
        "colab": {
          "base_uri": "https://localhost:8080/",
          "height": 564
        },
        "id": "k5nQiwb5NfEj",
        "outputId": "d91278eb-29c8-4840-db0b-69ddb1015eaa"
      },
      "execution_count": 164,
      "outputs": [
        {
          "output_type": "display_data",
          "data": {
            "text/plain": [
              "<Figure size 800x600 with 1 Axes>"
            ],
            "image/png": "[encoded data removed]"
          },
          "metadata": {}
        }
      ]
    },
    {
      "cell_type": "markdown",
      "source": [
        "From the Box plot, we get to know that the distribution is not symmetric and right skewed. There are no potential outliers present here."
      ],
      "metadata": {
        "id": "-PSi4q3ROTuL"
      }
    },
    {
      "cell_type": "code",
      "source": [
        "# Visualizing the outliers detected for 'JobSatisfaction' column with a boxplot\n",
        "plt.figure(figsize=(8, 6))\n",
        "sns.boxplot(data=df, x='JobSatisfaction', orient='h')\n",
        "plt.title('Horizontal Box Plot of JobSatisfaction')\n",
        "plt.xlabel('JobSatisfaction')\n",
        "plt.show()"
      ],
      "metadata": {
        "colab": {
          "base_uri": "https://localhost:8080/",
          "height": 564
        },
        "id": "qHIiS9-oNjPM",
        "outputId": "aa3cc2ed-ce57-4042-9138-98dcbed3f0ab"
      },
      "execution_count": 172,
      "outputs": [
        {
          "output_type": "display_data",
          "data": {
            "text/plain": [
              "<Figure size 800x600 with 1 Axes>"
            ],
            "image/png": "[encoded data removed]"
          },
          "metadata": {}
        }
      ]
    },
    {
      "cell_type": "markdown",
      "source": [
        "From the Box plot, we get to know that the distribution is not symmetric and right skewed. There are no potential outliers present here."
      ],
      "metadata": {
        "id": "NI9wmMlRPLc8"
      }
    },
    {
      "cell_type": "code",
      "source": [
        "# Visualizing the outliers detected for 'age' column with a boxplot\n",
        "plt.figure(figsize=(8, 6))\n",
        "sns.boxplot(data=df, x='Age', orient='h')\n",
        "plt.title('Horizontal Box Plot of Age')\n",
        "plt.xlabel('Age')\n",
        "plt.show()"
      ],
      "metadata": {
        "colab": {
          "base_uri": "https://localhost:8080/",
          "height": 564
        },
        "id": "w-MtFFxDOv43",
        "outputId": "12f053a8-3993-4614-adff-c2e3a1060c15"
      },
      "execution_count": 174,
      "outputs": [
        {
          "output_type": "display_data",
          "data": {
            "text/plain": [
              "<Figure size 800x600 with 1 Axes>"
            ],
            "image/png": "[encoded data removed]"
          },
          "metadata": {}
        }
      ]
    },
    {
      "cell_type": "markdown",
      "source": [
        "From the Box plot, we get to know that the distribution is symmetric and positively skewed. There are no potential outliers present here."
      ],
      "metadata": {
        "id": "kSbxaJkzPjU8"
      }
    },
    {
      "cell_type": "code",
      "source": [
        "# Visualizing the outliers detected for 'LanguageWorkedWith' column with a boxplot\n",
        "plt.figure(figsize=(8, 6))\n",
        "sns.boxplot(data=df, x='LanguageWorkedWith', orient='h')\n",
        "plt.title('Horizontal Box Plot of LanguageWorkedWith')\n",
        "plt.xlabel('LanguageWorkedWith')\n",
        "plt.show()"
      ],
      "metadata": {
        "colab": {
          "base_uri": "https://localhost:8080/",
          "height": 564
        },
        "id": "VGpsXmZkPhlr",
        "outputId": "4a85447f-801d-43e8-def2-737b1d2782f6"
      },
      "execution_count": 175,
      "outputs": [
        {
          "output_type": "display_data",
          "data": {
            "text/plain": [
              "<Figure size 800x600 with 1 Axes>"
            ],
            "image/png": "[encoded data removed]"
          },
          "metadata": {}
        }
      ]
    },
    {
      "cell_type": "markdown",
      "source": [
        "From the Box plot, we get to know that the distribution is symmetric and It is not skewed as well. There are no potential outliers present here."
      ],
      "metadata": {
        "id": "_rGYHfgrQHPj"
      }
    },
    {
      "cell_type": "code",
      "source": [
        "# Visualizing the outliers detected for 'OperatingSystem' column with a boxplot\n",
        "plt.figure(figsize=(8, 6))\n",
        "sns.boxplot(data=df, x='OperatingSystem', orient='h')\n",
        "plt.title('Horizontal Box Plot of OperatingSystem')\n",
        "plt.xlabel('OperatingSystem')\n",
        "plt.show()"
      ],
      "metadata": {
        "colab": {
          "base_uri": "https://localhost:8080/",
          "height": 564
        },
        "id": "_2M8dVB1QEgC",
        "outputId": "abdc6fab-8731-4178-911d-3e2d0f874ed3"
      },
      "execution_count": 178,
      "outputs": [
        {
          "output_type": "display_data",
          "data": {
            "text/plain": [
              "<Figure size 800x600 with 1 Axes>"
            ],
            "image/png": "[encoded data removed]"
          },
          "metadata": {}
        }
      ]
    },
    {
      "cell_type": "markdown",
      "source": [
        "From the Box plot, we get to know that the distribution is symmetric and It is not skewed as well. There are no potential outliers present here."
      ],
      "metadata": {
        "id": "BY3EFIR8Q70r"
      }
    },
    {
      "cell_type": "code",
      "source": [
        "# Visualizing the outliers detected for 'DevType ' column with a boxplot\n",
        "plt.figure(figsize=(8, 6))\n",
        "sns.boxplot(data=df, x='DevType', orient='h')\n",
        "plt.title('Horizontal Box Plot of DevType ')\n",
        "plt.xlabel('DevType ')\n",
        "plt.show()"
      ],
      "metadata": {
        "colab": {
          "base_uri": "https://localhost:8080/",
          "height": 564
        },
        "id": "u2d8P2YSQlFv",
        "outputId": "91537098-3852-40d3-dca2-94e9a73051be"
      },
      "execution_count": 180,
      "outputs": [
        {
          "output_type": "display_data",
          "data": {
            "text/plain": [
              "<Figure size 800x600 with 1 Axes>"
            ],
            "image/png": "[encoded data removed]"
          },
          "metadata": {}
        }
      ]
    },
    {
      "cell_type": "markdown",
      "source": [
        "From thi Box plot, We get to know that there are potential outliers."
      ],
      "metadata": {
        "id": "bE9Cf5jmRwLh"
      }
    },
    {
      "cell_type": "markdown",
      "source": [
        "*From all the Box plots we did, we can conclude that there are outlier in the DevType and SalaryUSD columns which are to be handled*"
      ],
      "metadata": {
        "id": "L4aBy3o_R6FO"
      }
    },
    {
      "cell_type": "code",
      "source": [],
      "metadata": {
        "id": "dN_q00K1RP_g"
      },
      "execution_count": null,
      "outputs": []
    }
  ]
}