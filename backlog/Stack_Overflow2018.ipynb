{
  "nbformat": 4,
  "nbformat_minor": 0,
  "metadata": {
    "colab": {
      "provenance": [],
      "gpuType": "T4"
    },
    "kernelspec": {
      "name": "python3",
      "display_name": "Python 3"
    },
    "language_info": {
      "name": "python"
    },
    "accelerator": "GPU"
  },
  "cells": [
    {
      "cell_type": "markdown",
      "source": [
        "# EDA ON STACK OVERFLOW 2018 DATA"
      ],
      "metadata": {
        "id": "I0-wmKWr9L2v"
      }
    },
    {
      "cell_type": "markdown",
      "source": [
        "**DATA LOADING**"
      ],
      "metadata": {
        "id": "g4EeBybM95Zo"
      }
    },
    {
      "cell_type": "markdown",
      "source": [
        "*Importing modules*"
      ],
      "metadata": {
        "id": "q4uFubUDAPQN"
      }
    },
    {
      "cell_type": "code",
      "source": [
        "import numpy as np\n",
        "import pandas as pd\n",
        "import matplotlib.pyplot as plt\n",
        "import seaborn as sns"
      ],
      "metadata": {
        "id": "PofFmURLASrI"
      },
      "execution_count": 1,
      "outputs": []
    },
    {
      "cell_type": "code",
      "source": [
        "from google.colab import drive\n",
        "drive.mount('/content/drive')"
      ],
      "metadata": {
        "colab": {
          "base_uri": "https://localhost:8080/"
        },
        "id": "2faOx-2toTHJ",
        "outputId": "1b35211f-331c-4651-9d1e-9a317f013ac5"
      },
      "execution_count": 2,
      "outputs": [
        {
          "output_type": "stream",
          "name": "stdout",
          "text": [
            "Mounted at /content/drive\n"
          ]
        }
      ]
    },
    {
      "cell_type": "markdown",
      "source": [
        "*Loading 2018 stackoverflow data*"
      ],
      "metadata": {
        "id": "6nuRfrESAoQC"
      }
    },
    {
      "cell_type": "code",
      "source": [
        "df=pd.read_csv(\"/content/drive/MyDrive/GirlsScriptOpenSource/StockOverflow/survey_results_public_2018.csv\")"
      ],
      "metadata": {
        "id": "YreYMLwKAW3p",
        "colab": {
          "base_uri": "https://localhost:8080/"
        },
        "outputId": "0e467e0f-f755-4cd5-da7c-efd605eb5246"
      },
      "execution_count": 3,
      "outputs": [
        {
          "output_type": "stream",
          "name": "stderr",
          "text": [
            "<ipython-input-3-802ceec4e508>:1: DtypeWarning: Columns (8,12,13,14,15,16,50,51,52,53,55,56,57,58,59,60,61,62,63,64,65,66,67,68,69,70,71,72,73,74,75,76,77,78,79,80,81,82,83,84,85,93,94,95,96,97,98,99,100,101,102,103,104,105,106,107,108,109,110,111,112,113,114,115,116,117,118,119,120,121,122,123,124,125,126,127,128) have mixed types. Specify dtype option on import or set low_memory=False.\n",
            "  df=pd.read_csv(\"/content/drive/MyDrive/GirlsScriptOpenSource/StockOverflow/survey_results_public_2018.csv\")\n"
          ]
        }
      ]
    },
    {
      "cell_type": "code",
      "source": [],
      "metadata": {
        "id": "UAVWrkO5oQbk"
      },
      "execution_count": 3,
      "outputs": []
    },
    {
      "cell_type": "markdown",
      "source": [
        "*Initial exploration*"
      ],
      "metadata": {
        "id": "Rm63VMBVA2rm"
      }
    },
    {
      "cell_type": "code",
      "source": [
        "#First few rows of the data\n",
        "df.head(10)"
      ],
      "metadata": {
        "colab": {
          "base_uri": "https://localhost:8080/",
          "height": 1000
        },
        "id": "NeeuOsj4AzIs",
        "outputId": "50791d78-3388-4755-e3e2-85e1acfd7897"
      },
      "execution_count": 4,
      "outputs": [
        {
          "output_type": "execute_result",
          "data": {
            "text/plain": [
              "   Respondent Hobby OpenSource         Country         Student  \\\n",
              "0           1   Yes         No           Kenya              No   \n",
              "1           3   Yes        Yes  United Kingdom              No   \n",
              "2           4   Yes        Yes   United States              No   \n",
              "3           5    No         No   United States              No   \n",
              "4           7   Yes         No    South Africa  Yes, part-time   \n",
              "5           8   Yes         No  United Kingdom              No   \n",
              "6           9   Yes        Yes   United States              No   \n",
              "7          10   Yes        Yes         Nigeria              No   \n",
              "8          11   Yes        Yes   United States              No   \n",
              "9          16    No        Yes           India              No   \n",
              "\n",
              "           Employment                                    FormalEducation  \\\n",
              "0  Employed part-time           Bachelor’s degree (BA, BS, B.Eng., etc.)   \n",
              "1  Employed full-time           Bachelor’s degree (BA, BS, B.Eng., etc.)   \n",
              "2  Employed full-time                                   Associate degree   \n",
              "3  Employed full-time           Bachelor’s degree (BA, BS, B.Eng., etc.)   \n",
              "4  Employed full-time  Some college/university study without earning ...   \n",
              "5  Employed full-time           Bachelor’s degree (BA, BS, B.Eng., etc.)   \n",
              "6  Employed full-time  Some college/university study without earning ...   \n",
              "7  Employed full-time           Bachelor’s degree (BA, BS, B.Eng., etc.)   \n",
              "8  Employed full-time  Some college/university study without earning ...   \n",
              "9  Employed full-time           Bachelor’s degree (BA, BS, B.Eng., etc.)   \n",
              "\n",
              "                                      UndergradMajor  \\\n",
              "0                          Mathematics or statistics   \n",
              "1  A natural science (ex. biology, chemistry, phy...   \n",
              "2  Computer science, computer engineering, or sof...   \n",
              "3  Computer science, computer engineering, or sof...   \n",
              "4  Computer science, computer engineering, or sof...   \n",
              "5  Computer science, computer engineering, or sof...   \n",
              "6  Computer science, computer engineering, or sof...   \n",
              "7  Computer science, computer engineering, or sof...   \n",
              "8  Fine arts or performing arts (ex. graphic desi...   \n",
              "9  Computer science, computer engineering, or sof...   \n",
              "\n",
              "                CompanySize  \\\n",
              "0        20 to 99 employees   \n",
              "1  10,000 or more employees   \n",
              "2        20 to 99 employees   \n",
              "3      100 to 499 employees   \n",
              "4  10,000 or more employees   \n",
              "5        10 to 19 employees   \n",
              "6  10,000 or more employees   \n",
              "7        10 to 19 employees   \n",
              "8      100 to 499 employees   \n",
              "9      500 to 999 employees   \n",
              "\n",
              "                                             DevType  ...  \\\n",
              "0                               Full-stack developer  ...   \n",
              "1  Database administrator;DevOps specialist;Full-...  ...   \n",
              "2           Engineering manager;Full-stack developer  ...   \n",
              "3                               Full-stack developer  ...   \n",
              "4  Data or business analyst;Desktop or enterprise...  ...   \n",
              "5  Back-end developer;Database administrator;Fron...  ...   \n",
              "6  Back-end developer;Front-end developer;Full-st...  ...   \n",
              "7  Designer;Front-end developer;QA or test developer  ...   \n",
              "8  Back-end developer;C-suite executive (CEO, CTO...  ...   \n",
              "9                                           Designer  ...   \n",
              "\n",
              "                     Exercise  Gender         SexualOrientation  \\\n",
              "0        3 - 4 times per week    Male  Straight or heterosexual   \n",
              "1   Daily or almost every day    Male  Straight or heterosexual   \n",
              "2                         NaN     NaN                       NaN   \n",
              "3  I don't typically exercise    Male  Straight or heterosexual   \n",
              "4        3 - 4 times per week    Male  Straight or heterosexual   \n",
              "5        1 - 2 times per week    Male  Straight or heterosexual   \n",
              "6  I don't typically exercise    Male  Straight or heterosexual   \n",
              "7        1 - 2 times per week  Female                       NaN   \n",
              "8  I don't typically exercise    Male  Straight or heterosexual   \n",
              "9                         NaN     NaN                       NaN   \n",
              "\n",
              "                                    EducationParents  \\\n",
              "0           Bachelor’s degree (BA, BS, B.Eng., etc.)   \n",
              "1           Bachelor’s degree (BA, BS, B.Eng., etc.)   \n",
              "2                                                NaN   \n",
              "3  Some college/university study without earning ...   \n",
              "4  Some college/university study without earning ...   \n",
              "5  Secondary school (e.g. American high school, G...   \n",
              "6        Master’s degree (MA, MS, M.Eng., MBA, etc.)   \n",
              "7                          Primary/elementary school   \n",
              "8  Some college/university study without earning ...   \n",
              "9                                                NaN   \n",
              "\n",
              "                  RaceEthnicity                Age Dependents  MilitaryUS  \\\n",
              "0   Black or of African descent  25 - 34 years old        Yes         NaN   \n",
              "1  White or of European descent  35 - 44 years old        Yes         NaN   \n",
              "2                           NaN                NaN        NaN         NaN   \n",
              "3  White or of European descent  35 - 44 years old         No          No   \n",
              "4  White or of European descent  18 - 24 years old        Yes         NaN   \n",
              "5  White or of European descent  18 - 24 years old         No         NaN   \n",
              "6  White or of European descent  18 - 24 years old         No          No   \n",
              "7   Black or of African descent  25 - 34 years old         No         NaN   \n",
              "8  White or of European descent  35 - 44 years old        Yes          No   \n",
              "9                           NaN                NaN        NaN         NaN   \n",
              "\n",
              "                          SurveyTooLong          SurveyEasy  \n",
              "0  The survey was an appropriate length           Very easy  \n",
              "1  The survey was an appropriate length       Somewhat easy  \n",
              "2                                   NaN                 NaN  \n",
              "3  The survey was an appropriate length       Somewhat easy  \n",
              "4  The survey was an appropriate length       Somewhat easy  \n",
              "5  The survey was an appropriate length       Somewhat easy  \n",
              "6  The survey was an appropriate length       Somewhat easy  \n",
              "7               The survey was too long  Somewhat difficult  \n",
              "8  The survey was an appropriate length           Very easy  \n",
              "9                                   NaN                 NaN  \n",
              "\n",
              "[10 rows x 129 columns]"
            ],
            "text/html": [
              "\n",
              "  <div id=\"df-06e11d0f-2a18-4fb8-8ab4-92cdacca8087\" class=\"colab-df-container\">\n",
              "    <div>\n",
              "<style scoped>\n",
              "    .dataframe tbody tr th:only-of-type {\n",
              "        vertical-align: middle;\n",
              "    }\n",
              "\n",
              "    .dataframe tbody tr th {\n",
              "        vertical-align: top;\n",
              "    }\n",
              "\n",
              "    .dataframe thead th {\n",
              "        text-align: right;\n",
              "    }\n",
              "</style>\n",
              "<table border=\"1\" class=\"dataframe\">\n",
              "  <thead>\n",
              "    <tr style=\"text-align: right;\">\n",
              "      <th></th>\n",
              "      <th>Respondent</th>\n",
              "      <th>Hobby</th>\n",
              "      <th>OpenSource</th>\n",
              "      <th>Country</th>\n",
              "      <th>Student</th>\n",
              "      <th>Employment</th>\n",
              "      <th>FormalEducation</th>\n",
              "      <th>UndergradMajor</th>\n",
              "      <th>CompanySize</th>\n",
              "      <th>DevType</th>\n",
              "      <th>...</th>\n",
              "      <th>Exercise</th>\n",
              "      <th>Gender</th>\n",
              "      <th>SexualOrientation</th>\n",
              "      <th>EducationParents</th>\n",
              "      <th>RaceEthnicity</th>\n",
              "      <th>Age</th>\n",
              "      <th>Dependents</th>\n",
              "      <th>MilitaryUS</th>\n",
              "      <th>SurveyTooLong</th>\n",
              "      <th>SurveyEasy</th>\n",
              "    </tr>\n",
              "  </thead>\n",
              "  <tbody>\n",
              "    <tr>\n",
              "      <th>0</th>\n",
              "      <td>1</td>\n",
              "      <td>Yes</td>\n",
              "      <td>No</td>\n",
              "      <td>Kenya</td>\n",
              "      <td>No</td>\n",
              "      <td>Employed part-time</td>\n",
              "      <td>Bachelor’s degree (BA, BS, B.Eng., etc.)</td>\n",
              "      <td>Mathematics or statistics</td>\n",
              "      <td>20 to 99 employees</td>\n",
              "      <td>Full-stack developer</td>\n",
              "      <td>...</td>\n",
              "      <td>3 - 4 times per week</td>\n",
              "      <td>Male</td>\n",
              "      <td>Straight or heterosexual</td>\n",
              "      <td>Bachelor’s degree (BA, BS, B.Eng., etc.)</td>\n",
              "      <td>Black or of African descent</td>\n",
              "      <td>25 - 34 years old</td>\n",
              "      <td>Yes</td>\n",
              "      <td>NaN</td>\n",
              "      <td>The survey was an appropriate length</td>\n",
              "      <td>Very easy</td>\n",
              "    </tr>\n",
              "    <tr>\n",
              "      <th>1</th>\n",
              "      <td>3</td>\n",
              "      <td>Yes</td>\n",
              "      <td>Yes</td>\n",
              "      <td>United Kingdom</td>\n",
              "      <td>No</td>\n",
              "      <td>Employed full-time</td>\n",
              "      <td>Bachelor’s degree (BA, BS, B.Eng., etc.)</td>\n",
              "      <td>A natural science (ex. biology, chemistry, phy...</td>\n",
              "      <td>10,000 or more employees</td>\n",
              "      <td>Database administrator;DevOps specialist;Full-...</td>\n",
              "      <td>...</td>\n",
              "      <td>Daily or almost every day</td>\n",
              "      <td>Male</td>\n",
              "      <td>Straight or heterosexual</td>\n",
              "      <td>Bachelor’s degree (BA, BS, B.Eng., etc.)</td>\n",
              "      <td>White or of European descent</td>\n",
              "      <td>35 - 44 years old</td>\n",
              "      <td>Yes</td>\n",
              "      <td>NaN</td>\n",
              "      <td>The survey was an appropriate length</td>\n",
              "      <td>Somewhat easy</td>\n",
              "    </tr>\n",
              "    <tr>\n",
              "      <th>2</th>\n",
              "      <td>4</td>\n",
              "      <td>Yes</td>\n",
              "      <td>Yes</td>\n",
              "      <td>United States</td>\n",
              "      <td>No</td>\n",
              "      <td>Employed full-time</td>\n",
              "      <td>Associate degree</td>\n",
              "      <td>Computer science, computer engineering, or sof...</td>\n",
              "      <td>20 to 99 employees</td>\n",
              "      <td>Engineering manager;Full-stack developer</td>\n",
              "      <td>...</td>\n",
              "      <td>NaN</td>\n",
              "      <td>NaN</td>\n",
              "      <td>NaN</td>\n",
              "      <td>NaN</td>\n",
              "      <td>NaN</td>\n",
              "      <td>NaN</td>\n",
              "      <td>NaN</td>\n",
              "      <td>NaN</td>\n",
              "      <td>NaN</td>\n",
              "      <td>NaN</td>\n",
              "    </tr>\n",
              "    <tr>\n",
              "      <th>3</th>\n",
              "      <td>5</td>\n",
              "      <td>No</td>\n",
              "      <td>No</td>\n",
              "      <td>United States</td>\n",
              "      <td>No</td>\n",
              "      <td>Employed full-time</td>\n",
              "      <td>Bachelor’s degree (BA, BS, B.Eng., etc.)</td>\n",
              "      <td>Computer science, computer engineering, or sof...</td>\n",
              "      <td>100 to 499 employees</td>\n",
              "      <td>Full-stack developer</td>\n",
              "      <td>...</td>\n",
              "      <td>I don't typically exercise</td>\n",
              "      <td>Male</td>\n",
              "      <td>Straight or heterosexual</td>\n",
              "      <td>Some college/university study without earning ...</td>\n",
              "      <td>White or of European descent</td>\n",
              "      <td>35 - 44 years old</td>\n",
              "      <td>No</td>\n",
              "      <td>No</td>\n",
              "      <td>The survey was an appropriate length</td>\n",
              "      <td>Somewhat easy</td>\n",
              "    </tr>\n",
              "    <tr>\n",
              "      <th>4</th>\n",
              "      <td>7</td>\n",
              "      <td>Yes</td>\n",
              "      <td>No</td>\n",
              "      <td>South Africa</td>\n",
              "      <td>Yes, part-time</td>\n",
              "      <td>Employed full-time</td>\n",
              "      <td>Some college/university study without earning ...</td>\n",
              "      <td>Computer science, computer engineering, or sof...</td>\n",
              "      <td>10,000 or more employees</td>\n",
              "      <td>Data or business analyst;Desktop or enterprise...</td>\n",
              "      <td>...</td>\n",
              "      <td>3 - 4 times per week</td>\n",
              "      <td>Male</td>\n",
              "      <td>Straight or heterosexual</td>\n",
              "      <td>Some college/university study without earning ...</td>\n",
              "      <td>White or of European descent</td>\n",
              "      <td>18 - 24 years old</td>\n",
              "      <td>Yes</td>\n",
              "      <td>NaN</td>\n",
              "      <td>The survey was an appropriate length</td>\n",
              "      <td>Somewhat easy</td>\n",
              "    </tr>\n",
              "    <tr>\n",
              "      <th>5</th>\n",
              "      <td>8</td>\n",
              "      <td>Yes</td>\n",
              "      <td>No</td>\n",
              "      <td>United Kingdom</td>\n",
              "      <td>No</td>\n",
              "      <td>Employed full-time</td>\n",
              "      <td>Bachelor’s degree (BA, BS, B.Eng., etc.)</td>\n",
              "      <td>Computer science, computer engineering, or sof...</td>\n",
              "      <td>10 to 19 employees</td>\n",
              "      <td>Back-end developer;Database administrator;Fron...</td>\n",
              "      <td>...</td>\n",
              "      <td>1 - 2 times per week</td>\n",
              "      <td>Male</td>\n",
              "      <td>Straight or heterosexual</td>\n",
              "      <td>Secondary school (e.g. American high school, G...</td>\n",
              "      <td>White or of European descent</td>\n",
              "      <td>18 - 24 years old</td>\n",
              "      <td>No</td>\n",
              "      <td>NaN</td>\n",
              "      <td>The survey was an appropriate length</td>\n",
              "      <td>Somewhat easy</td>\n",
              "    </tr>\n",
              "    <tr>\n",
              "      <th>6</th>\n",
              "      <td>9</td>\n",
              "      <td>Yes</td>\n",
              "      <td>Yes</td>\n",
              "      <td>United States</td>\n",
              "      <td>No</td>\n",
              "      <td>Employed full-time</td>\n",
              "      <td>Some college/university study without earning ...</td>\n",
              "      <td>Computer science, computer engineering, or sof...</td>\n",
              "      <td>10,000 or more employees</td>\n",
              "      <td>Back-end developer;Front-end developer;Full-st...</td>\n",
              "      <td>...</td>\n",
              "      <td>I don't typically exercise</td>\n",
              "      <td>Male</td>\n",
              "      <td>Straight or heterosexual</td>\n",
              "      <td>Master’s degree (MA, MS, M.Eng., MBA, etc.)</td>\n",
              "      <td>White or of European descent</td>\n",
              "      <td>18 - 24 years old</td>\n",
              "      <td>No</td>\n",
              "      <td>No</td>\n",
              "      <td>The survey was an appropriate length</td>\n",
              "      <td>Somewhat easy</td>\n",
              "    </tr>\n",
              "    <tr>\n",
              "      <th>7</th>\n",
              "      <td>10</td>\n",
              "      <td>Yes</td>\n",
              "      <td>Yes</td>\n",
              "      <td>Nigeria</td>\n",
              "      <td>No</td>\n",
              "      <td>Employed full-time</td>\n",
              "      <td>Bachelor’s degree (BA, BS, B.Eng., etc.)</td>\n",
              "      <td>Computer science, computer engineering, or sof...</td>\n",
              "      <td>10 to 19 employees</td>\n",
              "      <td>Designer;Front-end developer;QA or test developer</td>\n",
              "      <td>...</td>\n",
              "      <td>1 - 2 times per week</td>\n",
              "      <td>Female</td>\n",
              "      <td>NaN</td>\n",
              "      <td>Primary/elementary school</td>\n",
              "      <td>Black or of African descent</td>\n",
              "      <td>25 - 34 years old</td>\n",
              "      <td>No</td>\n",
              "      <td>NaN</td>\n",
              "      <td>The survey was too long</td>\n",
              "      <td>Somewhat difficult</td>\n",
              "    </tr>\n",
              "    <tr>\n",
              "      <th>8</th>\n",
              "      <td>11</td>\n",
              "      <td>Yes</td>\n",
              "      <td>Yes</td>\n",
              "      <td>United States</td>\n",
              "      <td>No</td>\n",
              "      <td>Employed full-time</td>\n",
              "      <td>Some college/university study without earning ...</td>\n",
              "      <td>Fine arts or performing arts (ex. graphic desi...</td>\n",
              "      <td>100 to 499 employees</td>\n",
              "      <td>Back-end developer;C-suite executive (CEO, CTO...</td>\n",
              "      <td>...</td>\n",
              "      <td>I don't typically exercise</td>\n",
              "      <td>Male</td>\n",
              "      <td>Straight or heterosexual</td>\n",
              "      <td>Some college/university study without earning ...</td>\n",
              "      <td>White or of European descent</td>\n",
              "      <td>35 - 44 years old</td>\n",
              "      <td>Yes</td>\n",
              "      <td>No</td>\n",
              "      <td>The survey was an appropriate length</td>\n",
              "      <td>Very easy</td>\n",
              "    </tr>\n",
              "    <tr>\n",
              "      <th>9</th>\n",
              "      <td>16</td>\n",
              "      <td>No</td>\n",
              "      <td>Yes</td>\n",
              "      <td>India</td>\n",
              "      <td>No</td>\n",
              "      <td>Employed full-time</td>\n",
              "      <td>Bachelor’s degree (BA, BS, B.Eng., etc.)</td>\n",
              "      <td>Computer science, computer engineering, or sof...</td>\n",
              "      <td>500 to 999 employees</td>\n",
              "      <td>Designer</td>\n",
              "      <td>...</td>\n",
              "      <td>NaN</td>\n",
              "      <td>NaN</td>\n",
              "      <td>NaN</td>\n",
              "      <td>NaN</td>\n",
              "      <td>NaN</td>\n",
              "      <td>NaN</td>\n",
              "      <td>NaN</td>\n",
              "      <td>NaN</td>\n",
              "      <td>NaN</td>\n",
              "      <td>NaN</td>\n",
              "    </tr>\n",
              "  </tbody>\n",
              "</table>\n",
              "<p>10 rows × 129 columns</p>\n",
              "</div>\n",
              "    <div class=\"colab-df-buttons\">\n",
              "\n",
              "  <div class=\"colab-df-container\">\n",
              "    <button class=\"colab-df-convert\" onclick=\"convertToInteractive('df-06e11d0f-2a18-4fb8-8ab4-92cdacca8087')\"\n",
              "            title=\"Convert this dataframe to an interactive table.\"\n",
              "            style=\"display:none;\">\n",
              "\n",
              "  <svg xmlns=\"http://www.w3.org/2000/svg\" height=\"24px\" viewBox=\"0 -960 960 960\">\n",
              "    <path d=\"M120-120v-720h720v720H120Zm60-500h600v-160H180v160Zm220 220h160v-160H400v160Zm0 220h160v-160H400v160ZM180-400h160v-160H180v160Zm440 0h160v-160H620v160ZM180-180h160v-160H180v160Zm440 0h160v-160H620v160Z\"/>\n",
              "  </svg>\n",
              "    </button>\n",
              "\n",
              "  <style>\n",
              "    .colab-df-container {\n",
              "      display:flex;\n",
              "      gap: 12px;\n",
              "    }\n",
              "\n",
              "    .colab-df-convert {\n",
              "      background-color: #E8F0FE;\n",
              "      border: none;\n",
              "      border-radius: 50%;\n",
              "      cursor: pointer;\n",
              "      display: none;\n",
              "      fill: #1967D2;\n",
              "      height: 32px;\n",
              "      padding: 0 0 0 0;\n",
              "      width: 32px;\n",
              "    }\n",
              "\n",
              "    .colab-df-convert:hover {\n",
              "      background-color: #E2EBFA;\n",
              "      box-shadow: 0px 1px 2px rgba(60, 64, 67, 0.3), 0px 1px 3px 1px rgba(60, 64, 67, 0.15);\n",
              "      fill: #174EA6;\n",
              "    }\n",
              "\n",
              "    .colab-df-buttons div {\n",
              "      margin-bottom: 4px;\n",
              "    }\n",
              "\n",
              "    [theme=dark] .colab-df-convert {\n",
              "      background-color: #3B4455;\n",
              "      fill: #D2E3FC;\n",
              "    }\n",
              "\n",
              "    [theme=dark] .colab-df-convert:hover {\n",
              "      background-color: #434B5C;\n",
              "      box-shadow: 0px 1px 3px 1px rgba(0, 0, 0, 0.15);\n",
              "      filter: drop-shadow(0px 1px 2px rgba(0, 0, 0, 0.3));\n",
              "      fill: #FFFFFF;\n",
              "    }\n",
              "  </style>\n",
              "\n",
              "    <script>\n",
              "      const buttonEl =\n",
              "        document.querySelector('#df-06e11d0f-2a18-4fb8-8ab4-92cdacca8087 button.colab-df-convert');\n",
              "      buttonEl.style.display =\n",
              "        google.colab.kernel.accessAllowed ? 'block' : 'none';\n",
              "\n",
              "      async function convertToInteractive(key) {\n",
              "        const element = document.querySelector('#df-06e11d0f-2a18-4fb8-8ab4-92cdacca8087');\n",
              "        const dataTable =\n",
              "          await google.colab.kernel.invokeFunction('convertToInteractive',\n",
              "                                                    [key], {});\n",
              "        if (!dataTable) return;\n",
              "\n",
              "        const docLinkHtml = 'Like what you see? Visit the ' +\n",
              "          '<a target=\"_blank\" href=https://colab.research.google.com/notebooks/data_table.ipynb>data table notebook</a>'\n",
              "          + ' to learn more about interactive tables.';\n",
              "        element.innerHTML = '';\n",
              "        dataTable['output_type'] = 'display_data';\n",
              "        await google.colab.output.renderOutput(dataTable, element);\n",
              "        const docLink = document.createElement('div');\n",
              "        docLink.innerHTML = docLinkHtml;\n",
              "        element.appendChild(docLink);\n",
              "      }\n",
              "    </script>\n",
              "  </div>\n",
              "\n",
              "\n",
              "<div id=\"df-76c6dff9-b30b-45c4-bd6b-c47eed778ada\">\n",
              "  <button class=\"colab-df-quickchart\" onclick=\"quickchart('df-76c6dff9-b30b-45c4-bd6b-c47eed778ada')\"\n",
              "            title=\"Suggest charts\"\n",
              "            style=\"display:none;\">\n",
              "\n",
              "<svg xmlns=\"http://www.w3.org/2000/svg\" height=\"24px\"viewBox=\"0 0 24 24\"\n",
              "     width=\"24px\">\n",
              "    <g>\n",
              "        <path d=\"M19 3H5c-1.1 0-2 .9-2 2v14c0 1.1.9 2 2 2h14c1.1 0 2-.9 2-2V5c0-1.1-.9-2-2-2zM9 17H7v-7h2v7zm4 0h-2V7h2v10zm4 0h-2v-4h2v4z\"/>\n",
              "    </g>\n",
              "</svg>\n",
              "  </button>\n",
              "\n",
              "<style>\n",
              "  .colab-df-quickchart {\n",
              "      --bg-color: #E8F0FE;\n",
              "      --fill-color: #1967D2;\n",
              "      --hover-bg-color: #E2EBFA;\n",
              "      --hover-fill-color: #174EA6;\n",
              "      --disabled-fill-color: #AAA;\n",
              "      --disabled-bg-color: #DDD;\n",
              "  }\n",
              "\n",
              "  [theme=dark] .colab-df-quickchart {\n",
              "      --bg-color: #3B4455;\n",
              "      --fill-color: #D2E3FC;\n",
              "      --hover-bg-color: #434B5C;\n",
              "      --hover-fill-color: #FFFFFF;\n",
              "      --disabled-bg-color: #3B4455;\n",
              "      --disabled-fill-color: #666;\n",
              "  }\n",
              "\n",
              "  .colab-df-quickchart {\n",
              "    background-color: var(--bg-color);\n",
              "    border: none;\n",
              "    border-radius: 50%;\n",
              "    cursor: pointer;\n",
              "    display: none;\n",
              "    fill: var(--fill-color);\n",
              "    height: 32px;\n",
              "    padding: 0;\n",
              "    width: 32px;\n",
              "  }\n",
              "\n",
              "  .colab-df-quickchart:hover {\n",
              "    background-color: var(--hover-bg-color);\n",
              "    box-shadow: 0 1px 2px rgba(60, 64, 67, 0.3), 0 1px 3px 1px rgba(60, 64, 67, 0.15);\n",
              "    fill: var(--button-hover-fill-color);\n",
              "  }\n",
              "\n",
              "  .colab-df-quickchart-complete:disabled,\n",
              "  .colab-df-quickchart-complete:disabled:hover {\n",
              "    background-color: var(--disabled-bg-color);\n",
              "    fill: var(--disabled-fill-color);\n",
              "    box-shadow: none;\n",
              "  }\n",
              "\n",
              "  .colab-df-spinner {\n",
              "    border: 2px solid var(--fill-color);\n",
              "    border-color: transparent;\n",
              "    border-bottom-color: var(--fill-color);\n",
              "    animation:\n",
              "      spin 1s steps(1) infinite;\n",
              "  }\n",
              "\n",
              "  @keyframes spin {\n",
              "    0% {\n",
              "      border-color: transparent;\n",
              "      border-bottom-color: var(--fill-color);\n",
              "      border-left-color: var(--fill-color);\n",
              "    }\n",
              "    20% {\n",
              "      border-color: transparent;\n",
              "      border-left-color: var(--fill-color);\n",
              "      border-top-color: var(--fill-color);\n",
              "    }\n",
              "    30% {\n",
              "      border-color: transparent;\n",
              "      border-left-color: var(--fill-color);\n",
              "      border-top-color: var(--fill-color);\n",
              "      border-right-color: var(--fill-color);\n",
              "    }\n",
              "    40% {\n",
              "      border-color: transparent;\n",
              "      border-right-color: var(--fill-color);\n",
              "      border-top-color: var(--fill-color);\n",
              "    }\n",
              "    60% {\n",
              "      border-color: transparent;\n",
              "      border-right-color: var(--fill-color);\n",
              "    }\n",
              "    80% {\n",
              "      border-color: transparent;\n",
              "      border-right-color: var(--fill-color);\n",
              "      border-bottom-color: var(--fill-color);\n",
              "    }\n",
              "    90% {\n",
              "      border-color: transparent;\n",
              "      border-bottom-color: var(--fill-color);\n",
              "    }\n",
              "  }\n",
              "</style>\n",
              "\n",
              "  <script>\n",
              "    async function quickchart(key) {\n",
              "      const quickchartButtonEl =\n",
              "        document.querySelector('#' + key + ' button');\n",
              "      quickchartButtonEl.disabled = true;  // To prevent multiple clicks.\n",
              "      quickchartButtonEl.classList.add('colab-df-spinner');\n",
              "      try {\n",
              "        const charts = await google.colab.kernel.invokeFunction(\n",
              "            'suggestCharts', [key], {});\n",
              "      } catch (error) {\n",
              "        console.error('Error during call to suggestCharts:', error);\n",
              "      }\n",
              "      quickchartButtonEl.classList.remove('colab-df-spinner');\n",
              "      quickchartButtonEl.classList.add('colab-df-quickchart-complete');\n",
              "    }\n",
              "    (() => {\n",
              "      let quickchartButtonEl =\n",
              "        document.querySelector('#df-76c6dff9-b30b-45c4-bd6b-c47eed778ada button');\n",
              "      quickchartButtonEl.style.display =\n",
              "        google.colab.kernel.accessAllowed ? 'block' : 'none';\n",
              "    })();\n",
              "  </script>\n",
              "</div>\n",
              "\n",
              "    </div>\n",
              "  </div>\n"
            ],
            "application/vnd.google.colaboratory.intrinsic+json": {
              "type": "dataframe",
              "variable_name": "df"
            }
          },
          "metadata": {},
          "execution_count": 4
        }
      ]
    },
    {
      "cell_type": "code",
      "source": [
        "#dimensions of the data\n",
        "df.shape"
      ],
      "metadata": {
        "colab": {
          "base_uri": "https://localhost:8080/"
        },
        "id": "Pk727hn8BAtt",
        "outputId": "0e0c928f-dd4c-4a9c-c5d2-92abc71eefaf"
      },
      "execution_count": 5,
      "outputs": [
        {
          "output_type": "execute_result",
          "data": {
            "text/plain": [
              "(98855, 129)"
            ]
          },
          "metadata": {},
          "execution_count": 5
        }
      ]
    },
    {
      "cell_type": "code",
      "source": [
        "#datatypes of the data\n",
        "df.dtypes"
      ],
      "metadata": {
        "colab": {
          "base_uri": "https://localhost:8080/"
        },
        "id": "MJa9xMhaBN0h",
        "outputId": "328e5fc0-524e-43a1-ed95-84d0362306f0"
      },
      "execution_count": 6,
      "outputs": [
        {
          "output_type": "execute_result",
          "data": {
            "text/plain": [
              "Respondent        int64\n",
              "Hobby            object\n",
              "OpenSource       object\n",
              "Country          object\n",
              "Student          object\n",
              "                  ...  \n",
              "Age              object\n",
              "Dependents       object\n",
              "MilitaryUS       object\n",
              "SurveyTooLong    object\n",
              "SurveyEasy       object\n",
              "Length: 129, dtype: object"
            ]
          },
          "metadata": {},
          "execution_count": 6
        }
      ]
    },
    {
      "cell_type": "code",
      "source": [
        "df.columns"
      ],
      "metadata": {
        "colab": {
          "base_uri": "https://localhost:8080/"
        },
        "id": "tYgb3H0fBXSM",
        "outputId": "96fedb43-6352-424e-9d37-4fef0c833b74"
      },
      "execution_count": 7,
      "outputs": [
        {
          "output_type": "execute_result",
          "data": {
            "text/plain": [
              "Index(['Respondent', 'Hobby', 'OpenSource', 'Country', 'Student', 'Employment',\n",
              "       'FormalEducation', 'UndergradMajor', 'CompanySize', 'DevType',\n",
              "       ...\n",
              "       'Exercise', 'Gender', 'SexualOrientation', 'EducationParents',\n",
              "       'RaceEthnicity', 'Age', 'Dependents', 'MilitaryUS', 'SurveyTooLong',\n",
              "       'SurveyEasy'],\n",
              "      dtype='object', length=129)"
            ]
          },
          "metadata": {},
          "execution_count": 7
        }
      ]
    },
    {
      "cell_type": "markdown",
      "source": [
        "**DATA** **CLEANING**"
      ],
      "metadata": {
        "id": "JcsoF8mUC3FW"
      }
    },
    {
      "cell_type": "code",
      "source": [
        "#checking for the missing or null values\n",
        "missing_values=df.isnull().sum()\n",
        "missing_values"
      ],
      "metadata": {
        "colab": {
          "base_uri": "https://localhost:8080/"
        },
        "id": "Oq3xNHCbC0dw",
        "outputId": "3e32f63e-4504-4658-e584-ea0453160c39"
      },
      "execution_count": 8,
      "outputs": [
        {
          "output_type": "execute_result",
          "data": {
            "text/plain": [
              "Respondent           0\n",
              "Hobby                0\n",
              "OpenSource           0\n",
              "Country            412\n",
              "Student           3954\n",
              "                 ...  \n",
              "Age              34281\n",
              "Dependents       36259\n",
              "MilitaryUS       83074\n",
              "SurveyTooLong    32914\n",
              "SurveyEasy       32976\n",
              "Length: 129, dtype: int64"
            ]
          },
          "metadata": {},
          "execution_count": 8
        }
      ]
    },
    {
      "cell_type": "markdown",
      "source": [
        "By this we can get to the conclusion that there exist missing values"
      ],
      "metadata": {
        "id": "2XZHexqvDe_l"
      }
    },
    {
      "cell_type": "code",
      "source": [
        "#calculating percentage of missing values\n",
        "total_cells=np.product(df.shape)\n",
        "total_missing=missing_values.sum()\n",
        "percent=(total_missing/total_cells)*100"
      ],
      "metadata": {
        "id": "GUvMjmK8Dbhf"
      },
      "execution_count": 9,
      "outputs": []
    },
    {
      "cell_type": "code",
      "source": [
        "print('Total number of cells: ', total_cells)\n",
        "print('Total number of missing values: ', total_missing)\n",
        "print('Missing Percentage: ', percent, '%')"
      ],
      "metadata": {
        "colab": {
          "base_uri": "https://localhost:8080/"
        },
        "id": "UzfvQT1kDxYW",
        "outputId": "8306c15d-9bad-4289-d439-5064bd602655"
      },
      "execution_count": 10,
      "outputs": [
        {
          "output_type": "stream",
          "name": "stdout",
          "text": [
            "Total number of cells:  12752295\n",
            "Total number of missing values:  4349316\n",
            "Missing Percentage:  34.10614324715669 %\n"
          ]
        }
      ]
    },
    {
      "cell_type": "markdown",
      "source": [
        "approximately 35% of data is missing we need to handle the missing values"
      ],
      "metadata": {
        "id": "wpCPQqvTEiPZ"
      }
    },
    {
      "cell_type": "markdown",
      "source": [
        "**cleaning the gender column**"
      ],
      "metadata": {
        "id": "JocVQX4iFe7X"
      }
    },
    {
      "cell_type": "code",
      "source": [
        "# Calculate the missing percentage of the 'Gender' column\n",
        "df['Gender'].isnull().sum()\n",
        "missing_percentage_gender = (df['Gender'].isnull().sum() / len(df['Gender'])) * 100\n",
        "\n",
        "print(\"Missing percentage of the 'Gender' column:\", missing_percentage_gender, \"%\")\n"
      ],
      "metadata": {
        "colab": {
          "base_uri": "https://localhost:8080/"
        },
        "id": "IsT298IwEf-8",
        "outputId": "4c329522-0310-48f3-9de5-ab2e0a692be2"
      },
      "execution_count": 11,
      "outputs": [
        {
          "output_type": "stream",
          "name": "stdout",
          "text": [
            "Missing percentage of the 'Gender' column: 34.784280006069494 %\n"
          ]
        }
      ]
    },
    {
      "cell_type": "markdown",
      "source": [
        "32% of the gender data is missing lets categorize them"
      ],
      "metadata": {
        "id": "j9z63fRMF_BT"
      }
    },
    {
      "cell_type": "code",
      "source": [
        "df['Gender'].unique()"
      ],
      "metadata": {
        "colab": {
          "base_uri": "https://localhost:8080/"
        },
        "id": "qOL_vo90F812",
        "outputId": "de216f1c-5e21-44c6-e5cf-b0eacc4b769c"
      },
      "execution_count": 12,
      "outputs": [
        {
          "output_type": "execute_result",
          "data": {
            "text/plain": [
              "array(['Male', nan, 'Female',\n",
              "       'Female;Male;Transgender;Non-binary, genderqueer, or gender non-conforming',\n",
              "       'Female;Male',\n",
              "       'Male;Non-binary, genderqueer, or gender non-conforming',\n",
              "       'Non-binary, genderqueer, or gender non-conforming', 'Transgender',\n",
              "       'Female;Transgender',\n",
              "       'Transgender;Non-binary, genderqueer, or gender non-conforming',\n",
              "       'Female;Non-binary, genderqueer, or gender non-conforming',\n",
              "       'Female;Transgender;Non-binary, genderqueer, or gender non-conforming',\n",
              "       'Male;Transgender', 'Female;Male;Transgender',\n",
              "       'Female;Male;Non-binary, genderqueer, or gender non-conforming',\n",
              "       'Male;Transgender;Non-binary, genderqueer, or gender non-conforming'],\n",
              "      dtype=object)"
            ]
          },
          "metadata": {},
          "execution_count": 12
        }
      ]
    },
    {
      "cell_type": "code",
      "source": [
        "#counting the number of each gender\n",
        "df.groupby('Gender')['Gender'].count()"
      ],
      "metadata": {
        "colab": {
          "base_uri": "https://localhost:8080/"
        },
        "id": "WThNvO9dGNJr",
        "outputId": "328cc881-33f0-41bb-844d-551e345fa52b"
      },
      "execution_count": 13,
      "outputs": [
        {
          "output_type": "execute_result",
          "data": {
            "text/plain": [
              "Gender\n",
              "Female                                                                        4025\n",
              "Female;Male                                                                     98\n",
              "Female;Male;Non-binary, genderqueer, or gender non-conforming                    3\n",
              "Female;Male;Transgender                                                         14\n",
              "Female;Male;Transgender;Non-binary, genderqueer, or gender non-conforming       50\n",
              "Female;Non-binary, genderqueer, or gender non-conforming                        50\n",
              "Female;Transgender                                                             145\n",
              "Female;Transgender;Non-binary, genderqueer, or gender non-conforming            24\n",
              "Male                                                                         59458\n",
              "Male;Non-binary, genderqueer, or gender non-conforming                         128\n",
              "Male;Transgender                                                                29\n",
              "Male;Transgender;Non-binary, genderqueer, or gender non-conforming               5\n",
              "Non-binary, genderqueer, or gender non-conforming                              284\n",
              "Transgender                                                                    105\n",
              "Transgender;Non-binary, genderqueer, or gender non-conforming                   51\n",
              "Name: Gender, dtype: int64"
            ]
          },
          "metadata": {},
          "execution_count": 13
        }
      ]
    },
    {
      "cell_type": "markdown",
      "source": [
        "Filling the missing values and reducing the number of divisions to male,female and non confirmed only to get easy analysis"
      ],
      "metadata": {
        "id": "N5mSGdaFHQ7C"
      }
    },
    {
      "cell_type": "code",
      "source": [
        "df['Gender'] = df['Gender'].fillna('Non-binary, genderqueer, or gender non-conforming')\n",
        "df['Gender'].replace('Female;Male;Non-binary, genderqueer, or gender non-conforming', 'Female', inplace =True)\n",
        "df['Gender'].replace('Female;Male;Transgender;Non-binary, genderqueer, or gender non-conforming', 'Female', inplace =True)\n",
        "df['Gender'].replace('Female;Non-binary, genderqueer, or gender non-conforming', 'Female', inplace =True)\n",
        "df['Gender'].replace('Female;Transgender;Non-binary, genderqueer, or gender non-conforming', 'Female', inplace =True)\n",
        "df['Gender'].replace('Male;Non-binary, genderqueer, or gender non-conforming', 'Male', inplace =True)\n",
        "df['Gender'].replace('Male;Transgender;Non-binary, genderqueer, or gender non-conforming', 'Male', inplace =True)\n",
        "df['Gender'].replace('Transgender;Non-binary, genderqueer, or gender non-conforming', 'Non-conforming', inplace =True) ##not sure\n",
        "df['Gender'].replace('Female;Male', 'Female', inplace =True)\n",
        "df['Gender'].replace('Female;Male;Transgender', 'Female', inplace =True)\n",
        "df['Gender'].replace('Female;Transgender', 'Female', inplace =True)\n",
        "df['Gender'].replace('Male;Transgender', 'Female', inplace =True)\n",
        "df['Gender'].replace('Non-binary, genderqueer, or gender non-conforming', 'Non-conforming', inplace =True) #\n",
        "df['Gender'].replace('Transgender', 'Male', inplace =True)"
      ],
      "metadata": {
        "id": "mr6IrwZxGWvH"
      },
      "execution_count": 14,
      "outputs": []
    },
    {
      "cell_type": "code",
      "source": [
        "df.groupby('Gender')['Gender'].count()"
      ],
      "metadata": {
        "colab": {
          "base_uri": "https://localhost:8080/"
        },
        "id": "OyI5oGQJHPVt",
        "outputId": "84523e07-156a-4b46-e70d-b3b46443b578"
      },
      "execution_count": 15,
      "outputs": [
        {
          "output_type": "execute_result",
          "data": {
            "text/plain": [
              "Gender\n",
              "Female             4438\n",
              "Male              59696\n",
              "Non-conforming    34721\n",
              "Name: Gender, dtype: int64"
            ]
          },
          "metadata": {},
          "execution_count": 15
        }
      ]
    },
    {
      "cell_type": "code",
      "source": [
        "df.shape"
      ],
      "metadata": {
        "colab": {
          "base_uri": "https://localhost:8080/"
        },
        "id": "1wIFGzW0HcDS",
        "outputId": "b2aebfc0-465f-460b-cdc4-95ae65c323e4"
      },
      "execution_count": 16,
      "outputs": [
        {
          "output_type": "execute_result",
          "data": {
            "text/plain": [
              "(98855, 129)"
            ]
          },
          "metadata": {},
          "execution_count": 16
        }
      ]
    },
    {
      "cell_type": "code",
      "source": [
        "df.isnull().sum()['Gender']"
      ],
      "metadata": {
        "colab": {
          "base_uri": "https://localhost:8080/"
        },
        "id": "cEYOPjlNHw-I",
        "outputId": "fe3c6b9f-42dc-4ea0-e13d-6e87b347f263"
      },
      "execution_count": 17,
      "outputs": [
        {
          "output_type": "execute_result",
          "data": {
            "text/plain": [
              "0"
            ]
          },
          "metadata": {},
          "execution_count": 17
        }
      ]
    },
    {
      "cell_type": "markdown",
      "source": [
        "Hence, there are no existing null values in gender column\n",
        "\n",
        "\n",
        "\n",
        "\n"
      ],
      "metadata": {
        "id": "6h37X59cH0ne"
      }
    },
    {
      "cell_type": "markdown",
      "source": [
        "**cleaning the country column**"
      ],
      "metadata": {
        "id": "Y7lg2qNyIHRT"
      }
    },
    {
      "cell_type": "code",
      "source": [
        "df.groupby('Country')['Country'].count()"
      ],
      "metadata": {
        "colab": {
          "base_uri": "https://localhost:8080/"
        },
        "id": "WUTBusH2HzGg",
        "outputId": "b22a7678-df56-4640-e954-9636aaa7e117"
      },
      "execution_count": 18,
      "outputs": [
        {
          "output_type": "execute_result",
          "data": {
            "text/plain": [
              "Country\n",
              "Afghanistan                              64\n",
              "Albania                                 109\n",
              "Algeria                                 130\n",
              "Andorra                                  15\n",
              "Angola                                   11\n",
              "                                       ... \n",
              "Venezuela, Bolivarian Republic of...    123\n",
              "Viet Nam                                331\n",
              "Yemen                                    13\n",
              "Zambia                                    9\n",
              "Zimbabwe                                 39\n",
              "Name: Country, Length: 183, dtype: int64"
            ]
          },
          "metadata": {},
          "execution_count": 18
        }
      ]
    },
    {
      "cell_type": "code",
      "source": [
        "df['Country'].isnull().sum()"
      ],
      "metadata": {
        "colab": {
          "base_uri": "https://localhost:8080/"
        },
        "id": "ds9Hf2hgIn8d",
        "outputId": "5fd28eba-06fa-4826-8bc3-02878e4ff185"
      },
      "execution_count": 19,
      "outputs": [
        {
          "output_type": "execute_result",
          "data": {
            "text/plain": [
              "412"
            ]
          },
          "metadata": {},
          "execution_count": 19
        }
      ]
    },
    {
      "cell_type": "code",
      "source": [
        "#filling null values\n",
        "df['Country'].fillna(method='ffill', inplace=True)"
      ],
      "metadata": {
        "id": "8XoIM4LoIreR"
      },
      "execution_count": 20,
      "outputs": []
    },
    {
      "cell_type": "code",
      "source": [
        "df['Country'].isnull().sum()"
      ],
      "metadata": {
        "colab": {
          "base_uri": "https://localhost:8080/"
        },
        "id": "VvZcOHoAIv79",
        "outputId": "c61b2977-10eb-475a-b178-f1315e35700c"
      },
      "execution_count": 21,
      "outputs": [
        {
          "output_type": "execute_result",
          "data": {
            "text/plain": [
              "0"
            ]
          },
          "metadata": {},
          "execution_count": 21
        }
      ]
    },
    {
      "cell_type": "markdown",
      "source": [
        "Hence, there are no existing null values in country column"
      ],
      "metadata": {
        "id": "oMNRkkg8JKSP"
      }
    },
    {
      "cell_type": "markdown",
      "source": [
        "**cleaning the hobbies column**"
      ],
      "metadata": {
        "id": "J34nhG7BJXUD"
      }
    },
    {
      "cell_type": "code",
      "source": [
        "df['Hobby'].isnull().sum()"
      ],
      "metadata": {
        "colab": {
          "base_uri": "https://localhost:8080/"
        },
        "id": "3LXVD5rzJEuX",
        "outputId": "6b40fbf8-a65f-4654-d167-c2b1b4e60617"
      },
      "execution_count": 22,
      "outputs": [
        {
          "output_type": "execute_result",
          "data": {
            "text/plain": [
              "0"
            ]
          },
          "metadata": {},
          "execution_count": 22
        }
      ]
    },
    {
      "cell_type": "code",
      "source": [
        "df.groupby('Hobby')['Hobby'].count()"
      ],
      "metadata": {
        "colab": {
          "base_uri": "https://localhost:8080/"
        },
        "id": "D-Z7I4JrJhRo",
        "outputId": "11cc014c-cc99-4a93-9464-2de72061fb1b"
      },
      "execution_count": 23,
      "outputs": [
        {
          "output_type": "execute_result",
          "data": {
            "text/plain": [
              "Hobby\n",
              "No     18958\n",
              "Yes    79897\n",
              "Name: Hobby, dtype: int64"
            ]
          },
          "metadata": {},
          "execution_count": 23
        }
      ]
    },
    {
      "cell_type": "markdown",
      "source": [
        "As the hobbies are categorized only to yes or not further we dont need to categorize them."
      ],
      "metadata": {
        "id": "DIRvLcbQJ-qO"
      }
    },
    {
      "cell_type": "code",
      "source": [
        "df['Hobby'].isnull().sum()"
      ],
      "metadata": {
        "colab": {
          "base_uri": "https://localhost:8080/"
        },
        "id": "k3_uu36PJ8Wm",
        "outputId": "ceb9d138-9d99-49e4-c67e-83f37c55f6aa"
      },
      "execution_count": 24,
      "outputs": [
        {
          "output_type": "execute_result",
          "data": {
            "text/plain": [
              "0"
            ]
          },
          "metadata": {},
          "execution_count": 24
        }
      ]
    },
    {
      "cell_type": "markdown",
      "source": [
        "Hence, there are no existing null values in hobbies column"
      ],
      "metadata": {
        "id": "rqM9IL9AKKbS"
      }
    },
    {
      "cell_type": "markdown",
      "source": [
        "**cleaning the undergradmajor column**"
      ],
      "metadata": {
        "id": "lNfYL_EYKU10"
      }
    },
    {
      "cell_type": "code",
      "source": [
        "df['UndergradMajor'].isnull().sum()"
      ],
      "metadata": {
        "colab": {
          "base_uri": "https://localhost:8080/"
        },
        "id": "P2xoCi7mKIgO",
        "outputId": "e5598ad0-5e13-4607-d651-c8a35a3ea486"
      },
      "execution_count": 25,
      "outputs": [
        {
          "output_type": "execute_result",
          "data": {
            "text/plain": [
              "19819"
            ]
          },
          "metadata": {},
          "execution_count": 25
        }
      ]
    },
    {
      "cell_type": "code",
      "source": [
        "df['UndergradMajor'].value_counts()"
      ],
      "metadata": {
        "colab": {
          "base_uri": "https://localhost:8080/"
        },
        "id": "X_jhcUTzKdKE",
        "outputId": "f2ff4932-8d1b-4992-b6e1-f58a8fd1c3d9"
      },
      "execution_count": 26,
      "outputs": [
        {
          "output_type": "execute_result",
          "data": {
            "text/plain": [
              "UndergradMajor\n",
              "Computer science, computer engineering, or software engineering          50336\n",
              "Another engineering discipline (ex. civil, electrical, mechanical)        6945\n",
              "Information systems, information technology, or system administration     6507\n",
              "A natural science (ex. biology, chemistry, physics)                       3050\n",
              "Mathematics or statistics                                                 2818\n",
              "Web development or web design                                             2418\n",
              "A business discipline (ex. accounting, finance, marketing)                1921\n",
              "A humanities discipline (ex. literature, history, philosophy)             1590\n",
              "A social science (ex. anthropology, psychology, political science)        1377\n",
              "Fine arts or performing arts (ex. graphic design, music, studio art)      1135\n",
              "I never declared a major                                                   693\n",
              "A health science (ex. nursing, pharmacy, radiology)                        246\n",
              "Name: count, dtype: int64"
            ]
          },
          "metadata": {},
          "execution_count": 26
        }
      ]
    },
    {
      "cell_type": "code",
      "source": [
        "def refactor_major(df):\n",
        "    conditions_major = [(df['UndergradMajor'] == 'Computer science, computer engineering, or software engineering'),\n",
        "                        (df['UndergradMajor'] == 'Another engineering discipline (ex. civil, electrical, mechanical)'),\n",
        "                        (df['UndergradMajor'] == 'Information systems, information technology, or system administration'),\n",
        "                        (df['UndergradMajor'] == 'Mathematics or statistics'),\n",
        "                        (df['UndergradMajor'] == 'A natural science (ex. biology, chemistry, physics)')\n",
        "                        |(df['UndergradMajor'] == 'A health science (ex. nursing, pharmacy, radiology)'),\n",
        "                        (df['UndergradMajor'] == 'Web development or web design'),\n",
        "                        (df['UndergradMajor'] == 'A business discipline (ex. accounting, finance, marketing)'),\n",
        "                        (df['UndergradMajor'] == 'A humanities discipline (ex. literature, history, philosophy)')\n",
        "                        | (df['UndergradMajor'] == 'A social science (ex. anthropology, psychology, political science)')\n",
        "                        | (df['UndergradMajor'] == 'Fine arts or performing arts (ex. graphic design, music, studio art)'),\n",
        "                        (df['UndergradMajor'] == 'I never declared a major') ]\n",
        "\n",
        "    choices_major = ['Computer Science', 'Engineering', 'Info Systems', 'Math/Stat', 'Other Science',\n",
        "                     'Web Design/Dev', 'Business', 'Arts and Science', 'No major']\n",
        "    df['UndergradMajor'] = np.select(conditions_major, choices_major, default = np.NaN)\n",
        "    return df"
      ],
      "metadata": {
        "id": "u3dNbovyKfnF"
      },
      "execution_count": 27,
      "outputs": []
    },
    {
      "cell_type": "markdown",
      "source": [
        "the values in the \"UndergradMajor\" column are classified based on certain conditions."
      ],
      "metadata": {
        "id": "ilV2dwqCMcsM"
      }
    },
    {
      "cell_type": "code",
      "source": [
        "df = refactor_major(df)"
      ],
      "metadata": {
        "id": "CRTeAPqlKuzm"
      },
      "execution_count": 28,
      "outputs": []
    },
    {
      "cell_type": "code",
      "source": [
        "df['UndergradMajor'].replace('nan', 'No major', inplace=True)"
      ],
      "metadata": {
        "id": "nHySDU3cM66h"
      },
      "execution_count": 29,
      "outputs": []
    },
    {
      "cell_type": "code",
      "source": [
        "df['UndergradMajor'].value_counts()"
      ],
      "metadata": {
        "colab": {
          "base_uri": "https://localhost:8080/"
        },
        "id": "FDnUZGWMNJDA",
        "outputId": "cf6bc4d8-3dc3-45ab-8dc2-4c4c44a4e7b5"
      },
      "execution_count": 30,
      "outputs": [
        {
          "output_type": "execute_result",
          "data": {
            "text/plain": [
              "UndergradMajor\n",
              "Computer Science    50336\n",
              "No major            20512\n",
              "Engineering          6945\n",
              "Info Systems         6507\n",
              "Arts and Science     4102\n",
              "Other Science        3296\n",
              "Math/Stat            2818\n",
              "Web Design/Dev       2418\n",
              "Business             1921\n",
              "Name: count, dtype: int64"
            ]
          },
          "metadata": {},
          "execution_count": 30
        }
      ]
    },
    {
      "cell_type": "code",
      "source": [
        "df['UndergradMajor'].isnull().sum()"
      ],
      "metadata": {
        "colab": {
          "base_uri": "https://localhost:8080/"
        },
        "id": "7thqzYMnNPDu",
        "outputId": "303e3570-229c-4d0b-f397-10743b8d4be4"
      },
      "execution_count": 31,
      "outputs": [
        {
          "output_type": "execute_result",
          "data": {
            "text/plain": [
              "0"
            ]
          },
          "metadata": {},
          "execution_count": 31
        }
      ]
    },
    {
      "cell_type": "code",
      "source": [
        "df.dropna(subset=['UndergradMajor'], inplace=True)"
      ],
      "metadata": {
        "id": "3VIx65RZNlNY"
      },
      "execution_count": 32,
      "outputs": []
    },
    {
      "cell_type": "code",
      "source": [
        "df['UndergradMajor'].isnull().sum()"
      ],
      "metadata": {
        "colab": {
          "base_uri": "https://localhost:8080/"
        },
        "id": "8DYmuQj-Nnoi",
        "outputId": "cffd0d7e-07cb-4247-dd99-da58324b9248"
      },
      "execution_count": 33,
      "outputs": [
        {
          "output_type": "execute_result",
          "data": {
            "text/plain": [
              "0"
            ]
          },
          "metadata": {},
          "execution_count": 33
        }
      ]
    },
    {
      "cell_type": "markdown",
      "source": [
        "As we assigned the remaining null values to the category of no major\n",
        "Hence, there are no existing null values in the undergradmajor column"
      ],
      "metadata": {
        "id": "ku9qgKCENWC6"
      }
    },
    {
      "cell_type": "markdown",
      "source": [
        "**cleaning the jobsearchstatus column**"
      ],
      "metadata": {
        "id": "WL4YcRevN0PL"
      }
    },
    {
      "cell_type": "code",
      "source": [
        "df['JobSearchStatus'].value_counts()"
      ],
      "metadata": {
        "colab": {
          "base_uri": "https://localhost:8080/"
        },
        "id": "xzXzkzVsNUPH",
        "outputId": "28468d6f-6f2f-45fa-f50d-c3a3fd3ff706"
      },
      "execution_count": 34,
      "outputs": [
        {
          "output_type": "execute_result",
          "data": {
            "text/plain": [
              "JobSearchStatus\n",
              "I’m not actively looking, but I am open to new opportunities    47556\n",
              "I am not interested in new job opportunities                    19296\n",
              "I am actively looking for a job                                 12636\n",
              "Name: count, dtype: int64"
            ]
          },
          "metadata": {},
          "execution_count": 34
        }
      ]
    },
    {
      "cell_type": "code",
      "source": [
        "#dropping null values\n",
        "df.dropna(subset=['JobSearchStatus'], inplace=True)"
      ],
      "metadata": {
        "id": "vszoQOfKNymE"
      },
      "execution_count": 35,
      "outputs": []
    },
    {
      "cell_type": "markdown",
      "source": [
        "Categorizing those into groups: the ones who are seeking for job and the ones who are not seeking for job and others"
      ],
      "metadata": {
        "id": "1ey3HKcNlSTt"
      }
    },
    {
      "cell_type": "code",
      "source": [
        "def refactor_job(df):\n",
        "    '''function to change JobStatus category to Seeking and Non Seeking'''\n",
        "\n",
        "    conditions_job = [(df['JobSearchStatus'] == 'I am actively looking for a job'),\n",
        "                    (df['JobSearchStatus'] == 'I am not interested in new job opportunities')\n",
        "                    | (df['JobSearchStatus'] == 'I’m not actively looking, but I am open to new opportunities')]\n",
        "\n",
        "    choices_job = ['Seeking', 'Not seeking']\n",
        "\n",
        "    df['JobSearchStatus'] = np.select(conditions_job, choices_job, default=np.nan)\n",
        "\n",
        "    return df\n"
      ],
      "metadata": {
        "id": "1FiRCkUMlGYX"
      },
      "execution_count": 36,
      "outputs": []
    },
    {
      "cell_type": "code",
      "source": [
        "df = refactor_job(df)"
      ],
      "metadata": {
        "id": "w6eyQW0KlfFA"
      },
      "execution_count": 37,
      "outputs": []
    },
    {
      "cell_type": "code",
      "source": [
        "df['JobSearchStatus'].value_counts()"
      ],
      "metadata": {
        "colab": {
          "base_uri": "https://localhost:8080/"
        },
        "id": "4tjcirO5lhYz",
        "outputId": "3ca0e6ce-24ec-4777-af9b-6770c92f090c"
      },
      "execution_count": 38,
      "outputs": [
        {
          "output_type": "execute_result",
          "data": {
            "text/plain": [
              "JobSearchStatus\n",
              "Not seeking    66852\n",
              "Seeking        12636\n",
              "Name: count, dtype: int64"
            ]
          },
          "metadata": {},
          "execution_count": 38
        }
      ]
    },
    {
      "cell_type": "code",
      "source": [
        "df['JobSearchStatus'].isnull().sum()"
      ],
      "metadata": {
        "colab": {
          "base_uri": "https://localhost:8080/"
        },
        "id": "rZhqXlToljTS",
        "outputId": "5df93581-f0fd-488e-cff0-4aef2e500ac6"
      },
      "execution_count": 39,
      "outputs": [
        {
          "output_type": "execute_result",
          "data": {
            "text/plain": [
              "0"
            ]
          },
          "metadata": {},
          "execution_count": 39
        }
      ]
    },
    {
      "cell_type": "markdown",
      "source": [
        "Hence, there are no existing null values in the jobsearchstatus column"
      ],
      "metadata": {
        "id": "jEXRkQselt_c"
      }
    },
    {
      "cell_type": "markdown",
      "source": [
        "**cleaning the Employement column**"
      ],
      "metadata": {
        "id": "dbccv75Pl7dH"
      }
    },
    {
      "cell_type": "code",
      "source": [
        "df['Employment'].value_counts()"
      ],
      "metadata": {
        "colab": {
          "base_uri": "https://localhost:8080/"
        },
        "id": "HN5Hw7Jslsn2",
        "outputId": "11a03c44-943e-4ae9-86d5-295813ccc82d"
      },
      "execution_count": 40,
      "outputs": [
        {
          "output_type": "execute_result",
          "data": {
            "text/plain": [
              "Employment\n",
              "Employed full-time                                      58551\n",
              "Independent contractor, freelancer, or self-employed     7797\n",
              "Not employed, but looking for work                       4604\n",
              "Employed part-time                                       4170\n",
              "Not employed, and not looking for work                   3210\n",
              "Retired                                                   138\n",
              "Name: count, dtype: int64"
            ]
          },
          "metadata": {},
          "execution_count": 40
        }
      ]
    },
    {
      "cell_type": "code",
      "source": [
        "df['Employment'].isnull().sum()"
      ],
      "metadata": {
        "colab": {
          "base_uri": "https://localhost:8080/"
        },
        "id": "9dB_IwQPmHfa",
        "outputId": "443681e5-a375-4e3a-a1cd-db1d1b2a7765"
      },
      "execution_count": 41,
      "outputs": [
        {
          "output_type": "execute_result",
          "data": {
            "text/plain": [
              "1018"
            ]
          },
          "metadata": {},
          "execution_count": 41
        }
      ]
    },
    {
      "cell_type": "code",
      "source": [
        "df['Employment'].fillna(method='ffill', inplace=True)"
      ],
      "metadata": {
        "id": "e8soU9WymLEm"
      },
      "execution_count": 42,
      "outputs": []
    },
    {
      "cell_type": "code",
      "source": [
        "df['Employment']"
      ],
      "metadata": {
        "colab": {
          "base_uri": "https://localhost:8080/"
        },
        "id": "Tc7hG1v4mULw",
        "outputId": "df682efe-81d0-4bbf-9307-b836bc65220b"
      },
      "execution_count": 43,
      "outputs": [
        {
          "output_type": "execute_result",
          "data": {
            "text/plain": [
              "0                            Employed part-time\n",
              "1                            Employed full-time\n",
              "2                            Employed full-time\n",
              "3                            Employed full-time\n",
              "4                            Employed full-time\n",
              "                          ...                  \n",
              "89967    Not employed, and not looking for work\n",
              "89968        Not employed, but looking for work\n",
              "89969    Not employed, and not looking for work\n",
              "89970    Not employed, and not looking for work\n",
              "89971    Not employed, and not looking for work\n",
              "Name: Employment, Length: 79488, dtype: object"
            ]
          },
          "metadata": {},
          "execution_count": 43
        }
      ]
    },
    {
      "cell_type": "code",
      "source": [
        "df['Employment'].isnull().sum()"
      ],
      "metadata": {
        "colab": {
          "base_uri": "https://localhost:8080/"
        },
        "id": "m4dwu9zemeg2",
        "outputId": "fd2a471e-7918-45fb-d28f-bc56e8e65b7b"
      },
      "execution_count": 44,
      "outputs": [
        {
          "output_type": "execute_result",
          "data": {
            "text/plain": [
              "0"
            ]
          },
          "metadata": {},
          "execution_count": 44
        }
      ]
    },
    {
      "cell_type": "markdown",
      "source": [
        "Hence, there are no existing null values in the employment column"
      ],
      "metadata": {
        "id": "6sCzyYBnmuNR"
      }
    },
    {
      "cell_type": "markdown",
      "source": [
        "**Job** **Satisfaction**"
      ],
      "metadata": {
        "id": "gGEvRbeAmzSY"
      }
    },
    {
      "cell_type": "code",
      "source": [
        "df['JobSatisfaction'].value_counts()"
      ],
      "metadata": {
        "colab": {
          "base_uri": "https://localhost:8080/"
        },
        "id": "ZBwz9J5OmpJX",
        "outputId": "8bcada6a-0b36-4ca8-fcfa-6553eb09c2c7"
      },
      "execution_count": 45,
      "outputs": [
        {
          "output_type": "execute_result",
          "data": {
            "text/plain": [
              "JobSatisfaction\n",
              "Moderately satisfied                  25908\n",
              "Extremely satisfied                   12395\n",
              "Slightly satisfied                     9973\n",
              "Slightly dissatisfied                  7037\n",
              "Moderately dissatisfied                6286\n",
              "Neither satisfied nor dissatisfied     4935\n",
              "Extremely dissatisfied                 2472\n",
              "Name: count, dtype: int64"
            ]
          },
          "metadata": {},
          "execution_count": 45
        }
      ]
    },
    {
      "cell_type": "code",
      "source": [
        "df['JobSatisfaction'].isnull().sum()"
      ],
      "metadata": {
        "colab": {
          "base_uri": "https://localhost:8080/"
        },
        "id": "GDnUpweIm66o",
        "outputId": "808b06ce-d634-4f37-d305-6410a7825441"
      },
      "execution_count": 46,
      "outputs": [
        {
          "output_type": "execute_result",
          "data": {
            "text/plain": [
              "10482"
            ]
          },
          "metadata": {},
          "execution_count": 46
        }
      ]
    },
    {
      "cell_type": "code",
      "source": [
        "#filling the null values\n",
        "df['JobSatisfaction'].fillna(method='ffill', inplace=True)"
      ],
      "metadata": {
        "id": "eMrI20RNm_Am"
      },
      "execution_count": 47,
      "outputs": []
    },
    {
      "cell_type": "code",
      "source": [
        "df['JobSatisfaction'].isnull().sum()"
      ],
      "metadata": {
        "colab": {
          "base_uri": "https://localhost:8080/"
        },
        "id": "_0Qg8298nCCC",
        "outputId": "3a6bc588-a3ad-4c4e-b9ac-f58d2b5a27b2"
      },
      "execution_count": 48,
      "outputs": [
        {
          "output_type": "execute_result",
          "data": {
            "text/plain": [
              "0"
            ]
          },
          "metadata": {},
          "execution_count": 48
        }
      ]
    },
    {
      "cell_type": "markdown",
      "source": [
        "Hence, there are no existing null values in the job satisfaction column"
      ],
      "metadata": {
        "id": "agn4hD9KnKLJ"
      }
    },
    {
      "cell_type": "markdown",
      "source": [
        "**Race Ethnicity**"
      ],
      "metadata": {
        "id": "D_K5_TEFnUQX"
      }
    },
    {
      "cell_type": "code",
      "source": [
        "df.groupby('RaceEthnicity')['RaceEthnicity'].count()"
      ],
      "metadata": {
        "colab": {
          "base_uri": "https://localhost:8080/"
        },
        "id": "y8BUpHtAnTrh",
        "outputId": "c5143e47-a7fe-4c6f-bf89-5ca527c7d70e"
      },
      "execution_count": 49,
      "outputs": [
        {
          "output_type": "execute_result",
          "data": {
            "text/plain": [
              "RaceEthnicity\n",
              "Black or of African descent                                                                                                                                 1204\n",
              "Black or of African descent;East Asian                                                                                                                         7\n",
              "Black or of African descent;East Asian;Hispanic or Latino/Latina                                                                                               2\n",
              "Black or of African descent;East Asian;Hispanic or Latino/Latina;Middle Eastern;Native American, Pacific Islander, or Indigenous Australian                    1\n",
              "Black or of African descent;East Asian;Hispanic or Latino/Latina;Middle Eastern;Native American, Pacific Islander, or Indigenous Australian;South Asian        1\n",
              "                                                                                                                                                           ...  \n",
              "Native American, Pacific Islander, or Indigenous Australian;South Asian;White or of European descent                                                           2\n",
              "Native American, Pacific Islander, or Indigenous Australian;White or of European descent                                                                     160\n",
              "South Asian                                                                                                                                                 6112\n",
              "South Asian;White or of European descent                                                                                                                      88\n",
              "White or of European descent                                                                                                                               39320\n",
              "Name: RaceEthnicity, Length: 71, dtype: int64"
            ]
          },
          "metadata": {},
          "execution_count": 49
        }
      ]
    },
    {
      "cell_type": "markdown",
      "source": [
        "combining the given Ethnicity by str.match which means if each string starts with a match of a regular expression pattern then they will be categorized.\n"
      ],
      "metadata": {
        "id": "0LS8bEhVn30b"
      }
    },
    {
      "cell_type": "code",
      "source": [
        "df.loc[df['RaceEthnicity'].str.match('Biracial') == True, 'RaceEthnicity'] = 'Biracial'\n",
        "df.loc[df['RaceEthnicity'].str.match('Black or of African descent') == True, 'RaceEthnicity'] = 'Black or African descent'\n",
        "df.loc[df['RaceEthnicity'].str.match('East Asian') == True, 'RaceEthnicity'] = 'East Asian'\n",
        "df.loc[df['RaceEthnicity'].str.match('Hispanic or Latino') == True, 'RaceEthnicity'] = 'Hispanic or Latino'\n",
        "df.loc[df['RaceEthnicity'].str.match('Indigenous') == True, 'RaceEthnicity'] = 'Indigenous'\n",
        "df.loc[df['RaceEthnicity'].str.match('Middle Eastern') == True, 'RaceEthnicity'] = 'Middle Eastern'\n",
        "df.loc[df['RaceEthnicity'].str.match('South') == True, 'RaceEthnicity'] = 'South Asian'\n",
        "df.loc[df['RaceEthnicity'].str.match('White or of European descent') == True, 'RaceEthnicity'] = 'White or European descent'\n",
        "df.loc[df['RaceEthnicity'].str.match('Multiracial') == True, 'RaceEthnicity'] = 'Multiracial'\n",
        "df.loc[df['RaceEthnicity'].str.match('Native American') == True, 'RaceEthnicity'] = 'Native American'"
      ],
      "metadata": {
        "id": "FH4ji11wnIFd"
      },
      "execution_count": 50,
      "outputs": []
    },
    {
      "cell_type": "code",
      "source": [
        "df.groupby('RaceEthnicity')['RaceEthnicity'].count()"
      ],
      "metadata": {
        "colab": {
          "base_uri": "https://localhost:8080/"
        },
        "id": "SJUNzLQJomx-",
        "outputId": "a856c45a-51b7-47d4-dbc4-e678f908dd3f"
      },
      "execution_count": 51,
      "outputs": [
        {
          "output_type": "execute_result",
          "data": {
            "text/plain": [
              "RaceEthnicity\n",
              "Black or African descent      1549\n",
              "East Asian                    2787\n",
              "Hispanic or Latino            3592\n",
              "Middle Eastern                2176\n",
              "Native American                286\n",
              "South Asian                   6200\n",
              "White or European descent    39320\n",
              "Name: RaceEthnicity, dtype: int64"
            ]
          },
          "metadata": {},
          "execution_count": 51
        }
      ]
    },
    {
      "cell_type": "code",
      "source": [
        "df['RaceEthnicity'].isnull().sum()"
      ],
      "metadata": {
        "colab": {
          "base_uri": "https://localhost:8080/"
        },
        "id": "QIwYiTOSorvU",
        "outputId": "8db28001-4ce8-4c7b-9956-6cc76361d7ed"
      },
      "execution_count": 52,
      "outputs": [
        {
          "output_type": "execute_result",
          "data": {
            "text/plain": [
              "23578"
            ]
          },
          "metadata": {},
          "execution_count": 52
        }
      ]
    },
    {
      "cell_type": "code",
      "source": [
        "#This code performs forward and backward filling of missing values in the RaceEthnicity column based on the values in the Country column.\n",
        "df['RaceEthnicity']=df.groupby(['Country'])['RaceEthnicity'].bfill().ffill()"
      ],
      "metadata": {
        "id": "ko6zkKW4o5V2"
      },
      "execution_count": 53,
      "outputs": []
    },
    {
      "cell_type": "code",
      "source": [
        "df['RaceEthnicity'].isnull().sum()"
      ],
      "metadata": {
        "colab": {
          "base_uri": "https://localhost:8080/"
        },
        "id": "o_q1T5xRo9H3",
        "outputId": "eaf00b49-66d7-408d-c3be-5aa3513d117e"
      },
      "execution_count": 54,
      "outputs": [
        {
          "output_type": "execute_result",
          "data": {
            "text/plain": [
              "0"
            ]
          },
          "metadata": {},
          "execution_count": 54
        }
      ]
    },
    {
      "cell_type": "markdown",
      "source": [
        "Hence, there are no existing null values in the race ethnicity column"
      ],
      "metadata": {
        "id": "ta2DJio-poxZ"
      }
    },
    {
      "cell_type": "markdown",
      "source": [
        "**DevType**"
      ],
      "metadata": {
        "id": "8DUVlql_pz1T"
      }
    },
    {
      "cell_type": "code",
      "source": [
        "df['DevType'].isnull().sum()"
      ],
      "metadata": {
        "colab": {
          "base_uri": "https://localhost:8080/"
        },
        "id": "vbxq2hzxpnep",
        "outputId": "8b54bd41-2fdb-44a0-af1b-b89ae8e56820"
      },
      "execution_count": 55,
      "outputs": [
        {
          "output_type": "execute_result",
          "data": {
            "text/plain": [
              "728"
            ]
          },
          "metadata": {},
          "execution_count": 55
        }
      ]
    },
    {
      "cell_type": "code",
      "source": [
        "df['DevType'].fillna(method='ffill', inplace=True)"
      ],
      "metadata": {
        "id": "SYNuGwm-p-rh"
      },
      "execution_count": 56,
      "outputs": []
    },
    {
      "cell_type": "code",
      "source": [
        "df.groupby('DevType')['DevType'].count()"
      ],
      "metadata": {
        "colab": {
          "base_uri": "https://localhost:8080/"
        },
        "id": "6OQ3ubLwqA8k",
        "outputId": "72808576-357c-4076-b791-4a81118fcaef"
      },
      "execution_count": 57,
      "outputs": [
        {
          "output_type": "execute_result",
          "data": {
            "text/plain": [
              "DevType\n",
              "Back-end developer                                                                                                                                                                                           5372\n",
              "Back-end developer;C-suite executive (CEO, CTO, etc.)                                                                                                                                                          59\n",
              "Back-end developer;C-suite executive (CEO, CTO, etc.);Data or business analyst                                                                                                                                  5\n",
              "Back-end developer;C-suite executive (CEO, CTO, etc.);Data or business analyst;Data scientist or machine learning specialist                                                                                    1\n",
              "Back-end developer;C-suite executive (CEO, CTO, etc.);Data or business analyst;Data scientist or machine learning specialist;Database administrator;Designer;Desktop or enterprise applications developer       1\n",
              "                                                                                                                                                                                                             ... \n",
              "QA or test developer;Student;System administrator                                                                                                                                                               5\n",
              "QA or test developer;System administrator                                                                                                                                                                      10\n",
              "Student                                                                                                                                                                                                      2523\n",
              "Student;System administrator                                                                                                                                                                                   63\n",
              "System administrator                                                                                                                                                                                          247\n",
              "Name: DevType, Length: 8820, dtype: int64"
            ]
          },
          "metadata": {},
          "execution_count": 57
        }
      ]
    },
    {
      "cell_type": "markdown",
      "source": [
        "combining the given DevType by str.match which means if each string starts with a match of a regular expression pattern then they will be categorized."
      ],
      "metadata": {
        "id": "a7Vr5H6yqqKK"
      }
    },
    {
      "cell_type": "code",
      "source": [
        "#categorizing the given fields into developer,manager,student,non developer roles\n",
        "df.loc[df['DevType'].str.match('Back-end developer') == True, 'DevType'] = 'Developer'\n",
        "df.loc[df['DevType'].str.match('Student') == True, 'DevType'] = 'Student'\n",
        "df.loc[df['DevType'].str.match('QA or test developer') == True, 'DevType'] = 'Non developer'\n",
        "df.loc[df['DevType'].str.match('Product manager') == True, 'DevType'] = 'Manager'\n",
        "df.loc[df['DevType'].str.match('Mobile developer') == True, 'DevType'] = 'Developer'\n",
        "df.loc[df['DevType'].str.match('Marketing or sales professional') == True, 'DevType'] = 'Non developer'\n",
        "df.loc[df['DevType'].str.match('System administrator') == True, 'DevType'] = 'Developer'\n",
        "df.loc[df['DevType'].str.match('Game or graphics developer') == True, 'DevType'] = 'Developer'\n",
        "df.loc[df['DevType'].str.match('Full-stack developer') == True, 'DevType'] = 'Developer'\n",
        "df.loc[df['DevType'].str.match('Front-end developer') == True, 'DevType'] = 'Developer'\n",
        "df.loc[df['DevType'].str.match('Engineering manager') == True, 'DevType'] = 'Manager'\n",
        "df.loc[df['DevType'].str.match('Embedded applications or devices developer') == True, 'DevType'] = 'Developer'\n",
        "df.loc[df['DevType'].str.match('Educator or academic researcher') == True, 'DevType'] = 'Student'\n",
        "df.loc[df['DevType'].str.match('DevOps specialist') == True, 'DevType'] = 'Developer'\n",
        "df.loc[df['DevType'].str.match('Desktop or enterprise applications developer') == True, 'DevType'] = 'Developer'\n",
        "df.loc[df['DevType'].str.match('Designer') == True, 'DevType'] = 'Non developer'\n",
        "df.loc[df['DevType'].str.match('Database administrator') == True, 'DevType'] = 'Developer'\n",
        "df.loc[df['DevType'].str.match('Data scientist or machine learning specialist') == True, 'DevType'] = 'Developer'\n",
        "df.loc[df['DevType'].str.match('Data or business analyst') == True, 'DevType'] = 'Developer'\n",
        "df.loc[df['DevType'].str.match('C-suite executive') == True, 'DevType'] = 'Developer'\n"
      ],
      "metadata": {
        "id": "yhGUOZDrqDSJ"
      },
      "execution_count": 58,
      "outputs": []
    },
    {
      "cell_type": "code",
      "source": [
        "df.groupby('DevType')['DevType'].count()"
      ],
      "metadata": {
        "colab": {
          "base_uri": "https://localhost:8080/"
        },
        "id": "6Uq3rID4rLYy",
        "outputId": "b46d7cc3-a98a-4d0b-d99f-d6826e91e444"
      },
      "execution_count": 59,
      "outputs": [
        {
          "output_type": "execute_result",
          "data": {
            "text/plain": [
              "DevType\n",
              "Developer        73032\n",
              "Manager            665\n",
              "Non developer     2791\n",
              "Student           3000\n",
              "Name: DevType, dtype: int64"
            ]
          },
          "metadata": {},
          "execution_count": 59
        }
      ]
    },
    {
      "cell_type": "markdown",
      "source": [
        "**Language worked with**"
      ],
      "metadata": {
        "id": "0oM_tG12riOE"
      }
    },
    {
      "cell_type": "code",
      "source": [
        "#this return tha 3 most frequent entries or the 3 most used languages\n",
        "df['LanguageWorkedWith'].value_counts().nlargest(3)"
      ],
      "metadata": {
        "colab": {
          "base_uri": "https://localhost:8080/"
        },
        "id": "9XA6DoJOrd1F",
        "outputId": "feac5253-bed5-4ba8-9d1d-71081d7e17de"
      },
      "execution_count": 60,
      "outputs": [
        {
          "output_type": "execute_result",
          "data": {
            "text/plain": [
              "LanguageWorkedWith\n",
              "C#;JavaScript;SQL;HTML;CSS     1235\n",
              "JavaScript;PHP;SQL;HTML;CSS    1095\n",
              "Java                            855\n",
              "Name: count, dtype: int64"
            ]
          },
          "metadata": {},
          "execution_count": 60
        }
      ]
    },
    {
      "cell_type": "code",
      "source": [
        "df['LanguageWorkedWith'].isnull().sum()"
      ],
      "metadata": {
        "colab": {
          "base_uri": "https://localhost:8080/"
        },
        "id": "Bzonouh4rnpz",
        "outputId": "99f73a42-8d96-4837-900b-5f2ccfce4ce6"
      },
      "execution_count": 61,
      "outputs": [
        {
          "output_type": "execute_result",
          "data": {
            "text/plain": [
              "9985"
            ]
          },
          "metadata": {},
          "execution_count": 61
        }
      ]
    },
    {
      "cell_type": "code",
      "source": [
        "#filling missing values\n",
        "df['LanguageWorkedWith'].fillna(method='ffill', inplace=True)"
      ],
      "metadata": {
        "id": "AnfM5PJJsEow"
      },
      "execution_count": 62,
      "outputs": []
    },
    {
      "cell_type": "code",
      "source": [
        "df['LanguageWorkedWith'].value_counts().nlargest(3)"
      ],
      "metadata": {
        "colab": {
          "base_uri": "https://localhost:8080/"
        },
        "id": "PGdafg4HsG7-",
        "outputId": "b0fdbde5-89f3-4fc5-cfeb-fec972fb7a94"
      },
      "execution_count": 63,
      "outputs": [
        {
          "output_type": "execute_result",
          "data": {
            "text/plain": [
              "LanguageWorkedWith\n",
              "C#;JavaScript;SQL;HTML;CSS     1383\n",
              "JavaScript;PHP;SQL;HTML;CSS    1226\n",
              "Java                            989\n",
              "Name: count, dtype: int64"
            ]
          },
          "metadata": {},
          "execution_count": 63
        }
      ]
    },
    {
      "cell_type": "code",
      "source": [
        "df['LanguageWorkedWith'].isnull().sum()"
      ],
      "metadata": {
        "colab": {
          "base_uri": "https://localhost:8080/"
        },
        "id": "EKmOpf2TsP6n",
        "outputId": "84f0aa0b-17c8-460d-beb6-be66d39f885d"
      },
      "execution_count": 64,
      "outputs": [
        {
          "output_type": "execute_result",
          "data": {
            "text/plain": [
              "0"
            ]
          },
          "metadata": {},
          "execution_count": 64
        }
      ]
    },
    {
      "cell_type": "markdown",
      "source": [
        "Hence, there are no existing null values in the language work with column"
      ],
      "metadata": {
        "id": "BcCtC4FesbbH"
      }
    },
    {
      "cell_type": "markdown",
      "source": [
        "**Language desirednext year**"
      ],
      "metadata": {
        "id": "WqnvC05gsybz"
      }
    },
    {
      "cell_type": "code",
      "source": [
        "#this return tha 3 most frequent entries that may appear the next year.\n",
        "df['LanguageDesireNextYear'].value_counts().nlargest(3)"
      ],
      "metadata": {
        "colab": {
          "base_uri": "https://localhost:8080/"
        },
        "id": "I4UcToECsTjv",
        "outputId": "09ef82cc-c085-46ec-cbdf-ca1173ab4840"
      },
      "execution_count": 65,
      "outputs": [
        {
          "output_type": "execute_result",
          "data": {
            "text/plain": [
              "LanguageDesireNextYear\n",
              "Python                                   718\n",
              "C#;JavaScript;SQL;TypeScript;HTML;CSS    557\n",
              "C#                                       522\n",
              "Name: count, dtype: int64"
            ]
          },
          "metadata": {},
          "execution_count": 65
        }
      ]
    },
    {
      "cell_type": "code",
      "source": [
        "df['LanguageDesireNextYear'].isnull().sum()"
      ],
      "metadata": {
        "colab": {
          "base_uri": "https://localhost:8080/"
        },
        "id": "XUG2NWJ8s4H8",
        "outputId": "c2dabf3a-a0ed-4c23-dd3d-88a1c8169a08"
      },
      "execution_count": 66,
      "outputs": [
        {
          "output_type": "execute_result",
          "data": {
            "text/plain": [
              "14147"
            ]
          },
          "metadata": {},
          "execution_count": 66
        }
      ]
    },
    {
      "cell_type": "code",
      "source": [
        "#filling missing values\n",
        "df['LanguageDesireNextYear'].fillna(method='ffill', inplace=True)"
      ],
      "metadata": {
        "id": "y2uYLmpxtFcn"
      },
      "execution_count": 67,
      "outputs": []
    },
    {
      "cell_type": "code",
      "source": [
        "df['LanguageDesireNextYear'].value_counts().nlargest(3)"
      ],
      "metadata": {
        "colab": {
          "base_uri": "https://localhost:8080/"
        },
        "id": "DLb6YvEBtMSf",
        "outputId": "41be97db-b654-46d3-f219-56fe47b44367"
      },
      "execution_count": 68,
      "outputs": [
        {
          "output_type": "execute_result",
          "data": {
            "text/plain": [
              "LanguageDesireNextYear\n",
              "Python                                   878\n",
              "C#;JavaScript;SQL;TypeScript;HTML;CSS    690\n",
              "C#                                       629\n",
              "Name: count, dtype: int64"
            ]
          },
          "metadata": {},
          "execution_count": 68
        }
      ]
    },
    {
      "cell_type": "code",
      "source": [
        "df['LanguageDesireNextYear'].isnull().sum()"
      ],
      "metadata": {
        "colab": {
          "base_uri": "https://localhost:8080/"
        },
        "id": "2wEXX5jztUPN",
        "outputId": "8e100a41-bf9c-41d2-c435-12e8d7c655c8"
      },
      "execution_count": 69,
      "outputs": [
        {
          "output_type": "execute_result",
          "data": {
            "text/plain": [
              "0"
            ]
          },
          "metadata": {},
          "execution_count": 69
        }
      ]
    },
    {
      "cell_type": "markdown",
      "source": [
        "Hence, there are no existing null values in the language Desire next year column"
      ],
      "metadata": {
        "id": "IOB02QJptbuC"
      }
    },
    {
      "cell_type": "markdown",
      "source": [
        "**Yearscodingprof**"
      ],
      "metadata": {
        "id": "DpIvYka_tl7Y"
      }
    },
    {
      "cell_type": "code",
      "source": [
        "#this returns the the top 10 most coding proficient ones\n",
        "df['YearsCodingProf'].value_counts().nlargest(10)"
      ],
      "metadata": {
        "colab": {
          "base_uri": "https://localhost:8080/"
        },
        "id": "HTVOvj1itYyG",
        "outputId": "40d7a14c-4ed8-4329-eba7-df76fe9775df"
      },
      "execution_count": 70,
      "outputs": [
        {
          "output_type": "execute_result",
          "data": {
            "text/plain": [
              "YearsCodingProf\n",
              "0-2 years           22612\n",
              "3-5 years           20883\n",
              "6-8 years           11177\n",
              "9-11 years           7456\n",
              "12-14 years          4220\n",
              "15-17 years          2987\n",
              "18-20 years          2810\n",
              "21-23 years          1352\n",
              "30 or more years     1289\n",
              "24-26 years           853\n",
              "Name: count, dtype: int64"
            ]
          },
          "metadata": {},
          "execution_count": 70
        }
      ]
    },
    {
      "cell_type": "code",
      "source": [
        "df['YearsCodingProf'].isnull().sum()"
      ],
      "metadata": {
        "colab": {
          "base_uri": "https://localhost:8080/"
        },
        "id": "Hptn0b6Ut3kL",
        "outputId": "15d7cac1-3931-43c2-c7e1-41223a090aea"
      },
      "execution_count": 71,
      "outputs": [
        {
          "output_type": "execute_result",
          "data": {
            "text/plain": [
              "3349"
            ]
          },
          "metadata": {},
          "execution_count": 71
        }
      ]
    },
    {
      "cell_type": "code",
      "source": [
        "df['YearsCodingProf'].fillna(method='ffill', inplace=True)"
      ],
      "metadata": {
        "id": "xI1uiR84t-AE"
      },
      "execution_count": 72,
      "outputs": []
    },
    {
      "cell_type": "code",
      "source": [
        "df['YearsCodingProf'].value_counts().nlargest(10)"
      ],
      "metadata": {
        "colab": {
          "base_uri": "https://localhost:8080/"
        },
        "id": "OOeODKlBuI6-",
        "outputId": "7c3b6c7e-c77a-44ad-ba4f-33b6496c34b4"
      },
      "execution_count": 73,
      "outputs": [
        {
          "output_type": "execute_result",
          "data": {
            "text/plain": [
              "YearsCodingProf\n",
              "3-5 years           23773\n",
              "0-2 years           22781\n",
              "6-8 years           11274\n",
              "9-11 years           7527\n",
              "12-14 years          4267\n",
              "15-17 years          3007\n",
              "18-20 years          2841\n",
              "21-23 years          1365\n",
              "30 or more years     1294\n",
              "24-26 years           856\n",
              "Name: count, dtype: int64"
            ]
          },
          "metadata": {},
          "execution_count": 73
        }
      ]
    },
    {
      "cell_type": "code",
      "source": [
        "df['YearsCodingProf'].isnull().sum()"
      ],
      "metadata": {
        "colab": {
          "base_uri": "https://localhost:8080/"
        },
        "id": "iGiq0aEouASu",
        "outputId": "b726a39a-800f-4859-c6fe-35b7c2a6e369"
      },
      "execution_count": 74,
      "outputs": [
        {
          "output_type": "execute_result",
          "data": {
            "text/plain": [
              "0"
            ]
          },
          "metadata": {},
          "execution_count": 74
        }
      ]
    },
    {
      "cell_type": "markdown",
      "source": [
        "Hence, there are no existing null values in the yearscodingprof column"
      ],
      "metadata": {
        "id": "cjOfpbY4uOjB"
      }
    },
    {
      "cell_type": "code",
      "source": [
        "#the top 10 years coding ones\n",
        "df['YearsCoding'].value_counts().nlargest(10)"
      ],
      "metadata": {
        "colab": {
          "base_uri": "https://localhost:8080/"
        },
        "id": "mWblz6_9uCZR",
        "outputId": "08242a43-b0ef-4fab-86c5-4a0675223385"
      },
      "execution_count": 75,
      "outputs": [
        {
          "output_type": "execute_result",
          "data": {
            "text/plain": [
              "YearsCoding\n",
              "3-5 years           19100\n",
              "6-8 years           16537\n",
              "9-11 years          10578\n",
              "0-2 years            8022\n",
              "12-14 years          7069\n",
              "15-17 years          5459\n",
              "18-20 years          4472\n",
              "30 or more years     3136\n",
              "21-23 years          2377\n",
              "24-26 years          1671\n",
              "Name: count, dtype: int64"
            ]
          },
          "metadata": {},
          "execution_count": 75
        }
      ]
    },
    {
      "cell_type": "code",
      "source": [
        "df['YearsCoding'].isnull().sum()"
      ],
      "metadata": {
        "colab": {
          "base_uri": "https://localhost:8080/"
        },
        "id": "Q5hqJopHuWkK",
        "outputId": "94d09903-83b4-4456-f8c0-7ce874035b9e"
      },
      "execution_count": 76,
      "outputs": [
        {
          "output_type": "execute_result",
          "data": {
            "text/plain": [
              "105"
            ]
          },
          "metadata": {},
          "execution_count": 76
        }
      ]
    },
    {
      "cell_type": "code",
      "source": [
        "#filling missing values\n",
        "df['YearsCoding'].fillna(method='ffill', inplace=True)"
      ],
      "metadata": {
        "id": "t_c4jz26ug5q"
      },
      "execution_count": 77,
      "outputs": []
    },
    {
      "cell_type": "code",
      "source": [
        "df['YearsCoding'].value_counts().nlargest(10)"
      ],
      "metadata": {
        "colab": {
          "base_uri": "https://localhost:8080/"
        },
        "id": "CtrovjDBuxcb",
        "outputId": "57aa4c7b-bb7c-43f2-f193-0f4f8890c8fc"
      },
      "execution_count": 78,
      "outputs": [
        {
          "output_type": "execute_result",
          "data": {
            "text/plain": [
              "YearsCoding\n",
              "3-5 years           19135\n",
              "6-8 years           16554\n",
              "9-11 years          10585\n",
              "0-2 years            8043\n",
              "12-14 years          7077\n",
              "15-17 years          5462\n",
              "18-20 years          4476\n",
              "30 or more years     3144\n",
              "21-23 years          2378\n",
              "24-26 years          1671\n",
              "Name: count, dtype: int64"
            ]
          },
          "metadata": {},
          "execution_count": 78
        }
      ]
    },
    {
      "cell_type": "code",
      "source": [
        "df['YearsCoding'].isnull().sum()"
      ],
      "metadata": {
        "colab": {
          "base_uri": "https://localhost:8080/"
        },
        "id": "ZB_36JfBukFp",
        "outputId": "a65204a8-451e-4319-d149-e516f603fd51"
      },
      "execution_count": 79,
      "outputs": [
        {
          "output_type": "execute_result",
          "data": {
            "text/plain": [
              "0"
            ]
          },
          "metadata": {},
          "execution_count": 79
        }
      ]
    },
    {
      "cell_type": "markdown",
      "source": [
        "Hence, there are no existing null values in the yearscoding column"
      ],
      "metadata": {
        "id": "A7C6tWmJu2sG"
      }
    },
    {
      "cell_type": "markdown",
      "source": [
        "**Operating System**"
      ],
      "metadata": {
        "id": "TnxIzjxCu6QO"
      }
    },
    {
      "cell_type": "code",
      "source": [
        "#top 10 most used operating systems\n",
        "df['OperatingSystem'].value_counts().nlargest(10)"
      ],
      "metadata": {
        "colab": {
          "base_uri": "https://localhost:8080/"
        },
        "id": "yj_CIgyOuqL5",
        "outputId": "b8075a13-4fa9-4108-a279-ef96368a8a33"
      },
      "execution_count": 80,
      "outputs": [
        {
          "output_type": "execute_result",
          "data": {
            "text/plain": [
              "OperatingSystem\n",
              "Windows        34268\n",
              "MacOS          18638\n",
              "Linux-based    16069\n",
              "BSD/Unix         139\n",
              "Name: count, dtype: int64"
            ]
          },
          "metadata": {},
          "execution_count": 80
        }
      ]
    },
    {
      "cell_type": "code",
      "source": [
        "df['OperatingSystem'].isnull().sum()"
      ],
      "metadata": {
        "colab": {
          "base_uri": "https://localhost:8080/"
        },
        "id": "GfIBSbjNu-6f",
        "outputId": "4f0bbe51-f59b-4c8f-f529-5ed6eaf497eb"
      },
      "execution_count": 81,
      "outputs": [
        {
          "output_type": "execute_result",
          "data": {
            "text/plain": [
              "10374"
            ]
          },
          "metadata": {},
          "execution_count": 81
        }
      ]
    },
    {
      "cell_type": "code",
      "source": [
        "#filling values\n",
        "df['OperatingSystem'].fillna(method='ffill', inplace=True)"
      ],
      "metadata": {
        "id": "HEz3Vxr9vPcu"
      },
      "execution_count": 82,
      "outputs": []
    },
    {
      "cell_type": "code",
      "source": [
        "df['OperatingSystem'].value_counts().nlargest(10)"
      ],
      "metadata": {
        "colab": {
          "base_uri": "https://localhost:8080/"
        },
        "id": "oeSMf-SIvTwZ",
        "outputId": "531251f4-9d2f-45dd-cd88-b5a6080bd442"
      },
      "execution_count": 83,
      "outputs": [
        {
          "output_type": "execute_result",
          "data": {
            "text/plain": [
              "OperatingSystem\n",
              "Windows        39475\n",
              "MacOS          21433\n",
              "Linux-based    18406\n",
              "BSD/Unix         174\n",
              "Name: count, dtype: int64"
            ]
          },
          "metadata": {},
          "execution_count": 83
        }
      ]
    },
    {
      "cell_type": "code",
      "source": [
        "df['OperatingSystem'].isnull().sum()"
      ],
      "metadata": {
        "colab": {
          "base_uri": "https://localhost:8080/"
        },
        "id": "FofzEDQkvWll",
        "outputId": "aa7e6cd1-4d3a-4644-896a-85bf93c179d3"
      },
      "execution_count": 84,
      "outputs": [
        {
          "output_type": "execute_result",
          "data": {
            "text/plain": [
              "0"
            ]
          },
          "metadata": {},
          "execution_count": 84
        }
      ]
    },
    {
      "cell_type": "markdown",
      "source": [
        "Hence, there are no existing null values in the operating system column"
      ],
      "metadata": {
        "id": "cCjVGXBtwNrC"
      }
    },
    {
      "cell_type": "markdown",
      "source": [
        "**Salary Type**"
      ],
      "metadata": {
        "id": "9BviI_lAwZpR"
      }
    },
    {
      "cell_type": "code",
      "source": [
        "#top 10 frequently used salary types\n",
        "df['SalaryType'].value_counts().nlargest(10)"
      ],
      "metadata": {
        "colab": {
          "base_uri": "https://localhost:8080/"
        },
        "id": "EjK1EthMvZmc",
        "outputId": "a02b91e8-a812-46bd-bf55-27412fcec4e6"
      },
      "execution_count": 85,
      "outputs": [
        {
          "output_type": "execute_result",
          "data": {
            "text/plain": [
              "SalaryType\n",
              "Monthly    26201\n",
              "Yearly     22541\n",
              "Weekly      2248\n",
              "Name: count, dtype: int64"
            ]
          },
          "metadata": {},
          "execution_count": 85
        }
      ]
    },
    {
      "cell_type": "code",
      "source": [
        "df['SalaryType'].isnull().sum()"
      ],
      "metadata": {
        "colab": {
          "base_uri": "https://localhost:8080/"
        },
        "id": "P5qYCnc2wn4T",
        "outputId": "4bede1b2-573a-486a-c1e2-95005aeb3925"
      },
      "execution_count": 86,
      "outputs": [
        {
          "output_type": "execute_result",
          "data": {
            "text/plain": [
              "28498"
            ]
          },
          "metadata": {},
          "execution_count": 86
        }
      ]
    },
    {
      "cell_type": "code",
      "source": [
        "df['SalaryType'].fillna(method='ffill', inplace=True)"
      ],
      "metadata": {
        "id": "-x9tHjLQwq5t"
      },
      "execution_count": 87,
      "outputs": []
    },
    {
      "cell_type": "code",
      "source": [
        "df['SalaryType'].value_counts().nlargest(10)"
      ],
      "metadata": {
        "colab": {
          "base_uri": "https://localhost:8080/"
        },
        "id": "YnB1-anYws9D",
        "outputId": "cf02cb6d-7140-4d93-b043-bae4ab147a5e"
      },
      "execution_count": 88,
      "outputs": [
        {
          "output_type": "execute_result",
          "data": {
            "text/plain": [
              "SalaryType\n",
              "Monthly    40953\n",
              "Yearly     34333\n",
              "Weekly      4202\n",
              "Name: count, dtype: int64"
            ]
          },
          "metadata": {},
          "execution_count": 88
        }
      ]
    },
    {
      "cell_type": "code",
      "source": [
        "df['SalaryType'].isnull().sum()"
      ],
      "metadata": {
        "colab": {
          "base_uri": "https://localhost:8080/"
        },
        "id": "r_EK-CI5wvUc",
        "outputId": "ad4c489b-22d4-44eb-aa15-1251665bb57d"
      },
      "execution_count": 89,
      "outputs": [
        {
          "output_type": "execute_result",
          "data": {
            "text/plain": [
              "0"
            ]
          },
          "metadata": {},
          "execution_count": 89
        }
      ]
    },
    {
      "cell_type": "markdown",
      "source": [
        "Hence, there are no existing null values in the salary type column"
      ],
      "metadata": {
        "id": "cSybCP-aw5LC"
      }
    },
    {
      "cell_type": "markdown",
      "source": [
        "**Currency**"
      ],
      "metadata": {
        "id": "WQmFdwV3w-_L"
      }
    },
    {
      "cell_type": "code",
      "source": [
        "#top 10 used currency\n",
        "df['Currency'].value_counts().nlargest(10)"
      ],
      "metadata": {
        "colab": {
          "base_uri": "https://localhost:8080/"
        },
        "id": "g21xj2qGwycm",
        "outputId": "786606c7-bf51-43a1-f450-28f265d56dbd"
      },
      "execution_count": 90,
      "outputs": [
        {
          "output_type": "execute_result",
          "data": {
            "text/plain": [
              "Currency\n",
              "U.S. dollars ($)               20599\n",
              "Euros (€)                      15201\n",
              "Indian rupees (₹)               7908\n",
              "British pounds sterling (£)     4856\n",
              "Canadian dollars (C$)           2535\n",
              "Russian rubles (₽)              1768\n",
              "Brazilian reais (R$)            1663\n",
              "Australian dollars (A$)         1571\n",
              "Polish złoty (zł)               1434\n",
              "Swedish kroner (SEK)             864\n",
              "Name: count, dtype: int64"
            ]
          },
          "metadata": {},
          "execution_count": 90
        }
      ]
    },
    {
      "cell_type": "code",
      "source": [
        "df['Currency'].isnull().sum()"
      ],
      "metadata": {
        "colab": {
          "base_uri": "https://localhost:8080/"
        },
        "id": "CFcuvPTWxIO_",
        "outputId": "8032070d-5ed6-448c-b601-3cc36a46a471"
      },
      "execution_count": 91,
      "outputs": [
        {
          "output_type": "execute_result",
          "data": {
            "text/plain": [
              "17483"
            ]
          },
          "metadata": {},
          "execution_count": 91
        }
      ]
    },
    {
      "cell_type": "code",
      "source": [
        "df['Currency'].fillna(method='ffill', inplace=True)"
      ],
      "metadata": {
        "id": "tRct3FX2xLlp"
      },
      "execution_count": 92,
      "outputs": []
    },
    {
      "cell_type": "code",
      "source": [
        "df.dropna(subset=['Currency'], inplace = True)"
      ],
      "metadata": {
        "id": "siI0zCLQxN2E"
      },
      "execution_count": 93,
      "outputs": []
    },
    {
      "cell_type": "code",
      "source": [
        "df['Currency'].value_counts().nlargest(10)"
      ],
      "metadata": {
        "colab": {
          "base_uri": "https://localhost:8080/"
        },
        "id": "slvL5FMsxWCx",
        "outputId": "9b4b3d51-c46f-46f4-d387-b13631449bc1"
      },
      "execution_count": 94,
      "outputs": [
        {
          "output_type": "execute_result",
          "data": {
            "text/plain": [
              "Currency\n",
              "U.S. dollars ($)               26356\n",
              "Euros (€)                      19465\n",
              "Indian rupees (₹)              10152\n",
              "British pounds sterling (£)     6194\n",
              "Canadian dollars (C$)           3289\n",
              "Russian rubles (₽)              2340\n",
              "Brazilian reais (R$)            2122\n",
              "Australian dollars (A$)         1970\n",
              "Polish złoty (zł)               1856\n",
              "Swedish kroner (SEK)            1101\n",
              "Name: count, dtype: int64"
            ]
          },
          "metadata": {},
          "execution_count": 94
        }
      ]
    },
    {
      "cell_type": "code",
      "source": [
        "df['Currency'].isnull().sum()"
      ],
      "metadata": {
        "colab": {
          "base_uri": "https://localhost:8080/"
        },
        "id": "5A2t9JscxYgE",
        "outputId": "dd31f006-e0c8-4978-9f18-13c0972b0052"
      },
      "execution_count": 95,
      "outputs": [
        {
          "output_type": "execute_result",
          "data": {
            "text/plain": [
              "0"
            ]
          },
          "metadata": {},
          "execution_count": 95
        }
      ]
    },
    {
      "cell_type": "markdown",
      "source": [
        "Hence, there are no existing null values in the currency column"
      ],
      "metadata": {
        "id": "1SwoIy1nxclx"
      }
    },
    {
      "cell_type": "markdown",
      "source": [
        "renaming the column for our convinience"
      ],
      "metadata": {
        "id": "5ZN2w7IQ6oDj"
      }
    },
    {
      "cell_type": "code",
      "source": [
        "col=['Age','ConvertedSalary','Country','Currency','DevType','Employment','RaceEthnicity','Gender','SalaryType','Hobby','JobSatisfaction','JobSearchStatus','OperatingSystem','UndergradMajor','YearsCoding','YearsCodingProf','LanguageDesireNextYear','LanguageWorkedWith','FormalEducation']\n",
        "df1=df[col]\n",
        "#renaming the coloumn\n",
        "# 'ConvertedSalary': 'SalaryUSD'\n",
        "df.rename(columns={'ConvertedSalary': 'SalaryUSD' }, inplace =True)\n",
        "df.sort_index(axis=1).head(2)"
      ],
      "metadata": {
        "colab": {
          "base_uri": "https://localhost:8080/",
          "height": 248
        },
        "id": "RYdkvEksxbOA",
        "outputId": "12d797a0-57bc-444b-c59a-7da80af62c6a"
      },
      "execution_count": 96,
      "outputs": [
        {
          "output_type": "execute_result",
          "data": {
            "text/plain": [
              "                     AIDangerous  \\\n",
              "1  Increasing automation of jobs   \n",
              "2                            NaN   \n",
              "\n",
              "                                            AIFuture  \\\n",
              "1  I'm excited about the possibilities more than ...   \n",
              "2                                                NaN   \n",
              "\n",
              "                   AIInteresting  \\\n",
              "1  Increasing automation of jobs   \n",
              "2                            NaN   \n",
              "\n",
              "                                  AIResponsible AdBlocker AdBlockerDisable  \\\n",
              "1  The developers or the people creating the AI       Yes              Yes   \n",
              "2                                           NaN       NaN              NaN   \n",
              "\n",
              "                                    AdBlockerReasons AdsActions  \\\n",
              "1  The website I was visiting asked me to disable it        NaN   \n",
              "2                                                NaN        NaN   \n",
              "\n",
              "  AdsAgreeDisagree1           AdsAgreeDisagree2  ...     SurveyEasy  \\\n",
              "1    Somewhat agree  Neither agree nor disagree  ...  Somewhat easy   \n",
              "2               NaN                         NaN  ...            NaN   \n",
              "\n",
              "                          SurveyTooLong  TimeAfterBootcamp  \\\n",
              "1  The survey was an appropriate length                NaN   \n",
              "2                                   NaN                NaN   \n",
              "\n",
              "   TimeFullyProductive    UndergradMajor                           UpdateCV  \\\n",
              "1  One to three months     Other Science  I saw an employer’s advertisement   \n",
              "2                  NaN  Computer Science                                NaN   \n",
              "\n",
              "   VersionControl                WakeTime       YearsCoding YearsCodingProf  \n",
              "1  Git;Subversion  Between 6:01 - 7:00 AM  30 or more years     18-20 years  \n",
              "2             NaN                     NaN       24-26 years       6-8 years  \n",
              "\n",
              "[2 rows x 129 columns]"
            ],
            "text/html": [
              "\n",
              "  <div id=\"df-57131b10-ea85-43f3-b3e3-63c5c912a5e7\" class=\"colab-df-container\">\n",
              "    <div>\n",
              "<style scoped>\n",
              "    .dataframe tbody tr th:only-of-type {\n",
              "        vertical-align: middle;\n",
              "    }\n",
              "\n",
              "    .dataframe tbody tr th {\n",
              "        vertical-align: top;\n",
              "    }\n",
              "\n",
              "    .dataframe thead th {\n",
              "        text-align: right;\n",
              "    }\n",
              "</style>\n",
              "<table border=\"1\" class=\"dataframe\">\n",
              "  <thead>\n",
              "    <tr style=\"text-align: right;\">\n",
              "      <th></th>\n",
              "      <th>AIDangerous</th>\n",
              "      <th>AIFuture</th>\n",
              "      <th>AIInteresting</th>\n",
              "      <th>AIResponsible</th>\n",
              "      <th>AdBlocker</th>\n",
              "      <th>AdBlockerDisable</th>\n",
              "      <th>AdBlockerReasons</th>\n",
              "      <th>AdsActions</th>\n",
              "      <th>AdsAgreeDisagree1</th>\n",
              "      <th>AdsAgreeDisagree2</th>\n",
              "      <th>...</th>\n",
              "      <th>SurveyEasy</th>\n",
              "      <th>SurveyTooLong</th>\n",
              "      <th>TimeAfterBootcamp</th>\n",
              "      <th>TimeFullyProductive</th>\n",
              "      <th>UndergradMajor</th>\n",
              "      <th>UpdateCV</th>\n",
              "      <th>VersionControl</th>\n",
              "      <th>WakeTime</th>\n",
              "      <th>YearsCoding</th>\n",
              "      <th>YearsCodingProf</th>\n",
              "    </tr>\n",
              "  </thead>\n",
              "  <tbody>\n",
              "    <tr>\n",
              "      <th>1</th>\n",
              "      <td>Increasing automation of jobs</td>\n",
              "      <td>I'm excited about the possibilities more than ...</td>\n",
              "      <td>Increasing automation of jobs</td>\n",
              "      <td>The developers or the people creating the AI</td>\n",
              "      <td>Yes</td>\n",
              "      <td>Yes</td>\n",
              "      <td>The website I was visiting asked me to disable it</td>\n",
              "      <td>NaN</td>\n",
              "      <td>Somewhat agree</td>\n",
              "      <td>Neither agree nor disagree</td>\n",
              "      <td>...</td>\n",
              "      <td>Somewhat easy</td>\n",
              "      <td>The survey was an appropriate length</td>\n",
              "      <td>NaN</td>\n",
              "      <td>One to three months</td>\n",
              "      <td>Other Science</td>\n",
              "      <td>I saw an employer’s advertisement</td>\n",
              "      <td>Git;Subversion</td>\n",
              "      <td>Between 6:01 - 7:00 AM</td>\n",
              "      <td>30 or more years</td>\n",
              "      <td>18-20 years</td>\n",
              "    </tr>\n",
              "    <tr>\n",
              "      <th>2</th>\n",
              "      <td>NaN</td>\n",
              "      <td>NaN</td>\n",
              "      <td>NaN</td>\n",
              "      <td>NaN</td>\n",
              "      <td>NaN</td>\n",
              "      <td>NaN</td>\n",
              "      <td>NaN</td>\n",
              "      <td>NaN</td>\n",
              "      <td>NaN</td>\n",
              "      <td>NaN</td>\n",
              "      <td>...</td>\n",
              "      <td>NaN</td>\n",
              "      <td>NaN</td>\n",
              "      <td>NaN</td>\n",
              "      <td>NaN</td>\n",
              "      <td>Computer Science</td>\n",
              "      <td>NaN</td>\n",
              "      <td>NaN</td>\n",
              "      <td>NaN</td>\n",
              "      <td>24-26 years</td>\n",
              "      <td>6-8 years</td>\n",
              "    </tr>\n",
              "  </tbody>\n",
              "</table>\n",
              "<p>2 rows × 129 columns</p>\n",
              "</div>\n",
              "    <div class=\"colab-df-buttons\">\n",
              "\n",
              "  <div class=\"colab-df-container\">\n",
              "    <button class=\"colab-df-convert\" onclick=\"convertToInteractive('df-57131b10-ea85-43f3-b3e3-63c5c912a5e7')\"\n",
              "            title=\"Convert this dataframe to an interactive table.\"\n",
              "            style=\"display:none;\">\n",
              "\n",
              "  <svg xmlns=\"http://www.w3.org/2000/svg\" height=\"24px\" viewBox=\"0 -960 960 960\">\n",
              "    <path d=\"M120-120v-720h720v720H120Zm60-500h600v-160H180v160Zm220 220h160v-160H400v160Zm0 220h160v-160H400v160ZM180-400h160v-160H180v160Zm440 0h160v-160H620v160ZM180-180h160v-160H180v160Zm440 0h160v-160H620v160Z\"/>\n",
              "  </svg>\n",
              "    </button>\n",
              "\n",
              "  <style>\n",
              "    .colab-df-container {\n",
              "      display:flex;\n",
              "      gap: 12px;\n",
              "    }\n",
              "\n",
              "    .colab-df-convert {\n",
              "      background-color: #E8F0FE;\n",
              "      border: none;\n",
              "      border-radius: 50%;\n",
              "      cursor: pointer;\n",
              "      display: none;\n",
              "      fill: #1967D2;\n",
              "      height: 32px;\n",
              "      padding: 0 0 0 0;\n",
              "      width: 32px;\n",
              "    }\n",
              "\n",
              "    .colab-df-convert:hover {\n",
              "      background-color: #E2EBFA;\n",
              "      box-shadow: 0px 1px 2px rgba(60, 64, 67, 0.3), 0px 1px 3px 1px rgba(60, 64, 67, 0.15);\n",
              "      fill: #174EA6;\n",
              "    }\n",
              "\n",
              "    .colab-df-buttons div {\n",
              "      margin-bottom: 4px;\n",
              "    }\n",
              "\n",
              "    [theme=dark] .colab-df-convert {\n",
              "      background-color: #3B4455;\n",
              "      fill: #D2E3FC;\n",
              "    }\n",
              "\n",
              "    [theme=dark] .colab-df-convert:hover {\n",
              "      background-color: #434B5C;\n",
              "      box-shadow: 0px 1px 3px 1px rgba(0, 0, 0, 0.15);\n",
              "      filter: drop-shadow(0px 1px 2px rgba(0, 0, 0, 0.3));\n",
              "      fill: #FFFFFF;\n",
              "    }\n",
              "  </style>\n",
              "\n",
              "    <script>\n",
              "      const buttonEl =\n",
              "        document.querySelector('#df-57131b10-ea85-43f3-b3e3-63c5c912a5e7 button.colab-df-convert');\n",
              "      buttonEl.style.display =\n",
              "        google.colab.kernel.accessAllowed ? 'block' : 'none';\n",
              "\n",
              "      async function convertToInteractive(key) {\n",
              "        const element = document.querySelector('#df-57131b10-ea85-43f3-b3e3-63c5c912a5e7');\n",
              "        const dataTable =\n",
              "          await google.colab.kernel.invokeFunction('convertToInteractive',\n",
              "                                                    [key], {});\n",
              "        if (!dataTable) return;\n",
              "\n",
              "        const docLinkHtml = 'Like what you see? Visit the ' +\n",
              "          '<a target=\"_blank\" href=https://colab.research.google.com/notebooks/data_table.ipynb>data table notebook</a>'\n",
              "          + ' to learn more about interactive tables.';\n",
              "        element.innerHTML = '';\n",
              "        dataTable['output_type'] = 'display_data';\n",
              "        await google.colab.output.renderOutput(dataTable, element);\n",
              "        const docLink = document.createElement('div');\n",
              "        docLink.innerHTML = docLinkHtml;\n",
              "        element.appendChild(docLink);\n",
              "      }\n",
              "    </script>\n",
              "  </div>\n",
              "\n",
              "\n",
              "<div id=\"df-23e3ddaf-31b3-440f-b543-f9ea1ae41d78\">\n",
              "  <button class=\"colab-df-quickchart\" onclick=\"quickchart('df-23e3ddaf-31b3-440f-b543-f9ea1ae41d78')\"\n",
              "            title=\"Suggest charts\"\n",
              "            style=\"display:none;\">\n",
              "\n",
              "<svg xmlns=\"http://www.w3.org/2000/svg\" height=\"24px\"viewBox=\"0 0 24 24\"\n",
              "     width=\"24px\">\n",
              "    <g>\n",
              "        <path d=\"M19 3H5c-1.1 0-2 .9-2 2v14c0 1.1.9 2 2 2h14c1.1 0 2-.9 2-2V5c0-1.1-.9-2-2-2zM9 17H7v-7h2v7zm4 0h-2V7h2v10zm4 0h-2v-4h2v4z\"/>\n",
              "    </g>\n",
              "</svg>\n",
              "  </button>\n",
              "\n",
              "<style>\n",
              "  .colab-df-quickchart {\n",
              "      --bg-color: #E8F0FE;\n",
              "      --fill-color: #1967D2;\n",
              "      --hover-bg-color: #E2EBFA;\n",
              "      --hover-fill-color: #174EA6;\n",
              "      --disabled-fill-color: #AAA;\n",
              "      --disabled-bg-color: #DDD;\n",
              "  }\n",
              "\n",
              "  [theme=dark] .colab-df-quickchart {\n",
              "      --bg-color: #3B4455;\n",
              "      --fill-color: #D2E3FC;\n",
              "      --hover-bg-color: #434B5C;\n",
              "      --hover-fill-color: #FFFFFF;\n",
              "      --disabled-bg-color: #3B4455;\n",
              "      --disabled-fill-color: #666;\n",
              "  }\n",
              "\n",
              "  .colab-df-quickchart {\n",
              "    background-color: var(--bg-color);\n",
              "    border: none;\n",
              "    border-radius: 50%;\n",
              "    cursor: pointer;\n",
              "    display: none;\n",
              "    fill: var(--fill-color);\n",
              "    height: 32px;\n",
              "    padding: 0;\n",
              "    width: 32px;\n",
              "  }\n",
              "\n",
              "  .colab-df-quickchart:hover {\n",
              "    background-color: var(--hover-bg-color);\n",
              "    box-shadow: 0 1px 2px rgba(60, 64, 67, 0.3), 0 1px 3px 1px rgba(60, 64, 67, 0.15);\n",
              "    fill: var(--button-hover-fill-color);\n",
              "  }\n",
              "\n",
              "  .colab-df-quickchart-complete:disabled,\n",
              "  .colab-df-quickchart-complete:disabled:hover {\n",
              "    background-color: var(--disabled-bg-color);\n",
              "    fill: var(--disabled-fill-color);\n",
              "    box-shadow: none;\n",
              "  }\n",
              "\n",
              "  .colab-df-spinner {\n",
              "    border: 2px solid var(--fill-color);\n",
              "    border-color: transparent;\n",
              "    border-bottom-color: var(--fill-color);\n",
              "    animation:\n",
              "      spin 1s steps(1) infinite;\n",
              "  }\n",
              "\n",
              "  @keyframes spin {\n",
              "    0% {\n",
              "      border-color: transparent;\n",
              "      border-bottom-color: var(--fill-color);\n",
              "      border-left-color: var(--fill-color);\n",
              "    }\n",
              "    20% {\n",
              "      border-color: transparent;\n",
              "      border-left-color: var(--fill-color);\n",
              "      border-top-color: var(--fill-color);\n",
              "    }\n",
              "    30% {\n",
              "      border-color: transparent;\n",
              "      border-left-color: var(--fill-color);\n",
              "      border-top-color: var(--fill-color);\n",
              "      border-right-color: var(--fill-color);\n",
              "    }\n",
              "    40% {\n",
              "      border-color: transparent;\n",
              "      border-right-color: var(--fill-color);\n",
              "      border-top-color: var(--fill-color);\n",
              "    }\n",
              "    60% {\n",
              "      border-color: transparent;\n",
              "      border-right-color: var(--fill-color);\n",
              "    }\n",
              "    80% {\n",
              "      border-color: transparent;\n",
              "      border-right-color: var(--fill-color);\n",
              "      border-bottom-color: var(--fill-color);\n",
              "    }\n",
              "    90% {\n",
              "      border-color: transparent;\n",
              "      border-bottom-color: var(--fill-color);\n",
              "    }\n",
              "  }\n",
              "</style>\n",
              "\n",
              "  <script>\n",
              "    async function quickchart(key) {\n",
              "      const quickchartButtonEl =\n",
              "        document.querySelector('#' + key + ' button');\n",
              "      quickchartButtonEl.disabled = true;  // To prevent multiple clicks.\n",
              "      quickchartButtonEl.classList.add('colab-df-spinner');\n",
              "      try {\n",
              "        const charts = await google.colab.kernel.invokeFunction(\n",
              "            'suggestCharts', [key], {});\n",
              "      } catch (error) {\n",
              "        console.error('Error during call to suggestCharts:', error);\n",
              "      }\n",
              "      quickchartButtonEl.classList.remove('colab-df-spinner');\n",
              "      quickchartButtonEl.classList.add('colab-df-quickchart-complete');\n",
              "    }\n",
              "    (() => {\n",
              "      let quickchartButtonEl =\n",
              "        document.querySelector('#df-23e3ddaf-31b3-440f-b543-f9ea1ae41d78 button');\n",
              "      quickchartButtonEl.style.display =\n",
              "        google.colab.kernel.accessAllowed ? 'block' : 'none';\n",
              "    })();\n",
              "  </script>\n",
              "</div>\n",
              "\n",
              "    </div>\n",
              "  </div>\n"
            ],
            "application/vnd.google.colaboratory.intrinsic+json": {
              "type": "dataframe"
            }
          },
          "metadata": {},
          "execution_count": 96
        }
      ]
    },
    {
      "cell_type": "code",
      "source": [
        "#top 10 salaries\n",
        "df['SalaryUSD'].value_counts().nlargest(10)"
      ],
      "metadata": {
        "colab": {
          "base_uri": "https://localhost:8080/"
        },
        "id": "iOeLpbNu5xYD",
        "outputId": "0ce618a9-8d94-4ce8-ced7-72bdc53f1c8a"
      },
      "execution_count": 97,
      "outputs": [
        {
          "output_type": "execute_result",
          "data": {
            "text/plain": [
              "SalaryUSD\n",
              "0.0          842\n",
              "120000.0     524\n",
              "100000.0     497\n",
              "80000.0      396\n",
              "1000000.0    382\n",
              "110000.0     371\n",
              "90000.0      364\n",
              "150000.0     357\n",
              "60000.0      351\n",
              "75000.0      337\n",
              "Name: count, dtype: int64"
            ]
          },
          "metadata": {},
          "execution_count": 97
        }
      ]
    },
    {
      "cell_type": "code",
      "source": [
        "df['SalaryUSD'].isnull().sum()"
      ],
      "metadata": {
        "colab": {
          "base_uri": "https://localhost:8080/"
        },
        "id": "ViidUYaW62ha",
        "outputId": "7a6f9691-fe96-4a19-b406-8e1baf4776b9"
      },
      "execution_count": 98,
      "outputs": [
        {
          "output_type": "execute_result",
          "data": {
            "text/plain": [
              "31786"
            ]
          },
          "metadata": {},
          "execution_count": 98
        }
      ]
    },
    {
      "cell_type": "code",
      "source": [
        "#grouping the salary based on the devtype and their country\n",
        "mean_salary = df.groupby(['DevType','Country'])['SalaryUSD'].mean()"
      ],
      "metadata": {
        "id": "1PuVMW007JQx"
      },
      "execution_count": 99,
      "outputs": []
    },
    {
      "cell_type": "code",
      "source": [
        "mean_salary.nlargest(10)"
      ],
      "metadata": {
        "colab": {
          "base_uri": "https://localhost:8080/"
        },
        "id": "B14qBmwx7Mm2",
        "outputId": "aa8d5173-d3c0-4a73-b6db-6894ca3a62a6"
      },
      "execution_count": 100,
      "outputs": [
        {
          "output_type": "execute_result",
          "data": {
            "text/plain": [
              "DevType        Country      \n",
              "Student        Saudi Arabia     1500000.0\n",
              "Developer      Andorra           525089.5\n",
              "Manager        Hungary           516000.0\n",
              "               Netherlands       507175.0\n",
              "Non developer  Algeria           360000.0\n",
              "               Cyprus            293736.0\n",
              "Developer      Liechtenstein     284028.0\n",
              "Student        Finland           272212.0\n",
              "Manager        Denmark           262920.6\n",
              "Student        Israel            256522.4\n",
              "Name: SalaryUSD, dtype: float64"
            ]
          },
          "metadata": {},
          "execution_count": 100
        }
      ]
    },
    {
      "cell_type": "code",
      "source": [
        "#grouping the salary based on the devtype and their country and results the mean for each\n",
        "means = df.groupby(['YearsCodingProf','DevType', 'Country'])['SalaryUSD'].transform('mean')"
      ],
      "metadata": {
        "id": "vyFU-a0q7hYG"
      },
      "execution_count": 101,
      "outputs": []
    },
    {
      "cell_type": "code",
      "source": [
        "#filling the null values with the mean values\n",
        "df['SalaryUSD'] = df['SalaryUSD'].fillna(means)"
      ],
      "metadata": {
        "id": "JZiz2R937nDK"
      },
      "execution_count": 102,
      "outputs": []
    },
    {
      "cell_type": "code",
      "source": [
        "#grouping the mean salry based on the yearscodingprof,devtype and country columns\n",
        "mean_salary = df.groupby(['YearsCodingProf','DevType','Country'])['SalaryUSD'].mean()"
      ],
      "metadata": {
        "id": "Pi_YcfwD8FK5"
      },
      "execution_count": 103,
      "outputs": []
    },
    {
      "cell_type": "code",
      "source": [
        "mean_salary.nlargest(10)"
      ],
      "metadata": {
        "colab": {
          "base_uri": "https://localhost:8080/"
        },
        "id": "aNWX4Zok8MRy",
        "outputId": "add976e1-4436-4bbc-8ad8-2147467fa56f"
      },
      "execution_count": 104,
      "outputs": [
        {
          "output_type": "execute_result",
          "data": {
            "text/plain": [
              "YearsCodingProf  DevType        Country                             \n",
              "9-11 years       Student        Saudi Arabia                            1500000.0\n",
              "12-14 years      Non developer  Norway                                  1000000.0\n",
              "                 Student        Switzerland                             1000000.0\n",
              "15-17 years      Non developer  Australia                               1000000.0\n",
              "                                New Zealand                             1000000.0\n",
              "21-23 years      Developer      Japan                                   1000000.0\n",
              "                                Venezuela, Bolivarian Republic of...    1000000.0\n",
              "                 Non developer  Sweden                                  1000000.0\n",
              "                 Student        Finland                                 1000000.0\n",
              "24-26 years      Manager        Canada                                  1000000.0\n",
              "Name: SalaryUSD, dtype: float64"
            ]
          },
          "metadata": {},
          "execution_count": 104
        }
      ]
    },
    {
      "cell_type": "code",
      "source": [
        "df.dropna(subset=['SalaryUSD'], inplace = True)"
      ],
      "metadata": {
        "id": "RV4purXk8YwP"
      },
      "execution_count": 105,
      "outputs": []
    },
    {
      "cell_type": "markdown",
      "source": [
        "**AGE**"
      ],
      "metadata": {
        "id": "1zhbNy2S8cf3"
      }
    },
    {
      "cell_type": "code",
      "source": [
        "#frequently used top 10 ages\n",
        "df['Age'].value_counts().nlargest(10)"
      ],
      "metadata": {
        "colab": {
          "base_uri": "https://localhost:8080/"
        },
        "id": "NO728mSY8bEC",
        "outputId": "19fe11c8-99e1-442b-8427-63085e15d2d3"
      },
      "execution_count": 106,
      "outputs": [
        {
          "output_type": "execute_result",
          "data": {
            "text/plain": [
              "Age\n",
              "25 - 34 years old     30969\n",
              "18 - 24 years old     14847\n",
              "35 - 44 years old     10980\n",
              "45 - 54 years old      3072\n",
              "Under 18 years old     1549\n",
              "55 - 64 years old       865\n",
              "65 years or older       144\n",
              "Name: count, dtype: int64"
            ]
          },
          "metadata": {},
          "execution_count": 106
        }
      ]
    },
    {
      "cell_type": "code",
      "source": [
        "df['Age'].isnull().sum()"
      ],
      "metadata": {
        "colab": {
          "base_uri": "https://localhost:8080/"
        },
        "id": "SGAuNMgn8muK",
        "outputId": "f69aa654-c028-461f-cce0-4e29d4d8dd22"
      },
      "execution_count": 107,
      "outputs": [
        {
          "output_type": "execute_result",
          "data": {
            "text/plain": [
              "16374"
            ]
          },
          "metadata": {},
          "execution_count": 107
        }
      ]
    },
    {
      "cell_type": "code",
      "source": [
        "df['Age'].fillna(method='ffill', inplace=True)"
      ],
      "metadata": {
        "id": "olP6Db5J8pbD"
      },
      "execution_count": 108,
      "outputs": []
    },
    {
      "cell_type": "code",
      "source": [
        "df['Age'].value_counts().nlargest(10)"
      ],
      "metadata": {
        "colab": {
          "base_uri": "https://localhost:8080/"
        },
        "id": "Bk5V6oIM8u3z",
        "outputId": "29a43279-868a-40fc-f67d-665be3d9d638"
      },
      "execution_count": 109,
      "outputs": [
        {
          "output_type": "execute_result",
          "data": {
            "text/plain": [
              "Age\n",
              "25 - 34 years old     38797\n",
              "18 - 24 years old     19074\n",
              "35 - 44 years old     13665\n",
              "45 - 54 years old      3821\n",
              "Under 18 years old     2165\n",
              "55 - 64 years old      1093\n",
              "65 years or older       185\n",
              "Name: count, dtype: int64"
            ]
          },
          "metadata": {},
          "execution_count": 109
        }
      ]
    },
    {
      "cell_type": "code",
      "source": [
        "df['Age'].isnull().sum()"
      ],
      "metadata": {
        "colab": {
          "base_uri": "https://localhost:8080/"
        },
        "id": "yRa2gNv68riy",
        "outputId": "ec3e3cb1-9b10-4f79-e673-508f252c5238"
      },
      "execution_count": 110,
      "outputs": [
        {
          "output_type": "execute_result",
          "data": {
            "text/plain": [
              "0"
            ]
          },
          "metadata": {},
          "execution_count": 110
        }
      ]
    },
    {
      "cell_type": "markdown",
      "source": [
        "Hence, there are no existing null values in age column"
      ],
      "metadata": {
        "id": "qsC_39Qo83__"
      }
    },
    {
      "cell_type": "markdown",
      "source": [
        "**Formal Education**\n"
      ],
      "metadata": {
        "id": "QZEkje_V9AGJ"
      }
    },
    {
      "cell_type": "code",
      "source": [
        "df['FormalEducation'].isnull().sum()"
      ],
      "metadata": {
        "colab": {
          "base_uri": "https://localhost:8080/"
        },
        "id": "NK5Ynajx8vzu",
        "outputId": "89d23747-f0be-4669-cd8f-b63accd946b2"
      },
      "execution_count": 111,
      "outputs": [
        {
          "output_type": "execute_result",
          "data": {
            "text/plain": [
              "1549"
            ]
          },
          "metadata": {},
          "execution_count": 111
        }
      ]
    },
    {
      "cell_type": "code",
      "source": [
        "df['FormalEducation'].value_counts()"
      ],
      "metadata": {
        "colab": {
          "base_uri": "https://localhost:8080/"
        },
        "id": "ngTqWgm09HYP",
        "outputId": "d3d5a98a-578e-49e4-b38b-55348b197a70"
      },
      "execution_count": 112,
      "outputs": [
        {
          "output_type": "execute_result",
          "data": {
            "text/plain": [
              "FormalEducation\n",
              "Bachelor’s degree (BA, BS, B.Eng., etc.)                                              36010\n",
              "Master’s degree (MA, MS, M.Eng., MBA, etc.)                                           17529\n",
              "Some college/university study without earning a degree                                 9737\n",
              "Secondary school (e.g. American high school, German Realschule or Gymnasium, etc.)     7088\n",
              "Associate degree                                                                       2407\n",
              "Other doctoral degree (Ph.D, Ed.D., etc.)                                              1754\n",
              "Primary/elementary school                                                              1217\n",
              "Professional degree (JD, MD, etc.)                                                     1073\n",
              "I never completed any formal education                                                  436\n",
              "Name: count, dtype: int64"
            ]
          },
          "metadata": {},
          "execution_count": 112
        }
      ]
    },
    {
      "cell_type": "code",
      "source": [
        "#Changing column's name for our convinienccce\n",
        "df.rename(columns={'FormalEducation':'EdLevel'}, inplace =True)"
      ],
      "metadata": {
        "id": "3eoaxYJb9Jo0"
      },
      "execution_count": 113,
      "outputs": []
    },
    {
      "cell_type": "markdown",
      "source": [
        "Categorizing the given fields into few optimized fields"
      ],
      "metadata": {
        "id": "NgV5cbDd9Xx9"
      }
    },
    {
      "cell_type": "code",
      "source": [
        "def refactor_ed(df):\n",
        "    '''function to change Education level category to Bachelors, Masters, Professional, Associate, Doctorate, No Degree'''\n",
        "    conditions_ed = [(df['EdLevel'] == 'Associate degree'),\n",
        "                    (df['EdLevel'] == 'Bachelor’s degree (BA, BS, B.Eng., etc.)'),\n",
        "                    (df['EdLevel'] == 'Master’s degree (MA, MS, M.Eng., MBA, etc.)'),\n",
        "                    (df['EdLevel'] == 'Professional degree (JD, MD, etc.)'),\n",
        "                    (df['EdLevel'] == 'Other doctoral degree (Ph.D, Ed.D., etc.)'),\n",
        "                    (df['EdLevel'] == 'Some college/university study without earning a degree')\n",
        "                    | (df['EdLevel'] == 'Secondary school (e.g. American high school, German Realschule or Gymnasium, etc.)')\n",
        "                    | (df['EdLevel'] == 'Primary/elementary school')\n",
        "                    | (df['EdLevel'] == 'I never completed any formal education')]\n",
        "\n",
        "    choices_ed = ['Associate', 'Bachelors', 'Masters', 'Professional',  'Doctorate', 'No Degree']\n",
        "    df['EdLevel'] = np.select(conditions_ed, choices_ed, default = np.NaN)\n",
        "    return df"
      ],
      "metadata": {
        "id": "lhdFv5Ym9QIX"
      },
      "execution_count": 114,
      "outputs": []
    },
    {
      "cell_type": "code",
      "source": [
        "df = refactor_ed(df)"
      ],
      "metadata": {
        "id": "NewXTlW79TrK"
      },
      "execution_count": 115,
      "outputs": []
    },
    {
      "cell_type": "code",
      "source": [
        "#Assigining the surveyors who havent mentioned their education level to Bachelor’s degree\n",
        "df['EdLevel'].replace('nan', 'Bachelors', inplace=True)"
      ],
      "metadata": {
        "id": "i-KubSAV9odW"
      },
      "execution_count": 116,
      "outputs": []
    },
    {
      "cell_type": "code",
      "source": [
        "df['EdLevel'].value_counts()"
      ],
      "metadata": {
        "colab": {
          "base_uri": "https://localhost:8080/"
        },
        "id": "JTnp5YHk9rjH",
        "outputId": "90ab89d8-845e-4376-acd3-3c11ed95ec57"
      },
      "execution_count": 117,
      "outputs": [
        {
          "output_type": "execute_result",
          "data": {
            "text/plain": [
              "EdLevel\n",
              "Bachelors       37559\n",
              "No Degree       18478\n",
              "Masters         17529\n",
              "Associate        2407\n",
              "Doctorate        1754\n",
              "Professional     1073\n",
              "Name: count, dtype: int64"
            ]
          },
          "metadata": {},
          "execution_count": 117
        }
      ]
    },
    {
      "cell_type": "code",
      "source": [
        "df['EdLevel'].isnull().sum()"
      ],
      "metadata": {
        "colab": {
          "base_uri": "https://localhost:8080/"
        },
        "id": "pifoZPD19z-2",
        "outputId": "af72cc1a-0ed8-4b09-f441-fe683985a175"
      },
      "execution_count": 118,
      "outputs": [
        {
          "output_type": "execute_result",
          "data": {
            "text/plain": [
              "0"
            ]
          },
          "metadata": {},
          "execution_count": 118
        }
      ]
    },
    {
      "cell_type": "markdown",
      "source": [
        "Hence, there are no existing null values in the edlevel column"
      ],
      "metadata": {
        "id": "0AywkL0v9y-I"
      }
    },
    {
      "cell_type": "markdown",
      "source": [
        "*So far We cleaned a lot of data. Therefore we can check the percent again*"
      ],
      "metadata": {
        "id": "rSs6cDdi-LBn"
      }
    },
    {
      "cell_type": "code",
      "source": [
        "cleaned_2018 = df[df.notnull()]"
      ],
      "metadata": {
        "id": "uyXEowD39uAh"
      },
      "execution_count": 119,
      "outputs": []
    },
    {
      "cell_type": "code",
      "source": [
        "cleaned_2018.head(10)"
      ],
      "metadata": {
        "colab": {
          "base_uri": "https://localhost:8080/",
          "height": 933
        },
        "id": "uK6hUeN_9xsD",
        "outputId": "3364b1fe-52c8-4677-8c77-4a8ca7a51aea"
      },
      "execution_count": 120,
      "outputs": [
        {
          "output_type": "execute_result",
          "data": {
            "text/plain": [
              "    Respondent Hobby OpenSource         Country         Student  \\\n",
              "1            3   Yes        Yes  United Kingdom              No   \n",
              "2            4   Yes        Yes   United States              No   \n",
              "3            5    No         No   United States              No   \n",
              "4            7   Yes         No    South Africa  Yes, part-time   \n",
              "5            8   Yes         No  United Kingdom              No   \n",
              "6            9   Yes        Yes   United States              No   \n",
              "7           10   Yes        Yes         Nigeria              No   \n",
              "8           11   Yes        Yes   United States              No   \n",
              "13          20    No         No           India              No   \n",
              "14          21    No         No     Netherlands  Yes, full-time   \n",
              "\n",
              "            Employment    EdLevel    UndergradMajor               CompanySize  \\\n",
              "1   Employed full-time  Bachelors     Other Science  10,000 or more employees   \n",
              "2   Employed full-time  Associate  Computer Science        20 to 99 employees   \n",
              "3   Employed full-time  Bachelors  Computer Science      100 to 499 employees   \n",
              "4   Employed full-time  No Degree  Computer Science  10,000 or more employees   \n",
              "5   Employed full-time  Bachelors  Computer Science        10 to 19 employees   \n",
              "6   Employed full-time  No Degree  Computer Science  10,000 or more employees   \n",
              "7   Employed full-time  Bachelors  Computer Science        10 to 19 employees   \n",
              "8   Employed full-time  No Degree  Arts and Science      100 to 499 employees   \n",
              "13  Employed full-time  Bachelors       Engineering        20 to 99 employees   \n",
              "14  Employed full-time  No Degree          No major        20 to 99 employees   \n",
              "\n",
              "          DevType  ...                    Exercise          Gender  \\\n",
              "1       Developer  ...   Daily or almost every day            Male   \n",
              "2         Manager  ...                         NaN  Non-conforming   \n",
              "3       Developer  ...  I don't typically exercise            Male   \n",
              "4       Developer  ...        3 - 4 times per week            Male   \n",
              "5       Developer  ...        1 - 2 times per week            Male   \n",
              "6       Developer  ...  I don't typically exercise            Male   \n",
              "7   Non developer  ...        1 - 2 times per week          Female   \n",
              "8       Developer  ...  I don't typically exercise            Male   \n",
              "13      Developer  ...  I don't typically exercise  Non-conforming   \n",
              "14      Developer  ...   Daily or almost every day            Male   \n",
              "\n",
              "           SexualOrientation  \\\n",
              "1   Straight or heterosexual   \n",
              "2                        NaN   \n",
              "3   Straight or heterosexual   \n",
              "4   Straight or heterosexual   \n",
              "5   Straight or heterosexual   \n",
              "6   Straight or heterosexual   \n",
              "7                        NaN   \n",
              "8   Straight or heterosexual   \n",
              "13                       NaN   \n",
              "14                       NaN   \n",
              "\n",
              "                                     EducationParents  \\\n",
              "1            Bachelor’s degree (BA, BS, B.Eng., etc.)   \n",
              "2                                                 NaN   \n",
              "3   Some college/university study without earning ...   \n",
              "4   Some college/university study without earning ...   \n",
              "5   Secondary school (e.g. American high school, G...   \n",
              "6         Master’s degree (MA, MS, M.Eng., MBA, etc.)   \n",
              "7                           Primary/elementary school   \n",
              "8   Some college/university study without earning ...   \n",
              "13                                                NaN   \n",
              "14                                   Associate degree   \n",
              "\n",
              "                RaceEthnicity                Age Dependents  MilitaryUS  \\\n",
              "1   White or European descent  35 - 44 years old        Yes         NaN   \n",
              "2   White or European descent  35 - 44 years old        NaN         NaN   \n",
              "3   White or European descent  35 - 44 years old         No          No   \n",
              "4   White or European descent  18 - 24 years old        Yes         NaN   \n",
              "5   White or European descent  18 - 24 years old         No         NaN   \n",
              "6   White or European descent  18 - 24 years old         No          No   \n",
              "7    Black or African descent  25 - 34 years old         No         NaN   \n",
              "8   White or European descent  35 - 44 years old        Yes          No   \n",
              "13                South Asian  35 - 44 years old        NaN         NaN   \n",
              "14  White or European descent  18 - 24 years old         No         NaN   \n",
              "\n",
              "                           SurveyTooLong                  SurveyEasy  \n",
              "1   The survey was an appropriate length               Somewhat easy  \n",
              "2                                    NaN                         NaN  \n",
              "3   The survey was an appropriate length               Somewhat easy  \n",
              "4   The survey was an appropriate length               Somewhat easy  \n",
              "5   The survey was an appropriate length               Somewhat easy  \n",
              "6   The survey was an appropriate length               Somewhat easy  \n",
              "7                The survey was too long          Somewhat difficult  \n",
              "8   The survey was an appropriate length                   Very easy  \n",
              "13                                   NaN                         NaN  \n",
              "14  The survey was an appropriate length  Neither easy nor difficult  \n",
              "\n",
              "[10 rows x 129 columns]"
            ],
            "text/html": [
              "\n",
              "  <div id=\"df-7e9d5fef-690f-47bc-a903-5411bd2127c0\" class=\"colab-df-container\">\n",
              "    <div>\n",
              "<style scoped>\n",
              "    .dataframe tbody tr th:only-of-type {\n",
              "        vertical-align: middle;\n",
              "    }\n",
              "\n",
              "    .dataframe tbody tr th {\n",
              "        vertical-align: top;\n",
              "    }\n",
              "\n",
              "    .dataframe thead th {\n",
              "        text-align: right;\n",
              "    }\n",
              "</style>\n",
              "<table border=\"1\" class=\"dataframe\">\n",
              "  <thead>\n",
              "    <tr style=\"text-align: right;\">\n",
              "      <th></th>\n",
              "      <th>Respondent</th>\n",
              "      <th>Hobby</th>\n",
              "      <th>OpenSource</th>\n",
              "      <th>Country</th>\n",
              "      <th>Student</th>\n",
              "      <th>Employment</th>\n",
              "      <th>EdLevel</th>\n",
              "      <th>UndergradMajor</th>\n",
              "      <th>CompanySize</th>\n",
              "      <th>DevType</th>\n",
              "      <th>...</th>\n",
              "      <th>Exercise</th>\n",
              "      <th>Gender</th>\n",
              "      <th>SexualOrientation</th>\n",
              "      <th>EducationParents</th>\n",
              "      <th>RaceEthnicity</th>\n",
              "      <th>Age</th>\n",
              "      <th>Dependents</th>\n",
              "      <th>MilitaryUS</th>\n",
              "      <th>SurveyTooLong</th>\n",
              "      <th>SurveyEasy</th>\n",
              "    </tr>\n",
              "  </thead>\n",
              "  <tbody>\n",
              "    <tr>\n",
              "      <th>1</th>\n",
              "      <td>3</td>\n",
              "      <td>Yes</td>\n",
              "      <td>Yes</td>\n",
              "      <td>United Kingdom</td>\n",
              "      <td>No</td>\n",
              "      <td>Employed full-time</td>\n",
              "      <td>Bachelors</td>\n",
              "      <td>Other Science</td>\n",
              "      <td>10,000 or more employees</td>\n",
              "      <td>Developer</td>\n",
              "      <td>...</td>\n",
              "      <td>Daily or almost every day</td>\n",
              "      <td>Male</td>\n",
              "      <td>Straight or heterosexual</td>\n",
              "      <td>Bachelor’s degree (BA, BS, B.Eng., etc.)</td>\n",
              "      <td>White or European descent</td>\n",
              "      <td>35 - 44 years old</td>\n",
              "      <td>Yes</td>\n",
              "      <td>NaN</td>\n",
              "      <td>The survey was an appropriate length</td>\n",
              "      <td>Somewhat easy</td>\n",
              "    </tr>\n",
              "    <tr>\n",
              "      <th>2</th>\n",
              "      <td>4</td>\n",
              "      <td>Yes</td>\n",
              "      <td>Yes</td>\n",
              "      <td>United States</td>\n",
              "      <td>No</td>\n",
              "      <td>Employed full-time</td>\n",
              "      <td>Associate</td>\n",
              "      <td>Computer Science</td>\n",
              "      <td>20 to 99 employees</td>\n",
              "      <td>Manager</td>\n",
              "      <td>...</td>\n",
              "      <td>NaN</td>\n",
              "      <td>Non-conforming</td>\n",
              "      <td>NaN</td>\n",
              "      <td>NaN</td>\n",
              "      <td>White or European descent</td>\n",
              "      <td>35 - 44 years old</td>\n",
              "      <td>NaN</td>\n",
              "      <td>NaN</td>\n",
              "      <td>NaN</td>\n",
              "      <td>NaN</td>\n",
              "    </tr>\n",
              "    <tr>\n",
              "      <th>3</th>\n",
              "      <td>5</td>\n",
              "      <td>No</td>\n",
              "      <td>No</td>\n",
              "      <td>United States</td>\n",
              "      <td>No</td>\n",
              "      <td>Employed full-time</td>\n",
              "      <td>Bachelors</td>\n",
              "      <td>Computer Science</td>\n",
              "      <td>100 to 499 employees</td>\n",
              "      <td>Developer</td>\n",
              "      <td>...</td>\n",
              "      <td>I don't typically exercise</td>\n",
              "      <td>Male</td>\n",
              "      <td>Straight or heterosexual</td>\n",
              "      <td>Some college/university study without earning ...</td>\n",
              "      <td>White or European descent</td>\n",
              "      <td>35 - 44 years old</td>\n",
              "      <td>No</td>\n",
              "      <td>No</td>\n",
              "      <td>The survey was an appropriate length</td>\n",
              "      <td>Somewhat easy</td>\n",
              "    </tr>\n",
              "    <tr>\n",
              "      <th>4</th>\n",
              "      <td>7</td>\n",
              "      <td>Yes</td>\n",
              "      <td>No</td>\n",
              "      <td>South Africa</td>\n",
              "      <td>Yes, part-time</td>\n",
              "      <td>Employed full-time</td>\n",
              "      <td>No Degree</td>\n",
              "      <td>Computer Science</td>\n",
              "      <td>10,000 or more employees</td>\n",
              "      <td>Developer</td>\n",
              "      <td>...</td>\n",
              "      <td>3 - 4 times per week</td>\n",
              "      <td>Male</td>\n",
              "      <td>Straight or heterosexual</td>\n",
              "      <td>Some college/university study without earning ...</td>\n",
              "      <td>White or European descent</td>\n",
              "      <td>18 - 24 years old</td>\n",
              "      <td>Yes</td>\n",
              "      <td>NaN</td>\n",
              "      <td>The survey was an appropriate length</td>\n",
              "      <td>Somewhat easy</td>\n",
              "    </tr>\n",
              "    <tr>\n",
              "      <th>5</th>\n",
              "      <td>8</td>\n",
              "      <td>Yes</td>\n",
              "      <td>No</td>\n",
              "      <td>United Kingdom</td>\n",
              "      <td>No</td>\n",
              "      <td>Employed full-time</td>\n",
              "      <td>Bachelors</td>\n",
              "      <td>Computer Science</td>\n",
              "      <td>10 to 19 employees</td>\n",
              "      <td>Developer</td>\n",
              "      <td>...</td>\n",
              "      <td>1 - 2 times per week</td>\n",
              "      <td>Male</td>\n",
              "      <td>Straight or heterosexual</td>\n",
              "      <td>Secondary school (e.g. American high school, G...</td>\n",
              "      <td>White or European descent</td>\n",
              "      <td>18 - 24 years old</td>\n",
              "      <td>No</td>\n",
              "      <td>NaN</td>\n",
              "      <td>The survey was an appropriate length</td>\n",
              "      <td>Somewhat easy</td>\n",
              "    </tr>\n",
              "    <tr>\n",
              "      <th>6</th>\n",
              "      <td>9</td>\n",
              "      <td>Yes</td>\n",
              "      <td>Yes</td>\n",
              "      <td>United States</td>\n",
              "      <td>No</td>\n",
              "      <td>Employed full-time</td>\n",
              "      <td>No Degree</td>\n",
              "      <td>Computer Science</td>\n",
              "      <td>10,000 or more employees</td>\n",
              "      <td>Developer</td>\n",
              "      <td>...</td>\n",
              "      <td>I don't typically exercise</td>\n",
              "      <td>Male</td>\n",
              "      <td>Straight or heterosexual</td>\n",
              "      <td>Master’s degree (MA, MS, M.Eng., MBA, etc.)</td>\n",
              "      <td>White or European descent</td>\n",
              "      <td>18 - 24 years old</td>\n",
              "      <td>No</td>\n",
              "      <td>No</td>\n",
              "      <td>The survey was an appropriate length</td>\n",
              "      <td>Somewhat easy</td>\n",
              "    </tr>\n",
              "    <tr>\n",
              "      <th>7</th>\n",
              "      <td>10</td>\n",
              "      <td>Yes</td>\n",
              "      <td>Yes</td>\n",
              "      <td>Nigeria</td>\n",
              "      <td>No</td>\n",
              "      <td>Employed full-time</td>\n",
              "      <td>Bachelors</td>\n",
              "      <td>Computer Science</td>\n",
              "      <td>10 to 19 employees</td>\n",
              "      <td>Non developer</td>\n",
              "      <td>...</td>\n",
              "      <td>1 - 2 times per week</td>\n",
              "      <td>Female</td>\n",
              "      <td>NaN</td>\n",
              "      <td>Primary/elementary school</td>\n",
              "      <td>Black or African descent</td>\n",
              "      <td>25 - 34 years old</td>\n",
              "      <td>No</td>\n",
              "      <td>NaN</td>\n",
              "      <td>The survey was too long</td>\n",
              "      <td>Somewhat difficult</td>\n",
              "    </tr>\n",
              "    <tr>\n",
              "      <th>8</th>\n",
              "      <td>11</td>\n",
              "      <td>Yes</td>\n",
              "      <td>Yes</td>\n",
              "      <td>United States</td>\n",
              "      <td>No</td>\n",
              "      <td>Employed full-time</td>\n",
              "      <td>No Degree</td>\n",
              "      <td>Arts and Science</td>\n",
              "      <td>100 to 499 employees</td>\n",
              "      <td>Developer</td>\n",
              "      <td>...</td>\n",
              "      <td>I don't typically exercise</td>\n",
              "      <td>Male</td>\n",
              "      <td>Straight or heterosexual</td>\n",
              "      <td>Some college/university study without earning ...</td>\n",
              "      <td>White or European descent</td>\n",
              "      <td>35 - 44 years old</td>\n",
              "      <td>Yes</td>\n",
              "      <td>No</td>\n",
              "      <td>The survey was an appropriate length</td>\n",
              "      <td>Very easy</td>\n",
              "    </tr>\n",
              "    <tr>\n",
              "      <th>13</th>\n",
              "      <td>20</td>\n",
              "      <td>No</td>\n",
              "      <td>No</td>\n",
              "      <td>India</td>\n",
              "      <td>No</td>\n",
              "      <td>Employed full-time</td>\n",
              "      <td>Bachelors</td>\n",
              "      <td>Engineering</td>\n",
              "      <td>20 to 99 employees</td>\n",
              "      <td>Developer</td>\n",
              "      <td>...</td>\n",
              "      <td>I don't typically exercise</td>\n",
              "      <td>Non-conforming</td>\n",
              "      <td>NaN</td>\n",
              "      <td>NaN</td>\n",
              "      <td>South Asian</td>\n",
              "      <td>35 - 44 years old</td>\n",
              "      <td>NaN</td>\n",
              "      <td>NaN</td>\n",
              "      <td>NaN</td>\n",
              "      <td>NaN</td>\n",
              "    </tr>\n",
              "    <tr>\n",
              "      <th>14</th>\n",
              "      <td>21</td>\n",
              "      <td>No</td>\n",
              "      <td>No</td>\n",
              "      <td>Netherlands</td>\n",
              "      <td>Yes, full-time</td>\n",
              "      <td>Employed full-time</td>\n",
              "      <td>No Degree</td>\n",
              "      <td>No major</td>\n",
              "      <td>20 to 99 employees</td>\n",
              "      <td>Developer</td>\n",
              "      <td>...</td>\n",
              "      <td>Daily or almost every day</td>\n",
              "      <td>Male</td>\n",
              "      <td>NaN</td>\n",
              "      <td>Associate degree</td>\n",
              "      <td>White or European descent</td>\n",
              "      <td>18 - 24 years old</td>\n",
              "      <td>No</td>\n",
              "      <td>NaN</td>\n",
              "      <td>The survey was an appropriate length</td>\n",
              "      <td>Neither easy nor difficult</td>\n",
              "    </tr>\n",
              "  </tbody>\n",
              "</table>\n",
              "<p>10 rows × 129 columns</p>\n",
              "</div>\n",
              "    <div class=\"colab-df-buttons\">\n",
              "\n",
              "  <div class=\"colab-df-container\">\n",
              "    <button class=\"colab-df-convert\" onclick=\"convertToInteractive('df-7e9d5fef-690f-47bc-a903-5411bd2127c0')\"\n",
              "            title=\"Convert this dataframe to an interactive table.\"\n",
              "            style=\"display:none;\">\n",
              "\n",
              "  <svg xmlns=\"http://www.w3.org/2000/svg\" height=\"24px\" viewBox=\"0 -960 960 960\">\n",
              "    <path d=\"M120-120v-720h720v720H120Zm60-500h600v-160H180v160Zm220 220h160v-160H400v160Zm0 220h160v-160H400v160ZM180-400h160v-160H180v160Zm440 0h160v-160H620v160ZM180-180h160v-160H180v160Zm440 0h160v-160H620v160Z\"/>\n",
              "  </svg>\n",
              "    </button>\n",
              "\n",
              "  <style>\n",
              "    .colab-df-container {\n",
              "      display:flex;\n",
              "      gap: 12px;\n",
              "    }\n",
              "\n",
              "    .colab-df-convert {\n",
              "      background-color: #E8F0FE;\n",
              "      border: none;\n",
              "      border-radius: 50%;\n",
              "      cursor: pointer;\n",
              "      display: none;\n",
              "      fill: #1967D2;\n",
              "      height: 32px;\n",
              "      padding: 0 0 0 0;\n",
              "      width: 32px;\n",
              "    }\n",
              "\n",
              "    .colab-df-convert:hover {\n",
              "      background-color: #E2EBFA;\n",
              "      box-shadow: 0px 1px 2px rgba(60, 64, 67, 0.3), 0px 1px 3px 1px rgba(60, 64, 67, 0.15);\n",
              "      fill: #174EA6;\n",
              "    }\n",
              "\n",
              "    .colab-df-buttons div {\n",
              "      margin-bottom: 4px;\n",
              "    }\n",
              "\n",
              "    [theme=dark] .colab-df-convert {\n",
              "      background-color: #3B4455;\n",
              "      fill: #D2E3FC;\n",
              "    }\n",
              "\n",
              "    [theme=dark] .colab-df-convert:hover {\n",
              "      background-color: #434B5C;\n",
              "      box-shadow: 0px 1px 3px 1px rgba(0, 0, 0, 0.15);\n",
              "      filter: drop-shadow(0px 1px 2px rgba(0, 0, 0, 0.3));\n",
              "      fill: #FFFFFF;\n",
              "    }\n",
              "  </style>\n",
              "\n",
              "    <script>\n",
              "      const buttonEl =\n",
              "        document.querySelector('#df-7e9d5fef-690f-47bc-a903-5411bd2127c0 button.colab-df-convert');\n",
              "      buttonEl.style.display =\n",
              "        google.colab.kernel.accessAllowed ? 'block' : 'none';\n",
              "\n",
              "      async function convertToInteractive(key) {\n",
              "        const element = document.querySelector('#df-7e9d5fef-690f-47bc-a903-5411bd2127c0');\n",
              "        const dataTable =\n",
              "          await google.colab.kernel.invokeFunction('convertToInteractive',\n",
              "                                                    [key], {});\n",
              "        if (!dataTable) return;\n",
              "\n",
              "        const docLinkHtml = 'Like what you see? Visit the ' +\n",
              "          '<a target=\"_blank\" href=https://colab.research.google.com/notebooks/data_table.ipynb>data table notebook</a>'\n",
              "          + ' to learn more about interactive tables.';\n",
              "        element.innerHTML = '';\n",
              "        dataTable['output_type'] = 'display_data';\n",
              "        await google.colab.output.renderOutput(dataTable, element);\n",
              "        const docLink = document.createElement('div');\n",
              "        docLink.innerHTML = docLinkHtml;\n",
              "        element.appendChild(docLink);\n",
              "      }\n",
              "    </script>\n",
              "  </div>\n",
              "\n",
              "\n",
              "<div id=\"df-029ae4f2-77be-4c9e-beb4-db91f5d2df45\">\n",
              "  <button class=\"colab-df-quickchart\" onclick=\"quickchart('df-029ae4f2-77be-4c9e-beb4-db91f5d2df45')\"\n",
              "            title=\"Suggest charts\"\n",
              "            style=\"display:none;\">\n",
              "\n",
              "<svg xmlns=\"http://www.w3.org/2000/svg\" height=\"24px\"viewBox=\"0 0 24 24\"\n",
              "     width=\"24px\">\n",
              "    <g>\n",
              "        <path d=\"M19 3H5c-1.1 0-2 .9-2 2v14c0 1.1.9 2 2 2h14c1.1 0 2-.9 2-2V5c0-1.1-.9-2-2-2zM9 17H7v-7h2v7zm4 0h-2V7h2v10zm4 0h-2v-4h2v4z\"/>\n",
              "    </g>\n",
              "</svg>\n",
              "  </button>\n",
              "\n",
              "<style>\n",
              "  .colab-df-quickchart {\n",
              "      --bg-color: #E8F0FE;\n",
              "      --fill-color: #1967D2;\n",
              "      --hover-bg-color: #E2EBFA;\n",
              "      --hover-fill-color: #174EA6;\n",
              "      --disabled-fill-color: #AAA;\n",
              "      --disabled-bg-color: #DDD;\n",
              "  }\n",
              "\n",
              "  [theme=dark] .colab-df-quickchart {\n",
              "      --bg-color: #3B4455;\n",
              "      --fill-color: #D2E3FC;\n",
              "      --hover-bg-color: #434B5C;\n",
              "      --hover-fill-color: #FFFFFF;\n",
              "      --disabled-bg-color: #3B4455;\n",
              "      --disabled-fill-color: #666;\n",
              "  }\n",
              "\n",
              "  .colab-df-quickchart {\n",
              "    background-color: var(--bg-color);\n",
              "    border: none;\n",
              "    border-radius: 50%;\n",
              "    cursor: pointer;\n",
              "    display: none;\n",
              "    fill: var(--fill-color);\n",
              "    height: 32px;\n",
              "    padding: 0;\n",
              "    width: 32px;\n",
              "  }\n",
              "\n",
              "  .colab-df-quickchart:hover {\n",
              "    background-color: var(--hover-bg-color);\n",
              "    box-shadow: 0 1px 2px rgba(60, 64, 67, 0.3), 0 1px 3px 1px rgba(60, 64, 67, 0.15);\n",
              "    fill: var(--button-hover-fill-color);\n",
              "  }\n",
              "\n",
              "  .colab-df-quickchart-complete:disabled,\n",
              "  .colab-df-quickchart-complete:disabled:hover {\n",
              "    background-color: var(--disabled-bg-color);\n",
              "    fill: var(--disabled-fill-color);\n",
              "    box-shadow: none;\n",
              "  }\n",
              "\n",
              "  .colab-df-spinner {\n",
              "    border: 2px solid var(--fill-color);\n",
              "    border-color: transparent;\n",
              "    border-bottom-color: var(--fill-color);\n",
              "    animation:\n",
              "      spin 1s steps(1) infinite;\n",
              "  }\n",
              "\n",
              "  @keyframes spin {\n",
              "    0% {\n",
              "      border-color: transparent;\n",
              "      border-bottom-color: var(--fill-color);\n",
              "      border-left-color: var(--fill-color);\n",
              "    }\n",
              "    20% {\n",
              "      border-color: transparent;\n",
              "      border-left-color: var(--fill-color);\n",
              "      border-top-color: var(--fill-color);\n",
              "    }\n",
              "    30% {\n",
              "      border-color: transparent;\n",
              "      border-left-color: var(--fill-color);\n",
              "      border-top-color: var(--fill-color);\n",
              "      border-right-color: var(--fill-color);\n",
              "    }\n",
              "    40% {\n",
              "      border-color: transparent;\n",
              "      border-right-color: var(--fill-color);\n",
              "      border-top-color: var(--fill-color);\n",
              "    }\n",
              "    60% {\n",
              "      border-color: transparent;\n",
              "      border-right-color: var(--fill-color);\n",
              "    }\n",
              "    80% {\n",
              "      border-color: transparent;\n",
              "      border-right-color: var(--fill-color);\n",
              "      border-bottom-color: var(--fill-color);\n",
              "    }\n",
              "    90% {\n",
              "      border-color: transparent;\n",
              "      border-bottom-color: var(--fill-color);\n",
              "    }\n",
              "  }\n",
              "</style>\n",
              "\n",
              "  <script>\n",
              "    async function quickchart(key) {\n",
              "      const quickchartButtonEl =\n",
              "        document.querySelector('#' + key + ' button');\n",
              "      quickchartButtonEl.disabled = true;  // To prevent multiple clicks.\n",
              "      quickchartButtonEl.classList.add('colab-df-spinner');\n",
              "      try {\n",
              "        const charts = await google.colab.kernel.invokeFunction(\n",
              "            'suggestCharts', [key], {});\n",
              "      } catch (error) {\n",
              "        console.error('Error during call to suggestCharts:', error);\n",
              "      }\n",
              "      quickchartButtonEl.classList.remove('colab-df-spinner');\n",
              "      quickchartButtonEl.classList.add('colab-df-quickchart-complete');\n",
              "    }\n",
              "    (() => {\n",
              "      let quickchartButtonEl =\n",
              "        document.querySelector('#df-029ae4f2-77be-4c9e-beb4-db91f5d2df45 button');\n",
              "      quickchartButtonEl.style.display =\n",
              "        google.colab.kernel.accessAllowed ? 'block' : 'none';\n",
              "    })();\n",
              "  </script>\n",
              "</div>\n",
              "\n",
              "    </div>\n",
              "  </div>\n"
            ],
            "application/vnd.google.colaboratory.intrinsic+json": {
              "type": "dataframe",
              "variable_name": "cleaned_2018"
            }
          },
          "metadata": {},
          "execution_count": 120
        }
      ]
    },
    {
      "cell_type": "code",
      "source": [
        "#calculating percentage of missing values\n",
        "missing_count = df.isnull().sum() #number of missing\n",
        "total_cells = np.product(df.shape) # number of cells (cols x rows)\n",
        "total_missing = missing_count.sum()\n",
        "missing_percent = (total_missing*100)/total_cells"
      ],
      "metadata": {
        "id": "2LyBn6_i-b3o"
      },
      "execution_count": 121,
      "outputs": []
    },
    {
      "cell_type": "code",
      "source": [
        "print('Total : ', total_cells)\n",
        "print('Total missing : ', total_missing)\n",
        "print('Missing Percentage: ', missing_percent, '%')"
      ],
      "metadata": {
        "colab": {
          "base_uri": "https://localhost:8080/"
        },
        "id": "PcVgSusH-5Sh",
        "outputId": "99cfde96-520e-4601-b43d-4afe3b0874c1"
      },
      "execution_count": 122,
      "outputs": [
        {
          "output_type": "stream",
          "name": "stdout",
          "text": [
            "Total :  10165200\n",
            "Total missing :  2079651\n",
            "Missing Percentage:  20.45853500177075 %\n"
          ]
        }
      ]
    },
    {
      "cell_type": "markdown",
      "source": [
        "Hence, we reduced the missing data from 35% to 19% which is far way better. And the remaining null values could be present in the columns thatwe are not going to use in our analysis"
      ],
      "metadata": {
        "id": "pwoj3j56-9nh"
      }
    },
    {
      "cell_type": "markdown",
      "source": [
        "**Outlier detection**"
      ],
      "metadata": {
        "id": "dJH6dMHm_rcr"
      }
    },
    {
      "cell_type": "code",
      "source": [
        "#detecting outliers using the interquartile range (IQR) method\n",
        "def detect_outliers_iqr(dataframe, fields):\n",
        "    outliers_indices = []\n",
        "    for feature in fields:\n",
        "        # Calculate the first and third quartiles\n",
        "        Q1 = dataframe[feature].quantile(0.25)\n",
        "        Q3 = dataframe[feature].quantile(0.75)\n",
        "        # Calculating the interquartile range (IQR)(diff of remaining)\n",
        "        IQR = Q3 - Q1\n",
        "        # Defining the lower and upper bounds for outlier detection\n",
        "        lower_bound = Q1 - 1.5 * IQR\n",
        "        upper_bound = Q3 + 1.5 * IQR\n",
        "        # Finding outliers based on the lower and upper bounds\n",
        "        outliers = dataframe[(dataframe[feature] < lower_bound) | (dataframe[feature] > upper_bound)].index\n",
        "        # Adding the indices of outliers to the list to know whether they exist or not\n",
        "        outliers_indices.extend(outliers)\n",
        "    # Return indices of outliers\n",
        "    return list(set(outliers_indices))"
      ],
      "metadata": {
        "id": "pheMWmjZ-7gh"
      },
      "execution_count": 123,
      "outputs": []
    },
    {
      "cell_type": "markdown",
      "source": [
        "Calculating the outliers for different columns"
      ],
      "metadata": {
        "id": "sWFblaMjCekz"
      }
    },
    {
      "cell_type": "code",
      "source": [
        "#outliers for Salaryusd\n",
        "cols = [ 'SalaryUSD']\n"
      ],
      "metadata": {
        "id": "ZxPFi0uHCaaz"
      },
      "execution_count": 124,
      "outputs": []
    },
    {
      "cell_type": "code",
      "source": [
        "outliers_indices_iqr = detect_outliers_iqr(df,cols )"
      ],
      "metadata": {
        "id": "w8cRvgaTAQR1"
      },
      "execution_count": 125,
      "outputs": []
    },
    {
      "cell_type": "code",
      "source": [
        "#Printig the indices of outliers detected using the IQR method\n",
        "print(\"Indices of outliers detected using IQR method:\", outliers_indices_iqr)"
      ],
      "metadata": {
        "colab": {
          "base_uri": "https://localhost:8080/"
        },
        "id": "rpKuLqjgASsQ",
        "outputId": "a7ef0c59-6987-4b38-8ff4-f134a0dd4ddb"
      },
      "execution_count": 126,
      "outputs": [
        {
          "output_type": "stream",
          "name": "stdout",
          "text": [
            "Indices of outliers detected using IQR method: [8193, 8195, 24580, 8, 49160, 8203, 32784, 73747, 73748, 32789, 40981, 27, 73758, 32799, 24608, 8232, 65577, 32812, 65580, 16430, 65585, 16434, 65587, 41015, 49207, 32827, 16446, 16449, 41030, 81992, 32846, 8271, 32848, 8274, 16466, 8276, 24659, 65620, 41047, 49248, 82017, 16489, 49258, 24683, 8302, 41070, 73842, 41080, 65658, 125, 73855, 128, 16513, 73889, 32930, 41130, 24760, 32952, 57539, 49348, 197, 57553, 65752, 32987, 225, 24802, 8421, 73957, 236, 8436, 41205, 8440, 82172, 16637, 73988, 73990, 57608, 41225, 269, 41229, 49423, 57619, 8468, 65811, 74010, 57629, 74014, 49441, 57637, 41258, 57642, 24877, 74032, 49457, 57649, 57653, 57656, 74045, 8511, 24903, 328, 24907, 82251, 16722, 74072, 49499, 24926, 41317, 24934, 74088, 74096, 65907, 41332, 74103, 65915, 74107, 8575, 385, 41349, 82310, 74121, 396, 24973, 57747, 406, 16790, 24983, 65942, 8604, 416, 49568, 49569, 65954, 41380, 65957, 65958, 41384, 49578, 33203, 8628, 441, 41401, 74174, 25023, 8642, 65986, 16838, 57803, 49616, 466, 475, 74207, 66017, 25064, 41451, 66035, 16893, 33277, 66054, 74247, 523, 528, 530, 41491, 8724, 8725, 49688, 74264, 82467, 33317, 41510, 74277, 57900, 41530, 74302, 49728, 49729, 57921, 41539, 49736, 66122, 66123, 8784, 74327, 8793, 74329, 74335, 74337, 74338, 41573, 33387, 66158, 25200, 49779, 82549, 41593, 82555, 74364, 33407, 74369, 49796, 654, 57999, 74384, 33425, 659, 41620, 17046, 66199, 33433, 41625, 33440, 17059, 49828, 66213, 74409, 686, 49839, 58033, 691, 66227, 74425, 25274, 58046, 49857, 66241, 49872, 66257, 41683, 82645, 74454, 17113, 58083, 66275, 49893, 82663, 17131, 66284, 41709, 17136, 25329, 17138, 41713, 8948, 33524, 41717, 66291, 74485, 33529, 74488, 17148, 33533, 8959, 66304, 769, 25345, 8971, 33550, 25361, 17170, 8979, 25364, 58129, 58132, 58134, 58136, 66325, 74519, 17184, 802, 805, 17190, 41766, 25388, 49965, 66353, 58164, 74549, 66358, 25401, 41787, 9021, 58176, 833, 58180, 9029, 58181, 58183, 17226, 41806, 49998, 9041, 50001, 50011, 50019, 58214, 33641, 25456, 66416, 25458, 58228, 74617, 58234, 50051, 41863, 66445, 33682, 41879, 50081, 58277, 934, 41894, 82859, 9132, 25519, 58292, 17333, 50101, 58294, 74679, 33733, 41927, 9160, 74697, 9167, 75092, 66513, 41939, 74708, 74710, 9175, 58327, 66522, 25565, 74721, 17378, 66532, 50149, 25578, 25579, 17391, 82930, 9204, 41973, 9207, 66551, 9209, 66553, 58363, 58365, 58368, 58369, 66562, 58373, 74762, 17420, 33804, 74765, 9233, 25617, 33812, 9237, 74774, 9240, 1050, 74779, 74780, 42021, 58407, 50216, 66601, 74793, 33836, 25645, 17463, 9274, 74812, 17470, 74815, 1088, 74819, 33865, 25674, 66636, 42063, 33873, 50258, 9299, 17494, 42076, 50269, 50274, 58468, 25704, 17517, 42094, 33904, 66676, 58486, 66683, 9341, 50308, 1158, 1160, 17546, 50317, 74899, 25749, 33943, 42136, 50327, 33957, 9383, 66728, 74920, 66732, 1197, 50354, 42164, 33978, 25799, 9416, 25801, 17610, 58572, 66769, 17622, 34006, 50395, 9436, 58595, 25834, 42218, 42219, 58609, 66803, 17652, 9464, 58618, 83195, 75004, 25857, 25860, 50436, 9484, 17677, 1296, 58644, 9493, 66836, 66840, 58651, 34081, 50465, 1321, 1322, 50475, 1324, 66859, 9520, 25911, 25914, 17723, 75067, 42309, 58700, 34126, 17748, 17749, 34133, 42326, 66900, 66902, 1370, 17755, 25948, 9565, 66917, 75110, 17768, 34152, 42346, 58730, 42350, 75118, 9586, 25980, 25986, 58759, 66954, 66957, 1425, 9622, 34200, 34202, 58781, 9638, 1449, 17839, 26032, 58799, 1458, 42419, 17845, 34229, 42424, 1484, 17869, 75214, 1494, 17881, 1501, 26078, 58849, 58856, 49148, 26093, 42479, 17909, 34293, 67064, 50685, 75261, 9731, 34311, 50702, 26127, 34320, 42513, 17939, 42515, 26136, 1561, 17946, 67103, 9760, 42528, 9764, 1573, 67109, 75302, 1581, 75310, 34354, 67123, 42548, 83507, 83518, 9793, 42563, 9797, 9800, 67145, 58956, 67152, 42578, 83540, 50776, 34393, 50779, 9824, 34403, 58979, 34412, 18029, 75372, 26224, 26227, 58996, 1653, 1666, 9860, 34438, 59015, 83591, 75408, 50834, 9875, 59028, 75412, 1687, 9879, 9881, 18074, 59034, 67229, 75421, 50853, 9895, 1706, 9903, 9905, 9906, 26291, 59059, 18106, 42682, 59067, 83642, 83649, 34500, 9928, 34509, 50894, 9935, 18131, 83667, 50910, 1759, 75487, 9960, 50925, 34542, 75502, 18161, 1778, 26359, 9976, 50937, 83704, 67323, 67328, 75524, 42759, 50951, 9993, 67341, 75533, 10005, 75542, 83737, 10015, 75551, 1825, 67368, 67369, 18219, 50987, 42799, 50991, 75576, 18233, 59203, 10053, 10057, 42833, 59219, 1876, 26453, 75606, 42839, 75608, 51039, 1891, 75620, 67445, 59258, 18299, 42876, 67458, 1925, 10134, 1948, 26524, 1951, 59295, 34721, 51109, 67495, 51115, 10157, 1967, 26546, 59316, 18360, 75704, 34746, 10176, 42950, 59335, 59342, 10191, 67537, 67545, 26587, 42980, 2029, 51182, 75757, 2032, 18420, 34806, 34807, 67575, 51195, 26629, 67590, 26635, 2060, 34828, 2062, 51214, 10260, 2069, 34838, 51221, 67606, 75811, 59436, 34861, 84013, 43060, 2106, 43066, 67644, 59454, 67649, 43074, 10307, 59461, 51276, 59469, 2126, 59471, 43091, 75874, 26725, 59496, 67689, 10353, 18546, 34936, 26751, 67714, 34952, 43144, 59530, 51339, 67723, 26769, 18582, 67736, 51353, 10399, 67747, 10407, 10408, 34984, 67759, 43189, 51386, 43196, 51389, 2241, 35009, 59585, 43218, 84185, 84189, 59615, 59619, 10468, 35045, 67813, 18667, 10478, 18677, 59645, 26879, 43263, 76031, 51459, 43275, 51469, 51471, 43282, 59669, 76054, 59672, 18713, 35098, 18715, 51484, 67871, 35108, 51492, 2343, 26920, 43303, 10539, 35116, 59691, 76075, 76078, 26932, 51511, 18744, 76091, 26941, 67901, 51522, 59714, 10564, 84310, 59735, 67927, 26972, 59743, 26979, 43365, 35174, 67944, 18797, 67957, 51575, 67966, 84362, 2443, 10637, 51597, 59791, 43413, 51610, 59803, 51612, 76186, 10656, 2471, 43434, 51631, 51632, 35250, 43442, 59829, 76213, 76215, 76218, 59842, 10691, 35272, 2506, 51659, 10700, 27085, 51662, 59851, 2515, 43478, 76246, 2520, 2522, 18907, 51676, 68064, 43495, 18922, 18926, 35311, 43503, 2546, 76278, 2555, 18941, 27133, 68106, 2574, 68110, 35345, 27154, 59921, 51732, 68120, 35354, 35356, 27179, 27187, 10806, 10810, 2621, 76349, 84541, 27201, 76355, 27205, 51781, 68166, 10825, 19024, 51796, 84566, 35417, 76377, 27228, 19037, 10854, 68198, 51820, 60018, 84596, 10871, 51835, 68219, 2689, 68228, 76423, 43658, 76426, 10894, 35477, 51862, 43675, 51867, 60059, 60061, 2724, 10916, 35494, 2728, 76457, 68266, 60076, 76460, 68270, 68271, 76467, 84668, 35517, 35521, 68290, 60101, 51913, 19154, 35540, 35543, 19160, 60126, 27359, 10977, 27369, 10986, 51951, 19184, 27376, 43765, 51957, 2807, 76545, 84745, 51983, 35600, 35613, 68383, 52001, 60199, 60203, 52020, 27446, 11067, 19262, 43838, 19264, 76609, 2882, 2883, 27463, 19278, 60239, 11088, 76623, 84818, 60247, 19291, 11106, 52066, 19300, 76644, 60262, 43882, 52078, 35701, 19321, 43900, 76670, 27522, 19331, 27524, 76676, 19334, 68489, 19344, 43921, 35733, 43925, 84888, 11162, 52126, 76703, 60323, 2984, 84909, 60335, 76721, 35764, 27576, 3007, 19396, 52173, 76751, 43984, 19409, 35795, 68563, 11222, 43990, 3035, 60384, 11233, 27618, 60387, 76779, 27628, 35821, 11246, 76783, 3060, 11252, 52212, 3065, 44025, 52217, 19453, 19457, 76803, 19462, 84999, 3086, 11279, 19475, 11289, 44060, 19497, 3118, 11311, 19507, 76852, 3127, 19515, 27709, 19519, 35904, 76863, 19524, 27716, 35909, 44107, 11342, 85072, 68691, 76887, 76889, 27740, 35932, 19550, 76895, 11365, 44133, 44135, 35945, 19562, 52335, 11379, 68723, 3190, 68729, 52357, 19590, 19592, 60559, 35987, 76950, 60572, 11422, 11424, 68769, 76963, 3239, 11431, 68777, 60590, 19631, 27826, 36024, 68798, 11455, 19647, 36031, 76993, 11459, 11470, 52430, 60629, 85208, 36060, 19679, 77032, 11497, 11499, 77037, 19694, 77038, 60659, 60662, 77048, 11513, 27901, 44285, 27908, 52485, 44294, 77060, 60682, 11533, 68879, 3345, 3352, 11554, 60706, 3367, 60711, 3369, 27947, 68912, 3377, 27960, 60729, 19770, 52538, 77113, 85305, 27967, 11584, 77124, 44365, 52558, 60756, 68951, 44377, 68953, 11611, 27999, 11616, 60770, 52583, 28008, 36201, 60776, 36208, 52593, 19829, 19832, 28024, 52600, 60801, 60802, 44420, 19845, 52612, 68997, 77194, 52621, 36243, 11669, 19862, 77214, 69029, 69031, 11693, 19888, 28081, 28082, 52659, 77234, 52661, 44478, 52672, 19905, 44481, 69057, 77257, 19918, 44496, 77266, 77271, 36314, 19931, 85468, 19933, 77283, 60901, 52713, 3562, 36331, 52714, 85481, 77294, 44528, 28146, 19958, 69110, 69114, 52735, 19972, 11781, 28166, 44549, 52741, 52745, 36362, 69130, 77318, 19981, 77331, 11798, 11799, 60957, 77342, 60963, 11813, 36389, 69166, 11828, 77366, 3639, 69183, 52804, 11852, 36428, 77393, 20051, 36435, 28246, 77399, 69208, 69215, 61033, 36458, 28277, 36478, 77441, 11906, 3715, 11911, 11914, 77452, 3727, 85648, 77457, 3735, 36508, 61085, 3745, 28324, 77477, 77478, 11943, 28328, 69296, 28337, 85681, 44723, 28340, 11959, 61115, 3776, 69317, 36550, 11980, 44754, 69332, 52951, 77527, 77530, 36571, 12002, 44771, 44776, 3818, 12015, 36591, 69359, 44791, 12026, 61178, 69373, 12031, 3841, 69387, 28438, 53017, 69405, 12065, 28450, 36645, 28455, 53031, 28462, 61234, 20279, 20280, 77625, 12090, 53051, 3907, 20291, 69443, 77639, 77640, 69450, 61260, 20303, 69455, 3924, 53081, 44900, 69485, 77683, 20350, 36739, 77699, 20361, 20364, 53133, 61324, 77711, 77721, 28570, 69531, 36764, 36765, 44964, 69541, 53158, 4007, 36776, 69543, 28595, 36789, 44981, 69560, 44985, 20410, 44989, 12222, 36801, 20420, 69576, 12233, 28617, 85960, 53204, 85975, 4060, 45020, 36836, 4069, 4070, 12262, 69606, 12265, 77797, 77798, 28652, 12273, 12274, 4083, 28659, 61427, 86008, 77817, 77820, 69641, 12302, 61454, 28688, 12305, 28697, 45081, 20512, 28705, 61475, 4133, 20518, 53285, 53287, 77861, 53293, 69678, 28722, 53300, 36922, 69694, 4159, 28735, 4169, 69707, 28749, 20565, 69717, 4185, 69722, 20573, 53343, 20576, 53350, 45159, 61543, 45161, 4202, 28779, 77934, 28783, 45167, 4218, 86142, 37002, 53388, 37006, 69777, 28818, 37010, 61588, 86162, 4248, 28824, 69786, 12447, 61600, 4260, 77988, 20648, 53416, 53419, 12461, 77998, 4271, 37039, 4278, 86199, 61629, 20670, 53440, 61636, 45253, 20684, 61646, 4303, 20688, 53459, 53460, 28887, 37079, 4313, 20697, 4315, 61660, 78041, 12510, 78047, 28902, 12519, 45287, 4330, 20715, 4332, 53486, 37104, 28914, 69880, 78074, 20738, 45315, 78085, 78087, 61704, 69896, 69905, 69907, 78100, 53526, 20761, 28954, 69913, 69918, 78117, 78118, 45357, 78130, 78132, 12599, 45367, 53560, 78150, 61770, 61771, 20812, 78156, 53582, 53584, 61777, 69969, 12628, 69973, 12632, 37209, 20827, 37215, 69983, 53605, 12646, 45417, 20846, 20855, 12670, 78209, 53641, 45451, 29075, 61844, 12693, 61850, 37281, 86433, 20908, 29100, 4526, 53677, 78254, 86449, 12729, 29114, 12731, 29117, 86463, 20939, 86483, 45524, 20949, 45527, 12760, 20953, 12762, 37338, 12764, 45529, 61918, 29154, 53732, 45544, 45546, 78314, 12780, 20972, 78325, 4599, 29182, 61951, 29185, 78338, 61955, 86531, 53768, 45577, 53769, 86537, 37389, 61965, 53779, 29204, 45589, 53782, 29209, 45597, 29214, 45609, 12842, 37418, 53805, 29230, 29235, 45620, 4662, 4663, 37430, 4666, 4667, 70210, 53829, 29258, 45642, 37454, 21072, 45649, 78425, 12895, 53855, 62051, 62054, 29292, 62060, 21106, 70258, 62069, 78454, 70265, 62074, 70271, 29313, 37505, 37506, 37507, 62083, 4743, 86664, 53897, 37514, 78476, 4749, 4750, 62095, 70289, 78483, 4756, 45718, 78488, 86682, 4769, 29345, 62113, 78497, 29349, 4776, 37544, 62122, 21165, 37552, 4789, 86711, 78520, 78524, 12991, 21183, 78531, 37574, 70344, 4810, 78538, 86731, 4813, 4816, 45776, 53968, 70352, 37588, 62168, 29401, 78558, 53987, 13032, 37612, 53996, 54001, 45810, 13043, 45812, 62200, 13051, 37639, 78600, 45839, 54032, 70416, 78609, 13075, 13076, 45845, 62229, 86804, 54043, 21276, 78621, 78625, 37669, 78630, 54062, 45871, 21297, 78641, 13107, 4916, 4917, 13109, 21300, 54069, 54074, 21311, 37695, 86848, 54084, 21326, 21331, 37716, 62291, 37722, 13149, 54111, 62303, 86879, 54115, 13156, 37735, 45929, 62313, 21358, 21359, 62319, 29553, 29555, 54132, 45943, 4985, 29561, 70523, 13183, 21376, 78721, 13186, 45959, 62346, 29580, 54159, 29585, 78739, 13217, 29603, 78755, 21413, 13229, 78765, 62383, 86960, 62385, 37812, 78774, 70584, 37818, 78778, 70590, 29633, 78787, 54220, 78796, 37841, 78805, 5079, 70617, 78811, 70627, 37865, 87019, 54254, 54257, 46075, 13308, 5117, 29692, 5119, 5122, 46083, 46085, 46086, 78853, 62474, 21518, 54289, 62485, 37910, 78871, 78875, 5148, 5150, 46114, 37924, 5160, 13355, 21553, 21556, 62519, 70712, 21561, 5180, 70719, 29762, 62530, 62533, 5190, 5191, 54342, 54347, 21581, 70740, 13397, 21590, 78937, 5211, 70757, 21613, 38001, 70778, 29822, 38015, 38019, 70788, 78979, 21639, 5256, 21640, 5259, 70796, 38031, 62608, 13459, 21653, 79007, 29861, 54438, 62630, 70823, 87207, 62635, 5292, 13484, 54453, 79033, 62653, 79039, 79040, 46274, 70851, 79045, 38086, 5321, 79052, 70865, 21714, 70868, 21718, 62679, 79062, 5338, 5339, 21722, 79067, 46304, 38115, 46307, 79078, 79088, 38130, 70907, 46334, 70910, 70913, 79108, 79110, 62729, 70921, 5387, 13579, 13580, 29966, 70937, 21788, 29981, 38176, 62756, 38181, 54565, 70949, 5420, 70956, 54580, 5429, 70964, 5436, 70975, 5441, 38210, 5444, 62788, 21831, 21832, 79183, 46424, 21851, 46431, 71011, 21864, 30056, 62824, 87403, 79220, 62843, 13698, 62850, 87432, 79242, 79243, 21900, 5517, 38289, 54681, 71069, 62880, 71074, 71077, 79270, 46508, 21934, 46510, 62894, 54706, 46522, 13758, 71103, 46528, 13761, 71107, 87491, 46539, 30156, 79307, 46552, 54744, 79322, 5597, 30179, 46563, 46566, 62953, 5610, 30186, 30191, 54768, 46577, 62959, 54771, 62966, 38391, 22019, 22022, 71176, 79369, 13834, 79372, 71184, 38417, 22035, 5656, 22041, 38430, 46625, 38437, 5671, 87594, 30253, 79408, 63026, 13876, 71221, 30264, 54843, 38466, 5700, 30277, 71236, 79430, 13897, 54859, 46671, 38488, 30298, 5724, 5725, 30302, 79461, 22121, 79465, 79468, 13936, 5745, 22130, 54897, 63094, 22137, 30329, 54906, 79484, 30333, 13951, 79490, 79494, 46727, 38537, 38538, 38542, 22159, 13972, 22166, 38552, 38553, 5786, 22171, 46748, 79516, 54956, 5806, 79534, 87731, 30388, 38581, 71357, 14015, 30399, 46788, 79556, 5831, 14026, 22218, 54991, 22224, 46805, 14040, 30424, 38618, 63197, 30437, 79595, 14061, 30445, 30450, 79603, 38645, 71415, 30461, 38654, 38657, 71431, 38667, 71437, 30479, 46863, 30482, 30486, 38678, 30489, 71460, 5930, 63275, 79664, 14136, 87868, 14145, 63300, 55111, 79687, 38731, 79693, 14158, 55122, 46933, 46934, 87895, 5977, 46938, 55131, 46942, 5983, 22368, 71518, 22382, 55152, 22385, 38769, 79728, 87920, 6006, 79737, 6011, 30590, 14208, 55170, 14213, 6023, 38792, 71562, 63371, 38799, 38801, 6037, 30614, 55192, 47009, 55204, 6053, 38822, 63398, 79785, 22450, 63412, 71612, 38846, 63422, 79810, 79812, 22469, 38853, 55237, 71621, 63435, 38865, 63443, 63446, 6106, 22490, 30690, 14307, 55268, 30693, 22502, 71653, 79849, 30698, 63468, 79852, 79853, 79854, 47089, 30706, 47093, 55289, 63484, 79872, 30723, 22534, 71699, 6164, 22549, 47124, 79894, 71707, 63516, 55331, 6180, 47149, 79922, 14387, 30772, 71734, 30779, 22598, 30790, 63563, 71755, 55377, 71761, 55379, 14427, 22619, 71773, 22622, 30815, 22624, 63582, 14436, 14439, 55400, 55403, 71789, 79983, 6256, 6265, 71802, 55424, 6273, 88197, 14475, 80013, 30867, 71829, 47255, 22684, 80030, 39072, 22689, 47268, 47275, 22702, 30895, 80055, 55485, 30910, 39104, 88262, 14539, 14542, 22735, 30928, 71894, 55511, 71897, 55530, 30958, 6385, 55539, 22772, 30964, 14586, 80123, 80128, 71944, 55566, 88334, 14610, 71954, 63764, 71962, 71963, 55580, 55584, 47395, 71974, 31015, 63786, 80172, 47405, 71983, 55602, 6452, 88377, 47422, 63809, 72002, 72003, 6469, 72006, 14676, 47450, 14692, 80233, 22900, 63862, 63864, 22906, 31100, 39293, 47484, 6532, 22917, 14727, 72072, 22923, 72075, 80270, 6543, 72080, 72081, 80274, 6548, 31142, 39336, 31147, 39354, 55747, 14788, 72135, 14792, 6601, 80331, 80332, 6605, 80339, 55767, 6616, 6617, 80358, 55785, 63979, 63980, 63981, 39411, 6645, 47608, 39417, 39420, 55805, 72188, 80381, 88577, 72195, 55816, 64013, 6671, 23055, 72212, 55833, 14874, 64028, 47657, 64041, 31275, 64042, 64047, 80432, 88624, 6706, 72243, 39477, 72246, 80444, 39486, 55872, 31297, 14914, 31298, 31305, 23119, 64079, 14930, 55897, 14938, 72281, 72283, 14951, 64103, 64107, 64113, 31348, 72316, 39554, 72323, 80516, 23173, 31365, 55952, 6806, 55960, 80540, 6817, 31395, 55975, 80551, 55979, 31408, 6833, 55985, 88761, 23230, 39615, 55998, 47809, 23234, 23235, 64195, 39623, 56007, 31434, 39635, 23268, 23269, 47847, 31466, 72427, 56047, 23288, 56058, 64251, 64252, 72444, 15103, 39680, 23298, 80645, 64268, 23311, 39695, 56080, 15122, 72467, 64276, 56091, 31516, 56093, 72477, 64289, 47907, 56100, 72483, 23339, 31540, 56122, 39743, 56128, 72514, 39748, 56138, 72523, 64332, 56141, 47953, 39765, 31578, 15197, 23401, 15213, 72568, 15225, 39807, 72576, 15234, 31618, 56197, 31624, 56202, 39819, 48015, 88975, 31633, 72596, 39829, 56215, 15264, 23458, 7075, 48039, 48040, 23465, 48042, 7083, 23471, 7088, 15280, 23472, 72623, 39860, 72628, 56248, 39867, 89022, 23490, 23494, 39879, 72648, 80849, 7123, 48092, 31710, 39902, 64479, 64481, 48098, 72671, 80868, 64487, 31720, 64489, 89071, 80881, 15346, 48116, 31743, 23554, 15364, 72710, 23560, 56329, 64528, 15377, 15379, 80917, 23585, 7203, 48165, 15399, 39982, 80944, 31802, 80957, 23614, 64575, 64578, 48195, 40004, 48197, 72771, 40007, 80963, 48204, 64589, 48209, 56404, 56406, 64598, 40024, 64599, 64600, 72793, 80999, 72810, 23659, 31859, 72827, 31869, 15487, 31873, 23682, 15494, 89222, 72843, 64654, 31894, 23709, 23711, 72866, 48291, 15526, 31910, 48294, 15536, 89266, 23737, 56509, 56512, 72901, 56520, 64713, 56522, 15565, 64725, 56534, 89304, 72925, 31969, 15586, 72932, 48365, 64752, 81138, 89330, 7415, 64763, 72955, 31998, 48382, 15617, 40193, 15622, 7431, 32015, 72977, 32021, 56598, 72986, 48412, 64797, 23843, 40229, 56613, 40231, 32043, 15661, 40248, 23867, 40251, 56641, 23874, 32068, 48454, 73034, 73036, 23894, 40279, 56664, 64858, 23900, 15710, 48479, 32097, 32107, 23918, 32112, 89458, 81268, 64887, 15737, 23929, 48515, 81284, 73093, 73095, 7566, 23959, 64920, 73112, 81304, 64924, 7581, 40359, 56745, 64947, 40374, 64957, 73154, 40388, 15816, 48585, 32206, 56783, 64975, 48593, 56785, 24021, 64984, 40409, 7642, 56794, 81374, 15842, 48616, 7664, 73200, 7667, 73215, 73219, 48653, 40463, 15891, 73237, 48662, 73239, 24089, 40475, 32287, 32288, 32290, 32291, 73258, 89642, 48686, 65070, 7728, 73264, 32309, 40511, 15936, 32333, 73295, 40530, 40534, 40536, 48729, 7770, 40546, 73314, 24166, 65130, 7793, 65140, 15994, 65146, 56960, 65153, 7815, 48775, 73351, 73353, 24208, 32401, 7832, 32409, 89754, 16028, 56992, 16039, 56999, 24233, 65202, 7860, 7862, 48836, 40646, 16075, 48844, 73422, 32463, 57041, 40658, 40665, 7899, 57055, 57068, 40687, 65267, 48893, 40710, 7955, 40724, 48915, 73493, 16151, 16152, 73498, 16158, 32542, 24352, 32545, 73515, 32560, 16178, 32566, 65335, 73526, 73533, 73534, 32578, 48968, 8009, 57161, 16205, 73553, 24404, 32598, 65368, 57177, 32603, 24414, 40800, 48995, 40805, 48999, 65393, 65395, 73588, 32636, 40829, 24449, 73601, 24455, 73611, 73622, 24473, 65437, 57249, 65442, 8099, 40869, 73638, 24488, 40874, 8110, 40878, 24497, 73659, 16316, 24514, 81869, 65487, 32729, 40925, 8159, 81887, 16354, 73703, 24554, 65516, 32751, 57329, 8180, 24566, 73718, 32760, 32764]\n"
          ]
        }
      ]
    },
    {
      "cell_type": "code",
      "source": [
        "# Visualizing the outliers detected for 'Salaryusd' column with a boxplot\n",
        "plt.figure(figsize=(8, 6))\n",
        "sns.boxplot(data=df, x='SalaryUSD', orient='h')\n",
        "plt.title('Horizontal Box Plot of SalaryUSD')\n",
        "plt.xlabel('Salary (USD)')\n",
        "plt.show()\n"
      ],
      "metadata": {
        "colab": {
          "base_uri": "https://localhost:8080/",
          "height": 564
        },
        "id": "-AOrLBl_DXZv",
        "outputId": "96ffaf11-90dc-440b-a09a-588dd20e4285"
      },
      "execution_count": 127,
      "outputs": [
        {
          "output_type": "display_data",
          "data": {
            "text/plain": [
              "<Figure size 800x600 with 1 Axes>"
            ],
            "image/png": "[encoded data removed]"
          },
          "metadata": {}
        }
      ]
    },
    {
      "cell_type": "markdown",
      "source": [
        "From the Box plot, we get to know that the distribution is a bit right skewed. There are potential outliers present here."
      ],
      "metadata": {
        "id": "sTSUF_BQIngx"
      }
    },
    {
      "cell_type": "code",
      "source": [
        "# Visualizing the outliers detected for 'YearsCoding' column with a boxplot\n",
        "plt.figure(figsize=(8, 6))\n",
        "sns.boxplot(data=df, x='YearsCoding', orient='h')\n",
        "plt.title('Horizontal Box Plot of YearsCoding')\n",
        "plt.xlabel('YearsCoding')\n",
        "plt.show()\n"
      ],
      "metadata": {
        "colab": {
          "base_uri": "https://localhost:8080/",
          "height": 564
        },
        "id": "wLIoCAqdDn9g",
        "outputId": "33d956db-89a9-4f0b-cb9b-c63204afc6cd"
      },
      "execution_count": 128,
      "outputs": [
        {
          "output_type": "display_data",
          "data": {
            "text/plain": [
              "<Figure size 800x600 with 1 Axes>"
            ],
            "image/png": "[encoded data removed]"
          },
          "metadata": {}
        }
      ]
    },
    {
      "cell_type": "markdown",
      "source": [
        "From the Box plot, we get to know that the distribution is symmetric and positively skewed. There are no potential outliers present here."
      ],
      "metadata": {
        "id": "gKCf7egFNmLC"
      }
    },
    {
      "cell_type": "code",
      "source": [
        "# Visualizing the outliers detected for 'YearsCodingProf' column with a boxplot\n",
        "plt.figure(figsize=(8, 6))\n",
        "sns.boxplot(data=df, x='YearsCodingProf', orient='h')\n",
        "plt.title('Horizontal Box Plot of YearsCodingProf')\n",
        "plt.xlabel('YearsCodingProf')\n",
        "plt.show()"
      ],
      "metadata": {
        "colab": {
          "base_uri": "https://localhost:8080/",
          "height": 564
        },
        "id": "k5nQiwb5NfEj",
        "outputId": "b8eae50d-9c38-4348-eecb-4f5ee3b90329"
      },
      "execution_count": 129,
      "outputs": [
        {
          "output_type": "display_data",
          "data": {
            "text/plain": [
              "<Figure size 800x600 with 1 Axes>"
            ],
            "image/png": "[encoded data removed]"
          },
          "metadata": {}
        }
      ]
    },
    {
      "cell_type": "markdown",
      "source": [
        "From the Box plot, we get to know that the distribution is not symmetric and right skewed. There are no potential outliers present here."
      ],
      "metadata": {
        "id": "-PSi4q3ROTuL"
      }
    },
    {
      "cell_type": "code",
      "source": [
        "# Visualizing the outliers detected for 'JobSatisfaction' column with a boxplot\n",
        "plt.figure(figsize=(8, 6))\n",
        "sns.boxplot(data=df, x='JobSatisfaction', orient='h')\n",
        "plt.title('Horizontal Box Plot of JobSatisfaction')\n",
        "plt.xlabel('JobSatisfaction')\n",
        "plt.show()"
      ],
      "metadata": {
        "colab": {
          "base_uri": "https://localhost:8080/",
          "height": 564
        },
        "id": "qHIiS9-oNjPM",
        "outputId": "cce9cd3a-8746-4d3c-e09b-dc8fff334691"
      },
      "execution_count": 130,
      "outputs": [
        {
          "output_type": "display_data",
          "data": {
            "text/plain": [
              "<Figure size 800x600 with 1 Axes>"
            ],
            "image/png": "[encoded data removed]"
          },
          "metadata": {}
        }
      ]
    },
    {
      "cell_type": "markdown",
      "source": [
        "From the Box plot, we get to know that the distribution is not symmetric and right skewed. There are no potential outliers present here."
      ],
      "metadata": {
        "id": "NI9wmMlRPLc8"
      }
    },
    {
      "cell_type": "code",
      "source": [
        "# Visualizing the outliers detected for 'age' column with a boxplot\n",
        "plt.figure(figsize=(8, 6))\n",
        "sns.boxplot(data=df, x='Age', orient='h')\n",
        "plt.title('Horizontal Box Plot of Age')\n",
        "plt.xlabel('Age')\n",
        "plt.show()"
      ],
      "metadata": {
        "colab": {
          "base_uri": "https://localhost:8080/",
          "height": 564
        },
        "id": "w-MtFFxDOv43",
        "outputId": "da38b780-e69c-4d49-f914-a5013c4e1216"
      },
      "execution_count": 131,
      "outputs": [
        {
          "output_type": "display_data",
          "data": {
            "text/plain": [
              "<Figure size 800x600 with 1 Axes>"
            ],
            "image/png": "[encoded data removed]"
          },
          "metadata": {}
        }
      ]
    },
    {
      "cell_type": "markdown",
      "source": [
        "From the Box plot, we get to know that the distribution is symmetric and positively skewed. There are no potential outliers present here."
      ],
      "metadata": {
        "id": "kSbxaJkzPjU8"
      }
    },
    {
      "cell_type": "code",
      "source": [
        "# Visualizing the outliers detected for 'LanguageWorkedWith' column with a boxplot\n",
        "plt.figure(figsize=(8, 6))\n",
        "sns.boxplot(data=df, x='LanguageWorkedWith', orient='h')\n",
        "plt.title('Horizontal Box Plot of LanguageWorkedWith')\n",
        "plt.xlabel('LanguageWorkedWith')\n",
        "plt.show()"
      ],
      "metadata": {
        "colab": {
          "base_uri": "https://localhost:8080/",
          "height": 311
        },
        "id": "VGpsXmZkPhlr",
        "outputId": "f891363b-2cf2-44ca-9b31-401e4a7b77f6"
      },
      "execution_count": 132,
      "outputs": [
        {
          "output_type": "display_data",
          "data": {
            "text/plain": [
              "<Figure size 800x600 with 1 Axes>"
            ],
            "image/png": "[encoded data removed]"
          },
          "metadata": {}
        }
      ]
    },
    {
      "cell_type": "markdown",
      "source": [
        "From the Box plot, we get to know that the distribution is symmetric and It is not skewed as well. There are no potential outliers present here."
      ],
      "metadata": {
        "id": "_rGYHfgrQHPj"
      }
    },
    {
      "cell_type": "code",
      "source": [
        "# Visualizing the outliers detected for 'OperatingSystem' column with a boxplot\n",
        "plt.figure(figsize=(8, 6))\n",
        "sns.boxplot(data=df, x='OperatingSystem', orient='h')\n",
        "plt.title('Horizontal Box Plot of OperatingSystem')\n",
        "plt.xlabel('OperatingSystem')\n",
        "plt.show()"
      ],
      "metadata": {
        "colab": {
          "base_uri": "https://localhost:8080/",
          "height": 564
        },
        "id": "_2M8dVB1QEgC",
        "outputId": "5827af55-980c-4562-baf9-8ab628dd77b9"
      },
      "execution_count": 133,
      "outputs": [
        {
          "output_type": "display_data",
          "data": {
            "text/plain": [
              "<Figure size 800x600 with 1 Axes>"
            ],
            "image/png": "[encoded data removed]"
          },
          "metadata": {}
        }
      ]
    },
    {
      "cell_type": "markdown",
      "source": [
        "From the Box plot, we get to know that the distribution is symmetric and It is not skewed as well. There are no potential outliers present here."
      ],
      "metadata": {
        "id": "BY3EFIR8Q70r"
      }
    },
    {
      "cell_type": "code",
      "source": [
        "# Visualizing the outliers detected for 'DevType ' column with a boxplot\n",
        "plt.figure(figsize=(8, 6))\n",
        "sns.boxplot(data=df, x='DevType', orient='h')\n",
        "plt.title('Horizontal Box Plot of DevType ')\n",
        "plt.xlabel('DevType ')\n",
        "plt.show()"
      ],
      "metadata": {
        "colab": {
          "base_uri": "https://localhost:8080/",
          "height": 564
        },
        "id": "u2d8P2YSQlFv",
        "outputId": "af399122-ce73-419a-d791-d433afeb7ff2"
      },
      "execution_count": 134,
      "outputs": [
        {
          "output_type": "display_data",
          "data": {
            "text/plain": [
              "<Figure size 800x600 with 1 Axes>"
            ],
            "image/png": "[encoded data removed]"
          },
          "metadata": {}
        }
      ]
    },
    {
      "cell_type": "markdown",
      "source": [
        "From thi Box plot, We get to know that there are potential outliers."
      ],
      "metadata": {
        "id": "bE9Cf5jmRwLh"
      }
    },
    {
      "cell_type": "markdown",
      "source": [
        "*From all the Box plots we did, we can conclude that there are outlier in the DevType and SalaryUSD columns which are to be handled*"
      ],
      "metadata": {
        "id": "L4aBy3o_R6FO"
      }
    },
    {
      "cell_type": "markdown",
      "source": [
        "### **Demographic Analysis**"
      ],
      "metadata": {
        "id": "tJqnyawdq3-0"
      }
    },
    {
      "cell_type": "code",
      "source": [
        "df=pd.read_csv(\"/content/drive/MyDrive/GirlsScriptOpenSource/StockOverflow/survey_results_public_2018.csv\")"
      ],
      "metadata": {
        "colab": {
          "base_uri": "https://localhost:8080/"
        },
        "id": "uWuo2tnyswkm",
        "outputId": "97ad900b-4962-429c-da7d-86e87a468379"
      },
      "execution_count": 148,
      "outputs": [
        {
          "output_type": "stream",
          "name": "stderr",
          "text": [
            "<ipython-input-148-802ceec4e508>:1: DtypeWarning: Columns (8,12,13,14,15,16,50,51,52,53,55,56,57,58,59,60,61,62,63,64,65,66,67,68,69,70,71,72,73,74,75,76,77,78,79,80,81,82,83,84,85,93,94,95,96,97,98,99,100,101,102,103,104,105,106,107,108,109,110,111,112,113,114,115,116,117,118,119,120,121,122,123,124,125,126,127,128) have mixed types. Specify dtype option on import or set low_memory=False.\n",
            "  df=pd.read_csv(\"/content/drive/MyDrive/GirlsScriptOpenSource/StockOverflow/survey_results_public_2018.csv\")\n"
          ]
        }
      ]
    },
    {
      "cell_type": "code",
      "source": [
        "# Select relevant columns for demographic analysis\n",
        "demographic_columns = ['Country', 'Gender', 'Age', 'FormalEducation', 'RaceEthnicity']"
      ],
      "metadata": {
        "id": "IH-r1_0osfFS"
      },
      "execution_count": 150,
      "outputs": []
    },
    {
      "cell_type": "code",
      "source": [
        "# Filter the dataset with selected columns\n",
        "demographic_df = df[demographic_columns]"
      ],
      "metadata": {
        "id": "Ajmyyg3zsn_a"
      },
      "execution_count": 151,
      "outputs": []
    },
    {
      "cell_type": "code",
      "source": [
        "# Function to plot demographic distributions\n",
        "def plot_demographic_distribution(column, title):\n",
        "    plt.figure(figsize=(12, 8))\n",
        "    sns.countplot(y=demographic_df[column], order=demographic_df[column].value_counts().index)\n",
        "    plt.title(f'{title} Distribution')\n",
        "    plt.xlabel('Count')\n",
        "    plt.ylabel(title)\n",
        "    plt.show()"
      ],
      "metadata": {
        "id": "dN_q00K1RP_g"
      },
      "execution_count": 152,
      "outputs": []
    },
    {
      "cell_type": "code",
      "source": [
        "# Plot distribution of gender\n",
        "plot_demographic_distribution('Gender', 'Gender')"
      ],
      "metadata": {
        "colab": {
          "base_uri": "https://localhost:8080/",
          "height": 587
        },
        "id": "jah55Gz2rJlx",
        "outputId": "9e33e85f-95e0-479c-d36c-760a9329566e"
      },
      "execution_count": 153,
      "outputs": [
        {
          "output_type": "display_data",
          "data": {
            "text/plain": [
              "<Figure size 1200x800 with 1 Axes>"
            ],
            "image/png": "[encoded data removed]"
          },
          "metadata": {}
        }
      ]
    },
    {
      "cell_type": "code",
      "source": [
        "# Plot distribution of age\n",
        "plt.figure(figsize=(12, 8))\n",
        "sns.histplot(demographic_df['Age'].dropna(), bins=30, kde=True)\n",
        "plt.title('Age Distribution')\n",
        "plt.xlabel('Age')\n",
        "plt.ylabel('Count')\n",
        "plt.show()"
      ],
      "metadata": {
        "colab": {
          "base_uri": "https://localhost:8080/",
          "height": 718
        },
        "id": "HdufPIlurTcQ",
        "outputId": "0a8261cd-9a21-46b7-a0b0-f7cafadd7092"
      },
      "execution_count": 154,
      "outputs": [
        {
          "output_type": "display_data",
          "data": {
            "text/plain": [
              "<Figure size 1200x800 with 1 Axes>"
            ],
            "image/png": "[encoded data removed]"
          },
          "metadata": {}
        }
      ]
    },
    {
      "cell_type": "code",
      "source": [
        "# Plot distribution of formal education\n",
        "plot_demographic_distribution('FormalEducation', 'Formal Education')"
      ],
      "metadata": {
        "colab": {
          "base_uri": "https://localhost:8080/",
          "height": 568
        },
        "id": "Qx0UauzQrYHt",
        "outputId": "49946467-8298-408b-f336-86c749b88767"
      },
      "execution_count": 155,
      "outputs": [
        {
          "output_type": "display_data",
          "data": {
            "text/plain": [
              "<Figure size 1200x800 with 1 Axes>"
            ],
            "image/png": "[encoded data removed]"
          },
          "metadata": {}
        }
      ]
    },
    {
      "cell_type": "markdown",
      "source": [
        "**Insights and Conclusions of Demographic Analysis**"
      ],
      "metadata": {
        "id": "eV7RD6AIreBd"
      }
    },
    {
      "cell_type": "code",
      "source": [
        "# Country insights\n",
        "top_countries = demographic_df['Country'].value_counts().head(10)\n",
        "print(f\"Top 10 countries by number of respondents:\\n{top_countries}\\n\")"
      ],
      "metadata": {
        "colab": {
          "base_uri": "https://localhost:8080/"
        },
        "id": "myZ92ObkrlOo",
        "outputId": "beb49090-d02c-4e87-9169-c69bc663f398"
      },
      "execution_count": 156,
      "outputs": [
        {
          "output_type": "stream",
          "name": "stdout",
          "text": [
            "Top 10 countries by number of respondents:\n",
            "Country\n",
            "United States         20309\n",
            "India                 13721\n",
            "Germany                6459\n",
            "United Kingdom         6221\n",
            "Canada                 3393\n",
            "Russian Federation     2869\n",
            "France                 2572\n",
            "Brazil                 2505\n",
            "Poland                 2122\n",
            "Australia              2018\n",
            "Name: count, dtype: int64\n",
            "\n"
          ]
        }
      ]
    },
    {
      "cell_type": "code",
      "source": [
        "    # Gender insights\n",
        "    gender_distribution = demographic_df['Gender'].value_counts()\n",
        "    print(f\"Gender distribution:\\n{gender_distribution}\\n\")"
      ],
      "metadata": {
        "colab": {
          "base_uri": "https://localhost:8080/"
        },
        "id": "D8_SekwCrwZE",
        "outputId": "70b31102-f43e-413a-da9f-6ced11498de3"
      },
      "execution_count": 157,
      "outputs": [
        {
          "output_type": "stream",
          "name": "stdout",
          "text": [
            "Gender distribution:\n",
            "Gender\n",
            "Male                                                                         59458\n",
            "Female                                                                        4025\n",
            "Non-binary, genderqueer, or gender non-conforming                              284\n",
            "Female;Transgender                                                             145\n",
            "Male;Non-binary, genderqueer, or gender non-conforming                         128\n",
            "Transgender                                                                    105\n",
            "Female;Male                                                                     98\n",
            "Transgender;Non-binary, genderqueer, or gender non-conforming                   51\n",
            "Female;Male;Transgender;Non-binary, genderqueer, or gender non-conforming       50\n",
            "Female;Non-binary, genderqueer, or gender non-conforming                        50\n",
            "Male;Transgender                                                                29\n",
            "Female;Transgender;Non-binary, genderqueer, or gender non-conforming            24\n",
            "Female;Male;Transgender                                                         14\n",
            "Male;Transgender;Non-binary, genderqueer, or gender non-conforming               5\n",
            "Female;Male;Non-binary, genderqueer, or gender non-conforming                    3\n",
            "Name: count, dtype: int64\n",
            "\n"
          ]
        }
      ]
    },
    {
      "cell_type": "code",
      "source": [
        "    # Formal education insights\n",
        "    education_distribution = demographic_df['FormalEducation'].value_counts()\n",
        "    print(f\"Distribution of formal education:\\n{education_distribution}\\n\")"
      ],
      "metadata": {
        "colab": {
          "base_uri": "https://localhost:8080/"
        },
        "id": "TzHdt60trybh",
        "outputId": "9c37b3ab-5713-4ade-afbd-b65a167c0a82"
      },
      "execution_count": 158,
      "outputs": [
        {
          "output_type": "stream",
          "name": "stdout",
          "text": [
            "Distribution of formal education:\n",
            "FormalEducation\n",
            "Bachelor’s degree (BA, BS, B.Eng., etc.)                                              43659\n",
            "Master’s degree (MA, MS, M.Eng., MBA, etc.)                                           21396\n",
            "Some college/university study without earning a degree                                11710\n",
            "Secondary school (e.g. American high school, German Realschule or Gymnasium, etc.)     8951\n",
            "Associate degree                                                                       2970\n",
            "Other doctoral degree (Ph.D, Ed.D., etc.)                                              2214\n",
            "Primary/elementary school                                                              1656\n",
            "Professional degree (JD, MD, etc.)                                                     1447\n",
            "I never completed any formal education                                                  700\n",
            "Name: count, dtype: int64\n",
            "\n"
          ]
        }
      ]
    },
    {
      "cell_type": "code",
      "source": [
        "    # Race/Ethnicity insights\n",
        "    race_ethnicity_distribution = demographic_df['RaceEthnicity'].value_counts()\n",
        "    print(f\"Race/Ethnicity distribution:\\n{race_ethnicity_distribution}\\n\")"
      ],
      "metadata": {
        "colab": {
          "base_uri": "https://localhost:8080/"
        },
        "id": "drvae8XYr05f",
        "outputId": "d080e9fe-713a-4e2c-ad73-231a99afb29f"
      },
      "execution_count": 159,
      "outputs": [
        {
          "output_type": "stream",
          "name": "stdout",
          "text": [
            "Race/Ethnicity distribution:\n",
            "RaceEthnicity\n",
            "White or of European descent                                                                                                                 40541\n",
            "South Asian                                                                                                                                   6213\n",
            "Hispanic or Latino/Latina                                                                                                                     2718\n",
            "East Asian                                                                                                                                    2350\n",
            "Middle Eastern                                                                                                                                1774\n",
            "                                                                                                                                             ...  \n",
            "Hispanic or Latino/Latina;Middle Eastern;Native American, Pacific Islander, or Indigenous Australian                                             1\n",
            "Black or of African descent;Hispanic or Latino/Latina;South Asian                                                                                1\n",
            "East Asian;Hispanic or Latino/Latina;Native American, Pacific Islander, or Indigenous Australian;South Asian;White or of European descent        1\n",
            "East Asian;Hispanic or Latino/Latina;Middle Eastern                                                                                              1\n",
            "East Asian;Middle Eastern;South Asian;White or of European descent                                                                               1\n",
            "Name: count, Length: 71, dtype: int64\n",
            "\n"
          ]
        }
      ]
    },
    {
      "cell_type": "code",
      "source": [],
      "metadata": {
        "id": "Wnc0cbzCtvdD"
      },
      "execution_count": 159,
      "outputs": []
    }
  ]
}