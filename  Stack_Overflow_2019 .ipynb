{
 "cells": [
  {
   "cell_type": "markdown",
   "id": "72783dcf",
   "metadata": {},
   "source": [
    "# EDA ON STACK OVERFLOW 2019 DATA"
   ]
  },
  {
   "cell_type": "markdown",
   "id": "454852c7",
   "metadata": {},
   "source": [
    "Importing required libraries and modules"
   ]
  },
  {
   "cell_type": "code",
   "execution_count": 97,
   "id": "4638bf45",
   "metadata": {},
   "outputs": [],
   "source": [
    "import numpy as np\n",
    "import pandas as pd\n",
    "import matplotlib.pyplot as plt\n",
    "import seaborn as sns"
   ]
  },
  {
   "cell_type": "markdown",
   "id": "29dbed43",
   "metadata": {},
   "source": [
    "### Data Collection"
   ]
  },
  {
   "cell_type": "markdown",
   "id": "5b8e1a0b",
   "metadata": {},
   "source": [
    "**Loading 2019 stack overflow data**"
   ]
  },
  {
   "cell_type": "code",
   "execution_count": 98,
   "id": "b2d1b8d9",
   "metadata": {},
   "outputs": [],
   "source": [
    "df= pd.read_csv(\"/Users/yodhasudarsi/Stackoverflow-Analysis/Data/survey_results_sample_2019.csv\")"
   ]
  },
  {
   "cell_type": "code",
   "execution_count": 99,
   "id": "c0159bd6",
   "metadata": {
    "scrolled": true
   },
   "outputs": [
    {
     "data": {
      "text/html": [
       "<div>\n",
       "<style scoped>\n",
       "    .dataframe tbody tr th:only-of-type {\n",
       "        vertical-align: middle;\n",
       "    }\n",
       "\n",
       "    .dataframe tbody tr th {\n",
       "        vertical-align: top;\n",
       "    }\n",
       "\n",
       "    .dataframe thead th {\n",
       "        text-align: right;\n",
       "    }\n",
       "</style>\n",
       "<table border=\"1\" class=\"dataframe\">\n",
       "  <thead>\n",
       "    <tr style=\"text-align: right;\">\n",
       "      <th></th>\n",
       "      <th>Respondent</th>\n",
       "      <th>MainBranch</th>\n",
       "      <th>Hobbyist</th>\n",
       "      <th>OpenSourcer</th>\n",
       "      <th>OpenSource</th>\n",
       "      <th>Employment</th>\n",
       "      <th>Country</th>\n",
       "      <th>Student</th>\n",
       "      <th>EdLevel</th>\n",
       "      <th>UndergradMajor</th>\n",
       "      <th>...</th>\n",
       "      <th>WelcomeChange</th>\n",
       "      <th>SONewContent</th>\n",
       "      <th>Age</th>\n",
       "      <th>Gender</th>\n",
       "      <th>Trans</th>\n",
       "      <th>Sexuality</th>\n",
       "      <th>Ethnicity</th>\n",
       "      <th>Dependents</th>\n",
       "      <th>SurveyLength</th>\n",
       "      <th>SurveyEase</th>\n",
       "    </tr>\n",
       "  </thead>\n",
       "  <tbody>\n",
       "    <tr>\n",
       "      <th>0</th>\n",
       "      <td>1</td>\n",
       "      <td>I am a student who is learning to code</td>\n",
       "      <td>Yes</td>\n",
       "      <td>Never</td>\n",
       "      <td>The quality of OSS and closed source software ...</td>\n",
       "      <td>Not employed, and not looking for work</td>\n",
       "      <td>United Kingdom</td>\n",
       "      <td>No</td>\n",
       "      <td>Primary/elementary school</td>\n",
       "      <td>NaN</td>\n",
       "      <td>...</td>\n",
       "      <td>Just as welcome now as I felt last year</td>\n",
       "      <td>Tech articles written by other developers;Indu...</td>\n",
       "      <td>14.0</td>\n",
       "      <td>Man</td>\n",
       "      <td>No</td>\n",
       "      <td>Straight / Heterosexual</td>\n",
       "      <td>NaN</td>\n",
       "      <td>No</td>\n",
       "      <td>Appropriate in length</td>\n",
       "      <td>Neither easy nor difficult</td>\n",
       "    </tr>\n",
       "    <tr>\n",
       "      <th>1</th>\n",
       "      <td>2</td>\n",
       "      <td>I am a student who is learning to code</td>\n",
       "      <td>No</td>\n",
       "      <td>Less than once per year</td>\n",
       "      <td>The quality of OSS and closed source software ...</td>\n",
       "      <td>Not employed, but looking for work</td>\n",
       "      <td>Bosnia and Herzegovina</td>\n",
       "      <td>Yes, full-time</td>\n",
       "      <td>Secondary school (e.g. American high school, G...</td>\n",
       "      <td>NaN</td>\n",
       "      <td>...</td>\n",
       "      <td>Just as welcome now as I felt last year</td>\n",
       "      <td>Tech articles written by other developers;Indu...</td>\n",
       "      <td>19.0</td>\n",
       "      <td>Man</td>\n",
       "      <td>No</td>\n",
       "      <td>Straight / Heterosexual</td>\n",
       "      <td>NaN</td>\n",
       "      <td>No</td>\n",
       "      <td>Appropriate in length</td>\n",
       "      <td>Neither easy nor difficult</td>\n",
       "    </tr>\n",
       "    <tr>\n",
       "      <th>2</th>\n",
       "      <td>3</td>\n",
       "      <td>I am not primarily a developer, but I write co...</td>\n",
       "      <td>Yes</td>\n",
       "      <td>Never</td>\n",
       "      <td>The quality of OSS and closed source software ...</td>\n",
       "      <td>Employed full-time</td>\n",
       "      <td>Thailand</td>\n",
       "      <td>No</td>\n",
       "      <td>Bachelor‚Äôs degree (BA, BS, B.Eng., etc.)</td>\n",
       "      <td>Web development or web design</td>\n",
       "      <td>...</td>\n",
       "      <td>Just as welcome now as I felt last year</td>\n",
       "      <td>Tech meetups or events in your area;Courses on...</td>\n",
       "      <td>28.0</td>\n",
       "      <td>Man</td>\n",
       "      <td>No</td>\n",
       "      <td>Straight / Heterosexual</td>\n",
       "      <td>NaN</td>\n",
       "      <td>Yes</td>\n",
       "      <td>Appropriate in length</td>\n",
       "      <td>Neither easy nor difficult</td>\n",
       "    </tr>\n",
       "    <tr>\n",
       "      <th>3</th>\n",
       "      <td>4</td>\n",
       "      <td>I am a developer by profession</td>\n",
       "      <td>No</td>\n",
       "      <td>Never</td>\n",
       "      <td>The quality of OSS and closed source software ...</td>\n",
       "      <td>Employed full-time</td>\n",
       "      <td>United States</td>\n",
       "      <td>No</td>\n",
       "      <td>Bachelor‚Äôs degree (BA, BS, B.Eng., etc.)</td>\n",
       "      <td>Computer science, computer engineering, or sof...</td>\n",
       "      <td>...</td>\n",
       "      <td>Just as welcome now as I felt last year</td>\n",
       "      <td>Tech articles written by other developers;Indu...</td>\n",
       "      <td>22.0</td>\n",
       "      <td>Man</td>\n",
       "      <td>No</td>\n",
       "      <td>Straight / Heterosexual</td>\n",
       "      <td>White or of European descent</td>\n",
       "      <td>No</td>\n",
       "      <td>Appropriate in length</td>\n",
       "      <td>Easy</td>\n",
       "    </tr>\n",
       "    <tr>\n",
       "      <th>4</th>\n",
       "      <td>5</td>\n",
       "      <td>I am a developer by profession</td>\n",
       "      <td>Yes</td>\n",
       "      <td>Once a month or more often</td>\n",
       "      <td>OSS is, on average, of HIGHER quality than pro...</td>\n",
       "      <td>Employed full-time</td>\n",
       "      <td>Ukraine</td>\n",
       "      <td>No</td>\n",
       "      <td>Bachelor‚Äôs degree (BA, BS, B.Eng., etc.)</td>\n",
       "      <td>Computer science, computer engineering, or sof...</td>\n",
       "      <td>...</td>\n",
       "      <td>Just as welcome now as I felt last year</td>\n",
       "      <td>Tech meetups or events in your area;Courses on...</td>\n",
       "      <td>30.0</td>\n",
       "      <td>Man</td>\n",
       "      <td>No</td>\n",
       "      <td>Straight / Heterosexual</td>\n",
       "      <td>White or of European descent;Multiracial</td>\n",
       "      <td>No</td>\n",
       "      <td>Appropriate in length</td>\n",
       "      <td>Easy</td>\n",
       "    </tr>\n",
       "  </tbody>\n",
       "</table>\n",
       "<p>5 rows × 85 columns</p>\n",
       "</div>"
      ],
      "text/plain": [
       "   Respondent                                         MainBranch Hobbyist  \\\n",
       "0           1             I am a student who is learning to code      Yes   \n",
       "1           2             I am a student who is learning to code       No   \n",
       "2           3  I am not primarily a developer, but I write co...      Yes   \n",
       "3           4                     I am a developer by profession       No   \n",
       "4           5                     I am a developer by profession      Yes   \n",
       "\n",
       "                  OpenSourcer  \\\n",
       "0                       Never   \n",
       "1     Less than once per year   \n",
       "2                       Never   \n",
       "3                       Never   \n",
       "4  Once a month or more often   \n",
       "\n",
       "                                          OpenSource  \\\n",
       "0  The quality of OSS and closed source software ...   \n",
       "1  The quality of OSS and closed source software ...   \n",
       "2  The quality of OSS and closed source software ...   \n",
       "3  The quality of OSS and closed source software ...   \n",
       "4  OSS is, on average, of HIGHER quality than pro...   \n",
       "\n",
       "                               Employment                 Country  \\\n",
       "0  Not employed, and not looking for work          United Kingdom   \n",
       "1      Not employed, but looking for work  Bosnia and Herzegovina   \n",
       "2                      Employed full-time                Thailand   \n",
       "3                      Employed full-time           United States   \n",
       "4                      Employed full-time                 Ukraine   \n",
       "\n",
       "          Student                                            EdLevel  \\\n",
       "0              No                          Primary/elementary school   \n",
       "1  Yes, full-time  Secondary school (e.g. American high school, G...   \n",
       "2              No         Bachelor‚Äôs degree (BA, BS, B.Eng., etc.)   \n",
       "3              No         Bachelor‚Äôs degree (BA, BS, B.Eng., etc.)   \n",
       "4              No         Bachelor‚Äôs degree (BA, BS, B.Eng., etc.)   \n",
       "\n",
       "                                      UndergradMajor  ...  \\\n",
       "0                                                NaN  ...   \n",
       "1                                                NaN  ...   \n",
       "2                      Web development or web design  ...   \n",
       "3  Computer science, computer engineering, or sof...  ...   \n",
       "4  Computer science, computer engineering, or sof...  ...   \n",
       "\n",
       "                             WelcomeChange  \\\n",
       "0  Just as welcome now as I felt last year   \n",
       "1  Just as welcome now as I felt last year   \n",
       "2  Just as welcome now as I felt last year   \n",
       "3  Just as welcome now as I felt last year   \n",
       "4  Just as welcome now as I felt last year   \n",
       "\n",
       "                                        SONewContent   Age Gender  Trans  \\\n",
       "0  Tech articles written by other developers;Indu...  14.0    Man     No   \n",
       "1  Tech articles written by other developers;Indu...  19.0    Man     No   \n",
       "2  Tech meetups or events in your area;Courses on...  28.0    Man     No   \n",
       "3  Tech articles written by other developers;Indu...  22.0    Man     No   \n",
       "4  Tech meetups or events in your area;Courses on...  30.0    Man     No   \n",
       "\n",
       "                 Sexuality                                 Ethnicity  \\\n",
       "0  Straight / Heterosexual                                       NaN   \n",
       "1  Straight / Heterosexual                                       NaN   \n",
       "2  Straight / Heterosexual                                       NaN   \n",
       "3  Straight / Heterosexual              White or of European descent   \n",
       "4  Straight / Heterosexual  White or of European descent;Multiracial   \n",
       "\n",
       "  Dependents           SurveyLength                  SurveyEase  \n",
       "0         No  Appropriate in length  Neither easy nor difficult  \n",
       "1         No  Appropriate in length  Neither easy nor difficult  \n",
       "2        Yes  Appropriate in length  Neither easy nor difficult  \n",
       "3         No  Appropriate in length                        Easy  \n",
       "4         No  Appropriate in length                        Easy  \n",
       "\n",
       "[5 rows x 85 columns]"
      ]
     },
     "execution_count": 99,
     "metadata": {},
     "output_type": "execute_result"
    }
   ],
   "source": [
    "# Printing first 5 rows\n",
    "df.head(5)"
   ]
  },
  {
   "cell_type": "code",
   "execution_count": 100,
   "id": "ebca6a9f",
   "metadata": {
    "scrolled": true
   },
   "outputs": [
    {
     "data": {
      "text/plain": [
       "(99, 85)"
      ]
     },
     "execution_count": 100,
     "metadata": {},
     "output_type": "execute_result"
    }
   ],
   "source": [
    "# Dimension\n",
    "df.shape"
   ]
  },
  {
   "cell_type": "code",
   "execution_count": 101,
   "id": "a3ab43b3",
   "metadata": {
    "scrolled": true
   },
   "outputs": [
    {
     "data": {
      "text/plain": [
       "Index(['Respondent', 'MainBranch', 'Hobbyist', 'OpenSourcer', 'OpenSource',\n",
       "       'Employment', 'Country', 'Student', 'EdLevel', 'UndergradMajor',\n",
       "       'EduOther', 'OrgSize', 'DevType', 'YearsCode', 'Age1stCode',\n",
       "       'YearsCodePro', 'CareerSat', 'JobSat', 'MgrIdiot', 'MgrMoney',\n",
       "       'MgrWant', 'JobSeek', 'LastHireDate', 'LastInt', 'FizzBuzz',\n",
       "       'JobFactors', 'ResumeUpdate', 'CurrencySymbol', 'CurrencyDesc',\n",
       "       'CompTotal', 'CompFreq', 'ConvertedComp', 'WorkWeekHrs', 'WorkPlan',\n",
       "       'WorkChallenge', 'WorkRemote', 'WorkLoc', 'ImpSyn', 'CodeRev',\n",
       "       'CodeRevHrs', 'UnitTests', 'PurchaseHow', 'PurchaseWhat',\n",
       "       'LanguageWorkedWith', 'LanguageDesireNextYear', 'DatabaseWorkedWith',\n",
       "       'DatabaseDesireNextYear', 'PlatformWorkedWith',\n",
       "       'PlatformDesireNextYear', 'WebFrameWorkedWith',\n",
       "       'WebFrameDesireNextYear', 'MiscTechWorkedWith',\n",
       "       'MiscTechDesireNextYear', 'DevEnviron', 'OpSys', 'Containers',\n",
       "       'BlockchainOrg', 'BlockchainIs', 'BetterLife', 'ITperson', 'OffOn',\n",
       "       'SocialMedia', 'Extraversion', 'ScreenName', 'SOVisit1st',\n",
       "       'SOVisitFreq', 'SOVisitTo', 'SOFindAnswer', 'SOTimeSaved',\n",
       "       'SOHowMuchTime', 'SOAccount', 'SOPartFreq', 'SOJobs', 'EntTeams',\n",
       "       'SOComm', 'WelcomeChange', 'SONewContent', 'Age', 'Gender', 'Trans',\n",
       "       'Sexuality', 'Ethnicity', 'Dependents', 'SurveyLength', 'SurveyEase'],\n",
       "      dtype='object')"
      ]
     },
     "execution_count": 101,
     "metadata": {},
     "output_type": "execute_result"
    }
   ],
   "source": [
    "# Features\n",
    "df.columns"
   ]
  },
  {
   "cell_type": "code",
   "execution_count": 102,
   "id": "e1ba7aa2",
   "metadata": {},
   "outputs": [
    {
     "data": {
      "text/plain": [
       "Respondent       int64\n",
       "MainBranch      object\n",
       "Hobbyist        object\n",
       "OpenSourcer     object\n",
       "OpenSource      object\n",
       "                 ...  \n",
       "Sexuality       object\n",
       "Ethnicity       object\n",
       "Dependents      object\n",
       "SurveyLength    object\n",
       "SurveyEase      object\n",
       "Length: 85, dtype: object"
      ]
     },
     "execution_count": 102,
     "metadata": {},
     "output_type": "execute_result"
    }
   ],
   "source": [
    "# Datatypes\n",
    "df.dtypes"
   ]
  },
  {
   "cell_type": "markdown",
   "id": "0e2b4444",
   "metadata": {},
   "source": [
    "### Data Cleaning"
   ]
  },
  {
   "cell_type": "code",
   "execution_count": 103,
   "id": "09c9616b",
   "metadata": {},
   "outputs": [
    {
     "data": {
      "text/plain": [
       "Respondent       0\n",
       "MainBranch       0\n",
       "Hobbyist         0\n",
       "OpenSourcer      0\n",
       "OpenSource       2\n",
       "                ..\n",
       "Sexuality       16\n",
       "Ethnicity       23\n",
       "Dependents       7\n",
       "SurveyLength     3\n",
       "SurveyEase       2\n",
       "Length: 85, dtype: int64"
      ]
     },
     "execution_count": 103,
     "metadata": {},
     "output_type": "execute_result"
    }
   ],
   "source": [
    "missing_values=df.isnull().sum()\n",
    "missing_values"
   ]
  },
  {
   "cell_type": "markdown",
   "id": "850e90b1",
   "metadata": {},
   "source": [
    "Therefore missing/null value exists"
   ]
  },
  {
   "cell_type": "code",
   "execution_count": 104,
   "id": "42c8f666",
   "metadata": {},
   "outputs": [
    {
     "name": "stdout",
     "output_type": "stream",
     "text": [
      "Total number of cells:  8415\n",
      "Total number of missing values:  1151\n",
      "Missing Percentage:  13.677956030897207 %\n"
     ]
    }
   ],
   "source": [
    "total_cells=np.product(df.shape)\n",
    "total_missing=missing_values.sum()\n",
    "percent=(total_missing/total_cells)*100\n",
    "print('Total number of cells: ', total_cells)\n",
    "print('Total number of missing values: ', total_missing)\n",
    "print('Missing Percentage: ', percent, '%')"
   ]
  },
  {
   "cell_type": "markdown",
   "id": "edecc46b",
   "metadata": {},
   "source": [
    "Nearly 14% missing values exist in the dataset"
   ]
  },
  {
   "cell_type": "markdown",
   "id": "236892db",
   "metadata": {},
   "source": [
    "## Problem Statement: Investigate participation rates based on ethnicity and differences in income between men and women."
   ]
  },
  {
   "cell_type": "markdown",
   "id": "6be28dd1",
   "metadata": {},
   "source": [
    "Selecting only required features for the EDA : ethnicity, income and gender"
   ]
  },
  {
   "cell_type": "markdown",
   "id": "0900d65f",
   "metadata": {},
   "source": [
    "### Data Preparation"
   ]
  },
  {
   "cell_type": "markdown",
   "id": "3f897bf5",
   "metadata": {},
   "source": [
    "**Ethnicity**"
   ]
  },
  {
   "cell_type": "code",
   "execution_count": 105,
   "id": "0777e633",
   "metadata": {},
   "outputs": [
    {
     "name": "stdout",
     "output_type": "stream",
     "text": [
      "Missing percentage of the 'Ethnicity' column: 23.232323232323232 %\n"
     ]
    }
   ],
   "source": [
    "df['Ethnicity'].isnull().sum()\n",
    "missing_percentage_ethnicity = (df['Ethnicity'].isnull().sum() / len(df['Ethnicity'])) * 100\n",
    "\n",
    "print(\"Missing percentage of the 'Ethnicity' column:\", missing_percentage_ethnicity, \"%\")"
   ]
  },
  {
   "cell_type": "code",
   "execution_count": 106,
   "id": "01fe2613",
   "metadata": {},
   "outputs": [
    {
     "data": {
      "text/plain": [
       "Ethnicity\n",
       "Biracial                                                                                                                                                                                                      1\n",
       "Black or of African descent                                                                                                                                                                                   3\n",
       "Black or of African descent;East Asian;Hispanic or Latino/Latina;Middle Eastern;Native American, Pacific Islander, or Indigenous Australian;South Asian;White or of European descent;Biracial;Multiracial     1\n",
       "East Asian                                                                                                                                                                                                    5\n",
       "East Asian;South Asian                                                                                                                                                                                        1\n",
       "Hispanic or Latino/Latina                                                                                                                                                                                     5\n",
       "Hispanic or Latino/Latina;Multiracial                                                                                                                                                                         1\n",
       "Middle Eastern                                                                                                                                                                                                3\n",
       "Multiracial                                                                                                                                                                                                   1\n",
       "South Asian                                                                                                                                                                                                   8\n",
       "White or of European descent                                                                                                                                                                                 46\n",
       "White or of European descent;Multiracial                                                                                                                                                                      1\n",
       "Name: Ethnicity, dtype: int64"
      ]
     },
     "execution_count": 106,
     "metadata": {},
     "output_type": "execute_result"
    }
   ],
   "source": [
    "df.groupby('Ethnicity')['Ethnicity'].count()"
   ]
  },
  {
   "cell_type": "code",
   "execution_count": 107,
   "id": "b5078ff9",
   "metadata": {},
   "outputs": [],
   "source": [
    "df.loc[df['Ethnicity'].str.match('Biracial') == True, 'Ethnicity'] = 'Biracial'\n",
    "df.loc[df['Ethnicity'].str.match('Black or of African descent') == True, 'Ethnicity'] = 'Black or African descent'\n",
    "df.loc[df['Ethnicity'].str.match('East Asian') == True, 'Ethnicity'] = 'East Asian'\n",
    "df.loc[df['Ethnicity'].str.match('Hispanic or Latino') == True, 'Ethnicity'] = 'Hispanic or Latino'\n",
    "df.loc[df['Ethnicity'].str.match('Indigenous') == True, 'Ethnicity'] = 'Indigenous'\n",
    "df.loc[df['Ethnicity'].str.match('Middle Eastern') == True, 'Ethnicity'] = 'Middle Eastern'\n",
    "df.loc[df['Ethnicity'].str.match('South') == True, 'Ethnicity'] = 'South Asian'\n",
    "df.loc[df['Ethnicity'].str.match('White or of European descent') == True, 'Ethnicity'] = 'White or European descent'\n",
    "df.loc[df['Ethnicity'].str.match('Multiracial') == True, 'Ethnicity'] = 'Multiracial'\n",
    "df.loc[df['Ethnicity'].str.match('Native American') == True, 'Ethnicity'] = 'Native American'"
   ]
  },
  {
   "cell_type": "code",
   "execution_count": 108,
   "id": "4461d043",
   "metadata": {
    "scrolled": true
   },
   "outputs": [
    {
     "data": {
      "text/plain": [
       "Ethnicity\n",
       "Biracial                      1\n",
       "Black or African descent      4\n",
       "East Asian                    6\n",
       "Hispanic or Latino            6\n",
       "Middle Eastern                3\n",
       "Multiracial                   1\n",
       "South Asian                   8\n",
       "White or European descent    47\n",
       "Name: Ethnicity, dtype: int64"
      ]
     },
     "execution_count": 108,
     "metadata": {},
     "output_type": "execute_result"
    }
   ],
   "source": [
    "df.groupby('Ethnicity')['Ethnicity'].count()"
   ]
  },
  {
   "cell_type": "code",
   "execution_count": 109,
   "id": "3e5a5052",
   "metadata": {},
   "outputs": [
    {
     "data": {
      "text/plain": [
       "23"
      ]
     },
     "execution_count": 109,
     "metadata": {},
     "output_type": "execute_result"
    }
   ],
   "source": [
    "df['Ethnicity'].isnull().sum()"
   ]
  },
  {
   "cell_type": "code",
   "execution_count": 110,
   "id": "e3449b11",
   "metadata": {},
   "outputs": [],
   "source": [
    "df['Ethnicity']=df.groupby(['Country'])['Ethnicity'].bfill().ffill()"
   ]
  },
  {
   "cell_type": "code",
   "execution_count": 111,
   "id": "a2f03fe6",
   "metadata": {},
   "outputs": [
    {
     "data": {
      "text/plain": [
       "0"
      ]
     },
     "execution_count": 111,
     "metadata": {},
     "output_type": "execute_result"
    }
   ],
   "source": [
    "df['Ethnicity'].isnull().sum()"
   ]
  },
  {
   "cell_type": "markdown",
   "id": "b7c40163",
   "metadata": {},
   "source": [
    "**Gender**"
   ]
  },
  {
   "cell_type": "code",
   "execution_count": 112,
   "id": "d87e9f6c",
   "metadata": {},
   "outputs": [
    {
     "name": "stdout",
     "output_type": "stream",
     "text": [
      "Missing percentage of the 'Gender' column: 4.040404040404041 %\n"
     ]
    }
   ],
   "source": [
    "df['Gender'].isnull().sum()\n",
    "missing_percentage_gender = (df['Gender'].isnull().sum() / len(df['Gender'])) * 100\n",
    "\n",
    "print(\"Missing percentage of the 'Gender' column:\", missing_percentage_gender, \"%\")\n"
   ]
  },
  {
   "cell_type": "code",
   "execution_count": 113,
   "id": "1d479d28",
   "metadata": {},
   "outputs": [
    {
     "data": {
      "text/plain": [
       "Gender\n",
       "Man                                                  87\n",
       "Non-binary, genderqueer, or gender non-conforming     1\n",
       "Woman                                                 7\n",
       "Name: Gender, dtype: int64"
      ]
     },
     "execution_count": 113,
     "metadata": {},
     "output_type": "execute_result"
    }
   ],
   "source": [
    "df.groupby('Gender')['Gender'].count()"
   ]
  },
  {
   "cell_type": "code",
   "execution_count": 114,
   "id": "3500f0e9",
   "metadata": {},
   "outputs": [],
   "source": [
    "df['Gender'] = df['Gender'].fillna('Non-binary, genderqueer, or gender non-conforming')\n",
    "df['Gender'].replace('Female;Male;Non-binary, genderqueer, or gender non-conforming', 'Female', inplace =True)\n",
    "df['Gender'].replace('Female;Male;Transgender;Non-binary, genderqueer, or gender non-conforming', 'Female', inplace =True)\n",
    "df['Gender'].replace('Female;Non-binary, genderqueer, or gender non-conforming', 'Female', inplace =True)\n",
    "df['Gender'].replace('Female;Transgender;Non-binary, genderqueer, or gender non-conforming', 'Female', inplace =True)\n",
    "df['Gender'].replace('Male;Non-binary, genderqueer, or gender non-conforming', 'Male', inplace =True)\n",
    "df['Gender'].replace('Male;Transgender;Non-binary, genderqueer, or gender non-conforming', 'Male', inplace =True)\n",
    "df['Gender'].replace('Transgender;Non-binary, genderqueer, or gender non-conforming', 'Non-conforming', inplace =True) ##not sure\n",
    "df['Gender'].replace('Female;Male', 'Female', inplace =True)\n",
    "df['Gender'].replace('Female;Male;Transgender', 'Female', inplace =True)\n",
    "df['Gender'].replace('Female;Transgender', 'Female', inplace =True)\n",
    "df['Gender'].replace('Male;Transgender', 'Female', inplace =True)\n",
    "df['Gender'].replace('Non-binary, genderqueer, or gender non-conforming', 'Non-conforming', inplace =True) #\n",
    "df['Gender'].replace('Transgender', 'Male', inplace =True)"
   ]
  },
  {
   "cell_type": "code",
   "execution_count": 115,
   "id": "6098f137",
   "metadata": {},
   "outputs": [
    {
     "data": {
      "text/plain": [
       "0"
      ]
     },
     "execution_count": 115,
     "metadata": {},
     "output_type": "execute_result"
    }
   ],
   "source": [
    "df.isnull().sum()['Gender']"
   ]
  },
  {
   "cell_type": "markdown",
   "id": "894d9ec9",
   "metadata": {},
   "source": [
    "**Income**"
   ]
  },
  {
   "cell_type": "markdown",
   "id": "7a91598e",
   "metadata": {},
   "source": [
    "**Took Compensation as income in this dataset**"
   ]
  },
  {
   "cell_type": "code",
   "execution_count": 122,
   "id": "1a9ad0ea",
   "metadata": {},
   "outputs": [
    {
     "name": "stdout",
     "output_type": "stream",
     "text": [
      "Missing percentage of the 'CompTotal' column: 2.0202020202020203 %\n"
     ]
    }
   ],
   "source": [
    "df['CompTotal'].isnull().sum()\n",
    "missing_percentage_CompTotal = (df['CompTotal'].isnull().sum() / len(df['CompTotal'])) * 100\n",
    "\n",
    "print(\"Missing percentage of the 'CompTotal' column:\", missing_percentage_CompTotal, \"%\")"
   ]
  },
  {
   "cell_type": "code",
   "execution_count": 123,
   "id": "0622ff09",
   "metadata": {},
   "outputs": [],
   "source": [
    "df['CompTotal'].fillna(method='ffill', inplace=True)"
   ]
  },
  {
   "cell_type": "code",
   "execution_count": 125,
   "id": "3aecaf59",
   "metadata": {},
   "outputs": [],
   "source": [
    "df.dropna(subset=['CompTotal'], inplace = True)"
   ]
  },
  {
   "cell_type": "code",
   "execution_count": 126,
   "id": "1f67609f",
   "metadata": {},
   "outputs": [
    {
     "data": {
      "text/plain": [
       "0"
      ]
     },
     "execution_count": 126,
     "metadata": {},
     "output_type": "execute_result"
    }
   ],
   "source": [
    "df['CompTotal'].isnull().sum()"
   ]
  },
  {
   "cell_type": "code",
   "execution_count": 201,
   "id": "05e8d482",
   "metadata": {},
   "outputs": [
    {
     "data": {
      "text/plain": [
       "Gender\n",
       "Man               85\n",
       "Non-conforming     5\n",
       "Woman              7\n",
       "Name: CompTotal, dtype: int64"
      ]
     },
     "execution_count": 201,
     "metadata": {},
     "output_type": "execute_result"
    }
   ],
   "source": [
    "df.groupby('Gender')['CompTotal'].count()"
   ]
  },
  {
   "cell_type": "markdown",
   "id": "5a0a6645",
   "metadata": {},
   "source": [
    "# Participation rate based on ethnicity"
   ]
  },
  {
   "cell_type": "markdown",
   "id": "810f51d1",
   "metadata": {},
   "source": [
    "### Data Visualization"
   ]
  },
  {
   "cell_type": "code",
   "execution_count": 191,
   "id": "381e3047",
   "metadata": {},
   "outputs": [
    {
     "data": {
      "image/png": "[encoded data removed]",
      "text/plain": [
       "<Figure size 800x800 with 1 Axes>"
      ]
     },
     "metadata": {},
     "output_type": "display_data"
    }
   ],
   "source": [
    "lst=df.groupby('Ethnicity')['Ethnicity'].count()\n",
    "plt.figure(figsize=(8,8))\n",
    "plt.pie(list(lst.values), labels=list(lst.keys()), autopct='%1.1f%%')  # Plot the pie chart\n",
    "plt.title('Participation rate based on ethnicity')  # Add a title\n",
    "#plt.axis('equal')  # Equal aspect ratio ensures that pie is drawn as a circle\n",
    "\n",
    "plt.show()"
   ]
  },
  {
   "cell_type": "code",
   "execution_count": 181,
   "id": "7abe7d11",
   "metadata": {},
   "outputs": [],
   "source": [
    "import plotly.express as px"
   ]
  },
  {
   "cell_type": "code",
   "execution_count": 169,
   "id": "25064844",
   "metadata": {},
   "outputs": [
    {
     "name": "stdout",
     "output_type": "stream",
     "text": [
      "['White or European descent', 'South Asian', 'East Asian', 'Hispanic or Latino', 'Black or African descent', 'Middle Eastern', 'Multiracial', 'Biracial']\n",
      "[58, 15, 8, 7, 4, 3, 1, 1]\n"
     ]
    }
   ],
   "source": [
    "participation_rate = df['Ethnicity'].value_counts().keys().tolist()\n",
    "print(participation_rate)\n",
    "count = df['Ethnicity'].value_counts().tolist()\n",
    "print(count)"
   ]
  },
  {
   "cell_type": "code",
   "execution_count": 180,
   "id": "b7367e11",
   "metadata": {},
   "outputs": [
    {
     "data": {
      "image/png": "[encoded data removed]",
      "text/plain": [
       "<Figure size 640x480 with 1 Axes>"
      ]
     },
     "metadata": {},
     "output_type": "display_data"
    }
   ],
   "source": [
    "fig, ax = plt.subplots()    \n",
    " \n",
    "ax.bar(participation_rate,count)\n",
    "plt.title('Participation rate based on ethnicity',size=10)\n",
    "plt.xlabel('Total Count',size = 1)\n",
    "plt.ylabel('# Of Developer Did Survey',size = 10) \n",
    "for i, v in enumerate(count):\n",
    "    ax.text(i-.15, \n",
    "              v+3,\n",
    "              count[i],\n",
    "              style = 'italic',\n",
    "              fontsize=12,\n",
    "              color = 'magenta')\n",
    "ax.grid(True)"
   ]
  },
  {
   "cell_type": "markdown",
   "id": "53594653",
   "metadata": {},
   "source": [
    "**The visualization shows that people of White or European descent participate more than those from other ethnic backgrounds.**"
   ]
  },
  {
   "cell_type": "markdown",
   "id": "f4ec803c",
   "metadata": {},
   "source": [
    "# Differences in income between men and women"
   ]
  },
  {
   "cell_type": "code",
   "execution_count": 209,
   "id": "9ccb70ff",
   "metadata": {},
   "outputs": [
    {
     "data": {
      "text/plain": [
       "Text(0.5, 1.0, 'Income vs Gender')"
      ]
     },
     "execution_count": 209,
     "metadata": {},
     "output_type": "execute_result"
    },
    {
     "data": {
      "image/png": "[encoded data removed]",
      "text/plain": [
       "<Figure size 640x480 with 1 Axes>"
      ]
     },
     "metadata": {},
     "output_type": "display_data"
    }
   ],
   "source": [
    "sns.boxplot(x ='Gender', y='', data=df)\n",
    "plt.title('Income vs Gender', fontsize = 14)"
   ]
  },
  {
   "cell_type": "code",
   "execution_count": 215,
   "id": "580b3777",
   "metadata": {},
   "outputs": [
    {
     "data": {
      "image/png": "[encoded data removed]",
      "text/plain": [
       "<Figure size 1200x400 with 1 Axes>"
      ]
     },
     "metadata": {},
     "output_type": "display_data"
    }
   ],
   "source": [
    "lst=df.groupby('Gender')['Ethnicity'].count()\n",
    "plt.figure(figsize=(12,4))\n",
    "plt.bar(list(lst.keys()), lst.values, color='skyblue')  # Plotting the bars\n",
    "\n",
    "# Adding labels and title\n",
    "plt.xlabel('Age Group')  # Label for x-axis\n",
    "plt.ylabel('Counts')      # Label for y-axis\n",
    "plt.title('Age')  # Title of the plot\n",
    "#plt.xticks(rotation=45)  # Rotate labels by 90 degrees\n",
    "\n",
    "# Display the plot\n",
    "plt.show()"
   ]
  },
  {
   "cell_type": "markdown",
   "id": "48449f8e",
   "metadata": {},
   "source": [
    "**Based on the data analysis above, it's evident that men generally earn more than women.**"
   ]
  },
  {
   "cell_type": "markdown",
   "id": "228f754d",
   "metadata": {},
   "source": [
    "# Conclusion"
   ]
  },
  {
   "cell_type": "markdown",
   "id": "837987db",
   "metadata": {},
   "source": [
    "Overall, we performed EDA on the Stack overflow 2019 developer survey and derived insights from it. We found the participation rates based on ethnicity and differences in income between men and women."
   ]
  },
  {
   "cell_type": "code",
   "execution_count": null,
   "id": "e9712adf",
   "metadata": {},
   "outputs": [],
   "source": []
  }
 ],
 "metadata": {
  "kernelspec": {
   "display_name": "Python 3 (ipykernel)",
   "language": "python",
   "name": "python3"
  },
  "language_info": {
   "codemirror_mode": {
    "name": "ipython",
    "version": 3
   },
   "file_extension": ".py",
   "mimetype": "text/x-python",
   "name": "python",
   "nbconvert_exporter": "python",
   "pygments_lexer": "ipython3",
   "version": "3.10.9"
  }
 },
 "nbformat": 4,
 "nbformat_minor": 5
}
